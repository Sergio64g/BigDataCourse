{
 "cells": [
  {
   "cell_type": "markdown",
   "metadata": {},
   "source": [
    "#  1. Introducción teórica"
   ]
  },
  {
   "cell_type": "markdown",
   "metadata": {},
   "source": [
    "## 1.1 Distancias"
   ]
  },
  {
   "cell_type": "markdown",
   "metadata": {},
   "source": [
    "Sean P y Q dos objetos o puntos. Una función real que asigna un valor real a cada par de objetos d(P,Q), es una **distancia** si verifica:\n",
    "\n",
    "- Es una función simétrica: d(P, Q) = d(Q, P)\n",
    "- Es una función no negativa: d(P, Q)  > 0\n",
    "- Identificación del objeto: d(P, P) = 0\n",
    "\n",
    "Decimos que, además, d es una **distancia métrica** si verifica que :\n",
    "\n",
    "- Es definida positiva: d(P, Q) = 0 si y sólo si P = Q\n",
    "- Cumple la desigualdad triangular: d(P, Q) <= d(P, R) + d(R,Q)"
   ]
  },
  {
   "cell_type": "markdown",
   "metadata": {},
   "source": [
    "https://scikit-learn.org/stable/modules/generated/sklearn.neighbors.DistanceMetric.html\n",
    "\n",
    "https://ichi.pro/es/9-medidas-de-distancia-en-ciencia-de-datos-159983401462266"
   ]
  },
  {
   "cell_type": "code",
   "execution_count": 1,
   "metadata": {},
   "outputs": [],
   "source": [
    "from sklearn.neighbors import DistanceMetric"
   ]
  },
  {
   "cell_type": "code",
   "execution_count": 2,
   "metadata": {},
   "outputs": [
    {
     "data": {
      "text/plain": [
       "array([[0.        , 5.19615242],\n",
       "       [5.19615242, 0.        ]])"
      ]
     },
     "execution_count": 2,
     "metadata": {},
     "output_type": "execute_result"
    }
   ],
   "source": [
    "dist_euclidean = DistanceMetric.get_metric('euclidean')\n",
    "data_dist = [[1,2,3], [4,5,6]]\n",
    "dist_euclidean.pairwise(data_dist)"
   ]
  },
  {
   "cell_type": "code",
   "execution_count": 3,
   "metadata": {},
   "outputs": [
    {
     "data": {
      "text/plain": [
       "array([[0., 9.],\n",
       "       [9., 0.]])"
      ]
     },
     "execution_count": 3,
     "metadata": {},
     "output_type": "execute_result"
    }
   ],
   "source": [
    "dist_manhattan = DistanceMetric.get_metric('manhattan')\n",
    "data_dist = [[1,2,3], [4,5,6]]\n",
    "dist_manhattan.pairwise(data_dist)"
   ]
  },
  {
   "cell_type": "code",
   "execution_count": null,
   "metadata": {},
   "outputs": [],
   "source": [
    "dist_chebyshev = DistanceMetric.get_metric('chebyshev')\n",
    "data_dist = [[1,2,3], [4,5,6]]\n",
    "dist_chebyshev.pairwise(data_dist)"
   ]
  },
  {
   "cell_type": "code",
   "execution_count": null,
   "metadata": {},
   "outputs": [],
   "source": [
    "dist_minkowski = DistanceMetric.get_metric('minkowski')\n",
    "data_dist = [[1,2,3], [4,5,6]]\n",
    "dist_minkowski.pairwise(data_dist)"
   ]
  },
  {
   "cell_type": "markdown",
   "metadata": {},
   "source": [
    "## 1.2 Algoritmo KNN (K Nearest Neighbours)"
   ]
  },
  {
   "cell_type": "markdown",
   "metadata": {},
   "source": [
    "**KNN** es un algoritmo de clasificación supervisado que basado en criterios de vecindad, es decir, clasificará cada observación basándose en la mayoría de los datos que le rodean. \n",
    "\n",
    "**No genera un modelo**, si no que memoriza las muestras de entrenamiento para luego hacer predicciones basadas en como se parecen las nuevas observaciones a la antiguas\n",
    "\n",
    "Es decir, calcula la distancia del elemento nuevo a cada uno de los existentes, y ordena dichas distancias de menor a mayor para ir seleccionando el grupo al que pertenecer.\n",
    "\n",
    "Características:\n",
    "\n",
    "- Sensible a K y la distancia\n",
    "- Fácil de implementar. No es necesario construir el modelo\n",
    "- Se puede usar para clasificación, regresión y búsqueda\n",
    "- Lento: usa todo el dataset para entrenar cada nuevo punto\n",
    "- Es no paramétrico (no necesita conocer la distribución de los datos)\n",
    "- Aprendizaje basado en instancias: no aprende un modelo, sino que “memoriza” los datos de entrenamiento\n",
    "\n",
    "Algoritmo:\n",
    "\n",
    "- Calcular la distancia entre el dato a clasificar y el resto de datos del dataset de training.\n",
    "- Seleccionar los “k” elementos más cercanos (menor distancia)  dependerá del dipo de distancia\n",
    "- Realizar una “votación de mayoría” entre los k puntos: los de una clase/etiqueta que dominen decidirán su clasificación final."
   ]
  },
  {
   "attachments": {
    "KNN.png": {
     "image/png": "[encoded data removed]"
    }
   },
   "cell_type": "markdown",
   "metadata": {},
   "source": [
    "![KNN.png](attachment:KNN.png)"
   ]
  },
  {
   "cell_type": "markdown",
   "metadata": {},
   "source": [
    "# 2. KNN "
   ]
  },
  {
   "cell_type": "markdown",
   "metadata": {},
   "source": [
    "## 2.1 Implementación manual del algoritmo"
   ]
  },
  {
   "cell_type": "code",
   "execution_count": null,
   "metadata": {},
   "outputs": [],
   "source": [
    "dataset = {\n",
    "    'k':[[1,2],[1.5,2.7],[2,3],[2.5,2.4],[3,2]],\n",
    "    'r':[[6,6.4],[6.5,6],[7,6.5],[8,6]]\n",
    "}\n",
    "new_point = [7,5]"
   ]
  },
  {
   "cell_type": "code",
   "execution_count": null,
   "metadata": {},
   "outputs": [],
   "source": [
    "[[plt.scatter(ii[0],ii[1], s=50, color = i) for ii in dataset[i]] for i in dataset]\n",
    "plt.scatter(new_point[0],new_point[1], s = 100)"
   ]
  },
  {
   "cell_type": "code",
   "execution_count": null,
   "metadata": {},
   "outputs": [],
   "source": [
    "# predict valor a clasificar\n",
    "\n",
    "# k = número de vecinos que van a decidir\n",
    "# k debería ser mayor que el conjunto de los datos, si no, no podrá escoger \"k\" vecinos.\n",
    "\n",
    "\n",
    "def k_nearest_neighbors(data, predict, k = 3,):\n",
    "    \n",
    "    distances = []\n",
    "    for element in data:\n",
    "        for variable in data[element]:\n",
    "\n",
    "            \n",
    "            # distancia euclídea con numpy (para calcular la norma de un vector)\n",
    "            d = np.linalg.norm(np.array(variable) - np.array(predict))\n",
    "            distances.append([d, element])\n",
    "  \n",
    "    print(distances)\n",
    "    \n",
    "    # Se ordena por distancia y nos quedamos solo con los k primeros elementos (vecinos)\n",
    "    # Nos hemos quedado con los k más cercanos. Ahora habría que analizar la clase a la que pertenecen\n",
    "    votes = [i[1] for i in sorted(distances)[:k]]#sorted ordena por la primera columna\n",
    "  \n",
    "    print(votes)\n",
    "    \n",
    "    # Ya nos hemos quedado con los k ptos más cercanos, ahora habría que ver cuál es el frupo mayoritario para\n",
    "    # clasificar en dicho grupo\n",
    "    vote_result = Counter(votes).most_common(1)\n",
    "\n",
    "    print(vote_result)\n",
    "    \n",
    "    \n",
    "    return vote_result[0][0]#[('r',2), ('k', 1)]"
   ]
  },
  {
   "cell_type": "code",
   "execution_count": null,
   "metadata": {},
   "outputs": [],
   "source": [
    "new_point = [7,5]\n",
    "result = k_nearest_neighbors(dataset, [new_point])\n",
    "result"
   ]
  },
  {
   "cell_type": "code",
   "execution_count": null,
   "metadata": {},
   "outputs": [],
   "source": [
    "new_point = [3.5,2]\n",
    "result = k_nearest_neighbors(dataset, [new_point])\n",
    "result"
   ]
  },
  {
   "cell_type": "markdown",
   "metadata": {},
   "source": [
    "## 2.2 Regresión KNN"
   ]
  },
  {
   "cell_type": "code",
   "execution_count": 1,
   "metadata": {},
   "outputs": [],
   "source": [
    "from math import sqrt\n",
    "import matplotlib.pyplot as plt\n",
    "import numpy as np\n",
    "from sklearn import datasets, linear_model\n",
    "import sklearn.metrics as metrics\n",
    "from sklearn.model_selection import KFold\n",
    "from sklearn.model_selection import cross_val_predict, cross_val_score, train_test_split\n",
    "from sklearn import preprocessing\n",
    "from sklearn.neighbors import KNeighborsRegressor\n",
    "#from evaluacion_funciones import * # pip install graphviz\n",
    "from sklearn.preprocessing import StandardScaler\n",
    "from sklearn.feature_selection import SelectPercentile, f_regression"
   ]
  },
  {
   "cell_type": "code",
   "execution_count": 5,
   "metadata": {},
   "outputs": [
    {
     "name": "stdout",
     "output_type": "stream",
     "text": [
      "(506, 13)\n"
     ]
    },
    {
     "data": {
      "text/plain": [
       "dict_keys(['data', 'target', 'feature_names', 'DESCR', 'filename'])"
      ]
     },
     "execution_count": 5,
     "metadata": {},
     "output_type": "execute_result"
    }
   ],
   "source": [
    "dataset = datasets.load_boston()\n",
    "X = dataset.data\n",
    "y = dataset.target\n",
    "print(np.shape(X))\n",
    "dataset.keys()"
   ]
  },
  {
   "cell_type": "code",
   "execution_count": 3,
   "metadata": {},
   "outputs": [],
   "source": [
    "# Métricas de evaluación.\n",
    "metricas = {\n",
    "  'MAE': metrics.mean_absolute_error,\n",
    "  'RMSE': lambda y, y_pred:\n",
    "          sqrt(metrics.mean_squared_error(y, y_pred)),\n",
    "  'MAPE': lambda y, y_pred:\n",
    "          np.mean(np.abs((y - y_pred) / y)) * 100,\n",
    "  'R2': metrics.r2_score}"
   ]
  },
  {
   "cell_type": "code",
   "execution_count": null,
   "metadata": {},
   "outputs": [],
   "source": [
    "# Partición de datos\n",
    "\n",
    "X_training, X_testing, y_training, y_testing = train_test_split(X, y, test_size=0.2, random_state=42)\n",
    "print('Tamaño train: ', np.shape(X_training), np.shape(y_training))\n",
    "print('Tamaño test: ', np.shape(X_testing), np.shape(y_testing))\n"
   ]
  },
  {
   "cell_type": "code",
   "execution_count": null,
   "metadata": {},
   "outputs": [],
   "source": [
    "# Estandarización de los datos de entrenamiento\n",
    "standardizer = preprocessing.StandardScaler()\n",
    "stdr_trained = standardizer.fit(X_training)\n",
    "X_stdr = stdr_trained.transform(X_training)"
   ]
  },
  {
   "cell_type": "code",
   "execution_count": null,
   "metadata": {},
   "outputs": [],
   "source": [
    "# Algoritmo KNN\n",
    "k = 10\n",
    "reg = KNeighborsRegressor(n_neighbors = k, weights='distance', metric='euclidean')"
   ]
  },
  {
   "cell_type": "code",
   "execution_count": null,
   "metadata": {},
   "outputs": [],
   "source": [
    "def evaluacion(y_true, y_pred, metricas):\n",
    "    res = {}\n",
    "    for nombre, funcion in metricas.items():\n",
    "        res[nombre] = funcion(y_true, y_pred)\n",
    "    return res\n",
    "\n",
    "def grafica_real_vs_pred(y_true, y_pred, metricas, algoritmo):\n",
    "    fig, ax = plt.subplots()\n",
    "    ax.scatter(y_true, y_pred, edgecolors=(0, 0, 0))\n",
    "    ax.plot([y_true.min(), y_true.max()], [y_true.min(), y_true.max()], 'k--', lw=4)\n",
    "    ax.set_xlabel('Real Value')\n",
    "    ax.set_ylabel('Prediction')\n",
    "    plt.title(\"%s\\nMAE: %.3f  RMSE: %.3f  MAPE: %.3f  R2: %.3f\" %\n",
    "              (algoritmo,metricas['MAE'],metricas['RMSE'],metricas['MAPE'],metricas['R2']))\n",
    "    plt.show()"
   ]
  },
  {
   "cell_type": "code",
   "execution_count": null,
   "metadata": {},
   "outputs": [],
   "source": [
    "# Validación cruzada interna\n",
    "y_pred = cross_val_predict(reg, X_stdr, y_training, cv = KFold(n_splits=10, shuffle=True, random_state=42))\n",
    "\n",
    "# Extraer error de cada Fold\n",
    "cross_val_results = cross_val_score(reg, X_stdr, y_training, \n",
    "                                    cv = KFold(n_splits=10, shuffle=True, random_state=42), scoring='neg_mean_absolute_error')\n",
    "print(\"cross_val_MAE:   %0.4f +/- %0.4f\" % (-cross_val_results.mean(), cross_val_results.std()))\n",
    "\n",
    "# Visualización de resultados\n",
    "results = evaluacion(y_training, y_pred, metricas)\n",
    "grafica_real_vs_pred(y_training, y_pred, results, \"KNN\"+str(k))"
   ]
  },
  {
   "cell_type": "code",
   "execution_count": null,
   "metadata": {},
   "outputs": [],
   "source": [
    "# Entrenamiento del modelo final\n",
    "\n",
    "model = reg.fit(X_stdr, y_training)"
   ]
  },
  {
   "cell_type": "code",
   "execution_count": null,
   "metadata": {},
   "outputs": [],
   "source": [
    "# Estandarización de las característiacs de test (con el mismo modelo usado para train)\n",
    "X_test_stdr = stdr_trained.transform(X_testing)"
   ]
  },
  {
   "cell_type": "code",
   "execution_count": null,
   "metadata": {},
   "outputs": [],
   "source": [
    "# Pred conjunto de test\n",
    "y_pred_test = model.predict(X_test_stdr)"
   ]
  },
  {
   "cell_type": "code",
   "execution_count": null,
   "metadata": {},
   "outputs": [],
   "source": [
    "# Evaluación del modelo conjunto de test\n",
    "results = evaluacion(y_testing, y_pred_test, metricas)\n",
    "print(results)"
   ]
  },
  {
   "cell_type": "code",
   "execution_count": null,
   "metadata": {},
   "outputs": [],
   "source": []
  },
  {
   "cell_type": "code",
   "execution_count": null,
   "metadata": {},
   "outputs": [],
   "source": []
  }
 ],
 "metadata": {
  "kernelspec": {
   "display_name": "Python 3",
   "language": "python",
   "name": "python3"
  },
  "language_info": {
   "codemirror_mode": {
    "name": "ipython",
    "version": 3
   },
   "file_extension": ".py",
   "mimetype": "text/x-python",
   "name": "python",
   "nbconvert_exporter": "python",
   "pygments_lexer": "ipython3",
   "version": "3.8.8"
  }
 },
 "nbformat": 4,
 "nbformat_minor": 4
}
