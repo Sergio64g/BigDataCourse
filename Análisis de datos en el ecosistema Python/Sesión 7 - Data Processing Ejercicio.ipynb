{
 "cells": [
  {
   "cell_type": "markdown",
   "metadata": {},
   "source": [
    "# Procesamiento de datos\n",
    "\n",
    "### Ejercicio a realizar en clase"
   ]
  },
  {
   "cell_type": "markdown",
   "metadata": {},
   "source": [
    "**08/11/2021**"
   ]
  },
  {
   "cell_type": "code",
   "execution_count": 1,
   "metadata": {},
   "outputs": [],
   "source": [
    "import zipfile as zp # para descomprimir archivos zip\n",
    "import urllib.request # para descargar de URL\n",
    "import os\n",
    "import pandas as pd\n",
    "import numpy as np"
   ]
  },
  {
   "cell_type": "code",
   "execution_count": 12,
   "metadata": {},
   "outputs": [],
   "source": [
    "golden = pd.read_csv('datasets/golden_globe.csv', sep=';', error_bad_lines=False)"
   ]
  },
  {
   "cell_type": "code",
   "execution_count": 14,
   "metadata": {},
   "outputs": [
    {
     "data": {
      "text/html": [
       "<div>\n",
       "<style scoped>\n",
       "    .dataframe tbody tr th:only-of-type {\n",
       "        vertical-align: middle;\n",
       "    }\n",
       "\n",
       "    .dataframe tbody tr th {\n",
       "        vertical-align: top;\n",
       "    }\n",
       "\n",
       "    .dataframe thead th {\n",
       "        text-align: right;\n",
       "    }\n",
       "</style>\n",
       "<table border=\"1\" class=\"dataframe\">\n",
       "  <thead>\n",
       "    <tr style=\"text-align: right;\">\n",
       "      <th></th>\n",
       "      <th>Año</th>\n",
       "      <th>Primero</th>\n",
       "      <th>Puntos primero</th>\n",
       "      <th>segundo</th>\n",
       "      <th>Puntos segundo</th>\n",
       "      <th>Tercero</th>\n",
       "      <th>Puntos tercero</th>\n",
       "    </tr>\n",
       "  </thead>\n",
       "  <tbody>\n",
       "    <tr>\n",
       "      <th>0</th>\n",
       "      <td>1956</td>\n",
       "      <td>Stanley Matthews (Blackpool F. C.)</td>\n",
       "      <td>47</td>\n",
       "      <td>Alfredo Di Stéfano (Real Madrid C. F.)</td>\n",
       "      <td>44</td>\n",
       "      <td>Raymond Kopa (Real Madrid C. F.)</td>\n",
       "      <td>33</td>\n",
       "    </tr>\n",
       "    <tr>\n",
       "      <th>1</th>\n",
       "      <td>1957</td>\n",
       "      <td>Alfredo Di Stéfano (Real Madrid C. F.)</td>\n",
       "      <td>72</td>\n",
       "      <td>Billy Wright (Wolverhampton F. C.)</td>\n",
       "      <td>19</td>\n",
       "      <td>Raymond Kopa (Real Madrid C. F.)</td>\n",
       "      <td>16</td>\n",
       "    </tr>\n",
       "    <tr>\n",
       "      <th>2</th>\n",
       "      <td>1957</td>\n",
       "      <td>NaN</td>\n",
       "      <td>NaN</td>\n",
       "      <td>NaN</td>\n",
       "      <td>NaN</td>\n",
       "      <td>Duncan Edwards (Manchester United F. C.)</td>\n",
       "      <td>16</td>\n",
       "    </tr>\n",
       "    <tr>\n",
       "      <th>3</th>\n",
       "      <td>1959</td>\n",
       "      <td>Raymond Kopa (Real Madrid C. F.)</td>\n",
       "      <td>71</td>\n",
       "      <td>Helmut Rahn (Rot-Weiss Essen)</td>\n",
       "      <td>40</td>\n",
       "      <td>Just Fontaine (Stade de Reims)</td>\n",
       "      <td>23</td>\n",
       "    </tr>\n",
       "    <tr>\n",
       "      <th>4</th>\n",
       "      <td>1959</td>\n",
       "      <td>Alfredo Di Stéfano (Real Madrid C. F.)</td>\n",
       "      <td>80</td>\n",
       "      <td>Raymond Kopa (Stade de Reims)</td>\n",
       "      <td>42</td>\n",
       "      <td>John Charles (Juventus F. C.)</td>\n",
       "      <td>24</td>\n",
       "    </tr>\n",
       "    <tr>\n",
       "      <th>5</th>\n",
       "      <td>1960</td>\n",
       "      <td>Luis Suárez (C. F. Barcelona)</td>\n",
       "      <td>54</td>\n",
       "      <td>Ferenc Puskás (Real Madrid C. F.)</td>\n",
       "      <td>37</td>\n",
       "      <td>Uwe Seeler (Hamburger S. V.)</td>\n",
       "      <td>33</td>\n",
       "    </tr>\n",
       "    <tr>\n",
       "      <th>6</th>\n",
       "      <td>1961</td>\n",
       "      <td>Omar Sívori (Juventus F. C.)</td>\n",
       "      <td>46</td>\n",
       "      <td>Luis Suárez (F. C. Internazionale)</td>\n",
       "      <td>40</td>\n",
       "      <td>Johnny Haynes (Fulham F. C.)</td>\n",
       "      <td>22</td>\n",
       "    </tr>\n",
       "    <tr>\n",
       "      <th>7</th>\n",
       "      <td>1962</td>\n",
       "      <td>Josef Masopust (F. K. Dukla Praga)</td>\n",
       "      <td>65</td>\n",
       "      <td>Eusébio (S. L. Benfica)</td>\n",
       "      <td>53</td>\n",
       "      <td>Karl-Heinz Schnellinger (F. C. Köln)</td>\n",
       "      <td>33</td>\n",
       "    </tr>\n",
       "    <tr>\n",
       "      <th>8</th>\n",
       "      <td>1963</td>\n",
       "      <td>Lev Yashin (F. K. Dinamo Moskva)</td>\n",
       "      <td>73</td>\n",
       "      <td>Gianni Rivera (A. C. Milan)</td>\n",
       "      <td>55</td>\n",
       "      <td>Jimmy Greaves (Tottenham Hotspur F. C.)</td>\n",
       "      <td>50</td>\n",
       "    </tr>\n",
       "    <tr>\n",
       "      <th>9</th>\n",
       "      <td>1964</td>\n",
       "      <td>Denis Law (Manchester United F. C.)</td>\n",
       "      <td>61</td>\n",
       "      <td>Luis Suárez (F. C. Internazionale)</td>\n",
       "      <td>43</td>\n",
       "      <td>Amancio Amaro (Real Madrid C. F.)</td>\n",
       "      <td>38</td>\n",
       "    </tr>\n",
       "  </tbody>\n",
       "</table>\n",
       "</div>"
      ],
      "text/plain": [
       "    Año                                 Primero Puntos primero  \\\n",
       "0  1956      Stanley Matthews (Blackpool F. C.)             47   \n",
       "1  1957  Alfredo Di Stéfano (Real Madrid C. F.)             72   \n",
       "2  1957                                     NaN            NaN   \n",
       "3  1959        Raymond Kopa (Real Madrid C. F.)             71   \n",
       "4  1959  Alfredo Di Stéfano (Real Madrid C. F.)             80   \n",
       "5  1960           Luis Suárez (C. F. Barcelona)             54   \n",
       "6  1961            Omar Sívori (Juventus F. C.)             46   \n",
       "7  1962      Josef Masopust (F. K. Dukla Praga)             65   \n",
       "8  1963        Lev Yashin (F. K. Dinamo Moskva)             73   \n",
       "9  1964     Denis Law (Manchester United F. C.)             61   \n",
       "\n",
       "                                  segundo Puntos segundo  \\\n",
       "0  Alfredo Di Stéfano (Real Madrid C. F.)             44   \n",
       "1      Billy Wright (Wolverhampton F. C.)             19   \n",
       "2                                     NaN            NaN   \n",
       "3           Helmut Rahn (Rot-Weiss Essen)             40   \n",
       "4           Raymond Kopa (Stade de Reims)             42   \n",
       "5       Ferenc Puskás (Real Madrid C. F.)             37   \n",
       "6      Luis Suárez (F. C. Internazionale)             40   \n",
       "7                 Eusébio (S. L. Benfica)             53   \n",
       "8             Gianni Rivera (A. C. Milan)             55   \n",
       "9      Luis Suárez (F. C. Internazionale)             43   \n",
       "\n",
       "                                    Tercero Puntos tercero  \n",
       "0          Raymond Kopa (Real Madrid C. F.)             33  \n",
       "1          Raymond Kopa (Real Madrid C. F.)             16  \n",
       "2  Duncan Edwards (Manchester United F. C.)             16  \n",
       "3            Just Fontaine (Stade de Reims)             23  \n",
       "4             John Charles (Juventus F. C.)             24  \n",
       "5              Uwe Seeler (Hamburger S. V.)             33  \n",
       "6              Johnny Haynes (Fulham F. C.)             22  \n",
       "7      Karl-Heinz Schnellinger (F. C. Köln)             33  \n",
       "8   Jimmy Greaves (Tottenham Hotspur F. C.)             50  \n",
       "9         Amancio Amaro (Real Madrid C. F.)             38  "
      ]
     },
     "execution_count": 14,
     "metadata": {},
     "output_type": "execute_result"
    }
   ],
   "source": [
    "golden.head(10)"
   ]
  },
  {
   "cell_type": "code",
   "execution_count": 33,
   "metadata": {},
   "outputs": [
    {
     "data": {
      "text/plain": [
       "Año               object\n",
       "Primero           object\n",
       "Puntos primero    object\n",
       "segundo           object\n",
       "Puntos segundo    object\n",
       "Tercero           object\n",
       "Puntos tercero    object\n",
       "dtype: object"
      ]
     },
     "execution_count": 33,
     "metadata": {},
     "output_type": "execute_result"
    }
   ],
   "source": [
    "golden.dtypes"
   ]
  },
  {
   "cell_type": "code",
   "execution_count": 35,
   "metadata": {},
   "outputs": [
    {
     "data": {
      "text/html": [
       "<div>\n",
       "<style scoped>\n",
       "    .dataframe tbody tr th:only-of-type {\n",
       "        vertical-align: middle;\n",
       "    }\n",
       "\n",
       "    .dataframe tbody tr th {\n",
       "        vertical-align: top;\n",
       "    }\n",
       "\n",
       "    .dataframe thead th {\n",
       "        text-align: right;\n",
       "    }\n",
       "</style>\n",
       "<table border=\"1\" class=\"dataframe\">\n",
       "  <thead>\n",
       "    <tr style=\"text-align: right;\">\n",
       "      <th></th>\n",
       "      <th>Año</th>\n",
       "      <th>Primero</th>\n",
       "      <th>Puntos primero</th>\n",
       "      <th>segundo</th>\n",
       "      <th>Puntos segundo</th>\n",
       "      <th>Tercero</th>\n",
       "      <th>Puntos tercero</th>\n",
       "    </tr>\n",
       "  </thead>\n",
       "  <tbody>\n",
       "  </tbody>\n",
       "</table>\n",
       "</div>"
      ],
      "text/plain": [
       "Empty DataFrame\n",
       "Columns: [Año, Primero, Puntos primero, segundo, Puntos segundo, Tercero, Puntos tercero]\n",
       "Index: []"
      ]
     },
     "execution_count": 35,
     "metadata": {},
     "output_type": "execute_result"
    }
   ],
   "source": [
    "golden[golden['Año'] == '1985']"
   ]
  },
  {
   "cell_type": "code",
   "execution_count": 27,
   "metadata": {},
   "outputs": [
    {
     "data": {
      "text/html": [
       "<div>\n",
       "<style scoped>\n",
       "    .dataframe tbody tr th:only-of-type {\n",
       "        vertical-align: middle;\n",
       "    }\n",
       "\n",
       "    .dataframe tbody tr th {\n",
       "        vertical-align: top;\n",
       "    }\n",
       "\n",
       "    .dataframe thead th {\n",
       "        text-align: right;\n",
       "    }\n",
       "</style>\n",
       "<table border=\"1\" class=\"dataframe\">\n",
       "  <thead>\n",
       "    <tr style=\"text-align: right;\">\n",
       "      <th></th>\n",
       "      <th>Año</th>\n",
       "      <th>Primero</th>\n",
       "      <th>Puntos primero</th>\n",
       "      <th>segundo</th>\n",
       "      <th>Puntos segundo</th>\n",
       "      <th>Tercero</th>\n",
       "      <th>Puntos tercero</th>\n",
       "    </tr>\n",
       "  </thead>\n",
       "  <tbody>\n",
       "    <tr>\n",
       "      <th>49</th>\n",
       "      <td>2001</td>\n",
       "      <td>Michael Owen (Liverpool F. C.)</td>\n",
       "      <td>176</td>\n",
       "      <td>Raúl (Real Madrid C. F.)</td>\n",
       "      <td>140</td>\n",
       "      <td>Oliver Kahn (F. C. Bayern)</td>\n",
       "      <td>114</td>\n",
       "    </tr>\n",
       "  </tbody>\n",
       "</table>\n",
       "</div>"
      ],
      "text/plain": [
       "     Año                         Primero Puntos primero  \\\n",
       "49  2001  Michael Owen (Liverpool F. C.)            176   \n",
       "\n",
       "                     segundo Puntos segundo                     Tercero  \\\n",
       "49  Raúl (Real Madrid C. F.)            140  Oliver Kahn (F. C. Bayern)   \n",
       "\n",
       "   Puntos tercero  \n",
       "49            114  "
      ]
     },
     "execution_count": 27,
     "metadata": {},
     "output_type": "execute_result"
    }
   ],
   "source": [
    "df = golden.loc[golden[\"segundo\"].notna()]\n",
    "df[df['segundo'].str.contains('Raúl')]"
   ]
  },
  {
   "cell_type": "code",
   "execution_count": 43,
   "metadata": {},
   "outputs": [
    {
     "data": {
      "text/plain": [
       "Año                 object\n",
       "Primero             object\n",
       "Puntos primero      object\n",
       "segundo             object\n",
       "Puntos segundo      object\n",
       "Tercero             object\n",
       "Puntos tercero      object\n",
       "Puntos Primero2    float64\n",
       "dtype: object"
      ]
     },
     "execution_count": 43,
     "metadata": {},
     "output_type": "execute_result"
    }
   ],
   "source": [
    "golden['Puntos Primero2'] = pd.to_numeric(golden['Puntos primero'], errors='coerce')\n",
    "golden.dtypes"
   ]
  },
  {
   "cell_type": "code",
   "execution_count": 44,
   "metadata": {},
   "outputs": [
    {
     "data": {
      "text/html": [
       "<div>\n",
       "<style scoped>\n",
       "    .dataframe tbody tr th:only-of-type {\n",
       "        vertical-align: middle;\n",
       "    }\n",
       "\n",
       "    .dataframe tbody tr th {\n",
       "        vertical-align: top;\n",
       "    }\n",
       "\n",
       "    .dataframe thead th {\n",
       "        text-align: right;\n",
       "    }\n",
       "</style>\n",
       "<table border=\"1\" class=\"dataframe\">\n",
       "  <thead>\n",
       "    <tr style=\"text-align: right;\">\n",
       "      <th></th>\n",
       "      <th>Año</th>\n",
       "      <th>Primero</th>\n",
       "      <th>Puntos primero</th>\n",
       "      <th>segundo</th>\n",
       "      <th>Puntos segundo</th>\n",
       "      <th>Tercero</th>\n",
       "      <th>Puntos tercero</th>\n",
       "      <th>Puntos Primero2</th>\n",
       "    </tr>\n",
       "  </thead>\n",
       "  <tbody>\n",
       "    <tr>\n",
       "      <th>0</th>\n",
       "      <td>1956</td>\n",
       "      <td>Stanley Matthews (Blackpool F. C.)</td>\n",
       "      <td>47</td>\n",
       "      <td>Alfredo Di Stéfano (Real Madrid C. F.)</td>\n",
       "      <td>44</td>\n",
       "      <td>Raymond Kopa (Real Madrid C. F.)</td>\n",
       "      <td>33</td>\n",
       "      <td>47.0</td>\n",
       "    </tr>\n",
       "    <tr>\n",
       "      <th>1</th>\n",
       "      <td>1957</td>\n",
       "      <td>Alfredo Di Stéfano (Real Madrid C. F.)</td>\n",
       "      <td>72</td>\n",
       "      <td>Billy Wright (Wolverhampton F. C.)</td>\n",
       "      <td>19</td>\n",
       "      <td>Raymond Kopa (Real Madrid C. F.)</td>\n",
       "      <td>16</td>\n",
       "      <td>72.0</td>\n",
       "    </tr>\n",
       "    <tr>\n",
       "      <th>2</th>\n",
       "      <td>1957</td>\n",
       "      <td>NaN</td>\n",
       "      <td>NaN</td>\n",
       "      <td>NaN</td>\n",
       "      <td>NaN</td>\n",
       "      <td>Duncan Edwards (Manchester United F. C.)</td>\n",
       "      <td>16</td>\n",
       "      <td>NaN</td>\n",
       "    </tr>\n",
       "    <tr>\n",
       "      <th>3</th>\n",
       "      <td>1959</td>\n",
       "      <td>Raymond Kopa (Real Madrid C. F.)</td>\n",
       "      <td>71</td>\n",
       "      <td>Helmut Rahn (Rot-Weiss Essen)</td>\n",
       "      <td>40</td>\n",
       "      <td>Just Fontaine (Stade de Reims)</td>\n",
       "      <td>23</td>\n",
       "      <td>71.0</td>\n",
       "    </tr>\n",
       "    <tr>\n",
       "      <th>4</th>\n",
       "      <td>1959</td>\n",
       "      <td>Alfredo Di Stéfano (Real Madrid C. F.)</td>\n",
       "      <td>80</td>\n",
       "      <td>Raymond Kopa (Stade de Reims)</td>\n",
       "      <td>42</td>\n",
       "      <td>John Charles (Juventus F. C.)</td>\n",
       "      <td>24</td>\n",
       "      <td>80.0</td>\n",
       "    </tr>\n",
       "  </tbody>\n",
       "</table>\n",
       "</div>"
      ],
      "text/plain": [
       "    Año                                 Primero Puntos primero  \\\n",
       "0  1956      Stanley Matthews (Blackpool F. C.)             47   \n",
       "1  1957  Alfredo Di Stéfano (Real Madrid C. F.)             72   \n",
       "2  1957                                     NaN            NaN   \n",
       "3  1959        Raymond Kopa (Real Madrid C. F.)             71   \n",
       "4  1959  Alfredo Di Stéfano (Real Madrid C. F.)             80   \n",
       "\n",
       "                                  segundo Puntos segundo  \\\n",
       "0  Alfredo Di Stéfano (Real Madrid C. F.)             44   \n",
       "1      Billy Wright (Wolverhampton F. C.)             19   \n",
       "2                                     NaN            NaN   \n",
       "3           Helmut Rahn (Rot-Weiss Essen)             40   \n",
       "4           Raymond Kopa (Stade de Reims)             42   \n",
       "\n",
       "                                    Tercero Puntos tercero  Puntos Primero2  \n",
       "0          Raymond Kopa (Real Madrid C. F.)             33             47.0  \n",
       "1          Raymond Kopa (Real Madrid C. F.)             16             72.0  \n",
       "2  Duncan Edwards (Manchester United F. C.)             16              NaN  \n",
       "3            Just Fontaine (Stade de Reims)             23             71.0  \n",
       "4             John Charles (Juventus F. C.)             24             80.0  "
      ]
     },
     "execution_count": 44,
     "metadata": {},
     "output_type": "execute_result"
    }
   ],
   "source": [
    "golden.head()"
   ]
  },
  {
   "cell_type": "markdown",
   "metadata": {},
   "source": [
    "### 1. Descarga del dataset"
   ]
  },
  {
   "cell_type": "code",
   "execution_count": 2,
   "metadata": {},
   "outputs": [
    {
     "name": "stdout",
     "output_type": "stream",
     "text": [
      "Extracting all files...\n",
      "Done!\n"
     ]
    }
   ],
   "source": [
    "# descargar del dataset MovieLens \n",
    "url = 'http://files.grouplens.org/datasets/movielens/ml-1m.zip'  \n",
    "local_zip = os.path.join(\"datasets\", \"ml-1m.zip\")\n",
    "urllib.request.urlretrieve(url, local_zip)\n",
    "# para descomprimir un archivo zip\n",
    "with zp.ZipFile(local_zip, 'r') as zipp: \n",
    "    print('Extracting all files...') \n",
    "    zipp.extractall(os.path.join(\"datasets\")) # donde se guarda\n",
    "    print('Done!') "
   ]
  },
  {
   "cell_type": "code",
   "execution_count": 3,
   "metadata": {},
   "outputs": [],
   "source": [
    "root_path = os.path.join(\"datasets\", \"ml-1m\" )\n",
    "\n",
    "ratings = pd.read_csv(os.path.join(root_path, \"ratings.dat\"), sep='::',\n",
    "                                index_col=0, engine='python',\n",
    "                                names=['UserID','MovieID','Rating','Timestamp'])\n",
    "\n",
    "users = pd.read_csv(os.path.join(root_path, \"users.dat\"),sep='::',\n",
    "                              index_col=0, engine='python',\n",
    "                              names=['UserID','Gender','Age','Occupation','Zip-code'])"
   ]
  },
  {
   "cell_type": "markdown",
   "metadata": {},
   "source": [
    "### 2. Comprobación de que se ha cargado bien"
   ]
  },
  {
   "cell_type": "markdown",
   "metadata": {},
   "source": [
    "### 3. Combina los datasets de ratings y users cruzando por una columna común y compruba que se ha hecho bien el cruce\n",
    "\n",
    "¿merge, join, concat? ¿left,right, inner?\n",
    "\n"
   ]
  },
  {
   "cell_type": "markdown",
   "metadata": {},
   "source": [
    "### 4. Carga el dataset de movies descargado previamente y combínalo con el anterior (combined_dataset)"
   ]
  },
  {
   "cell_type": "markdown",
   "metadata": {},
   "source": [
    "### Pivot Tables\n",
    "- Representar los datos en función a varios parámetros, agregando\n",
    "```python\n",
    "pivot_table(<lista de valores>, index=<agregador primario>, columns=<agregador secundario>)\n",
    "```\n",
    "https://pandas.pydata.org/pandas-docs/stable/reference/api/pandas.pivot_table.html"
   ]
  },
  {
   "cell_type": "code",
   "execution_count": null,
   "metadata": {},
   "outputs": [],
   "source": [
    "all_dataset.pivot_table('Rating', index='Gender', columns='Age')"
   ]
  },
  {
   "cell_type": "markdown",
   "metadata": {},
   "source": [
    "### 5. Crea una pivot table a partir de la tabla Ratings para calcular la media y el total de ratings por edad y género"
   ]
  },
  {
   "cell_type": "markdown",
   "metadata": {},
   "source": [
    "###  Agrupaciones\n",
    "- agg -> funciones estadísticas de agregación\n",
    "- Series.unique() -> valores únicos\n",
    "- pd.value_counts -> ocurrencias\n",
    "\n",
    "### Manipulación de strings\n",
    "```python\n",
    "split(): separar en bloques en función de un carácter\n",
    "replace(): reemplazar un carácter por otro\n",
    "index(): encontrar la posición de un carácter\n",
    "```"
   ]
  },
  {
   "cell_type": "markdown",
   "metadata": {},
   "source": [
    "### 6. Obtener todos los géneros por separado y crear un dataset de géneros. Indicar el género de cada película por separado"
   ]
  },
  {
   "cell_type": "markdown",
   "metadata": {},
   "source": [
    "### 7. Unir con el dataset original"
   ]
  },
  {
   "cell_type": "markdown",
   "metadata": {},
   "source": [
    "### 8. Extraer el año de la película y eliminar el año de la columna Title"
   ]
  },
  {
   "cell_type": "markdown",
   "metadata": {},
   "source": [
    "**Aplicar la función anterior para crear una nueva columna Year**"
   ]
  },
  {
   "cell_type": "markdown",
   "metadata": {},
   "source": [
    "**Crear una función remove_year para eliminar el año de la columna Title y utilizarla**"
   ]
  },
  {
   "cell_type": "markdown",
   "metadata": {},
   "source": [
    "###  Operaciones con colecciones\n",
    "```python\n",
    "reduce: aplicar una operación y retornar un valor\n",
    "map: aplicar  una operación y retornar una secuencia\n",
    "filter: retorna una secuencia con elementos que cumplen una condición\n",
    "```\n",
    "\n",
    "\n",
    "### Reduce\n",
    "- Aplicar una operación matemática a cada uno de los elementos de una colección\n",
    "- Diferente de 'apply()' porque retorna un valor numérico\n",
    "- Ejemplo: Detección de géneros en años específicos\n",
    "\n",
    "https://docs.python.org/3/library/functools.html"
   ]
  },
  {
   "cell_type": "code",
   "execution_count": null,
   "metadata": {},
   "outputs": [],
   "source": [
    "from functools import reduce # necesario para reduce\n",
    "\n",
    "lista = [1, 3, 5, 7, 9]\n",
    "print(reduce(lambda x,y: x + y, lista))"
   ]
  },
  {
   "cell_type": "markdown",
   "metadata": {},
   "source": [
    "**¿Las películas de 1975 son todas comedias?**"
   ]
  },
  {
   "cell_type": "code",
   "execution_count": null,
   "metadata": {},
   "outputs": [],
   "source": []
  },
  {
   "cell_type": "markdown",
   "metadata": {},
   "source": [
    "### Revisar pq da error\n",
    "\n",
    "**¿Hay peliculas del oeste en 1980?**"
   ]
  },
  {
   "cell_type": "code",
   "execution_count": null,
   "metadata": {},
   "outputs": [],
   "source": []
  },
  {
   "cell_type": "markdown",
   "metadata": {},
   "source": [
    "### Filter\n",
    "- Devuelve una secuencia con elementos que cumplen una determinada condición\n",
    "- Ejemplo: obtener las películas de 1975 que contienen 'A' en el título\n",
    "\n",
    "### Map\n",
    "- Aplica una operación y devuelve una secuencia\n",
    "- Cambiar el valor integral de la columna 'Comedy' por bool"
   ]
  },
  {
   "cell_type": "code",
   "execution_count": null,
   "metadata": {},
   "outputs": [],
   "source": []
  },
  {
   "cell_type": "markdown",
   "metadata": {},
   "source": [
    "**Obtener las películas que tienen la palabra the en el título**"
   ]
  },
  {
   "cell_type": "markdown",
   "metadata": {},
   "source": [
    "### Map"
   ]
  },
  {
   "cell_type": "code",
   "execution_count": null,
   "metadata": {},
   "outputs": [],
   "source": []
  },
  {
   "cell_type": "markdown",
   "metadata": {},
   "source": [
    "# Hablemos de fútbol"
   ]
  },
  {
   "cell_type": "markdown",
   "metadata": {},
   "source": [
    "**Cargar la tabla Golden Globe**, que contiene la siguiente información:\n",
    "\n",
    "La tabla contiene la siguiente información:\n",
    "\n",
    "- **Año:** Año del galardón\n",
    "- **Primero:** Nombre y equipo del ganador\n",
    "- **Puntos primero:** Puntuación obtenida del primer clasificado\n",
    "- **Segundo:** Nombre y equipo del segundo\n",
    "- **Puntos segundo:** Puntuación obtenida del segundo clasificado\n",
    "- **Tercero:** Nombre y equipo del tercero\n",
    "- **Puntos tercero:** Puntuación obtenida del tercero clasificado"
   ]
  },
  {
   "cell_type": "code",
   "execution_count": null,
   "metadata": {},
   "outputs": [],
   "source": [
    "# Por el sistema de puntuación del premio, solo un jugador puede ser el ganador, \n",
    "# pero puede haber empates entre segundo y tercero.\n",
    "# Localizar si hay empates y crear una fila adicional por cada empate (utiliza la función explode)"
   ]
  },
  {
   "cell_type": "code",
   "execution_count": null,
   "metadata": {},
   "outputs": [],
   "source": [
    "# Crea la columna Season a partir de Año. Es decir si el año es 1980, Season será 1979-1980\n"
   ]
  },
  {
   "cell_type": "code",
   "execution_count": null,
   "metadata": {},
   "outputs": [],
   "source": [
    "# Convierte las puntuaciones en float\n"
   ]
  }
 ],
 "metadata": {
  "kernelspec": {
   "display_name": "Python 3",
   "language": "python",
   "name": "python3"
  },
  "language_info": {
   "codemirror_mode": {
    "name": "ipython",
    "version": 3
   },
   "file_extension": ".py",
   "mimetype": "text/x-python",
   "name": "python",
   "nbconvert_exporter": "python",
   "pygments_lexer": "ipython3",
   "version": "3.8.8"
  }
 },
 "nbformat": 4,
 "nbformat_minor": 4
}
