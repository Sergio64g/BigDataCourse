{
 "cells": [
  {
   "cell_type": "code",
   "execution_count": 11,
   "id": "6f0830e3-b214-4a58-8c45-1d385882bf86",
   "metadata": {},
   "outputs": [],
   "source": [
    "import os\n",
    "import pandas as pd\n",
    "import numpy as np\n",
    "from sklearn import datasets\n"
   ]
  },
  {
   "cell_type": "code",
   "execution_count": 12,
   "id": "a7a16d2b-ce90-402b-9c35-fb722bedaef8",
   "metadata": {},
   "outputs": [
    {
     "name": "stdout",
     "output_type": "stream",
     "text": [
      "(20640, 9)\n"
     ]
    }
   ],
   "source": [
    "ruta = os.path.join(\"datasets\", \"Advertising.csv\")\n",
    "fichero = open(ruta)\n",
    "data_1 = pd.read_csv(ruta)\n",
    "fichero.close()\n",
    "\n",
    "ruta = os.path.join(\"datasets\", \"airfoil_self_noise.dat\")\n",
    "fichero = open(ruta)\n",
    "data_2 = pd.read_csv(ruta, sep=\"\\t\", names = [\"frequency\", \"angle_of_attack\", \"chord_length\",\n",
    "                                                 \"free_stream_velocity\", \"Suction_thickness\", \"pressure_level\"])\n",
    "fichero.close()\n",
    "\n",
    "# Carga de datos.\n",
    "dataset = datasets.fetch_california_housing(as_frame=True)\n",
    "data_3 = dataset.data\n",
    "data_3['Value'] = dataset.target\n",
    "\n",
    "print(np.shape(data_3))"
   ]
  },
  {
   "cell_type": "code",
   "execution_count": null,
   "id": "9e2fa544-8381-4e04-9937-59f27be4b6be",
   "metadata": {},
   "outputs": [],
   "source": []
  }
 ],
 "metadata": {
  "kernelspec": {
   "display_name": "Python 3",
   "language": "python",
   "name": "python3"
  },
  "language_info": {
   "codemirror_mode": {
    "name": "ipython",
    "version": 3
   },
   "file_extension": ".py",
   "mimetype": "text/x-python",
   "name": "python",
   "nbconvert_exporter": "python",
   "pygments_lexer": "ipython3",
   "version": "3.8.8"
  }
 },
 "nbformat": 4,
 "nbformat_minor": 5
}
