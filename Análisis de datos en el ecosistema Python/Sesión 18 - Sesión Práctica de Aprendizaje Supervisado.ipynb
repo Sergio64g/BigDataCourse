{
 "cells": [
  {
   "cell_type": "code",
   "execution_count": 1,
   "id": "6f0830e3-b214-4a58-8c45-1d385882bf86",
   "metadata": {},
   "outputs": [],
   "source": [
    "import os\n",
    "import pandas as pd\n",
    "import numpy as np\n",
    "import seaborn as sns\n",
    "import matplotlib.pyplot as plt\n",
    "\n",
    "from sklearn import datasets\n",
    "from sklearn.model_selection import train_test_split\n"
   ]
  },
  {
   "cell_type": "code",
   "execution_count": 2,
   "id": "a7a16d2b-ce90-402b-9c35-fb722bedaef8",
   "metadata": {},
   "outputs": [],
   "source": [
    "ruta = os.path.join(\"datasets\", \"Advertising.csv\")\n",
    "fichero = open(ruta)\n",
    "data_1 = pd.read_csv(ruta)\n",
    "fichero.close()\n",
    "\n",
    "ruta = os.path.join(\"datasets\", \"airfoil_self_noise.dat\")\n",
    "fichero = open(ruta)\n",
    "data_2 = pd.read_csv(ruta, sep=\"\\t\", names = [\"frequency\", \"angle_of_attack\", \"chord_length\",\n",
    "                                                 \"free_stream_velocity\", \"Suction_thickness\", \"pressure_level\"])\n",
    "fichero.close()\n",
    "\n",
    "# Carga de datos.\n",
    "dataset = datasets.fetch_california_housing(as_frame=True)\n",
    "data_3 = dataset.data\n",
    "data_3['Value'] = dataset.target\n",
    "\n"
   ]
  },
  {
   "cell_type": "code",
   "execution_count": null,
   "id": "0c411ffa-3ade-43e2-8957-f8eb7ef440b6",
   "metadata": {},
   "outputs": [],
   "source": [
    "print(np.shape(data_1))\n",
    "print(np.shape(data_2))\n",
    "print(np.shape(data_3))\n"
   ]
  },
  {
   "cell_type": "code",
   "execution_count": null,
   "id": "9e2fa544-8381-4e04-9937-59f27be4b6be",
   "metadata": {},
   "outputs": [],
   "source": [
    "#data_3.isnull().sum()\n",
    "#data_2.info()\n",
    "#data_1.describe()\n"
   ]
  },
  {
   "cell_type": "code",
   "execution_count": null,
   "id": "38817046-a049-4f35-a24d-7c35a11191b5",
   "metadata": {},
   "outputs": [],
   "source": [
    "for col in data_1.columns:\n",
    "    pct_missing = np.mean(data_1[col].isnull())\n",
    "    print('{} - {}%'.format(col, round(pct_missing*100)))\n",
    "    data_1[col].fillna(np.mean(np.mean(data_1[col])),inplace=True)\n",
    "    data_1[col].isnull().sum()\n"
   ]
  },
  {
   "cell_type": "code",
   "execution_count": 10,
   "id": "53ea9b51-e420-4aab-bf51-4d0f1ca13034",
   "metadata": {},
   "outputs": [],
   "source": [
    "def limpieza(datasets):\n",
    "    for dataset in datasets:\n",
    "        #print(np.shape(dataset))\n",
    "\n",
    "        #Quitar nulos por la media\n",
    "        for col in data_1.columns:\n",
    "            pct_missing = np.mean(data_1[col].isnull())\n",
    "            #print('{} - {}%'.format(col, round(pct_missing*100)))\n",
    "            data_1[col].fillna(np.mean(np.mean(data_1[col])),inplace=True)\n",
    "            data_1[col].isnull().sum()\n",
    "\n",
    "        \n",
    "        train, test = train_test_split(data_1, test_size=0.2)\n"
   ]
  },
  {
   "cell_type": "code",
   "execution_count": 11,
   "id": "6f351988-98cb-4228-a9c2-0dfd6ff990de",
   "metadata": {},
   "outputs": [
    {
     "name": "stdout",
     "output_type": "stream",
     "text": [
      "<class 'pandas.core.frame.DataFrame'>\n",
      "<class 'pandas.core.frame.DataFrame'>\n",
      "<class 'pandas.core.frame.DataFrame'>\n"
     ]
    }
   ],
   "source": [
    "datasets = [data_1, data_2, data_3]\n",
    "limpieza(datasets) "
   ]
  },
  {
   "cell_type": "code",
   "execution_count": 20,
   "id": "dacfbbc9-5660-4fd1-b1b6-d637976f0b17",
   "metadata": {},
   "outputs": [
    {
     "data": {
      "text/html": [
       "<div>\n",
       "<style scoped>\n",
       "    .dataframe tbody tr th:only-of-type {\n",
       "        vertical-align: middle;\n",
       "    }\n",
       "\n",
       "    .dataframe tbody tr th {\n",
       "        vertical-align: top;\n",
       "    }\n",
       "\n",
       "    .dataframe thead th {\n",
       "        text-align: right;\n",
       "    }\n",
       "</style>\n",
       "<table border=\"1\" class=\"dataframe\">\n",
       "  <thead>\n",
       "    <tr style=\"text-align: right;\">\n",
       "      <th></th>\n",
       "      <th>TV</th>\n",
       "      <th>Radio</th>\n",
       "      <th>Newspaper</th>\n",
       "      <th>Sales</th>\n",
       "    </tr>\n",
       "  </thead>\n",
       "  <tbody>\n",
       "    <tr>\n",
       "      <th>0</th>\n",
       "      <td>230.1</td>\n",
       "      <td>37.8</td>\n",
       "      <td>69.2</td>\n",
       "      <td>22.1</td>\n",
       "    </tr>\n",
       "    <tr>\n",
       "      <th>1</th>\n",
       "      <td>44.5</td>\n",
       "      <td>39.3</td>\n",
       "      <td>45.1</td>\n",
       "      <td>10.4</td>\n",
       "    </tr>\n",
       "    <tr>\n",
       "      <th>2</th>\n",
       "      <td>17.2</td>\n",
       "      <td>45.9</td>\n",
       "      <td>69.3</td>\n",
       "      <td>9.3</td>\n",
       "    </tr>\n",
       "    <tr>\n",
       "      <th>3</th>\n",
       "      <td>151.5</td>\n",
       "      <td>41.3</td>\n",
       "      <td>58.5</td>\n",
       "      <td>18.5</td>\n",
       "    </tr>\n",
       "    <tr>\n",
       "      <th>4</th>\n",
       "      <td>180.8</td>\n",
       "      <td>10.8</td>\n",
       "      <td>58.4</td>\n",
       "      <td>12.9</td>\n",
       "    </tr>\n",
       "  </tbody>\n",
       "</table>\n",
       "</div>"
      ],
      "text/plain": [
       "      TV  Radio  Newspaper  Sales\n",
       "0  230.1   37.8       69.2   22.1\n",
       "1   44.5   39.3       45.1   10.4\n",
       "2   17.2   45.9       69.3    9.3\n",
       "3  151.5   41.3       58.5   18.5\n",
       "4  180.8   10.8       58.4   12.9"
      ]
     },
     "execution_count": 20,
     "metadata": {},
     "output_type": "execute_result"
    }
   ],
   "source": [
    "data_1.iloc[:,-1]\n",
    "data_1.head()"
   ]
  },
  {
   "cell_type": "code",
   "execution_count": 5,
   "id": "151db311-b9b6-46ea-b8ae-9ac7a3b92b02",
   "metadata": {},
   "outputs": [],
   "source": []
  }
 ],
 "metadata": {
  "kernelspec": {
   "display_name": "Python 3",
   "language": "python",
   "name": "python3"
  },
  "language_info": {
   "codemirror_mode": {
    "name": "ipython",
    "version": 3
   },
   "file_extension": ".py",
   "mimetype": "text/x-python",
   "name": "python",
   "nbconvert_exporter": "python",
   "pygments_lexer": "ipython3",
   "version": "3.8.8"
  }
 },
 "nbformat": 4,
 "nbformat_minor": 5
}
