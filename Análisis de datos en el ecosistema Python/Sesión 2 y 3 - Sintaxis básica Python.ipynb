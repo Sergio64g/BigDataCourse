{
 "cells": [
  {
   "cell_type": "markdown",
   "metadata": {},
   "source": [
    "# Introducción a Python"
   ]
  },
  {
   "cell_type": "markdown",
   "metadata": {},
   "source": [
    "**20/09/2021 y 27/09/2021**"
   ]
  },
  {
   "cell_type": "markdown",
   "metadata": {},
   "source": [
    "## 1. Tipos de datos"
   ]
  },
  {
   "cell_type": "code",
   "execution_count": null,
   "metadata": {},
   "outputs": [],
   "source": [
    "print(7)            # int\n",
    "print(type(7))\n",
    "print(3.0)          # coma flotante\n",
    "print(type(3.0))\n",
    "print(\"Big data\")  # string\n",
    "print(type('Big Data'))\n",
    "print(True)\n",
    "print(type(True))\n",
    "print(None)\n",
    "print(type(None))"
   ]
  },
  {
   "cell_type": "code",
   "execution_count": null,
   "metadata": {},
   "outputs": [],
   "source": [
    "print(\"34\")\n",
    "print(type(\"34\"))"
   ]
  },
  {
   "cell_type": "code",
   "execution_count": null,
   "metadata": {},
   "outputs": [],
   "source": [
    "# Asignación de variables\n",
    "a = 1\n",
    "print(a)\n",
    "\n",
    "b = \"Big Data\"\n",
    "print(b)\n",
    "print(len(b))\n",
    "print(b[0])\n",
    "\n",
    "# Asignació múltiple\n",
    "\n",
    "x, y, z = 1,2,3\n",
    "print(x, y, z)"
   ]
  },
  {
   "cell_type": "code",
   "execution_count": null,
   "metadata": {},
   "outputs": [],
   "source": [
    "a = 7 \n",
    "b = 11\n",
    "\n",
    "print('Se pueden concatenar: Los números son ' + str(a) + ' y ' + str(b))\n",
    "print('Se pueden operar. La suma es: ', a+b)\n",
    "print(f\"Valor de a = {a} y de b = {b}\")\n",
    "print(\"Valor de a \", a, \" y valor de b \",b, \" y su producto daría como resultado: \", a*b)\n",
    "print(\"\")\n",
    "print(\"Valor de a: \", a, \"\\nValor de b: \",b, \"\\n    - Producto de a*b: \", a*b)"
   ]
  },
  {
   "cell_type": "code",
   "execution_count": null,
   "metadata": {},
   "outputs": [],
   "source": [
    "fecha = '01-01-2022'\n",
    "fecha_num = fecha.split('-')\n",
    "fecha_num"
   ]
  },
  {
   "cell_type": "markdown",
   "metadata": {},
   "source": [
    "**Nombrar variables**\n",
    "- No se puede poner números delante del nombre de las variables\n",
    "- No se suele empezar por minúscula\n",
    "- Diferencia entre mayúsculas y minúsculas\n",
    "- Descriptivos y verbosos, explícitos\n",
    "- Uso de \"_\" para separar palabras, **snake_case**\n",
    "- Hay palabras o métodos reservados -> Built-ins\n"
   ]
  },
  {
   "cell_type": "markdown",
   "metadata": {},
   "source": [
    "## Ejercicios con strings"
   ]
  },
  {
   "cell_type": "code",
   "execution_count": null,
   "metadata": {},
   "outputs": [],
   "source": [
    "string1 = 'AbCdEfGhIjkl'\n",
    "string2 = ' big data dual '\n",
    "equipo1 = \"Real Madrid C.F.\"\n",
    "equipo2 = \"real madrid\"\n",
    "jugador = \"cristiano ronaldo\"\n",
    "\n",
    "gabo_100 = \"Muchos años después, frente al pelotón de fusilamiento, el coronel Aureliano Buendía había de recordar aquella tarde remota en que su padre lo llevó a conocer el hielo. Macondo era entonces una aldea de veinte casas de barro y cañabrava construidas a la orilla de un río de aguas diáfanas que se precipitaban por un lecho de piedras pulidas, blancas y enormes como huevos prehistóricos.\""
   ]
  },
  {
   "cell_type": "code",
   "execution_count": null,
   "metadata": {},
   "outputs": [],
   "source": [
    "# Escribir string1 en mayúsculas y en minúsculas"
   ]
  },
  {
   "cell_type": "code",
   "execution_count": null,
   "metadata": {},
   "outputs": [],
   "source": [
    "# Escribir string2 en snake_case y eliminar los espacios"
   ]
  },
  {
   "cell_type": "code",
   "execution_count": null,
   "metadata": {},
   "outputs": [],
   "source": [
    "# Modificar equipo1 y equipo2 para que sean iguales"
   ]
  },
  {
   "cell_type": "code",
   "execution_count": null,
   "metadata": {},
   "outputs": [],
   "source": [
    "# Contar cuantas veces aparece la palabra \"de\" en el fragmento de 100 años de soledad."
   ]
  },
  {
   "cell_type": "markdown",
   "metadata": {},
   "source": [
    "## 2. Operadores"
   ]
  },
  {
   "cell_type": "markdown",
   "metadata": {},
   "source": [
    "### Operadores aritméticos\n",
    "\n",
    "| Operador | Desc |\n",
    "|:---------|:-----|\n",
    "| a + b    | Suma |\n",
    "| a - b    | Resta |\n",
    "| a / b    | División |\n",
    "| a // b   | División Entera |\n",
    "| a % b    | Modulo / Resto |\n",
    "| a * b    | Multiplicacion |\n",
    "| a ** b   | Exponencial |\n",
    "\n",
    "### Operadores de comparación \n",
    "\n",
    "| Operador | Desc |\n",
    "|:---------|:-----|\n",
    "| a > b    | Mayor |\n",
    "| a < b    | Menor |\n",
    "| a == b    | Igualdad |\n",
    "| a != b   | Desigualdad |\n",
    "| a >= b    | Mayor o Igual |\n",
    "| a <= b    | Menor o Igual |\n",
    "\n",
    "### Operadores lógicos\n",
    "\n",
    "| Operador | Desc |\n",
    "|:---------|:-----|\n",
    "| a and b  | True si a y b son True |\n",
    "| a or b   | True si a o b es True |\n",
    "| not a    | Negación |\n",
    "\n",
    "### Operadores de asignación\n",
    "\n",
    "| Operador | Desc |\n",
    "|:---------|:-----|\n",
    "| =   | Asignación |\n",
    "| +=  | Suma y asignación |\n",
    "| -=  | Resta y asignación|\n",
    "| *=  | Multiplicación y asignación |\n",
    "| /=  | División y asignación |\n",
    "| %=  | Módulo y asignación |\n",
    "| //= | División entera y asignación |\n",
    "| **= | Exponencial y asignación |\n",
    "| \\|=  | Or y asignación |\n",
    "| ^=  | Xor y asignación |\n",
    "\n",
    "\n",
    "\n",
    "### Operadores de identidad\n",
    "\n",
    "| Operador | Desc |\n",
    "|:---------|:-----|\n",
    "| a is b  | True si ambos  son una referencia al mismo objeto |\n",
    "| a is not b | True si ambos  son una referencia a distintos objetos |\n",
    "\n",
    "### Operadores de pertenencia \n",
    "\n",
    "| Operador | Desc |\n",
    "|:---------|:-----|\n",
    "| a in b  | True si a se encuentra en  b |\n",
    "| a not in b | True si a no se encuentra en b |"
   ]
  },
  {
   "cell_type": "markdown",
   "metadata": {},
   "source": [
    "## Ejercicios operadores"
   ]
  },
  {
   "cell_type": "code",
   "execution_count": null,
   "metadata": {},
   "outputs": [],
   "source": [
    "a = 100\n",
    "b = 30\n",
    "c = 53"
   ]
  },
  {
   "cell_type": "code",
   "execution_count": null,
   "metadata": {},
   "outputs": [],
   "source": [
    "# Calcula suma, resta y multiplicación de a y b"
   ]
  },
  {
   "cell_type": "code",
   "execution_count": null,
   "metadata": {},
   "outputs": [],
   "source": [
    "# Calcula la división, la división entera y el módulo de a divido entre b"
   ]
  },
  {
   "cell_type": "markdown",
   "metadata": {},
   "source": [
    "**Operadores lógicos**"
   ]
  },
  {
   "cell_type": "code",
   "execution_count": null,
   "metadata": {},
   "outputs": [],
   "source": [
    "a = True\n",
    "b = True\n",
    "c = False\n",
    "\n",
    "print(a)\n",
    "print(not a)"
   ]
  },
  {
   "cell_type": "code",
   "execution_count": null,
   "metadata": {},
   "outputs": [],
   "source": [
    "print(a and b)\n",
    "print(a and c)\n",
    "print(a or b)\n",
    "print(a or c )"
   ]
  },
  {
   "cell_type": "markdown",
   "metadata": {},
   "source": [
    "**Operadores de asignación**"
   ]
  },
  {
   "cell_type": "code",
   "execution_count": null,
   "metadata": {},
   "outputs": [],
   "source": [
    "16*3"
   ]
  },
  {
   "cell_type": "code",
   "execution_count": null,
   "metadata": {},
   "outputs": [],
   "source": [
    "a = 2\n",
    "b = 3\n",
    "c = 4\n",
    "d = 57\n",
    "e = 5"
   ]
  },
  {
   "cell_type": "code",
   "execution_count": null,
   "metadata": {},
   "outputs": [],
   "source": [
    "print(a)\n",
    "a *= b\n",
    "print(a)"
   ]
  },
  {
   "cell_type": "code",
   "execution_count": null,
   "metadata": {},
   "outputs": [],
   "source": [
    "print(a)\n",
    "a *= b\n",
    "print(a)"
   ]
  },
  {
   "cell_type": "code",
   "execution_count": null,
   "metadata": {},
   "outputs": [],
   "source": [
    "print(d)\n",
    "d %= e\n",
    "print(d)"
   ]
  },
  {
   "cell_type": "code",
   "execution_count": null,
   "metadata": {},
   "outputs": [],
   "source": [
    "a = True\n",
    "b = False\n",
    "a |= b\n",
    "print(a)\n",
    "\n",
    "a ^= b\n",
    "print(a)"
   ]
  },
  {
   "cell_type": "code",
   "execution_count": null,
   "metadata": {},
   "outputs": [],
   "source": [
    "a = \"Hola\"\n",
    "b = \"mundo\"\n",
    "\n",
    "print(a)\n",
    "a += b\n",
    "print(a)\n"
   ]
  },
  {
   "cell_type": "code",
   "execution_count": null,
   "metadata": {},
   "outputs": [],
   "source": [
    "a = 5\n",
    "b = 5\n",
    "c = a\n",
    "\n",
    "print(a is b)\n",
    "print(a is not b)\n",
    "print(a is c)"
   ]
  },
  {
   "cell_type": "code",
   "execution_count": null,
   "metadata": {},
   "outputs": [],
   "source": [
    "'Aureliano' in gabo_100\n",
    "'Aroa' in gabo_100"
   ]
  },
  {
   "cell_type": "markdown",
   "metadata": {},
   "source": [
    "## 3. Secuencias y estructuras de datos"
   ]
  },
  {
   "cell_type": "markdown",
   "metadata": {},
   "source": [
    "Las **secuencias** son colecciones o conjuntos de datos de variables. Colecciones en Python:\n",
    " - Tuplas\n",
    " - Listas\n",
    " - Diccionarios\n",
    " - Sets (conjuntos)\n",
    " - Secuencias\n",
    "\n",
    "- Tipos mutables - list, dictionary, set y clases definidas por el usuario\n",
    "- Tipos inmutables - int, float, decimal, bool, string, tuple y range\n"
   ]
  },
  {
   "cell_type": "markdown",
   "metadata": {},
   "source": [
    "### Listas\n",
    "\n",
    "Una **lista, vector o array** es una variable que contiene una secuencia ordenada de valores a los que se puede acceder por su índice o posición. "
   ]
  },
  {
   "cell_type": "code",
   "execution_count": null,
   "metadata": {},
   "outputs": [],
   "source": [
    "lista1 = [1,1,2,3,5,8]\n",
    "print(lista1)\n",
    "print(\"La longitud de las lista es: \", len(lista1))\n",
    "\n",
    "# El primer índice es cero\n",
    "print(lista1[0])\n",
    "print(lista1[3])\n",
    "\n",
    "# Se puede acceder empezando por el final de la lista\n",
    "print(lista1[-1])\n",
    "\n",
    "\n",
    "lista2 = [\"Buenos\", \"días\"]\n",
    "print(lista2[0])"
   ]
  },
  {
   "cell_type": "code",
   "execution_count": null,
   "metadata": {},
   "outputs": [],
   "source": [
    "print(lista2)\n",
    "lista2.append(\", ¿qué tal estás?\")\n",
    "print(lista2)"
   ]
  },
  {
   "cell_type": "code",
   "execution_count": null,
   "metadata": {},
   "outputs": [],
   "source": [
    "lista3 = list(range(0,10,1))\n",
    "lista3"
   ]
  },
  {
   "cell_type": "code",
   "execution_count": null,
   "metadata": {},
   "outputs": [],
   "source": [
    "lista4 = [4,5,9,1,8,2]\n",
    "lista4.sort()\n",
    "print(lista4)\n",
    "lista4.sort(reverse=True)\n",
    "print(lista4)"
   ]
  },
  {
   "cell_type": "code",
   "execution_count": null,
   "metadata": {},
   "outputs": [],
   "source": [
    "ropa = ['Camisa','Pantalón','Chaqueta']\n",
    "print(ropa)\n",
    "# añadir un elemento\n",
    "ropa.append('Vestido')\n",
    "ropa.append('Americana')\n",
    "\n",
    "\n",
    "# insertar elemento\n",
    "ropa.insert(1,'Gorro') # añadir en posición\n",
    "print(ropa)\n",
    "\n",
    "# concatenar listas\n",
    "ropa_invierno = ['Bufanda','Gorro','Guantes']\n",
    "total = ropa + ropa_invierno # crea nueva lista con elementos de ambas\n",
    "print(total)\n",
    "\n",
    "ropa.extend(ropa_invierno) # añade elementos (sin crear nueva lista)\n",
    "print(ropa)\n",
    "\n",
    "# eliminar un elemento\n",
    "ropa.remove('Guantes')\n",
    "print(ropa)\n",
    "\n",
    "elemento = ropa.pop(0) # elimina el elemento en posición 0 y lo devuelve\n",
    "print(elemento)\n",
    "print(ropa)\n",
    "\n",
    "ropa_invierno2 = ropa_invierno * 2\n",
    "print(ropa_invierno2)"
   ]
  },
  {
   "cell_type": "code",
   "execution_count": null,
   "metadata": {},
   "outputs": [],
   "source": [
    "if 'Cazadora' in ropa:\n",
    "    print('Tenemos abrigo')\n",
    "else:\n",
    "    print(\"Pasaremos frío\")"
   ]
  },
  {
   "cell_type": "markdown",
   "metadata": {},
   "source": [
    "**Slicing**\n",
    "\n",
    "lista[inicio:fin:paso]"
   ]
  },
  {
   "cell_type": "code",
   "execution_count": null,
   "metadata": {},
   "outputs": [],
   "source": [
    "lista_completa = list(range(0,6,1)) \n",
    "print(lista_completa)\n",
    "\n",
    "slice1 = lista_completa[:]\n",
    "print(slice1)\n",
    "\n",
    "slice2 = lista_completa[1:3] \n",
    "print(slice2)\n",
    "\n",
    "slice3 = lista_completa[0:-1] \n",
    "print(slice3)\n",
    "\n",
    "slice4 = lista_completa[::2] \n",
    "print(slice4)"
   ]
  },
  {
   "cell_type": "code",
   "execution_count": null,
   "metadata": {},
   "outputs": [],
   "source": [
    "python = list(\"python\")\n",
    "# python = ['p','y','t','h','o','n']\n",
    "print(python[0:2])\n",
    "print(python[:2])\n",
    "print(python[-6:-4])\n",
    "print(python[:-4])"
   ]
  },
  {
   "cell_type": "markdown",
   "metadata": {},
   "source": [
    "**zip**"
   ]
  },
  {
   "cell_type": "code",
   "execution_count": null,
   "metadata": {},
   "outputs": [],
   "source": [
    "nombres = ['Ana','Juan','Luis']\n",
    "alturas = [160,175,165]\n",
    "for nombre,edad in zip(nombres,alturas):\n",
    "    print('Nombre: ' + nombre + ' altura: ' + str(edad))\n"
   ]
  },
  {
   "cell_type": "code",
   "execution_count": null,
   "metadata": {},
   "outputs": [],
   "source": [
    "personas = zip(nombres, alturas)\n",
    "print(personas)\n",
    "print(type(personas))"
   ]
  },
  {
   "cell_type": "markdown",
   "metadata": {},
   "source": [
    "**enumerate**"
   ]
  },
  {
   "cell_type": "code",
   "execution_count": null,
   "metadata": {},
   "outputs": [],
   "source": [
    "# enumerate para iterar una colección (índice y valor a la vez)\n",
    "for index, value in enumerate(range(0,24,3)):\n",
    "    print('Index = ' + str(index) + '. Value = ' + str(value))\n"
   ]
  },
  {
   "cell_type": "code",
   "execution_count": null,
   "metadata": {},
   "outputs": [],
   "source": [
    "for value in enumerate(range(0,24,3)):\n",
    "    print(value) "
   ]
  },
  {
   "cell_type": "markdown",
   "metadata": {},
   "source": [
    "### Tuplas\n",
    "\n",
    "Una **tupla** es similar a una lista, pero **NO** puede modificarse. Una vez creada, no se puede añadir, modificar o eliminar elementos. "
   ]
  },
  {
   "cell_type": "code",
   "execution_count": null,
   "metadata": {},
   "outputs": [],
   "source": [
    "mi_tupla = (1,2,3,3)\n",
    "mi_tupla"
   ]
  },
  {
   "cell_type": "code",
   "execution_count": null,
   "metadata": {},
   "outputs": [],
   "source": [
    "# Contar elementos \n",
    "print(mi_tupla.count(3))\n",
    "\n",
    "# Encontrar índice\n",
    "print(mi_tupla.index(2))"
   ]
  },
  {
   "cell_type": "markdown",
   "metadata": {},
   "source": [
    "### Diccionarios\n",
    "\n",
    "Un **diccionario** es un conjunto de valores emparejados. Es similar a una lista, pero los índices no tienen por qué ser numéricos, pueden ser cadenas (lo más común), tuplas, o una mezcla de ambas. Puede contener cualquier tipo de dato, pero las claves deben ser objetos inmutables y no pueden repetirse. "
   ]
  },
  {
   "cell_type": "code",
   "execution_count": null,
   "metadata": {},
   "outputs": [],
   "source": [
    "my_dict = {\"Título\": \"100 años de soledad\", \"Autor\": \"Gabriel García Márquez\", \"Género\": \"Realismo Mágico\", \"Año\": 1967, \n",
    "           \"Recomendable\": True}"
   ]
  },
  {
   "cell_type": "code",
   "execution_count": null,
   "metadata": {},
   "outputs": [],
   "source": [
    "print(my_dict)"
   ]
  },
  {
   "cell_type": "code",
   "execution_count": null,
   "metadata": {},
   "outputs": [],
   "source": [
    "print(my_dict[\"Título\"])\n",
    "print(my_dict[\"Recomendable\"])"
   ]
  },
  {
   "cell_type": "code",
   "execution_count": null,
   "metadata": {},
   "outputs": [],
   "source": [
    "print(type(my_dict[\"Recomendable\"]))"
   ]
  },
  {
   "cell_type": "code",
   "execution_count": null,
   "metadata": {},
   "outputs": [],
   "source": [
    "# Añadir/Borrar valor\n",
    "\n",
    "my_dict[\"Páginas\"] = 471\n",
    "my_dict.pop(\"Género\")\n",
    "print(my_dict)"
   ]
  },
  {
   "cell_type": "code",
   "execution_count": null,
   "metadata": {},
   "outputs": [],
   "source": [
    "# Crear diccionarios uniendo dos colecciones\n",
    "autores = ['José Saramago','Darío Fo','Wisława Szymborska']\n",
    "nobel = [1998,1997,1996]\n",
    "\n",
    "datos = dict(zip(autores,nobel))\n",
    "print(datos)"
   ]
  },
  {
   "cell_type": "code",
   "execution_count": null,
   "metadata": {},
   "outputs": [],
   "source": [
    "datos = {k:v for k,v in zip(autores,nobel)}\n",
    "print(datos)"
   ]
  },
  {
   "cell_type": "code",
   "execution_count": null,
   "metadata": {},
   "outputs": [],
   "source": [
    "# Iterar sobre un diccioario\n",
    "# iterar sobre las claves\n",
    "print('\\nClaves:')\n",
    "for key in datos.keys(): # o dict_simple\n",
    "    print(key)\n",
    "    \n",
    "print('\\nValores\\:')\n",
    "# iterar sobre los valores\n",
    "for value in datos.values():\n",
    "    print(value)"
   ]
  },
  {
   "cell_type": "code",
   "execution_count": null,
   "metadata": {},
   "outputs": [],
   "source": [
    "# Operar con diccionarios\n",
    "def mis_operaciones(operator, x, y):\n",
    "    return {\n",
    "        'sumar': lambda: x + y,\n",
    "        'restar': lambda: x - y,\n",
    "        'multiplicar': lambda: x * y,\n",
    "        'dividir': lambda: x / y,\n",
    "    }.get(operator, lambda: None)() # retorna None si no encuentra 'operator'\n",
    "\n",
    "print(mis_operaciones('sumar',2,5))\n",
    "print(mis_operaciones('restar',7,2))\n",
    "print(mis_operaciones('multiplicar',17,3))\n",
    "print(mis_operaciones('dividir',17,5))"
   ]
  },
  {
   "cell_type": "markdown",
   "metadata": {},
   "source": [
    "### Sets\n",
    "\n",
    "Un **set** es una colección no ordenada de objetos. No posee índice y no puede contener objetos repetidos."
   ]
  },
  {
   "cell_type": "code",
   "execution_count": null,
   "metadata": {},
   "outputs": [],
   "source": [
    "set1 = {0,1,1,2,3,4,4,7,9}\n",
    "set2 = set([0,1,2,3,4,42])\n",
    "print(set1)\n",
    "print(set2)\n",
    "\n",
    "# union\n",
    "print(\"Unión\")\n",
    "print(set1 | set2)\n",
    "\n",
    "# intersección\n",
    "print(\"Intersección\")\n",
    "print(set1 & set2)\n",
    "\n",
    "# diferencia\n",
    "print(\"Diferencia\")\n",
    "print(set1 - set2)"
   ]
  },
  {
   "cell_type": "markdown",
   "metadata": {},
   "source": [
    "## 4. Estructuras de control"
   ]
  },
  {
   "cell_type": "markdown",
   "metadata": {},
   "source": [
    "### Condicionales"
   ]
  },
  {
   "cell_type": "code",
   "execution_count": null,
   "metadata": {},
   "outputs": [],
   "source": [
    "val = 1\n",
    "print(val>0)\n",
    "if val > 0:\n",
    "    print('Valor positivo')\n",
    "else:\n",
    "    print('Valor negativo')"
   ]
  },
  {
   "cell_type": "code",
   "execution_count": null,
   "metadata": {},
   "outputs": [],
   "source": [
    "val = -50\n",
    "if val > 0:\n",
    "    print('Valor positivo')\n",
    "elif val == 0:\n",
    "    print('Valor nulo')\n",
    "else:\n",
    "    print('Valor negativo')\n",
    "    if val < -10:\n",
    "        print('Valor negativo muy pequeño')"
   ]
  },
  {
   "cell_type": "code",
   "execution_count": null,
   "metadata": {},
   "outputs": [],
   "source": [
    "val = -3\n",
    "# operador ternario (forma breve if-else)\n",
    "resultado = val if val >= 0 else -val\n",
    "print(resultado)"
   ]
  },
  {
   "cell_type": "markdown",
   "metadata": {},
   "source": [
    "**Concatenar comparaciones**"
   ]
  },
  {
   "cell_type": "code",
   "execution_count": null,
   "metadata": {},
   "outputs": [],
   "source": [
    "type_of_music = 'classical'\n",
    "release_date = 1800\n",
    "\n",
    "if type_of_music == 'reggaeton' or type_of_music == 'electronic':\n",
    "    print('Pufff!')\n",
    "elif release_date < 1960 and release_date < 1975:\n",
    "    print('Quite good!')\n",
    "else:\n",
    "    print('I do not know')"
   ]
  },
  {
   "cell_type": "markdown",
   "metadata": {},
   "source": [
    "### Loops: for y while"
   ]
  },
  {
   "cell_type": "code",
   "execution_count": null,
   "metadata": {},
   "outputs": [],
   "source": [
    "for i in range(0,len(lista1)):\n",
    "    print(lista1[i])"
   ]
  },
  {
   "cell_type": "code",
   "execution_count": null,
   "metadata": {},
   "outputs": [],
   "source": [
    "for elemento in lista1:\n",
    "    print(elemento)"
   ]
  },
  {
   "cell_type": "code",
   "execution_count": null,
   "metadata": {},
   "outputs": [],
   "source": [
    "new_list = []\n",
    "for i in range(0,10):\n",
    "    new_list.append(i*2)\n",
    "    \n",
    "print(new_list)"
   ]
  },
  {
   "cell_type": "code",
   "execution_count": null,
   "metadata": {},
   "outputs": [],
   "source": [
    "i = 0\n",
    "while i < 10:\n",
    "    print(i*2)\n",
    "    # Ojo\n",
    "    # i=i+1"
   ]
  },
  {
   "cell_type": "markdown",
   "metadata": {},
   "source": [
    "- **break** para forzar la salida del bucle\n",
    "- **continue** para saltar una iteracción y seguir con el bucle"
   ]
  },
  {
   "cell_type": "code",
   "execution_count": null,
   "metadata": {},
   "outputs": [],
   "source": [
    "for i in range(10):\n",
    "    if i % 2 == 0:\n",
    "        continue # salta a la siguiente iteración\n",
    "    print(i)"
   ]
  },
  {
   "cell_type": "code",
   "execution_count": null,
   "metadata": {},
   "outputs": [],
   "source": [
    "list = [10,20,30,40]\n",
    "element_to_find = 25\n",
    "\n",
    "# for-else\n",
    "for element in list:\n",
    "    if element == element_to_find:\n",
    "        print(\"found\")\n",
    "        break\n",
    "else:\n",
    "    print(\"not found\")"
   ]
  },
  {
   "cell_type": "markdown",
   "metadata": {},
   "source": [
    "### List comprehesion\n",
    "\n",
    "https://python-course.eu/python3_list_comprehension.php\n",
    "\n",
    "\n",
    "Para generar listas o colecciones.\n",
    "\n",
    "\n",
    "[<expresión1> if <condición\\> else <expresión2> for value in <colección\\>]\n",
    "- __Expresión1 / expresión2__: cada uno de los elementos que conformará la lista\n",
    "- __Condición__: escoge entre expresión1 y expresión2\n",
    "- __for__ loop: generador de la secuencia"
   ]
  },
  {
   "cell_type": "code",
   "execution_count": null,
   "metadata": {},
   "outputs": [],
   "source": [
    "# Crear una lista utilizando un bucle for\n",
    "\n",
    "final_values = []\n",
    "\n",
    "for x in range(1,11):\n",
    "    final_values.append(x**2)\n",
    "    \n",
    "print(final_values)"
   ]
  },
  {
   "cell_type": "code",
   "execution_count": null,
   "metadata": {},
   "outputs": [],
   "source": [
    "# Crear una lista utilizando list comprehension\n",
    "final_values = [x**2 for x in range(1,11)]\n",
    "print(final_values)"
   ]
  },
  {
   "cell_type": "code",
   "execution_count": null,
   "metadata": {},
   "outputs": [],
   "source": [
    "final_values2 = [x**2 if x > 0 else x/2 for x in range(1,11)]\n",
    "print(final_values2)"
   ]
  },
  {
   "cell_type": "markdown",
   "metadata": {},
   "source": [
    "## 5. Funciones\n",
    "\n",
    "Una **función** es un bloque de código que se puede reutilizar varias veces. Para declararla se utiliza la palabra reservada **def**. Los nombres de las funciones siguen las mismas reglas que los nombres de la variables.\n",
    "\n",
    "Se puede hacer que una función retorne más de un valor separándolos por comas.\n",
    "\n",
    "Un **argumento o parámetro** es un valor que se le pasa a la función y se puede usar como variable para operar con él. Los parámetros se asignan al definir la función entre paréntesis, y ese nombre actuará como una variable interna a la función. Una función puede tener argumentos arbitrarios (no se sabe cuántos va a tener). Se reciben como una tupla y se denota con *.\n",
    "\n",
    "La primera línea de la función debería ser una cadena de texto donde se describe qué hace la función, y se conoce como **docstring**. "
   ]
  },
  {
   "cell_type": "code",
   "execution_count": null,
   "metadata": {},
   "outputs": [],
   "source": [
    "def multiplicar(x,y):\n",
    "    # Esta función multiplica los valores que se han introducido.\n",
    "    return x * y\n",
    "\n",
    "print(multiplicar(7,5))"
   ]
  },
  {
   "cell_type": "code",
   "execution_count": null,
   "metadata": {},
   "outputs": [],
   "source": [
    "def power_function(base, exponent):\n",
    "    return pow(base, exponent)\n",
    "\n",
    "print(power_function(3, 4))"
   ]
  },
  {
   "cell_type": "code",
   "execution_count": null,
   "metadata": {},
   "outputs": [],
   "source": [
    "# Argumentos arbitrarios\n",
    "# con *\n",
    "def saludar(*names):\n",
    "    for name in names:\n",
    "        print(\"Hola \" + name)\n",
    "\n",
    "saludar(\"Pepe\", \"Pepa\", \"Juana\", \"Juan\") "
   ]
  },
  {
   "cell_type": "markdown",
   "metadata": {},
   "source": [
    "### Funciones lambda\n",
    "- Para definir funciones anónimas que se declaran en el mismo lugar donde se utilizan\n",
    "- Útiles para pasar una función como argumento a otra"
   ]
  },
  {
   "cell_type": "code",
   "execution_count": null,
   "metadata": {},
   "outputs": [],
   "source": [
    "# Se escriben: lambda <lista de argumentos> : <valor a retornar>\n",
    "\n",
    "\n",
    "cities = ['Valencia', 'Barcelona', 'Madrid']\n",
    "cities.sort(key = lambda x : len(x))\n",
    "print(cities)"
   ]
  },
  {
   "cell_type": "code",
   "execution_count": null,
   "metadata": {},
   "outputs": [],
   "source": [
    "# se puede guardar una referencia para utilización repetida\n",
    "cities = ['Valencia', 'Barcelona', 'Madrid']\n",
    "\n",
    "f = lambda string : len(string)\n",
    "\n",
    "for s in cities:\n",
    "    print(f(s))"
   ]
  },
  {
   "cell_type": "markdown",
   "metadata": {},
   "source": [
    "## 6. Leer y escribir archivos"
   ]
  },
  {
   "cell_type": "code",
   "execution_count": null,
   "metadata": {},
   "outputs": [],
   "source": [
    "# leer de un archivo\n",
    "import os\n",
    "ruta = os.path.join(\"datasets\", \"lista_compra.txt\")\n",
    "fichero = open(ruta)\n",
    "for line in fichero:\n",
    "    print(line)\n",
    "fichero.close()"
   ]
  },
  {
   "cell_type": "code",
   "execution_count": null,
   "metadata": {},
   "outputs": [],
   "source": [
    "# leer de un archivo, a una lista, todo fichero en memoria\n",
    "ruta = os.path.join(\"datasets\", \"ropa.txt\")\n",
    "fichero = open(ruta)\n",
    "lines = fichero.readlines()\n",
    "fichero.close()\n",
    "\n",
    "print(lines)\n",
    "\n",
    "lines = open(ruta).readlines()\n",
    "print(lines)"
   ]
  },
  {
   "cell_type": "code",
   "execution_count": null,
   "metadata": {},
   "outputs": [],
   "source": [
    "# leer de un archivo. Pythonic\n",
    "with open(ruta) as f:\n",
    "    for line in f:\n",
    "        print(line)"
   ]
  },
  {
   "cell_type": "code",
   "execution_count": null,
   "metadata": {},
   "outputs": [],
   "source": [
    "#abrir varios ficheros en el mismo with\n",
    "with open(ruta) as f1, open(ruta) as f2:\n",
    "    print(f1.readlines())\n",
    "    print(f2.readlines())"
   ]
  },
  {
   "cell_type": "code",
   "execution_count": null,
   "metadata": {},
   "outputs": [],
   "source": [
    "# leer todas las líneas de una vez, y eliminar cr\n",
    "with open(ruta) as f:\n",
    "    lines = f.readlines()\n",
    "    print(lines)\n",
    "    \n",
    "    lines_clean = [x.rstrip() for x in lines] # elimina caracter terminación de línea (\\n)\n",
    "    print(lines_clean)"
   ]
  },
  {
   "cell_type": "markdown",
   "metadata": {},
   "source": [
    "#### Elegir entre escritura y lectura con modo de acceso\n",
    "\n",
    "| Modo Acceso | Desc |\n",
    "|:---------|:-----|\n",
    "| r | Solo Lectura |\n",
    "| w | Solo Escritura (Borra si el archivo ya existe) |\n",
    "| x | Solo Escritura (Falla si el archivo ya existe) |\n",
    "| a | Crea Fichero (Si existe lo abre y se añade al final) |\n",
    "| r+ | Lectura y Escritura |\n",
    "| b | Se puede añadir a otros modos para acceso binario\n",
    "| t | Acceso para archivos de texto (default) |"
   ]
  },
  {
   "cell_type": "code",
   "execution_count": null,
   "metadata": {},
   "outputs": [],
   "source": [
    "# escritura a archivo\n",
    "ruta = os.path.join(\"datasets\", \"mi_primer archivo.txt\")\n",
    "with open(ruta,'wt') as f:\n",
    "    f.write('Cabecera\\n')\n",
    "    sequence = [str(x) + '\\n' for x in range(10)] # +cr\n",
    "    f.writelines(sequence)"
   ]
  },
  {
   "cell_type": "code",
   "execution_count": null,
   "metadata": {},
   "outputs": [],
   "source": [
    "# flush\n",
    "import os\n",
    "ruta = os.path.join(\"datasets\", \"o_dummy.txt\")\n",
    "\n",
    "fichero_write = open(ruta, \"wt\")\n",
    "fichero_write.write('foobar')\n",
    "\n",
    "fichero_read = open(ruta, \"rt\")\n",
    "print(fichero_read.readlines())\n",
    "\n",
    "fichero_write.flush()\n",
    "\n",
    "print(fichero_read.readlines())\n",
    "\n",
    "fichero_write.close()\n",
    "fichero_read.close()"
   ]
  },
  {
   "cell_type": "code",
   "execution_count": null,
   "metadata": {},
   "outputs": [],
   "source": [
    "# Tabla1.csv contiene la Tabla 1 del manual, con valores separados por comas (u otro delimitador)\n",
    "import csv\n",
    "ruta = os.path.join(\"datasets\", \"titanic.csv\")\n",
    "f = open(ruta)\n",
    "data_reader = csv.reader(f, delimiter = ',')\n",
    "\n",
    "# copiar los valores de Tabla1\n",
    "ruta_o = os.path.join(\"datasets\", \"o_titanic.csv\")\n",
    "with open(ruta_o, 'w') as f2:\n",
    "    csv_writer = csv.writer(f2, delimiter = '|')\n",
    "    for line in data_reader:\n",
    "        print(line)\n",
    "        csv_writer.writerow(line)\n",
    "        \n",
    "f.close()"
   ]
  },
  {
   "cell_type": "code",
   "execution_count": null,
   "metadata": {},
   "outputs": [],
   "source": []
  },
  {
   "cell_type": "markdown",
   "metadata": {},
   "source": [
    "# Ejercicios"
   ]
  },
  {
   "cell_type": "code",
   "execution_count": null,
   "metadata": {},
   "outputs": [],
   "source": [
    "# Crear ejemplos de las estructuras de datos definidas."
   ]
  },
  {
   "cell_type": "code",
   "execution_count": null,
   "metadata": {},
   "outputs": [],
   "source": [
    "# Hacer operaciones con los distintos operadores."
   ]
  },
  {
   "cell_type": "code",
   "execution_count": null,
   "metadata": {},
   "outputs": [],
   "source": [
    "# Imprimir todos los números pares menores que 100."
   ]
  },
  {
   "cell_type": "code",
   "execution_count": null,
   "metadata": {},
   "outputs": [],
   "source": [
    "# Preguntar por teclado las nostas de las siguientes asignaturas: Matemáticas, Física, Química, Historia y Lengua\n",
    "# Crear un programa que te calcule la media del curso, y te devuelva las asignaturas suspensas a recuperar"
   ]
  },
  {
   "cell_type": "code",
   "execution_count": null,
   "metadata": {},
   "outputs": [],
   "source": [
    "# Con un bucle for generar los números del 1 al 100 y separarlos en dos listas, una para números pares y otra para impares."
   ]
  },
  {
   "cell_type": "code",
   "execution_count": null,
   "metadata": {},
   "outputs": [],
   "source": [
    "# Crear una lista de strings y eliminar los elementos que tengan menos de 4 caracteres."
   ]
  },
  {
   "cell_type": "code",
   "execution_count": null,
   "metadata": {},
   "outputs": [],
   "source": [
    "# Crear un diccionario e imprimir valores y claves."
   ]
  },
  {
   "cell_type": "code",
   "execution_count": null,
   "metadata": {},
   "outputs": [],
   "source": [
    "# Crear una función que dado un número calcule su factorial (5!=5*4*3*2*1)."
   ]
  },
  {
   "cell_type": "code",
   "execution_count": null,
   "metadata": {},
   "outputs": [],
   "source": [
    "# Crear una función que dada una cadena."
   ]
  },
  {
   "cell_type": "code",
   "execution_count": null,
   "metadata": {},
   "outputs": [],
   "source": [
    "# Leer y escribir ficheros de prueba descargados de algún repositorio de open data"
   ]
  },
  {
   "cell_type": "code",
   "execution_count": null,
   "metadata": {},
   "outputs": [],
   "source": []
  }
 ],
 "metadata": {
  "kernelspec": {
   "display_name": "Python 3",
   "language": "python",
   "name": "python3"
  },
  "language_info": {
   "codemirror_mode": {
    "name": "ipython",
    "version": 3
   },
   "file_extension": ".py",
   "mimetype": "text/x-python",
   "name": "python",
   "nbconvert_exporter": "python",
   "pygments_lexer": "ipython3",
   "version": "3.8.8"
  }
 },
 "nbformat": 4,
 "nbformat_minor": 4
}
