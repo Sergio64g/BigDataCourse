{
 "cells": [
  {
   "cell_type": "markdown",
   "id": "63264465",
   "metadata": {
    "id": "63264465"
   },
   "source": [
    "# 1. Examen\n"
   ]
  },
  {
   "cell_type": "markdown",
   "id": "e3a375ae",
   "metadata": {
    "id": "e3a375ae"
   },
   "source": [
    "## Nombre y Apellidos:  Sergio García Ruiz"
   ]
  },
  {
   "cell_type": "code",
   "execution_count": null,
   "id": "12e25b5d",
   "metadata": {
    "id": "12e25b5d"
   },
   "outputs": [],
   "source": [
    "import pandas as pd\n",
    "import numpy as np"
   ]
  },
  {
   "cell_type": "markdown",
   "id": "7a0b5700",
   "metadata": {
    "id": "7a0b5700"
   },
   "source": [
    "# Dataset USA Population\n",
    "\n",
    "**Carga el csv de la población de Estados Unidos, y obtén la siguiente información:**"
   ]
  },
  {
   "cell_type": "code",
   "execution_count": null,
   "id": "96015427",
   "metadata": {
    "id": "96015427",
    "outputId": "b310d02d-9acd-41d0-d5ea-0bc6c712ca90"
   },
   "outputs": [
    {
     "data": {
      "text/html": [
       "<div>\n",
       "<style scoped>\n",
       "    .dataframe tbody tr th:only-of-type {\n",
       "        vertical-align: middle;\n",
       "    }\n",
       "\n",
       "    .dataframe tbody tr th {\n",
       "        vertical-align: top;\n",
       "    }\n",
       "\n",
       "    .dataframe thead th {\n",
       "        text-align: right;\n",
       "    }\n",
       "</style>\n",
       "<table border=\"1\" class=\"dataframe\">\n",
       "  <thead>\n",
       "    <tr style=\"text-align: right;\">\n",
       "      <th></th>\n",
       "      <th>Rank</th>\n",
       "      <th>State</th>\n",
       "      <th>Postal</th>\n",
       "      <th>Population</th>\n",
       "    </tr>\n",
       "  </thead>\n",
       "  <tbody>\n",
       "    <tr>\n",
       "      <th>0</th>\n",
       "      <td>1</td>\n",
       "      <td>Alabama</td>\n",
       "      <td>AL</td>\n",
       "      <td>4849377.0</td>\n",
       "    </tr>\n",
       "    <tr>\n",
       "      <th>1</th>\n",
       "      <td>2</td>\n",
       "      <td>Alaska</td>\n",
       "      <td>AK</td>\n",
       "      <td>736732.0</td>\n",
       "    </tr>\n",
       "    <tr>\n",
       "      <th>2</th>\n",
       "      <td>3</td>\n",
       "      <td>Arizona</td>\n",
       "      <td>AZ</td>\n",
       "      <td>6731484.0</td>\n",
       "    </tr>\n",
       "    <tr>\n",
       "      <th>3</th>\n",
       "      <td>4</td>\n",
       "      <td>Arkansas</td>\n",
       "      <td>AR</td>\n",
       "      <td>2966369.0</td>\n",
       "    </tr>\n",
       "    <tr>\n",
       "      <th>4</th>\n",
       "      <td>5</td>\n",
       "      <td>California</td>\n",
       "      <td>CA</td>\n",
       "      <td>38802500.0</td>\n",
       "    </tr>\n",
       "  </tbody>\n",
       "</table>\n",
       "</div>"
      ],
      "text/plain": [
       "   Rank       State Postal  Population\n",
       "0     1     Alabama     AL   4849377.0\n",
       "1     2      Alaska     AK    736732.0\n",
       "2     3     Arizona     AZ   6731484.0\n",
       "3     4    Arkansas     AR   2966369.0\n",
       "4     5  California     CA  38802500.0"
      ]
     },
     "execution_count": 8,
     "metadata": {},
     "output_type": "execute_result"
    }
   ],
   "source": [
    "population = pd.read_csv('datasets/usa_states_population.csv') # Leer el dataset usa_states_population.csv\n",
    "population.head()"
   ]
  },
  {
   "cell_type": "markdown",
   "id": "3b61a40f",
   "metadata": {
    "id": "3b61a40f"
   },
   "source": [
    "### 1. Imprime los cinco estados más poblados de Estados Unidos"
   ]
  },
  {
   "cell_type": "code",
   "execution_count": null,
   "id": "3be9473b",
   "metadata": {
    "id": "3be9473b",
    "outputId": "04ce212a-a045-41fc-9e7b-94d76b917563"
   },
   "outputs": [
    {
     "data": {
      "text/plain": [
       "4     California\n",
       "44         Texas\n",
       "9        Florida\n",
       "32      New York\n",
       "13      Illinois\n",
       "Name: State, dtype: object"
      ]
     },
     "execution_count": 20,
     "metadata": {},
     "output_type": "execute_result"
    }
   ],
   "source": [
    "population.sort_values(ascending=False, by = \"Population\")['State'].head(5) # Ordenar por 'population' y sacar los 5 primeros estados"
   ]
  },
  {
   "cell_type": "markdown",
   "id": "547aa438",
   "metadata": {
    "id": "547aa438"
   },
   "source": [
    "### 2. Imprime los cinco estados menos poblados de Estados Unidos"
   ]
  },
  {
   "cell_type": "code",
   "execution_count": null,
   "id": "941c1850",
   "metadata": {
    "id": "941c1850",
    "outputId": "1c8ef571-feb4-4f93-f480-a1309c6d82bb"
   },
   "outputs": [
    {
     "data": {
      "text/plain": [
       "51                 Wyoming\n",
       "46                 Vermont\n",
       "8     District of Columbia\n",
       "1                   Alaska\n",
       "34            North Dakota\n",
       "Name: State, dtype: object"
      ]
     },
     "execution_count": 24,
     "metadata": {},
     "output_type": "execute_result"
    }
   ],
   "source": [
    "population.sort_values(ascending=True, by = \"Population\")['State'].head(5) # Ordenar por 'population' y sacar los 5 primeros estado"
   ]
  },
  {
   "cell_type": "markdown",
   "id": "7b016cf2",
   "metadata": {
    "id": "7b016cf2"
   },
   "source": [
    "### 3. Imprime los estados de Estados Unidos que tengan menos de un millón de habitantes"
   ]
  },
  {
   "cell_type": "code",
   "execution_count": null,
   "id": "7b168664",
   "metadata": {
    "id": "7b168664",
    "outputId": "fd9d4803-42dc-437b-8efc-88d5b154f116"
   },
   "outputs": [
    {
     "data": {
      "text/html": [
       "<div>\n",
       "<style scoped>\n",
       "    .dataframe tbody tr th:only-of-type {\n",
       "        vertical-align: middle;\n",
       "    }\n",
       "\n",
       "    .dataframe tbody tr th {\n",
       "        vertical-align: top;\n",
       "    }\n",
       "\n",
       "    .dataframe thead th {\n",
       "        text-align: right;\n",
       "    }\n",
       "</style>\n",
       "<table border=\"1\" class=\"dataframe\">\n",
       "  <thead>\n",
       "    <tr style=\"text-align: right;\">\n",
       "      <th></th>\n",
       "      <th>Rank</th>\n",
       "      <th>State</th>\n",
       "      <th>Postal</th>\n",
       "      <th>Population</th>\n",
       "    </tr>\n",
       "  </thead>\n",
       "  <tbody>\n",
       "    <tr>\n",
       "      <th>0</th>\n",
       "      <td>1</td>\n",
       "      <td>Alabama</td>\n",
       "      <td>AL</td>\n",
       "      <td>4849377.0</td>\n",
       "    </tr>\n",
       "    <tr>\n",
       "      <th>2</th>\n",
       "      <td>3</td>\n",
       "      <td>Arizona</td>\n",
       "      <td>AZ</td>\n",
       "      <td>6731484.0</td>\n",
       "    </tr>\n",
       "    <tr>\n",
       "      <th>3</th>\n",
       "      <td>4</td>\n",
       "      <td>Arkansas</td>\n",
       "      <td>AR</td>\n",
       "      <td>2966369.0</td>\n",
       "    </tr>\n",
       "    <tr>\n",
       "      <th>4</th>\n",
       "      <td>5</td>\n",
       "      <td>California</td>\n",
       "      <td>CA</td>\n",
       "      <td>38802500.0</td>\n",
       "    </tr>\n",
       "    <tr>\n",
       "      <th>5</th>\n",
       "      <td>6</td>\n",
       "      <td>Colorado</td>\n",
       "      <td>CO</td>\n",
       "      <td>5355866.0</td>\n",
       "    </tr>\n",
       "    <tr>\n",
       "      <th>6</th>\n",
       "      <td>7</td>\n",
       "      <td>Connecticut</td>\n",
       "      <td>CT</td>\n",
       "      <td>3596677.0</td>\n",
       "    </tr>\n",
       "    <tr>\n",
       "      <th>9</th>\n",
       "      <td>10</td>\n",
       "      <td>Florida</td>\n",
       "      <td>FL</td>\n",
       "      <td>19893297.0</td>\n",
       "    </tr>\n",
       "    <tr>\n",
       "      <th>10</th>\n",
       "      <td>11</td>\n",
       "      <td>Georgia</td>\n",
       "      <td>GA</td>\n",
       "      <td>10097343.0</td>\n",
       "    </tr>\n",
       "    <tr>\n",
       "      <th>11</th>\n",
       "      <td>12</td>\n",
       "      <td>Hawaii</td>\n",
       "      <td>HI</td>\n",
       "      <td>1419561.0</td>\n",
       "    </tr>\n",
       "    <tr>\n",
       "      <th>12</th>\n",
       "      <td>13</td>\n",
       "      <td>Idaho</td>\n",
       "      <td>ID</td>\n",
       "      <td>1634464.0</td>\n",
       "    </tr>\n",
       "    <tr>\n",
       "      <th>13</th>\n",
       "      <td>14</td>\n",
       "      <td>Illinois</td>\n",
       "      <td>IL</td>\n",
       "      <td>12880580.0</td>\n",
       "    </tr>\n",
       "    <tr>\n",
       "      <th>14</th>\n",
       "      <td>15</td>\n",
       "      <td>Indiana</td>\n",
       "      <td>IN</td>\n",
       "      <td>6596855.0</td>\n",
       "    </tr>\n",
       "    <tr>\n",
       "      <th>15</th>\n",
       "      <td>16</td>\n",
       "      <td>Iowa</td>\n",
       "      <td>IA</td>\n",
       "      <td>3107126.0</td>\n",
       "    </tr>\n",
       "    <tr>\n",
       "      <th>16</th>\n",
       "      <td>17</td>\n",
       "      <td>Kansas</td>\n",
       "      <td>KS</td>\n",
       "      <td>2904021.0</td>\n",
       "    </tr>\n",
       "    <tr>\n",
       "      <th>17</th>\n",
       "      <td>18</td>\n",
       "      <td>Kentucky</td>\n",
       "      <td>KY</td>\n",
       "      <td>4413457.0</td>\n",
       "    </tr>\n",
       "    <tr>\n",
       "      <th>18</th>\n",
       "      <td>19</td>\n",
       "      <td>Louisiana</td>\n",
       "      <td>LA</td>\n",
       "      <td>4649676.0</td>\n",
       "    </tr>\n",
       "    <tr>\n",
       "      <th>19</th>\n",
       "      <td>20</td>\n",
       "      <td>Maine</td>\n",
       "      <td>ME</td>\n",
       "      <td>1330089.0</td>\n",
       "    </tr>\n",
       "    <tr>\n",
       "      <th>20</th>\n",
       "      <td>21</td>\n",
       "      <td>Maryland</td>\n",
       "      <td>MD</td>\n",
       "      <td>5976407.0</td>\n",
       "    </tr>\n",
       "    <tr>\n",
       "      <th>21</th>\n",
       "      <td>22</td>\n",
       "      <td>Massachusetts</td>\n",
       "      <td>MA</td>\n",
       "      <td>6745408.0</td>\n",
       "    </tr>\n",
       "    <tr>\n",
       "      <th>22</th>\n",
       "      <td>23</td>\n",
       "      <td>Michigan</td>\n",
       "      <td>MI</td>\n",
       "      <td>9909877.0</td>\n",
       "    </tr>\n",
       "    <tr>\n",
       "      <th>23</th>\n",
       "      <td>24</td>\n",
       "      <td>Minnesota</td>\n",
       "      <td>MN</td>\n",
       "      <td>5457173.0</td>\n",
       "    </tr>\n",
       "    <tr>\n",
       "      <th>24</th>\n",
       "      <td>25</td>\n",
       "      <td>Mississippi</td>\n",
       "      <td>MS</td>\n",
       "      <td>2994079.0</td>\n",
       "    </tr>\n",
       "    <tr>\n",
       "      <th>25</th>\n",
       "      <td>26</td>\n",
       "      <td>Missouri</td>\n",
       "      <td>MO</td>\n",
       "      <td>6063589.0</td>\n",
       "    </tr>\n",
       "    <tr>\n",
       "      <th>26</th>\n",
       "      <td>27</td>\n",
       "      <td>Montana</td>\n",
       "      <td>MT</td>\n",
       "      <td>1023579.0</td>\n",
       "    </tr>\n",
       "    <tr>\n",
       "      <th>27</th>\n",
       "      <td>28</td>\n",
       "      <td>Nebraska</td>\n",
       "      <td>NE</td>\n",
       "      <td>1881503.0</td>\n",
       "    </tr>\n",
       "    <tr>\n",
       "      <th>28</th>\n",
       "      <td>29</td>\n",
       "      <td>Nevada</td>\n",
       "      <td>NV</td>\n",
       "      <td>2839098.0</td>\n",
       "    </tr>\n",
       "    <tr>\n",
       "      <th>29</th>\n",
       "      <td>30</td>\n",
       "      <td>New Hampshire</td>\n",
       "      <td>NH</td>\n",
       "      <td>1326813.0</td>\n",
       "    </tr>\n",
       "    <tr>\n",
       "      <th>30</th>\n",
       "      <td>31</td>\n",
       "      <td>New Jersey</td>\n",
       "      <td>NJ</td>\n",
       "      <td>8938175.0</td>\n",
       "    </tr>\n",
       "    <tr>\n",
       "      <th>31</th>\n",
       "      <td>32</td>\n",
       "      <td>New Mexico</td>\n",
       "      <td>NM</td>\n",
       "      <td>2085572.0</td>\n",
       "    </tr>\n",
       "    <tr>\n",
       "      <th>32</th>\n",
       "      <td>33</td>\n",
       "      <td>New York</td>\n",
       "      <td>NY</td>\n",
       "      <td>19746227.0</td>\n",
       "    </tr>\n",
       "    <tr>\n",
       "      <th>33</th>\n",
       "      <td>34</td>\n",
       "      <td>North Carolina</td>\n",
       "      <td>NC</td>\n",
       "      <td>9943964.0</td>\n",
       "    </tr>\n",
       "    <tr>\n",
       "      <th>35</th>\n",
       "      <td>36</td>\n",
       "      <td>Ohio</td>\n",
       "      <td>OH</td>\n",
       "      <td>11594163.0</td>\n",
       "    </tr>\n",
       "    <tr>\n",
       "      <th>36</th>\n",
       "      <td>37</td>\n",
       "      <td>Oklahoma</td>\n",
       "      <td>OK</td>\n",
       "      <td>3878051.0</td>\n",
       "    </tr>\n",
       "    <tr>\n",
       "      <th>37</th>\n",
       "      <td>38</td>\n",
       "      <td>Oregon</td>\n",
       "      <td>OR</td>\n",
       "      <td>3970239.0</td>\n",
       "    </tr>\n",
       "    <tr>\n",
       "      <th>38</th>\n",
       "      <td>39</td>\n",
       "      <td>Pennsylvania</td>\n",
       "      <td>PA</td>\n",
       "      <td>12787209.0</td>\n",
       "    </tr>\n",
       "    <tr>\n",
       "      <th>39</th>\n",
       "      <td>40</td>\n",
       "      <td>Puerto Rico</td>\n",
       "      <td>PR</td>\n",
       "      <td>3548397.0</td>\n",
       "    </tr>\n",
       "    <tr>\n",
       "      <th>40</th>\n",
       "      <td>41</td>\n",
       "      <td>Rhode Island</td>\n",
       "      <td>RI</td>\n",
       "      <td>1055173.0</td>\n",
       "    </tr>\n",
       "    <tr>\n",
       "      <th>41</th>\n",
       "      <td>42</td>\n",
       "      <td>South Carolina</td>\n",
       "      <td>SC</td>\n",
       "      <td>4832482.0</td>\n",
       "    </tr>\n",
       "    <tr>\n",
       "      <th>43</th>\n",
       "      <td>44</td>\n",
       "      <td>Tennessee</td>\n",
       "      <td>TN</td>\n",
       "      <td>6549352.0</td>\n",
       "    </tr>\n",
       "    <tr>\n",
       "      <th>44</th>\n",
       "      <td>45</td>\n",
       "      <td>Texas</td>\n",
       "      <td>TX</td>\n",
       "      <td>26956958.0</td>\n",
       "    </tr>\n",
       "    <tr>\n",
       "      <th>45</th>\n",
       "      <td>46</td>\n",
       "      <td>Utah</td>\n",
       "      <td>UT</td>\n",
       "      <td>2942902.0</td>\n",
       "    </tr>\n",
       "    <tr>\n",
       "      <th>47</th>\n",
       "      <td>48</td>\n",
       "      <td>Virginia</td>\n",
       "      <td>VA</td>\n",
       "      <td>8326289.0</td>\n",
       "    </tr>\n",
       "    <tr>\n",
       "      <th>48</th>\n",
       "      <td>49</td>\n",
       "      <td>Washington</td>\n",
       "      <td>WA</td>\n",
       "      <td>7061530.0</td>\n",
       "    </tr>\n",
       "    <tr>\n",
       "      <th>49</th>\n",
       "      <td>50</td>\n",
       "      <td>West Virginia</td>\n",
       "      <td>WV</td>\n",
       "      <td>1850326.0</td>\n",
       "    </tr>\n",
       "    <tr>\n",
       "      <th>50</th>\n",
       "      <td>51</td>\n",
       "      <td>Wisconsin</td>\n",
       "      <td>WI</td>\n",
       "      <td>5757564.0</td>\n",
       "    </tr>\n",
       "  </tbody>\n",
       "</table>\n",
       "</div>"
      ],
      "text/plain": [
       "    Rank           State Postal  Population\n",
       "0      1         Alabama     AL   4849377.0\n",
       "2      3         Arizona     AZ   6731484.0\n",
       "3      4        Arkansas     AR   2966369.0\n",
       "4      5      California     CA  38802500.0\n",
       "5      6        Colorado     CO   5355866.0\n",
       "6      7     Connecticut     CT   3596677.0\n",
       "9     10         Florida     FL  19893297.0\n",
       "10    11         Georgia     GA  10097343.0\n",
       "11    12          Hawaii     HI   1419561.0\n",
       "12    13           Idaho     ID   1634464.0\n",
       "13    14        Illinois     IL  12880580.0\n",
       "14    15         Indiana     IN   6596855.0\n",
       "15    16            Iowa     IA   3107126.0\n",
       "16    17          Kansas     KS   2904021.0\n",
       "17    18        Kentucky     KY   4413457.0\n",
       "18    19       Louisiana     LA   4649676.0\n",
       "19    20           Maine     ME   1330089.0\n",
       "20    21        Maryland     MD   5976407.0\n",
       "21    22   Massachusetts     MA   6745408.0\n",
       "22    23        Michigan     MI   9909877.0\n",
       "23    24       Minnesota     MN   5457173.0\n",
       "24    25     Mississippi     MS   2994079.0\n",
       "25    26        Missouri     MO   6063589.0\n",
       "26    27         Montana     MT   1023579.0\n",
       "27    28        Nebraska     NE   1881503.0\n",
       "28    29          Nevada     NV   2839098.0\n",
       "29    30   New Hampshire     NH   1326813.0\n",
       "30    31      New Jersey     NJ   8938175.0\n",
       "31    32      New Mexico     NM   2085572.0\n",
       "32    33        New York     NY  19746227.0\n",
       "33    34  North Carolina     NC   9943964.0\n",
       "35    36            Ohio     OH  11594163.0\n",
       "36    37        Oklahoma     OK   3878051.0\n",
       "37    38          Oregon     OR   3970239.0\n",
       "38    39    Pennsylvania     PA  12787209.0\n",
       "39    40     Puerto Rico     PR   3548397.0\n",
       "40    41    Rhode Island     RI   1055173.0\n",
       "41    42  South Carolina     SC   4832482.0\n",
       "43    44       Tennessee     TN   6549352.0\n",
       "44    45           Texas     TX  26956958.0\n",
       "45    46            Utah     UT   2942902.0\n",
       "47    48        Virginia     VA   8326289.0\n",
       "48    49      Washington     WA   7061530.0\n",
       "49    50   West Virginia     WV   1850326.0\n",
       "50    51       Wisconsin     WI   5757564.0"
      ]
     },
     "execution_count": 28,
     "metadata": {},
     "output_type": "execute_result"
    }
   ],
   "source": [
    "populationM = population[population['Population'] > 1000000] # Crear una mascara para 'population' mayor de 1000000\n",
    "populationM"
   ]
  },
  {
   "cell_type": "markdown",
   "id": "d5d56797",
   "metadata": {},
   "source": [
    "**Comentario:** se pedía mostrar los estados con menos de un millón de habitantes, y estás mostrando los que tienen más de uno. El error está en la desigualdad, pero al printear los resultados se ve claramente que no es lo que se está pidiendo."
   ]
  },
  {
   "cell_type": "markdown",
   "id": "2cc5d3b3",
   "metadata": {
    "id": "2cc5d3b3"
   },
   "source": [
    "# Dataset Medals\n",
    "\n",
    "**Carga el dataset de las medallas olímpicas y obtén la siguiente información:**"
   ]
  },
  {
   "cell_type": "code",
   "execution_count": null,
   "id": "0a826b3b",
   "metadata": {
    "id": "0a826b3b",
    "outputId": "5c90af12-f37b-4c82-fa9a-91266cba038b"
   },
   "outputs": [
    {
     "data": {
      "text/html": [
       "<div>\n",
       "<style scoped>\n",
       "    .dataframe tbody tr th:only-of-type {\n",
       "        vertical-align: middle;\n",
       "    }\n",
       "\n",
       "    .dataframe tbody tr th {\n",
       "        vertical-align: top;\n",
       "    }\n",
       "\n",
       "    .dataframe thead th {\n",
       "        text-align: right;\n",
       "    }\n",
       "</style>\n",
       "<table border=\"1\" class=\"dataframe\">\n",
       "  <thead>\n",
       "    <tr style=\"text-align: right;\">\n",
       "      <th></th>\n",
       "      <th>Athlete</th>\n",
       "      <th>Age</th>\n",
       "      <th>Year</th>\n",
       "      <th>Closing Ceremony Date</th>\n",
       "      <th>Gold Medals</th>\n",
       "      <th>Silver Medals</th>\n",
       "      <th>Bronze Medals</th>\n",
       "    </tr>\n",
       "  </thead>\n",
       "  <tbody>\n",
       "    <tr>\n",
       "      <th>0</th>\n",
       "      <td>Michael Phelps</td>\n",
       "      <td>23.0</td>\n",
       "      <td>2008</td>\n",
       "      <td>08/24/2008</td>\n",
       "      <td>8</td>\n",
       "      <td>0</td>\n",
       "      <td>0</td>\n",
       "    </tr>\n",
       "    <tr>\n",
       "      <th>1</th>\n",
       "      <td>Michael Phelps</td>\n",
       "      <td>19.0</td>\n",
       "      <td>2004</td>\n",
       "      <td>08/29/2004</td>\n",
       "      <td>6</td>\n",
       "      <td>0</td>\n",
       "      <td>2</td>\n",
       "    </tr>\n",
       "    <tr>\n",
       "      <th>2</th>\n",
       "      <td>Michael Phelps</td>\n",
       "      <td>27.0</td>\n",
       "      <td>2012</td>\n",
       "      <td>08/12/2012</td>\n",
       "      <td>4</td>\n",
       "      <td>2</td>\n",
       "      <td>0</td>\n",
       "    </tr>\n",
       "    <tr>\n",
       "      <th>3</th>\n",
       "      <td>Natalie Coughlin</td>\n",
       "      <td>25.0</td>\n",
       "      <td>2008</td>\n",
       "      <td>08/24/2008</td>\n",
       "      <td>1</td>\n",
       "      <td>2</td>\n",
       "      <td>3</td>\n",
       "    </tr>\n",
       "    <tr>\n",
       "      <th>4</th>\n",
       "      <td>Aleksey Nemov</td>\n",
       "      <td>24.0</td>\n",
       "      <td>2000</td>\n",
       "      <td>10/01/2000</td>\n",
       "      <td>2</td>\n",
       "      <td>1</td>\n",
       "      <td>3</td>\n",
       "    </tr>\n",
       "    <tr>\n",
       "      <th>5</th>\n",
       "      <td>Alicia Coutts</td>\n",
       "      <td>24.0</td>\n",
       "      <td>2012</td>\n",
       "      <td>08/12/2012</td>\n",
       "      <td>1</td>\n",
       "      <td>3</td>\n",
       "      <td>1</td>\n",
       "    </tr>\n",
       "    <tr>\n",
       "      <th>6</th>\n",
       "      <td>Missy Franklin</td>\n",
       "      <td>17.0</td>\n",
       "      <td>2012</td>\n",
       "      <td>08/12/2012</td>\n",
       "      <td>4</td>\n",
       "      <td>0</td>\n",
       "      <td>1</td>\n",
       "    </tr>\n",
       "    <tr>\n",
       "      <th>7</th>\n",
       "      <td>Ryan Lochte</td>\n",
       "      <td>27.0</td>\n",
       "      <td>2012</td>\n",
       "      <td>08/12/2012</td>\n",
       "      <td>2</td>\n",
       "      <td>2</td>\n",
       "      <td>1</td>\n",
       "    </tr>\n",
       "    <tr>\n",
       "      <th>8</th>\n",
       "      <td>Allison Schmitt</td>\n",
       "      <td>22.0</td>\n",
       "      <td>2012</td>\n",
       "      <td>08/12/2012</td>\n",
       "      <td>3</td>\n",
       "      <td>1</td>\n",
       "      <td>1</td>\n",
       "    </tr>\n",
       "    <tr>\n",
       "      <th>9</th>\n",
       "      <td>Natalie Coughlin</td>\n",
       "      <td>21.0</td>\n",
       "      <td>2004</td>\n",
       "      <td>08/29/2004</td>\n",
       "      <td>2</td>\n",
       "      <td>2</td>\n",
       "      <td>1</td>\n",
       "    </tr>\n",
       "  </tbody>\n",
       "</table>\n",
       "</div>"
      ],
      "text/plain": [
       "            Athlete   Age  Year Closing Ceremony Date  Gold Medals  \\\n",
       "0    Michael Phelps  23.0  2008            08/24/2008            8   \n",
       "1    Michael Phelps  19.0  2004            08/29/2004            6   \n",
       "2    Michael Phelps  27.0  2012            08/12/2012            4   \n",
       "3  Natalie Coughlin  25.0  2008            08/24/2008            1   \n",
       "4     Aleksey Nemov  24.0  2000            10/01/2000            2   \n",
       "5     Alicia Coutts  24.0  2012            08/12/2012            1   \n",
       "6    Missy Franklin  17.0  2012            08/12/2012            4   \n",
       "7       Ryan Lochte  27.0  2012            08/12/2012            2   \n",
       "8   Allison Schmitt  22.0  2012            08/12/2012            3   \n",
       "9  Natalie Coughlin  21.0  2004            08/29/2004            2   \n",
       "\n",
       "   Silver Medals  Bronze Medals  \n",
       "0              0              0  \n",
       "1              0              2  \n",
       "2              2              0  \n",
       "3              2              3  \n",
       "4              1              3  \n",
       "5              3              1  \n",
       "6              0              1  \n",
       "7              2              1  \n",
       "8              1              1  \n",
       "9              2              1  "
      ]
     },
     "execution_count": 43,
     "metadata": {},
     "output_type": "execute_result"
    }
   ],
   "source": [
    "medals = pd.read_csv('datasets/Medals.csv', delimiter = \";\", encoding = \"unicode_escape\") # Leer el dataset uMedals.csv separando por ';'\n",
    "medals.head(10)"
   ]
  },
  {
   "cell_type": "markdown",
   "id": "b761d686",
   "metadata": {
    "id": "b761d686"
   },
   "source": [
    "### 4. ¿Quién es el atleta con más MEDALLAS DE ORO y cuántas tiene? "
   ]
  },
  {
   "cell_type": "code",
   "execution_count": null,
   "id": "0f7dfd4b",
   "metadata": {
    "id": "0f7dfd4b",
    "outputId": "a7e42ac6-2edc-48be-987b-2a771b2a58e8"
   },
   "outputs": [
    {
     "data": {
      "text/plain": [
       "0    Michael Phelps\n",
       "Name: Athlete, dtype: object"
      ]
     },
     "execution_count": 44,
     "metadata": {},
     "output_type": "execute_result"
    }
   ],
   "source": [
    "medals.sort_values(ascending=False, by = \"Gold Medals\")['Athlete'].head(1) # Ordenar por 'Gold Medals' y sacar el primer valor"
   ]
  },
  {
   "cell_type": "markdown",
   "id": "8e5da6f2",
   "metadata": {},
   "source": [
    "**Comentario:** está bien, pero te falta imprimir el número de medallas de oro que tiene."
   ]
  },
  {
   "cell_type": "markdown",
   "id": "bbdff900",
   "metadata": {
    "id": "bbdff900"
   },
   "source": [
    "### 5. ¿Quién es el atleta con más medallas EN TOTAL y cuántas tiene?"
   ]
  },
  {
   "cell_type": "code",
   "execution_count": null,
   "id": "2202add6",
   "metadata": {
    "id": "2202add6"
   },
   "outputs": [],
   "source": [
    "medals['total_medals'] = medals['Gold Medals'] + medals['Silver Medals'] + medals['Bronze Medals'] #Sumar todas las medallas"
   ]
  },
  {
   "cell_type": "code",
   "execution_count": null,
   "id": "520303f9-1632-41aa-8d19-6f7c3a9c32b7",
   "metadata": {
    "id": "520303f9-1632-41aa-8d19-6f7c3a9c32b7",
    "outputId": "fa1e4a8d-f561-44b0-fad0-ed8b262cd1db"
   },
   "outputs": [
    {
     "data": {
      "text/plain": [
       "Athlete\n",
       "Michael Phelps    8\n",
       "Name: total_medals, dtype: int64"
      ]
     },
     "execution_count": 102,
     "metadata": {},
     "output_type": "execute_result"
    }
   ],
   "source": [
    "medals.groupby(['Athlete'], sort=False)['total_medals'].max().head(1) # Argupar por 'Athlete' porque salen varias veces y sacar el que tiene más medallas"
   ]
  },
  {
   "cell_type": "markdown",
   "id": "06885a6f",
   "metadata": {},
   "source": [
    "**Comentario:** el resultado es Michael Phelps, pero ojo pide medallas en total, que son 22. Esto es porque tras agrupar, estás quedándote con el valor máximo en lugar de la suma de todos ellos."
   ]
  },
  {
   "cell_type": "markdown",
   "id": "e4c3cc1b",
   "metadata": {
    "id": "e4c3cc1b"
   },
   "source": [
    "### 6. ¿Quiénes fueron los TRES atletas que más medallas obtuvieron en 2002?"
   ]
  },
  {
   "cell_type": "code",
   "execution_count": null,
   "id": "179f38de-5128-429c-96f6-0e1fe93d4ab6",
   "metadata": {
    "id": "179f38de-5128-429c-96f6-0e1fe93d4ab6",
    "outputId": "b211d66b-6e2e-4ecb-8a9e-a7f70035ed23"
   },
   "outputs": [
    {
     "data": {
      "text/html": [
       "<div>\n",
       "<style scoped>\n",
       "    .dataframe tbody tr th:only-of-type {\n",
       "        vertical-align: middle;\n",
       "    }\n",
       "\n",
       "    .dataframe tbody tr th {\n",
       "        vertical-align: top;\n",
       "    }\n",
       "\n",
       "    .dataframe thead th {\n",
       "        text-align: right;\n",
       "    }\n",
       "</style>\n",
       "<table border=\"1\" class=\"dataframe\">\n",
       "  <thead>\n",
       "    <tr style=\"text-align: right;\">\n",
       "      <th></th>\n",
       "      <th>Athlete</th>\n",
       "      <th>Age</th>\n",
       "      <th>Year</th>\n",
       "      <th>Closing Ceremony Date</th>\n",
       "      <th>Gold Medals</th>\n",
       "      <th>Silver Medals</th>\n",
       "      <th>Bronze Medals</th>\n",
       "      <th>total_medals</th>\n",
       "    </tr>\n",
       "  </thead>\n",
       "  <tbody>\n",
       "    <tr>\n",
       "      <th>34</th>\n",
       "      <td>Ole Einar Bjørndalen</td>\n",
       "      <td>28.0</td>\n",
       "      <td>2002</td>\n",
       "      <td>02/24/2002</td>\n",
       "      <td>4</td>\n",
       "      <td>0</td>\n",
       "      <td>0</td>\n",
       "      <td>4</td>\n",
       "    </tr>\n",
       "    <tr>\n",
       "      <th>35</th>\n",
       "      <td>Janica Kostelic</td>\n",
       "      <td>20.0</td>\n",
       "      <td>2002</td>\n",
       "      <td>02/24/2002</td>\n",
       "      <td>3</td>\n",
       "      <td>1</td>\n",
       "      <td>0</td>\n",
       "      <td>4</td>\n",
       "    </tr>\n",
       "    <tr>\n",
       "      <th>93</th>\n",
       "      <td>Marc Gagnon</td>\n",
       "      <td>26.0</td>\n",
       "      <td>2002</td>\n",
       "      <td>02/24/2002</td>\n",
       "      <td>2</td>\n",
       "      <td>0</td>\n",
       "      <td>1</td>\n",
       "      <td>3</td>\n",
       "    </tr>\n",
       "    <tr>\n",
       "      <th>94</th>\n",
       "      <td>Yang Yang (A)</td>\n",
       "      <td>25.0</td>\n",
       "      <td>2002</td>\n",
       "      <td>02/24/2002</td>\n",
       "      <td>2</td>\n",
       "      <td>1</td>\n",
       "      <td>0</td>\n",
       "      <td>3</td>\n",
       "    </tr>\n",
       "    <tr>\n",
       "      <th>99</th>\n",
       "      <td>Jochem Uytdehaage</td>\n",
       "      <td>25.0</td>\n",
       "      <td>2002</td>\n",
       "      <td>02/24/2002</td>\n",
       "      <td>2</td>\n",
       "      <td>1</td>\n",
       "      <td>0</td>\n",
       "      <td>3</td>\n",
       "    </tr>\n",
       "    <tr>\n",
       "      <th>...</th>\n",
       "      <td>...</td>\n",
       "      <td>...</td>\n",
       "      <td>...</td>\n",
       "      <td>...</td>\n",
       "      <td>...</td>\n",
       "      <td>...</td>\n",
       "      <td>...</td>\n",
       "      <td>...</td>\n",
       "    </tr>\n",
       "    <tr>\n",
       "      <th>8541</th>\n",
       "      <td>Laure Pequegnot</td>\n",
       "      <td>26.0</td>\n",
       "      <td>2002</td>\n",
       "      <td>02/24/2002</td>\n",
       "      <td>0</td>\n",
       "      <td>1</td>\n",
       "      <td>0</td>\n",
       "      <td>1</td>\n",
       "    </tr>\n",
       "    <tr>\n",
       "      <th>8542</th>\n",
       "      <td>Karen Putzer</td>\n",
       "      <td>23.0</td>\n",
       "      <td>2002</td>\n",
       "      <td>02/24/2002</td>\n",
       "      <td>0</td>\n",
       "      <td>0</td>\n",
       "      <td>1</td>\n",
       "      <td>1</td>\n",
       "    </tr>\n",
       "    <tr>\n",
       "      <th>8543</th>\n",
       "      <td>Andreas Schifferer</td>\n",
       "      <td>27.0</td>\n",
       "      <td>2002</td>\n",
       "      <td>02/24/2002</td>\n",
       "      <td>0</td>\n",
       "      <td>0</td>\n",
       "      <td>1</td>\n",
       "      <td>1</td>\n",
       "    </tr>\n",
       "    <tr>\n",
       "      <th>8544</th>\n",
       "      <td>Fritz Strobl</td>\n",
       "      <td>29.0</td>\n",
       "      <td>2002</td>\n",
       "      <td>02/24/2002</td>\n",
       "      <td>1</td>\n",
       "      <td>0</td>\n",
       "      <td>0</td>\n",
       "      <td>1</td>\n",
       "    </tr>\n",
       "    <tr>\n",
       "      <th>8545</th>\n",
       "      <td>Jean-Pierre Vidal</td>\n",
       "      <td>24.0</td>\n",
       "      <td>2002</td>\n",
       "      <td>02/24/2002</td>\n",
       "      <td>1</td>\n",
       "      <td>0</td>\n",
       "      <td>0</td>\n",
       "      <td>1</td>\n",
       "    </tr>\n",
       "  </tbody>\n",
       "</table>\n",
       "<p>407 rows × 8 columns</p>\n",
       "</div>"
      ],
      "text/plain": [
       "                   Athlete   Age  Year Closing Ceremony Date  Gold Medals  \\\n",
       "34    Ole Einar Bjørndalen  28.0  2002            02/24/2002            4   \n",
       "35         Janica Kostelic  20.0  2002            02/24/2002            3   \n",
       "93             Marc Gagnon  26.0  2002            02/24/2002            2   \n",
       "94           Yang Yang (A)  25.0  2002            02/24/2002            2   \n",
       "99       Jochem Uytdehaage  25.0  2002            02/24/2002            2   \n",
       "...                    ...   ...   ...                   ...          ...   \n",
       "8541       Laure Pequegnot  26.0  2002            02/24/2002            0   \n",
       "8542          Karen Putzer  23.0  2002            02/24/2002            0   \n",
       "8543    Andreas Schifferer  27.0  2002            02/24/2002            0   \n",
       "8544          Fritz Strobl  29.0  2002            02/24/2002            1   \n",
       "8545     Jean-Pierre Vidal  24.0  2002            02/24/2002            1   \n",
       "\n",
       "      Silver Medals  Bronze Medals  total_medals  \n",
       "34                0              0             4  \n",
       "35                1              0             4  \n",
       "93                0              1             3  \n",
       "94                1              0             3  \n",
       "99                1              0             3  \n",
       "...             ...            ...           ...  \n",
       "8541              1              0             1  \n",
       "8542              0              1             1  \n",
       "8543              0              1             1  \n",
       "8544              0              0             1  \n",
       "8545              0              0             1  \n",
       "\n",
       "[407 rows x 8 columns]"
      ]
     },
     "execution_count": 107,
     "metadata": {},
     "output_type": "execute_result"
    }
   ],
   "source": [
    "medals2002 = medals[medals[\"Closing Ceremony Date\"].str.contains(\"2002\")] # Crear una máscara para las ceremonias de 2002\n",
    "medals2002"
   ]
  },
  {
   "cell_type": "code",
   "execution_count": null,
   "id": "6c7e387d",
   "metadata": {
    "id": "6c7e387d",
    "outputId": "eb871a7d-9527-4eac-d403-d7ed7a857709"
   },
   "outputs": [
    {
     "data": {
      "text/plain": [
       "Athlete\n",
       "Ole Einar Bjørndalen    4\n",
       "Janica Kostelic         4\n",
       "Marc Gagnon             3\n",
       "Name: total_medals, dtype: int64"
      ]
     },
     "execution_count": 108,
     "metadata": {},
     "output_type": "execute_result"
    }
   ],
   "source": [
    "medals2002.groupby(['Athlete'], sort=False)['total_medals'].max().head(3) # Argupar por 'Athlete' porque salen varias veces y sacar los 3 que tienen más medallas"
   ]
  },
  {
   "cell_type": "markdown",
   "id": "b090028a",
   "metadata": {
    "id": "b090028a"
   },
   "source": [
    "# Pandas & Numpy"
   ]
  },
  {
   "cell_type": "markdown",
   "id": "c740c056",
   "metadata": {
    "id": "c740c056"
   },
   "source": [
    "### 7. Dados dos df, imprimir aquellos empleados que ganan más que la media de su sector"
   ]
  },
  {
   "cell_type": "code",
   "execution_count": null,
   "id": "a43c1b58",
   "metadata": {
    "id": "a43c1b58"
   },
   "outputs": [],
   "source": [
    "empleados = pd.DataFrame([[\"Maria\",20,25000,'DevOps'],[\"Mario\",25, 30000,'Inteligencia Artificial'],\n",
    "                          [\"Luisa\",21,24000,'DevOps'],[\"Luis\",25, 40000,'Inteligencia Artificial'],\n",
    "                          [\"Pepa\",27,31000, 'Cyber Seguridad'],[\"Pepe\",30, 18000, 'Big Data']], \n",
    "                         \n",
    "                         columns=[\"Nombre\",\"Edad\",\"Salario\", \"Especialidad\"])\n",
    "\n",
    "salario_medio = pd.DataFrame([[\"DevOps\",40000],[\"Inteligencia Artificial\",35000],\n",
    "                              [\"Cyber Seguridad\",30000],[\"Big Data\",25000]], \n",
    "                             \n",
    "                         columns=[\"Especialidad\",\"Salario medio\"])"
   ]
  },
  {
   "cell_type": "code",
   "execution_count": null,
   "id": "69000350",
   "metadata": {
    "id": "69000350",
    "outputId": "87078981-d70b-4394-842e-32fce6593d09"
   },
   "outputs": [
    {
     "data": {
      "text/html": [
       "<div>\n",
       "<style scoped>\n",
       "    .dataframe tbody tr th:only-of-type {\n",
       "        vertical-align: middle;\n",
       "    }\n",
       "\n",
       "    .dataframe tbody tr th {\n",
       "        vertical-align: top;\n",
       "    }\n",
       "\n",
       "    .dataframe thead th {\n",
       "        text-align: right;\n",
       "    }\n",
       "</style>\n",
       "<table border=\"1\" class=\"dataframe\">\n",
       "  <thead>\n",
       "    <tr style=\"text-align: right;\">\n",
       "      <th></th>\n",
       "      <th>Nombre</th>\n",
       "      <th>Edad</th>\n",
       "      <th>Salario</th>\n",
       "      <th>Especialidad</th>\n",
       "      <th>Salario medio</th>\n",
       "    </tr>\n",
       "  </thead>\n",
       "  <tbody>\n",
       "    <tr>\n",
       "      <th>0</th>\n",
       "      <td>Maria</td>\n",
       "      <td>20</td>\n",
       "      <td>25000</td>\n",
       "      <td>DevOps</td>\n",
       "      <td>40000</td>\n",
       "    </tr>\n",
       "    <tr>\n",
       "      <th>1</th>\n",
       "      <td>Luisa</td>\n",
       "      <td>21</td>\n",
       "      <td>24000</td>\n",
       "      <td>DevOps</td>\n",
       "      <td>40000</td>\n",
       "    </tr>\n",
       "    <tr>\n",
       "      <th>2</th>\n",
       "      <td>Mario</td>\n",
       "      <td>25</td>\n",
       "      <td>30000</td>\n",
       "      <td>Inteligencia Artificial</td>\n",
       "      <td>35000</td>\n",
       "    </tr>\n",
       "    <tr>\n",
       "      <th>3</th>\n",
       "      <td>Luis</td>\n",
       "      <td>25</td>\n",
       "      <td>40000</td>\n",
       "      <td>Inteligencia Artificial</td>\n",
       "      <td>35000</td>\n",
       "    </tr>\n",
       "    <tr>\n",
       "      <th>4</th>\n",
       "      <td>Pepa</td>\n",
       "      <td>27</td>\n",
       "      <td>31000</td>\n",
       "      <td>Cyber Seguridad</td>\n",
       "      <td>30000</td>\n",
       "    </tr>\n",
       "    <tr>\n",
       "      <th>5</th>\n",
       "      <td>Pepe</td>\n",
       "      <td>30</td>\n",
       "      <td>18000</td>\n",
       "      <td>Big Data</td>\n",
       "      <td>25000</td>\n",
       "    </tr>\n",
       "  </tbody>\n",
       "</table>\n",
       "</div>"
      ],
      "text/plain": [
       "  Nombre  Edad  Salario             Especialidad  Salario medio\n",
       "0  Maria    20    25000                   DevOps          40000\n",
       "1  Luisa    21    24000                   DevOps          40000\n",
       "2  Mario    25    30000  Inteligencia Artificial          35000\n",
       "3   Luis    25    40000  Inteligencia Artificial          35000\n",
       "4   Pepa    27    31000          Cyber Seguridad          30000\n",
       "5   Pepe    30    18000                 Big Data          25000"
      ]
     },
     "execution_count": 57,
     "metadata": {},
     "output_type": "execute_result"
    }
   ],
   "source": [
    "dataset = pd.merge(empleados, salario_medio, on='Especialidad', how='inner') # Hacer un merge por la columna Especialidad de tipo inner porque solo nos interesan las que coinciden\n",
    "dataset"
   ]
  },
  {
   "cell_type": "code",
   "execution_count": null,
   "id": "6925b030",
   "metadata": {
    "id": "6925b030",
    "outputId": "c27812fb-e9de-4dd8-ed92-a064414c39a9"
   },
   "outputs": [
    {
     "data": {
      "text/html": [
       "<div>\n",
       "<style scoped>\n",
       "    .dataframe tbody tr th:only-of-type {\n",
       "        vertical-align: middle;\n",
       "    }\n",
       "\n",
       "    .dataframe tbody tr th {\n",
       "        vertical-align: top;\n",
       "    }\n",
       "\n",
       "    .dataframe thead th {\n",
       "        text-align: right;\n",
       "    }\n",
       "</style>\n",
       "<table border=\"1\" class=\"dataframe\">\n",
       "  <thead>\n",
       "    <tr style=\"text-align: right;\">\n",
       "      <th></th>\n",
       "      <th>Nombre</th>\n",
       "      <th>Edad</th>\n",
       "      <th>Salario</th>\n",
       "      <th>Especialidad</th>\n",
       "      <th>Salario medio</th>\n",
       "    </tr>\n",
       "  </thead>\n",
       "  <tbody>\n",
       "    <tr>\n",
       "      <th>3</th>\n",
       "      <td>Luis</td>\n",
       "      <td>25</td>\n",
       "      <td>40000</td>\n",
       "      <td>Inteligencia Artificial</td>\n",
       "      <td>35000</td>\n",
       "    </tr>\n",
       "    <tr>\n",
       "      <th>4</th>\n",
       "      <td>Pepa</td>\n",
       "      <td>27</td>\n",
       "      <td>31000</td>\n",
       "      <td>Cyber Seguridad</td>\n",
       "      <td>30000</td>\n",
       "    </tr>\n",
       "  </tbody>\n",
       "</table>\n",
       "</div>"
      ],
      "text/plain": [
       "  Nombre  Edad  Salario             Especialidad  Salario medio\n",
       "3   Luis    25    40000  Inteligencia Artificial          35000\n",
       "4   Pepa    27    31000          Cyber Seguridad          30000"
      ]
     },
     "execution_count": 58,
     "metadata": {},
     "output_type": "execute_result"
    }
   ],
   "source": [
    "datasetS= dataset[dataset['Salario'] > dataset['Salario medio']] # Crear una mascara para los salarios mayores a los salarios medios\n",
    "datasetS"
   ]
  },
  {
   "cell_type": "markdown",
   "id": "8f1d2582",
   "metadata": {
    "id": "8f1d2582"
   },
   "source": [
    "### 8. Dada la matriz A calcula por fila y columna: suma, media, máximo y mínimo"
   ]
  },
  {
   "cell_type": "code",
   "execution_count": null,
   "id": "f395531d",
   "metadata": {
    "id": "f395531d",
    "outputId": "14e52d2b-05a5-4eb3-be60-411ec698e95c"
   },
   "outputs": [
    {
     "data": {
      "text/plain": [
       "array([[ 1,  2,  3,  4],\n",
       "       [ 5,  6,  7,  8],\n",
       "       [ 9, 10, 11, 12],\n",
       "       [13, 14, 15, 16]])"
      ]
     },
     "execution_count": 7,
     "metadata": {},
     "output_type": "execute_result"
    }
   ],
   "source": [
    "A = np.arange(1,17).reshape(4,4)\n",
    "A"
   ]
  },
  {
   "cell_type": "code",
   "execution_count": null,
   "id": "7ae25f90",
   "metadata": {
    "id": "7ae25f90",
    "outputId": "2ec2f8ca-0339-4a8c-adff-75cec156773b"
   },
   "outputs": [
    {
     "name": "stdout",
     "output_type": "stream",
     "text": [
      "Suma\n",
      "[10 26 42 58]\n",
      "Media\n",
      "[ 2.5  6.5 10.5 14.5]\n",
      "Maximo\n",
      "[ 4  8 12 16]\n",
      "Minimo\n",
      "[ 1  5  9 13]\n"
     ]
    }
   ],
   "source": [
    "#Por Fila\n",
    "sum = np.sum(A, axis=1) # Sacar la suma de los valores de cada fila\n",
    "print('Suma')\n",
    "print(sum)\n",
    "\n",
    "mean = np.mean(A, axis=1) # Sacar la media de los valores de cada fila\n",
    "print('Media')\n",
    "print(mean)\n",
    "\n",
    "maximo = np.max(A, axis = 1) # Sacar el máximo de los valores de cada fila\n",
    "print('Maximo')\n",
    "print(maximo)\n",
    "\n",
    "minimo = np.min(A, axis = 1) # Sacar el mínimo de los valores de cada fila\n",
    "print('Minimo')\n",
    "print(minimo)"
   ]
  },
  {
   "cell_type": "code",
   "execution_count": null,
   "id": "2d6da89a",
   "metadata": {
    "id": "2d6da89a",
    "outputId": "840aac96-e73c-4504-c9f4-9e75d37979ec"
   },
   "outputs": [
    {
     "name": "stdout",
     "output_type": "stream",
     "text": [
      "Suma\n",
      "[28 32 36 40]\n",
      "Media\n",
      "[ 7.  8.  9. 10.]\n",
      "Maximo\n",
      "[13 14 15 16]\n",
      "Minimo\n",
      "[1 2 3 4]\n"
     ]
    }
   ],
   "source": [
    "#Por Columna\n",
    "sum = np.sum(A, axis=0) # Sacar la suma de los valores de cada columna\n",
    "print('Suma')\n",
    "print(sum)\n",
    "\n",
    "mean = np.mean(A, axis=0) # Sacar la media de los valores de cada columna\n",
    "print('Media')\n",
    "print(mean)\n",
    "\n",
    "maximo = np.max(A, axis = 0) # Sacar el máximo de los valores de cada columna\n",
    "print('Maximo')\n",
    "print(maximo)\n",
    "\n",
    "minimo = np.min(A, axis = 0) # Sacar el mínimo de los valores de cada columna\n",
    "print('Minimo')\n",
    "print(minimo)"
   ]
  },
  {
   "cell_type": "markdown",
   "id": "c0191695",
   "metadata": {},
   "source": [
    "**Comentario:** el ejercicio está bien, pero para tener la puntuación completa, lo ideal sería haberlo hecho con una función."
   ]
  },
  {
   "cell_type": "code",
   "execution_count": null,
   "id": "bf047146",
   "metadata": {},
   "outputs": [],
   "source": []
  }
 ],
 "metadata": {
  "colab": {
   "name": "Examen_SergioGarcíaRuiz.ipynb",
   "provenance": []
  },
  "kernelspec": {
   "display_name": "Python 3",
   "language": "python",
   "name": "python3"
  },
  "language_info": {
   "codemirror_mode": {
    "name": "ipython",
    "version": 3
   },
   "file_extension": ".py",
   "mimetype": "text/x-python",
   "name": "python",
   "nbconvert_exporter": "python",
   "pygments_lexer": "ipython3",
   "version": "3.8.8"
  }
 },
 "nbformat": 4,
 "nbformat_minor": 5
}
