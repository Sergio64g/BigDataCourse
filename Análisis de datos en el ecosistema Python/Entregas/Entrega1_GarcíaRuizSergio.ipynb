{
 "cells": [
  {
   "cell_type": "markdown",
   "id": "8a4f172d",
   "metadata": {},
   "source": [
    "## Nombre y apellidos\n",
    "\n",
    "**Nombre:**  Sergio\n",
    "\n",
    "**Apellidos:**  García Ruiz"
   ]
  },
  {
   "cell_type": "markdown",
   "id": "288bbcee",
   "metadata": {},
   "source": [
    "### Cambiar el nombre del notebook a *Entrega1_ApellidosNombre.ipynb*\n",
    "\n",
    "## -->*Importante comentar el código* <--"
   ]
  },
  {
   "cell_type": "code",
   "execution_count": 2,
   "id": "8c46c175",
   "metadata": {},
   "outputs": [],
   "source": [
    "import numpy as np\n",
    "import pandas as pd"
   ]
  },
  {
   "cell_type": "markdown",
   "id": "3f312506",
   "metadata": {},
   "source": [
    "## Ejercicio 1\n",
    "\n",
    "**Encontrar nos números e índices de los elementos distintos de cero del siguiente array:**"
   ]
  },
  {
   "cell_type": "code",
   "execution_count": 3,
   "id": "ed353c20",
   "metadata": {},
   "outputs": [
    {
     "name": "stdout",
     "output_type": "stream",
     "text": [
      "(array([ 1,  2,  5,  6,  7, 10, 11, 13, 15, 16], dtype=int64),)\n",
      "[array([10,  2,  6,  7,  8,  3, 27, 78, 45,  6])]\n"
     ]
    }
   ],
   "source": [
    "array1 = np.array([0,10,2,0,0,6,7,8,0,0,3,27,0,78,0,45,6,0,0,0])\n",
    "\n",
    "print(array1.nonzero())   # retorna los índices de los elementos distintos a 0\n",
    "numeros = [array1[i] for i in array1.nonzero()]  #retorna los valores del array que son distintos a 0\n",
    "print(numeros)\n"
   ]
  },
  {
   "cell_type": "markdown",
   "id": "524cc8c1",
   "metadata": {},
   "source": [
    "## Ejercicio 2\n",
    "\n",
    "**Crea una función llamada porcentaje_vocales, tal que dada una cadena de texto nos devuelva el porcentaje de vocales que tiene.**\n",
    "\n",
    "Ejemplo: La salida de porcentaje_vocales('Hola') debería ser: \n",
    "\n",
    "El porcentaje de vocales de tu string es: 50.0%.\n"
   ]
  },
  {
   "cell_type": "code",
   "execution_count": 4,
   "id": "dcf4cd74-3fcc-49fa-8d03-b6a3088c7873",
   "metadata": {},
   "outputs": [
    {
     "name": "stdout",
     "output_type": "stream",
     "text": [
      "50.0 %\n"
     ]
    }
   ],
   "source": [
    "param = 'Hola'\n",
    "\n",
    "def contar_vocales(texto):\n",
    "    vocales = ['a', 'e', 'i', 'o', 'u']\n",
    "    return sum(map(texto.lower().count, vocales))  #Cuenta de la palabra la cantidad de veces que sale cada vocal y las suma\n",
    "\n",
    "print(100*contar_vocales(param)/len(param) , '%') #Devuelve el porcentaje de las vocales sobre el número total de letras\n"
   ]
  },
  {
   "cell_type": "markdown",
   "id": "89af6740",
   "metadata": {},
   "source": [
    "## Ejercicio 3\n",
    "\n",
    "**Crea una función contar_pares, tal que que dada una matriz cuadrada calcule el número de pares que hay en la matriz.**"
   ]
  },
  {
   "cell_type": "code",
   "execution_count": null,
   "id": "4fb17f67",
   "metadata": {},
   "outputs": [],
   "source": [
    "matriz = np.random.randint(0,10,4).reshape(2,2)   #Crea una matriz de 2x2 con números aleatorios\n",
    "\n",
    "def contar_pares(matriz):\n",
    "    mask = matriz%2 == 0        #Crea un filtro de números pares\n",
    "    return len(matriz[mask])    #Aplica el filtro de numeros pares a la matriz y decuelve la longitud de la matriz\n",
    "    \n",
    "print(contar_pares(matriz))"
   ]
  },
  {
   "cell_type": "markdown",
   "id": "7759f79f",
   "metadata": {},
   "source": [
    "## Ejercicio 4\n",
    "\n",
    "**Crea una función que dada una lista de números enteros positivos nos devuelva un diccionario donde la key sea el número y el value el número de veces que aparece el número.**\n",
    "\n",
    "Ejemplo: La salida de contar_pares_dic(L = [12, 19, 19, 18, 18, 16, 18, 13, 1]):\n",
    "\n",
    "{0: 0, 1: 0, 2: 0, 3: 0, 4: 0, 5: 0, 6: 0, 7: 0, 8: 0, 9: 0, 10: 0, 11: 0, 12: 1, 13: 0, 14: 0, 15: 0, 16: 1, 17: 0, 18: 3}"
   ]
  },
  {
   "cell_type": "code",
   "execution_count": 5,
   "id": "7863cd5d",
   "metadata": {},
   "outputs": [
    {
     "name": "stdout",
     "output_type": "stream",
     "text": [
      "(12, 1)\n",
      "(19, 2)\n",
      "(18, 3)\n",
      "(16, 1)\n",
      "(13, 1)\n",
      "(1, 1)\n"
     ]
    }
   ],
   "source": [
    "L = [12, 19, 19, 18, 18, 16, 18, 13, 1]\n",
    "\n",
    "def contar_numero(lista):\n",
    "   \n",
    "    l = {}             #Crear un diccionario vacio\n",
    "    for _ in lista:    #Recorrer los numeros de la lista\n",
    "        if _ not in l: #Comprobar si ya se ha contado el numero\n",
    "            l[_] = lista.count(_)   #Guardar el numero y las veces que sale en el diccionario\n",
    "    return l\n",
    "\n",
    "\n",
    "for i in contar_numero(L).items():\n",
    "    print(i)"
   ]
  },
  {
   "cell_type": "code",
   "execution_count": 6,
   "id": "def69b69-1cd4-4007-987c-4163ea644f15",
   "metadata": {},
   "outputs": [
    {
     "name": "stdout",
     "output_type": "stream",
     "text": [
      "(12, 1)\n",
      "(19, 2)\n",
      "(18, 3)\n",
      "(16, 1)\n",
      "(13, 1)\n",
      "(1, 1)\n"
     ]
    }
   ],
   "source": [
    "L = [12, 19, 19, 18, 18, 16, 18, 13, 1]\n",
    "\n",
    "def contar_numero(lista):\n",
    "   \n",
    "    d = {}             #Crear un diccionario vacio\n",
    "    for i in lista:    #Recorrer los numeros de la lista\n",
    "        if i not in d: #Comprobar si ya se ha contado el numero\n",
    "            d[i] = lista.count(i) #Guardar el numero y las veces que sale en el diccionario\n",
    "    return d\n",
    "\n",
    "for i in contar_numero(L).items():\n",
    "    print(i)\n",
    "\n"
   ]
  },
  {
   "cell_type": "markdown",
   "id": "3a7dcb0a",
   "metadata": {},
   "source": [
    "## Ejercicio 5\n",
    "\n",
    "**Crea una función acciones tal que dada una lista del valor de la acción de diversas empresas, te devuelva el valor máximo, el valor mínimo, la media de los valores y la desviación típica en un diccionario**:\n",
    "\n",
    "https://es.wikipedia.org/wiki/Desviaci%C3%B3n_t%C3%ADpica\n",
    "\n",
    "Ejemplo: la salida de \n",
    "\n",
    "lista_empresas = [['Iberdola', 11.43, 10.67, 10.1, 9.2], ['Aena', 145.2, 144.3, 146.89, 147.01],\n",
    "              ['Banco Santader', 2.5, 3.5, 3.74, 3.81], ['Endesa', 14.7, 12.3, 19.5, 18.4]]\n",
    "\n",
    "sería:\n",
    "\n",
    "\n",
    "{'Iberdola': (11.43, 9.2, 10.350000000000001, 0.8145244011077878), 'Aena': (147.01, 144.3, 145.85, 1.1458839382764654), 'Banco Santader': (3.81, 2.5, 3.3875, 0.525136886916164), 'Endesa': (19.5, 12.3, 16.225, 2.880429655450728)}"
   ]
  },
  {
   "cell_type": "code",
   "execution_count": 7,
   "id": "59a30bea",
   "metadata": {},
   "outputs": [
    {
     "data": {
      "text/plain": [
       "{'Iberdola': (11.43, 9.2, 10.350000000000001, 0.8145244011077878),\n",
       " 'Aena': (147.01, 144.3, 145.85, 1.1458839382764654),\n",
       " 'Banco Santader': (3.81, 2.5, 3.3875, 0.525136886916164),\n",
       " 'Endesa': (19.5, 12.3, 16.225, 2.880429655450728)}"
      ]
     },
     "execution_count": 7,
     "metadata": {},
     "output_type": "execute_result"
    }
   ],
   "source": [
    "lista_empresas = [['Iberdola', 11.43, 10.67, 10.1, 9.2], ['Aena', 145.2, 144.3, 146.89, 147.01], ['Banco Santader', 2.5, 3.5, 3.74, 3.81], ['Endesa', 14.7, 12.3, 19.5, 18.4]]\n",
    "\n",
    "\n",
    "def acciones(lista): \n",
    "    l = {}     #Crear diccionario vacio\n",
    "    for i in lista:     #Recorrer la lista\n",
    "        empresa = i.pop(0)   #Sacar el string que tiene el nombre de la empresa\n",
    "        tupla = (np.amax(i), np.amin(i), np.mean(i), np.std(i))   #Guardar el maximo, el minimo, la media y la desviacion tipica en una tupla\n",
    "        \n",
    "        l[empresa] = tupla   #Guardar la empresa con sus datos en un diccionario\n",
    "\n",
    "\n",
    "    return l\n",
    "acciones(lista_empresas)"
   ]
  },
  {
   "cell_type": "markdown",
   "id": "bcdf3bf8",
   "metadata": {},
   "source": [
    "## Ejercicio 6\n",
    "\n",
    "**Dado el primer párrafo de El Quijote, contar el número de veces que aparece cada palabra.**\n",
    "\n"
   ]
  },
  {
   "cell_type": "code",
   "execution_count": 17,
   "id": "a77ae74d",
   "metadata": {},
   "outputs": [
    {
     "name": "stdout",
     "output_type": "stream",
     "text": [
      "0\n"
     ]
    },
    {
     "data": {
      "text/plain": [
       "[{'en': 5,\n",
       "  'un': 4,\n",
       "  'lugar': 1,\n",
       "  'de': 21,\n",
       "  'la': 6,\n",
       "  'mancha': 0,\n",
       "  'cuyo': 1,\n",
       "  'nombre': 1,\n",
       "  'no': 4,\n",
       "  'quiero': 1,\n",
       "  'acordarme': 0,\n",
       "  'ha': 1,\n",
       "  'mucho': 1,\n",
       "  'tiempo': 1,\n",
       "  'que': 9,\n",
       "  'vivía': 1,\n",
       "  'hidalgo': 2,\n",
       "  'los': 9,\n",
       "  'lanza': 1,\n",
       "  'astillero': 0,\n",
       "  'adarga': 1,\n",
       "  'antigua': 0,\n",
       "  'rocín': 2,\n",
       "  'flaco': 1,\n",
       "  'y': 6,\n",
       "  'galgo': 1,\n",
       "  'corredor': 0,\n",
       "  'una': 2,\n",
       "  'olla': 1,\n",
       "  'algo': 1,\n",
       "  'más': 3,\n",
       "  'vaca': 1,\n",
       "  'carnero': 0,\n",
       "  'salpicón': 1,\n",
       "  'las': 3,\n",
       "  'noches': 0,\n",
       "  'duelos': 1,\n",
       "  'quebrantos': 1,\n",
       "  'sábados': 0,\n",
       "  'lentejas': 1,\n",
       "  'viernes': 0,\n",
       "  'algún': 1,\n",
       "  'palomino': 1,\n",
       "  'añadidura': 1,\n",
       "  'domingos': 0,\n",
       "  'consumían': 1,\n",
       "  'tres': 1,\n",
       "  'partes': 1,\n",
       "  'su': 3,\n",
       "  'hacienda': 0,\n",
       "  'el': 2,\n",
       "  'resto': 1,\n",
       "  'della': 1,\n",
       "  'concluían': 1,\n",
       "  'sayo': 1,\n",
       "  'velarte': 0,\n",
       "  'calzas': 1,\n",
       "  'velludo': 1,\n",
       "  'para': 1,\n",
       "  'fiestas': 1,\n",
       "  'con': 3,\n",
       "  'sus': 1,\n",
       "  'pantuflos': 1,\n",
       "  'lo': 2,\n",
       "  'mismo': 0,\n",
       "  'días': 1,\n",
       "  'entre': 1,\n",
       "  'semana': 1,\n",
       "  'se': 4,\n",
       "  'honraba': 1,\n",
       "  'vellori': 1,\n",
       "  'fino': 0,\n",
       "  'tenía': 1,\n",
       "  'casa': 1,\n",
       "  'ama': 1,\n",
       "  'pasaba': 1,\n",
       "  'cuarenta': 0,\n",
       "  'sobrina': 1,\n",
       "  'llegaba': 1,\n",
       "  'a': 2,\n",
       "  'veinte': 0,\n",
       "  'mozo': 1,\n",
       "  'campo': 1,\n",
       "  'plaza': 0,\n",
       "  'así': 1,\n",
       "  'ensillaba': 1,\n",
       "  'como': 1,\n",
       "  'tomaba': 1,\n",
       "  'podadera': 0,\n",
       "  'frisaba': 0,\n",
       "  'edad': 1,\n",
       "  'nuestro': 2,\n",
       "  'cincuenta': 1,\n",
       "  'años': 0,\n",
       "  'era': 1,\n",
       "  'complexión': 1,\n",
       "  'recia': 0,\n",
       "  'seco': 1,\n",
       "  'carnes': 0,\n",
       "  'enjuto': 1,\n",
       "  'rostro': 0,\n",
       "  'gran': 1,\n",
       "  'madrugador': 1,\n",
       "  'amigo': 1,\n",
       "  'caza': 0,\n",
       "  'quieren': 0,\n",
       "  'decir': 1,\n",
       "  'sobrenombre': 1,\n",
       "  'quijada': 0,\n",
       "  'o': 1,\n",
       "  'quesada': 0,\n",
       "  'esto': 2,\n",
       "  'hay': 1,\n",
       "  'alguna': 1,\n",
       "  'diferencia': 1,\n",
       "  'autores': 1,\n",
       "  'deste': 1,\n",
       "  'caso': 1,\n",
       "  'escriben': 0,\n",
       "  'aunque': 1,\n",
       "  'por': 1,\n",
       "  'conjeturas': 1,\n",
       "  'verosímiles': 1,\n",
       "  'deja': 1,\n",
       "  'entender': 1,\n",
       "  'llama': 1,\n",
       "  'quijana': 0,\n",
       "  'pero': 1,\n",
       "  'importa': 1,\n",
       "  'poco': 1,\n",
       "  'cuento': 0,\n",
       "  'basta': 1,\n",
       "  'narración': 1,\n",
       "  'dél': 1,\n",
       "  'salga': 1,\n",
       "  'punto': 1,\n",
       "  'verdad': 1}]"
      ]
     },
     "execution_count": 17,
     "metadata": {},
     "output_type": "execute_result"
    }
   ],
   "source": [
    "\n",
    "quijote = 'En un lugar de la Mancha, de cuyo nombre no quiero acordarme, no ha mucho tiempo que vivía un hidalgo de los de lanza en astillero, adarga antigua, rocín flaco y galgo corredor. Una olla de algo más vaca que carnero, salpicón las más noches, duelos y quebrantos los sábados, lentejas los viernes, algún palomino de añadidura los domingos, consumían las tres partes de su hacienda. El resto della concluían sayo de velarte, calzas de velludo para las fiestas con sus pantuflos de lo mismo, los días de entre semana se honraba con su vellori de lo más fino. Tenía en su casa una ama que pasaba de los cuarenta, y una sobrina que no llegaba a los veinte, y un mozo de campo y plaza, que así ensillaba el rocín como tomaba la podadera. Frisaba la edad de nuestro hidalgo con los cincuenta años, era de complexión recia, seco de carnes, enjuto de rostro; gran madrugador y amigo de la caza. Quieren decir que tenía el sobrenombre de Quijada o Quesada (que en esto hay alguna diferencia en los autores que deste caso escriben), aunque por conjeturas verosímiles se deja entender que se llama Quijana; pero esto importa poco a nuestro cuento; basta que en la narración dél no se salga un punto de la verdad'\n",
    "\n",
    "array = quijote.split(\" \")   #Separar cada palabra por espacios\n",
    "res = {}\n",
    "lista = []\n",
    "for i in array:   #Recorrer el array que contiene todas las palabras\n",
    "    specialChars = \".,;()\" #Quitar caracteres que impiden contar bien las palabras\n",
    "    for specialChar in specialChars:\n",
    "        i = i.lower().replace(specialChar, '')  \n",
    "    if i not in res:\n",
    "        res[i] = array.count(i)  #Guarda los valores y las veces que salen solo 1 vez\n",
    "lista.append(res)\n",
    "lista"
   ]
  },
  {
   "cell_type": "markdown",
   "id": "fed9b294",
   "metadata": {},
   "source": [
    "## Ejercicio 7\n",
    "\n",
    "**Crea una función matriz_diagonal_cuadrada de tal forma que dado un numero n cree una matriz diagonal de tamaño nxn con los elementos desde 1 hasta n elvados al cuadrado en la diagonal.**\n",
    "\n",
    "Ejemplo: la salida de matriz_diagonal_cuadrada(4), debería ser:\n",
    "\n",
    "array([[ 1,  0,  0,  0],\n",
    "       [ 0,  4,  0,  0],\n",
    "       [ 0,  0,  9,  0],\n",
    "       [ 0,  0,  0, 16]], dtype=int32)"
   ]
  },
  {
   "cell_type": "code",
   "execution_count": null,
   "id": "c3e2dfd8",
   "metadata": {},
   "outputs": [],
   "source": [
    "def matriz_diagonal_cuadrada(n):\n",
    "    a = np.zeros((n, n), int)    #Crear una matriz de ceros del tamaño que se indique\n",
    "    diagonal = np.square(np.arange(1,n + 1)) #Crear un array con los elementos de 1 hasta n elevados al cuadrados\n",
    "    np.fill_diagonal(a, diagonal)   #Sustituir la diagonal de 0 por el array 'diagonal'\n",
    "    \n",
    "    return a\n",
    "    \n",
    "matriz_diagonal_cuadrada(7)"
   ]
  },
  {
   "cell_type": "markdown",
   "id": "e57c03f7",
   "metadata": {},
   "source": [
    "### Halla una matriz B tal que B*B = A, siendo A  la salida de matriz_diagonal_cuadrada(4)"
   ]
  },
  {
   "cell_type": "code",
   "execution_count": null,
   "id": "131a7bb5",
   "metadata": {},
   "outputs": [],
   "source": [
    "\n",
    "A = matriz_diagonal_cuadrada(4)\n",
    "B = np.sqrt(A)    #Raiz cuadrada de la matriz\n",
    "print(B)\n",
    "print(np.matmul(B, B))"
   ]
  },
  {
   "cell_type": "markdown",
   "id": "d112a475",
   "metadata": {},
   "source": [
    "## Ejercicio 8\n",
    "\n",
    "**Dataframes.**\n",
    "\n",
    "**Crea un dataframe con columnas e index a partir de:**\n",
    "\n",
    "- **array1**\n",
    "\n",
    "- **La salida del ejercicio 6**"
   ]
  },
  {
   "cell_type": "code",
   "execution_count": null,
   "id": "d539a0d6",
   "metadata": {},
   "outputs": [],
   "source": [
    "\n",
    "df_array1 = pd.DataFrame(res)\n",
    "print(df_array1)\n",
    "print(\"\\n\")\n",
    "df_ej6 = pd.DataFrame(lista)\n",
    "print(df_ej6)"
   ]
  },
  {
   "cell_type": "markdown",
   "id": "6b648568",
   "metadata": {},
   "source": [
    "### Ejercicio 9\n",
    "\n",
    "**Explica por qué crees que Numpy y Pandas son dos de las librerías más utilizadas en Data Science.**"
   ]
  },
  {
   "cell_type": "markdown",
   "id": "d280c06b-5396-4cd6-ba62-541258155d57",
   "metadata": {},
   "source": [
    "Numpy ofrece un un montón de herramientas que te facilitan el trabajo con vectores y matrices, que en el mundo de data science son muy usados y Pandas te permite trabajar con distintos formatos en los que se guardan los datos, pudiendo procesarlos y visualizar los datos de una manera muy cómoda"
   ]
  }
 ],
 "metadata": {
  "kernelspec": {
   "display_name": "Python 3",
   "language": "python",
   "name": "python3"
  },
  "language_info": {
   "codemirror_mode": {
    "name": "ipython",
    "version": 3
   },
   "file_extension": ".py",
   "mimetype": "text/x-python",
   "name": "python",
   "nbconvert_exporter": "python",
   "pygments_lexer": "ipython3",
   "version": "3.8.8"
  }
 },
 "nbformat": 4,
 "nbformat_minor": 5
}
