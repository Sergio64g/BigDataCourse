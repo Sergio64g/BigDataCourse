{
 "cells": [
  {
   "cell_type": "markdown",
   "id": "c330f393-2c15-4fbc-93f4-1c1a1fd77bfe",
   "metadata": {},
   "source": [
    "## Nombre y apellidos\n",
    "\n",
    "**Nombre:**\n",
    "\n",
    "**Apellidos:**"
   ]
  },
  {
   "cell_type": "markdown",
   "id": "84eb23ac-f34e-47f9-bc3d-a076fa875f97",
   "metadata": {},
   "source": [
    "### Cambiar el nombre del notebook a *Entrega2_ApellidosNombre.ipynb*\n",
    "\n",
    "## -->*Importante comentar el código* <--"
   ]
  },
  {
   "cell_type": "code",
   "execution_count": 2,
   "id": "3e8c95b1-736e-43fd-9c24-a8f42c12fb75",
   "metadata": {},
   "outputs": [],
   "source": [
    "import zipfile as zp # para descomprimir archivos zip\n",
    "import urllib.request # para descargar de URL\n",
    "import os\n",
    "import pandas as pd\n",
    "import numpy as np\n",
    "import matplotlib.pyplot as plt\n",
    "%matplotlib inline"
   ]
  },
  {
   "cell_type": "markdown",
   "id": "e74781a9-3aa2-41b1-8c0f-333f1ac564a8",
   "metadata": {
    "tags": []
   },
   "source": [
    "### Ejercicio 1: Police Dataset\n",
    "\n",
    "**Carga el csv con los datos de la policía, y obtén la siguiente información:**\n",
    "\n",
    "- 1. ¿Cuáles fue el delito más común en 2005? ¿Y los dos delitos más comunes en 2012?\n",
    "- 2. ¿Cuál ha sido el delito más común cada año desde que tenemos estadísticas?\n",
    "- 3. ¿Cuál fue el mes de 2008 con más delitos?\n",
    "- 4. ¿Cuáles fueron los dos delitos más comunes en 2012?\n",
    "- 5. ¿Las infracciones Speeding y Equipment son más comunes entre hombres o mujeres? Explica tu respuesta\n",
    "- 6. Obtén la media de la edad de los infractores por tipo de delito\n",
    "- 7. ¿Cuál es el delito por el que es más común ser arrestado?\n",
    "- 8. Plotea el gráfico que consideres más adecuado para analizar los diferentes delitos cometidos por hombres y mujeres.\n",
    "- 9. Plotea en el gráfico que consideres más apropiado la proporción (porcentaje) de cada tipo de delito (un gráfico por cada año)\n",
    "- 10. Plotea el gráfico que consideres más adecuado para ver la evolución en el tiempo del número de delitos de Speeding, Moving violation y Equipment"
   ]
  },
  {
   "cell_type": "code",
   "execution_count": 3,
   "id": "9fa9aafc-8b59-4c24-889f-d702be1ef2e5",
   "metadata": {},
   "outputs": [
    {
     "data": {
      "text/html": [
       "<div>\n",
       "<style scoped>\n",
       "    .dataframe tbody tr th:only-of-type {\n",
       "        vertical-align: middle;\n",
       "    }\n",
       "\n",
       "    .dataframe tbody tr th {\n",
       "        vertical-align: top;\n",
       "    }\n",
       "\n",
       "    .dataframe thead th {\n",
       "        text-align: right;\n",
       "    }\n",
       "</style>\n",
       "<table border=\"1\" class=\"dataframe\">\n",
       "  <thead>\n",
       "    <tr style=\"text-align: right;\">\n",
       "      <th></th>\n",
       "      <th>stop_date</th>\n",
       "      <th>stop_time</th>\n",
       "      <th>country_name</th>\n",
       "      <th>driver_gender</th>\n",
       "      <th>driver_age_raw</th>\n",
       "      <th>driver_age</th>\n",
       "      <th>driver_race</th>\n",
       "      <th>violation_raw</th>\n",
       "      <th>violation</th>\n",
       "      <th>search_conducted</th>\n",
       "      <th>search_type</th>\n",
       "      <th>stop_outcome</th>\n",
       "      <th>is_arrested</th>\n",
       "      <th>stop_duration</th>\n",
       "      <th>drugs_related_stop</th>\n",
       "    </tr>\n",
       "  </thead>\n",
       "  <tbody>\n",
       "    <tr>\n",
       "      <th>0</th>\n",
       "      <td>1/2/2005</td>\n",
       "      <td>1:55</td>\n",
       "      <td>NaN</td>\n",
       "      <td>M</td>\n",
       "      <td>1985.0</td>\n",
       "      <td>20.0</td>\n",
       "      <td>White</td>\n",
       "      <td>Speeding</td>\n",
       "      <td>Speeding</td>\n",
       "      <td>False</td>\n",
       "      <td>NaN</td>\n",
       "      <td>Citation</td>\n",
       "      <td>False</td>\n",
       "      <td>0-15 Min</td>\n",
       "      <td>False</td>\n",
       "    </tr>\n",
       "    <tr>\n",
       "      <th>1</th>\n",
       "      <td>1/18/2005</td>\n",
       "      <td>8:15</td>\n",
       "      <td>NaN</td>\n",
       "      <td>M</td>\n",
       "      <td>1965.0</td>\n",
       "      <td>40.0</td>\n",
       "      <td>White</td>\n",
       "      <td>Speeding</td>\n",
       "      <td>Speeding</td>\n",
       "      <td>False</td>\n",
       "      <td>NaN</td>\n",
       "      <td>Citation</td>\n",
       "      <td>False</td>\n",
       "      <td>0-15 Min</td>\n",
       "      <td>False</td>\n",
       "    </tr>\n",
       "    <tr>\n",
       "      <th>2</th>\n",
       "      <td>1/23/2005</td>\n",
       "      <td>23:15</td>\n",
       "      <td>NaN</td>\n",
       "      <td>M</td>\n",
       "      <td>1972.0</td>\n",
       "      <td>33.0</td>\n",
       "      <td>White</td>\n",
       "      <td>Speeding</td>\n",
       "      <td>Speeding</td>\n",
       "      <td>False</td>\n",
       "      <td>NaN</td>\n",
       "      <td>Citation</td>\n",
       "      <td>False</td>\n",
       "      <td>0-15 Min</td>\n",
       "      <td>False</td>\n",
       "    </tr>\n",
       "    <tr>\n",
       "      <th>3</th>\n",
       "      <td>2/20/2005</td>\n",
       "      <td>17:15</td>\n",
       "      <td>NaN</td>\n",
       "      <td>M</td>\n",
       "      <td>1986.0</td>\n",
       "      <td>19.0</td>\n",
       "      <td>White</td>\n",
       "      <td>Call for Service</td>\n",
       "      <td>Other</td>\n",
       "      <td>False</td>\n",
       "      <td>NaN</td>\n",
       "      <td>Arrest Driver</td>\n",
       "      <td>True</td>\n",
       "      <td>16-30 Min</td>\n",
       "      <td>False</td>\n",
       "    </tr>\n",
       "    <tr>\n",
       "      <th>4</th>\n",
       "      <td>3/14/2005</td>\n",
       "      <td>10:00</td>\n",
       "      <td>NaN</td>\n",
       "      <td>F</td>\n",
       "      <td>1984.0</td>\n",
       "      <td>21.0</td>\n",
       "      <td>White</td>\n",
       "      <td>Speeding</td>\n",
       "      <td>Speeding</td>\n",
       "      <td>False</td>\n",
       "      <td>NaN</td>\n",
       "      <td>Citation</td>\n",
       "      <td>False</td>\n",
       "      <td>0-15 Min</td>\n",
       "      <td>False</td>\n",
       "    </tr>\n",
       "  </tbody>\n",
       "</table>\n",
       "</div>"
      ],
      "text/plain": [
       "   stop_date stop_time  country_name driver_gender  driver_age_raw  \\\n",
       "0   1/2/2005      1:55           NaN             M          1985.0   \n",
       "1  1/18/2005      8:15           NaN             M          1965.0   \n",
       "2  1/23/2005     23:15           NaN             M          1972.0   \n",
       "3  2/20/2005     17:15           NaN             M          1986.0   \n",
       "4  3/14/2005     10:00           NaN             F          1984.0   \n",
       "\n",
       "   driver_age driver_race     violation_raw violation  search_conducted  \\\n",
       "0        20.0       White          Speeding  Speeding             False   \n",
       "1        40.0       White          Speeding  Speeding             False   \n",
       "2        33.0       White          Speeding  Speeding             False   \n",
       "3        19.0       White  Call for Service     Other             False   \n",
       "4        21.0       White          Speeding  Speeding             False   \n",
       "\n",
       "  search_type   stop_outcome is_arrested stop_duration  drugs_related_stop  \n",
       "0         NaN       Citation       False      0-15 Min               False  \n",
       "1         NaN       Citation       False      0-15 Min               False  \n",
       "2         NaN       Citation       False      0-15 Min               False  \n",
       "3         NaN  Arrest Driver        True     16-30 Min               False  \n",
       "4         NaN       Citation       False      0-15 Min               False  "
      ]
     },
     "execution_count": 3,
     "metadata": {},
     "output_type": "execute_result"
    }
   ],
   "source": [
    "police = pd.read_csv('../datasets/police.csv')#Multas\n",
    "police.head()\n",
    "#police.driver_race.unique()"
   ]
  },
  {
   "cell_type": "code",
   "execution_count": null,
   "id": "1b683c5b-61f3-4b8b-8098-692927aa05e7",
   "metadata": {},
   "outputs": [],
   "source": [
    "#1 ¿Cuáles fue el delito más común en 2005? ¿Y los dos delitos más comunes en 2012?\n",
    "A = police[police[\"stop_date\"].str.contains(\"2005\")].groupby('violation_raw').size().sort_values(ascending=False).head(1) # Filtrar por año (2005), agrupar por delito y sacar el valor más alto\n",
    "B = police[police[\"stop_date\"].str.contains(\"2012\")].groupby('violation_raw').size().sort_values(ascending=False).head(2) # Filtrar por año (2012), agrupar por delito y sacar los dos valores más altos\n",
    "print(A)\n",
    "print(B)"
   ]
  },
  {
   "cell_type": "code",
   "execution_count": 6,
   "id": "fb1e008f-f541-496e-80a3-89c3827b4a46",
   "metadata": {},
   "outputs": [
    {
     "data": {
      "text/plain": [
       "stop_date  violation_raw                     violation_raw                   \n",
       "2005       APB                               APB                                    5\n",
       "           Call for Service                  Call for Service                      26\n",
       "           Equipment/Inspection Violation    Equipment/Inspection Violation       170\n",
       "           Motorist Assist/Courtesy          Motorist Assist/Courtesy              18\n",
       "           Other Traffic Violation           Other Traffic Violation              384\n",
       "                                                                                 ... \n",
       "2012       Seatbelt Violation                Seatbelt Violation                     3\n",
       "           Special Detail/Directed Patrol    Special Detail/Directed Patrol       330\n",
       "           Speeding                          Speeding                            4174\n",
       "           Suspicious Person                 Suspicious Person                      6\n",
       "           Violation of City/Town Ordinance  Violation of City/Town Ordinance      29\n",
       "Name: violation_raw, Length: 87, dtype: int64"
      ]
     },
     "execution_count": 6,
     "metadata": {},
     "output_type": "execute_result"
    }
   ],
   "source": [
    "#2 ¿Cuál ha sido el delito más común cada año desde que tenemos estadísticas?\n",
    "year = police['stop_date'].str.split(\"/\").str[2] # Sacar los años de la columna 'stop_date'\n",
    "police.groupby([year, \"violation_raw\"])['violation_raw'].value_counts() # Agrupar por año y sacar cuanto sale cada delito cada año\n"
   ]
  },
  {
   "cell_type": "code",
   "execution_count": 7,
   "id": "b99b4d14-9ec3-448d-b2d4-ef12da2519ab",
   "metadata": {},
   "outputs": [
    {
     "data": {
      "text/plain": [
       "stop_date\n",
       "1    831\n",
       "dtype: int64"
      ]
     },
     "execution_count": 7,
     "metadata": {},
     "output_type": "execute_result"
    }
   ],
   "source": [
    "#3 ¿Cuál fue el mes de 2008 con más delitos?\n",
    "\n",
    "month = police['stop_date'].str.split(\"/\").str[0] # Sacar los meses de la columna 'stop_date'\n",
    "A = police[police[\"stop_date\"].str.contains(\"2008\")].groupby(month).size().sort_values(ascending=False).head(1) # Filtrar por año (2008), agrupar por mes y sacar el mes con más delitos\n",
    "A"
   ]
  },
  {
   "cell_type": "code",
   "execution_count": null,
   "id": "cc4b7e40-b01f-4891-9821-57c464e4d9d0",
   "metadata": {},
   "outputs": [],
   "source": [
    "# 4 ¿Cuáles fueron los dos delitos más comunes en 2012?\n",
    "A = police[police[\"stop_date\"].str.contains(\"2012\")].groupby('violation_raw').size().sort_values(ascending=False).head(2) # Filtrar por año (2012), agrupar por delito y sacar los delitos que salen más veces\n",
    "A"
   ]
  },
  {
   "cell_type": "code",
   "execution_count": null,
   "id": "220c5c48-c010-471b-89b1-d408870128fe",
   "metadata": {},
   "outputs": [],
   "source": [
    "#5 ¿Las infracciones Speeding y Equipment son más comunes entre hombres o mujeres? Explica tu respuesta\n",
    "speeding = police[(police[\"violation_raw\"] == \"Speeding\") | (police[\"violation_raw\"] == \"Equipment/Inspection Violation\")] # Filtrar los delitos que son Speeding, Equipment\n",
    "gender = speeding.groupby(\"driver_gender\").size() # Agrupar por género\n",
    "gender # Los hombres participan en más delitos que las mujeres"
   ]
  },
  {
   "cell_type": "code",
   "execution_count": null,
   "id": "d721b676-b3e2-4132-881a-645f839725ff",
   "metadata": {},
   "outputs": [],
   "source": [
    "#6 Obtén la media de la edad de los infractores por tipo de delito\n",
    "police.groupby('violation_raw').mean()['driver_age'] # Agrupar por delito y sacar la media de edad de cada delito"
   ]
  },
  {
   "cell_type": "code",
   "execution_count": null,
   "id": "17e973da-47aa-43cc-a900-bf0d24c843b6",
   "metadata": {},
   "outputs": [],
   "source": [
    "#7 ¿Cuál es el delito por el que es más común ser arrestado?\n",
    "police_arrested = police[police['is_arrested'] == True] # Filtrar por los delitos en los que se arresta\n",
    "police_arrested.groupby('violation_raw').size().sort_values(ascending=False).head(1) # Agrupar por delito y sacar el delito que más sale"
   ]
  },
  {
   "cell_type": "code",
   "execution_count": 5,
   "id": "5bdc26d9-baf4-4a2a-96d3-ec6fe8757d77",
   "metadata": {},
   "outputs": [
    {
     "data": {
      "text/plain": [
       "<AxesSubplot:xlabel='driver_gender,violation_raw'>"
      ]
     },
     "execution_count": 5,
     "metadata": {},
     "output_type": "execute_result"
    },
    {
     "data": {
      "image/png": "[encoded data removed]",
      "text/plain": [
       "<Figure size 432x288 with 1 Axes>"
      ]
     },
     "metadata": {
      "needs_background": "light"
     },
     "output_type": "display_data"
    }
   ],
   "source": [
    "#8 Plotea el gráfico que consideres más adecuado para analizar los diferentes delitos cometidos por hombres y mujeres.\n",
    "police.groupby('driver_gender')['violation_raw'].value_counts().plot(kind = \"bar\", stacked= True) # Agrupar por génerp y sacar un gráfico de barras (No lo stackea)\n",
    "\n"
   ]
  },
  {
   "cell_type": "code",
   "execution_count": 8,
   "id": "5094e2a2-3215-45c5-be81-92629d35847b",
   "metadata": {},
   "outputs": [
    {
     "data": {
      "text/plain": [
       "array([<AxesSubplot:ylabel='None'>], dtype=object)"
      ]
     },
     "execution_count": 8,
     "metadata": {},
     "output_type": "execute_result"
    },
    {
     "data": {
      "image/png": "[encoded data removed]",
      "text/plain": [
       "<Figure size 432x288 with 1 Axes>"
      ]
     },
     "metadata": {},
     "output_type": "display_data"
    }
   ],
   "source": [
    "#9 Plotea en el gráfico que consideres más apropiado la proporción (porcentaje) de cada tipo de delito (un gráfico por cada año)\n",
    "year = police['stop_date'].str.split(\"/\").str[2] # Sacar los años de la columna 'stop_date'\n",
    "police.groupby(year).size().plot(kind='pie', subplots=True, autopct='%1.1f%%') # Agrupar por año y sacar los delitos (No hace subplots)"
   ]
  },
  {
   "cell_type": "code",
   "execution_count": 7,
   "id": "d14f3a04-1f70-41d1-a2d5-90f38c6a707c",
   "metadata": {},
   "outputs": [
    {
     "ename": "AttributeError",
     "evalue": "'DataFrameGroupBy' object has no attribute 'value_counts'",
     "output_type": "error",
     "traceback": [
      "\u001b[1;31m---------------------------------------------------------------------------\u001b[0m",
      "\u001b[1;31mAttributeError\u001b[0m                            Traceback (most recent call last)",
      "\u001b[1;32m<ipython-input-7-6ad7baf3ee9e>\u001b[0m in \u001b[0;36m<module>\u001b[1;34m\u001b[0m\n\u001b[0;32m      2\u001b[0m \u001b[0myear\u001b[0m \u001b[1;33m=\u001b[0m \u001b[0mpolice\u001b[0m\u001b[1;33m[\u001b[0m\u001b[1;34m'stop_date'\u001b[0m\u001b[1;33m]\u001b[0m\u001b[1;33m.\u001b[0m\u001b[0mstr\u001b[0m\u001b[1;33m.\u001b[0m\u001b[0msplit\u001b[0m\u001b[1;33m(\u001b[0m\u001b[1;34m\"/\"\u001b[0m\u001b[1;33m)\u001b[0m\u001b[1;33m.\u001b[0m\u001b[0mstr\u001b[0m\u001b[1;33m[\u001b[0m\u001b[1;36m2\u001b[0m\u001b[1;33m]\u001b[0m\u001b[1;33m\u001b[0m\u001b[1;33m\u001b[0m\u001b[0m\n\u001b[0;32m      3\u001b[0m \u001b[0mpoliceD\u001b[0m \u001b[1;33m=\u001b[0m \u001b[0mpolice\u001b[0m\u001b[1;33m[\u001b[0m\u001b[1;33m(\u001b[0m\u001b[0mpolice\u001b[0m\u001b[1;33m[\u001b[0m\u001b[1;34m\"violation\"\u001b[0m\u001b[1;33m]\u001b[0m \u001b[1;33m==\u001b[0m \u001b[1;34m\"Speeding\"\u001b[0m\u001b[1;33m)\u001b[0m \u001b[1;33m|\u001b[0m \u001b[1;33m(\u001b[0m\u001b[0mpolice\u001b[0m\u001b[1;33m[\u001b[0m\u001b[1;34m\"violation\"\u001b[0m\u001b[1;33m]\u001b[0m \u001b[1;33m==\u001b[0m \u001b[1;34m\"Equipment\"\u001b[0m\u001b[1;33m)\u001b[0m \u001b[1;33m|\u001b[0m \u001b[1;33m(\u001b[0m\u001b[0mpolice\u001b[0m\u001b[1;33m[\u001b[0m\u001b[1;34m\"violation\"\u001b[0m\u001b[1;33m]\u001b[0m \u001b[1;33m==\u001b[0m \u001b[1;34m\"Moving violation\"\u001b[0m\u001b[1;33m)\u001b[0m\u001b[1;33m]\u001b[0m\u001b[1;33m\u001b[0m\u001b[1;33m\u001b[0m\u001b[0m\n\u001b[1;32m----> 4\u001b[1;33m \u001b[0mpoliceD\u001b[0m\u001b[1;33m.\u001b[0m\u001b[0mgroupby\u001b[0m\u001b[1;33m(\u001b[0m\u001b[0myear\u001b[0m\u001b[1;33m)\u001b[0m\u001b[1;33m.\u001b[0m\u001b[0mvalue_counts\u001b[0m\u001b[1;33m(\u001b[0m\u001b[1;33m)\u001b[0m\u001b[1;33m\u001b[0m\u001b[1;33m\u001b[0m\u001b[0m\n\u001b[0m",
      "\u001b[1;32m~\\anaconda3\\lib\\site-packages\\pandas\\core\\groupby\\groupby.py\u001b[0m in \u001b[0;36m__getattr__\u001b[1;34m(self, attr)\u001b[0m\n\u001b[0;32m    750\u001b[0m             \u001b[1;32mreturn\u001b[0m \u001b[0mself\u001b[0m\u001b[1;33m[\u001b[0m\u001b[0mattr\u001b[0m\u001b[1;33m]\u001b[0m\u001b[1;33m\u001b[0m\u001b[1;33m\u001b[0m\u001b[0m\n\u001b[0;32m    751\u001b[0m \u001b[1;33m\u001b[0m\u001b[0m\n\u001b[1;32m--> 752\u001b[1;33m         raise AttributeError(\n\u001b[0m\u001b[0;32m    753\u001b[0m             \u001b[1;34mf\"'{type(self).__name__}' object has no attribute '{attr}'\"\u001b[0m\u001b[1;33m\u001b[0m\u001b[1;33m\u001b[0m\u001b[0m\n\u001b[0;32m    754\u001b[0m         )\n",
      "\u001b[1;31mAttributeError\u001b[0m: 'DataFrameGroupBy' object has no attribute 'value_counts'"
     ]
    }
   ],
   "source": [
    "#10 Plotea el gráfico que consideres más adecuado para ver la evolución en el tiempo del número de delitos de Speeding, Moving violation y Equipment\n",
    "year = police['stop_date'].str.split(\"/\").str[2]\n",
    "policeD = police[(police[\"violation\"] == \"Speeding\") | (police[\"violation\"] == \"Equipment\") | (police[\"violation\"] == \"Moving violation\")]\n",
    "policeD.groupby(year)"
   ]
  },
  {
   "cell_type": "markdown",
   "id": "be672f9a-d7a9-4890-b9f8-8dab0c0fd0f7",
   "metadata": {},
   "source": [
    "### Ejercicio 2: Covid Dataset\n",
    "\n",
    "**Carga el csv con los datos covid, y obtén la siguiente información:**\n",
    "\n",
    "- 1. ¿Cúal es la región con más casos confirmados?¿y con menos?\n",
    "- 2. ¿Cuál es la región con mayor proporción de muertos con respecto a casos confirmados?\n",
    "- 3. Plotea una figura con tres gráficos para estudiar la evolución en el tiempo de casos confirmados, muertos y recuperados por país en los siguientes países: España, Italia y Alemania. Tiene que haber un gráfico por país. "
   ]
  },
  {
   "cell_type": "code",
   "execution_count": 10,
   "id": "16a5f8f8-40ab-4684-925c-2b69219ed0ec",
   "metadata": {},
   "outputs": [
    {
     "data": {
      "text/html": [
       "<div>\n",
       "<style scoped>\n",
       "    .dataframe tbody tr th:only-of-type {\n",
       "        vertical-align: middle;\n",
       "    }\n",
       "\n",
       "    .dataframe tbody tr th {\n",
       "        vertical-align: top;\n",
       "    }\n",
       "\n",
       "    .dataframe thead th {\n",
       "        text-align: right;\n",
       "    }\n",
       "</style>\n",
       "<table border=\"1\" class=\"dataframe\">\n",
       "  <thead>\n",
       "    <tr style=\"text-align: right;\">\n",
       "      <th></th>\n",
       "      <th>Date</th>\n",
       "      <th>State</th>\n",
       "      <th>Region</th>\n",
       "      <th>Confirmed</th>\n",
       "      <th>Deaths</th>\n",
       "      <th>Recovered</th>\n",
       "    </tr>\n",
       "  </thead>\n",
       "  <tbody>\n",
       "    <tr>\n",
       "      <th>0</th>\n",
       "      <td>4/29/2020</td>\n",
       "      <td>NaN</td>\n",
       "      <td>Afghanistan</td>\n",
       "      <td>1939</td>\n",
       "      <td>60</td>\n",
       "      <td>252</td>\n",
       "    </tr>\n",
       "    <tr>\n",
       "      <th>1</th>\n",
       "      <td>4/29/2020</td>\n",
       "      <td>NaN</td>\n",
       "      <td>Albania</td>\n",
       "      <td>766</td>\n",
       "      <td>30</td>\n",
       "      <td>455</td>\n",
       "    </tr>\n",
       "    <tr>\n",
       "      <th>2</th>\n",
       "      <td>4/29/2020</td>\n",
       "      <td>NaN</td>\n",
       "      <td>Algeria</td>\n",
       "      <td>3848</td>\n",
       "      <td>444</td>\n",
       "      <td>1702</td>\n",
       "    </tr>\n",
       "    <tr>\n",
       "      <th>3</th>\n",
       "      <td>4/29/2020</td>\n",
       "      <td>NaN</td>\n",
       "      <td>Andorra</td>\n",
       "      <td>743</td>\n",
       "      <td>42</td>\n",
       "      <td>423</td>\n",
       "    </tr>\n",
       "    <tr>\n",
       "      <th>4</th>\n",
       "      <td>4/29/2020</td>\n",
       "      <td>NaN</td>\n",
       "      <td>Angola</td>\n",
       "      <td>27</td>\n",
       "      <td>2</td>\n",
       "      <td>7</td>\n",
       "    </tr>\n",
       "    <tr>\n",
       "      <th>...</th>\n",
       "      <td>...</td>\n",
       "      <td>...</td>\n",
       "      <td>...</td>\n",
       "      <td>...</td>\n",
       "      <td>...</td>\n",
       "      <td>...</td>\n",
       "    </tr>\n",
       "    <tr>\n",
       "      <th>316</th>\n",
       "      <td>4/29/2020</td>\n",
       "      <td>Wyoming</td>\n",
       "      <td>US</td>\n",
       "      <td>545</td>\n",
       "      <td>7</td>\n",
       "      <td>0</td>\n",
       "    </tr>\n",
       "    <tr>\n",
       "      <th>317</th>\n",
       "      <td>4/29/2020</td>\n",
       "      <td>Xinjiang</td>\n",
       "      <td>Mainland China</td>\n",
       "      <td>76</td>\n",
       "      <td>3</td>\n",
       "      <td>73</td>\n",
       "    </tr>\n",
       "    <tr>\n",
       "      <th>318</th>\n",
       "      <td>4/29/2020</td>\n",
       "      <td>Yukon</td>\n",
       "      <td>Canada</td>\n",
       "      <td>11</td>\n",
       "      <td>0</td>\n",
       "      <td>0</td>\n",
       "    </tr>\n",
       "    <tr>\n",
       "      <th>319</th>\n",
       "      <td>4/29/2020</td>\n",
       "      <td>Yunnan</td>\n",
       "      <td>Mainland China</td>\n",
       "      <td>185</td>\n",
       "      <td>2</td>\n",
       "      <td>181</td>\n",
       "    </tr>\n",
       "    <tr>\n",
       "      <th>320</th>\n",
       "      <td>4/29/2020</td>\n",
       "      <td>Zhejiang</td>\n",
       "      <td>Mainland China</td>\n",
       "      <td>1268</td>\n",
       "      <td>1</td>\n",
       "      <td>1263</td>\n",
       "    </tr>\n",
       "  </tbody>\n",
       "</table>\n",
       "<p>321 rows × 6 columns</p>\n",
       "</div>"
      ],
      "text/plain": [
       "          Date     State          Region  Confirmed  Deaths  Recovered\n",
       "0    4/29/2020       NaN     Afghanistan       1939      60        252\n",
       "1    4/29/2020       NaN         Albania        766      30        455\n",
       "2    4/29/2020       NaN         Algeria       3848     444       1702\n",
       "3    4/29/2020       NaN         Andorra        743      42        423\n",
       "4    4/29/2020       NaN          Angola         27       2          7\n",
       "..         ...       ...             ...        ...     ...        ...\n",
       "316  4/29/2020   Wyoming              US        545       7          0\n",
       "317  4/29/2020  Xinjiang  Mainland China         76       3         73\n",
       "318  4/29/2020     Yukon          Canada         11       0          0\n",
       "319  4/29/2020    Yunnan  Mainland China        185       2        181\n",
       "320  4/29/2020  Zhejiang  Mainland China       1268       1       1263\n",
       "\n",
       "[321 rows x 6 columns]"
      ]
     },
     "execution_count": 10,
     "metadata": {},
     "output_type": "execute_result"
    }
   ],
   "source": [
    "covid = pd.read_csv('../datasets/covid19.csv')#Multas\n",
    "covid"
   ]
  },
  {
   "cell_type": "code",
   "execution_count": 10,
   "id": "72952828-5790-4781-b0d3-95ed29498939",
   "metadata": {},
   "outputs": [
    {
     "name": "stdout",
     "output_type": "stream",
     "text": [
      "Region\n",
      "US    1039909\n",
      "Name: Confirmed, dtype: int64\n",
      "Region\n",
      "Yemen    6\n",
      "Name: Confirmed, dtype: int64\n"
     ]
    }
   ],
   "source": [
    "#1 ¿Cúal es la región con más casos confirmados?¿y con menos?\n",
    "A =covid.groupby('Region')['Confirmed'].sum().sort_values(ascending = False).head(1) # Agrupar por Region ,sacar la suma de los casos confirmados y mostrar el más alto\n",
    "B =covid.groupby('Region')['Confirmed'].sum().sort_values(ascending = True).head(1) # Agrupar por Region ,sacar la suma de los casos confirmados y mostrar el más bajo\n",
    "print(A)\n",
    "print(B)\n"
   ]
  },
  {
   "cell_type": "code",
   "execution_count": 11,
   "id": "f0bc007e-cb81-439d-b025-abdce3c9d860",
   "metadata": {},
   "outputs": [
    {
     "data": {
      "text/html": [
       "<div>\n",
       "<style scoped>\n",
       "    .dataframe tbody tr th:only-of-type {\n",
       "        vertical-align: middle;\n",
       "    }\n",
       "\n",
       "    .dataframe tbody tr th {\n",
       "        vertical-align: top;\n",
       "    }\n",
       "\n",
       "    .dataframe thead th {\n",
       "        text-align: right;\n",
       "    }\n",
       "</style>\n",
       "<table border=\"1\" class=\"dataframe\">\n",
       "  <thead>\n",
       "    <tr style=\"text-align: right;\">\n",
       "      <th></th>\n",
       "      <th>Date</th>\n",
       "      <th>State</th>\n",
       "      <th>Region</th>\n",
       "      <th>Confirmed</th>\n",
       "      <th>Deaths</th>\n",
       "      <th>Recovered</th>\n",
       "      <th>proporcion</th>\n",
       "    </tr>\n",
       "  </thead>\n",
       "  <tbody>\n",
       "    <tr>\n",
       "      <th>118</th>\n",
       "      <td>4/29/2020</td>\n",
       "      <td>NaN</td>\n",
       "      <td>Nicaragua</td>\n",
       "      <td>13</td>\n",
       "      <td>3</td>\n",
       "      <td>7</td>\n",
       "      <td>0.230769</td>\n",
       "    </tr>\n",
       "  </tbody>\n",
       "</table>\n",
       "</div>"
      ],
      "text/plain": [
       "          Date State     Region  Confirmed  Deaths  Recovered  proporcion\n",
       "118  4/29/2020   NaN  Nicaragua         13       3          7    0.230769"
      ]
     },
     "execution_count": 11,
     "metadata": {},
     "output_type": "execute_result"
    }
   ],
   "source": [
    "#2 ¿Cuál es la región con mayor proporción de muertos con respecto a casos confirmados?\n",
    "\n",
    "covid2 = covid\n",
    "covid2.groupby('Region').mean() # Agrupar por region y sacar la media\n",
    "covid2['proporcion'] = covid2['Deaths']/covid2['Confirmed'] # Calcular el campo proporcion = muertes / confirmados\n",
    "covid2 = covid2[covid['proporcion'] != np.inf] # Eliminar campos np.inf\n",
    "covid2.sort_values('proporcion', ascending= False).head(1) # Sacar la region con mayor proporcion"
   ]
  },
  {
   "cell_type": "code",
   "execution_count": 12,
   "id": "4948706b-247d-4cf2-bb3d-978d19e37caa",
   "metadata": {},
   "outputs": [
    {
     "data": {
      "text/plain": [
       "array([<AxesSubplot:title={'center':'Confirmed'}, xlabel='Region'>,\n",
       "       <AxesSubplot:title={'center':'Deaths'}, xlabel='Region'>,\n",
       "       <AxesSubplot:title={'center':'Recovered'}, xlabel='Region'>],\n",
       "      dtype=object)"
      ]
     },
     "execution_count": 12,
     "metadata": {},
     "output_type": "execute_result"
    },
    {
     "data": {
      "image/png": "[encoded data removed]",
      "text/plain": [
       "<Figure size 432x288 with 3 Axes>"
      ]
     },
     "metadata": {
      "needs_background": "light"
     },
     "output_type": "display_data"
    }
   ],
   "source": [
    "#3 Plotea una figura con tres gráficos para estudiar los casos confirmados, muertos y recuperados por país \n",
    "#  en los siguientes países: España, Italia y Alemania. Tiene que haber un gráfico por país.\n",
    "\n",
    "covidP = covid[(covid[\"Region\"] == \"Spain\") | (covid[\"Region\"] == \"Italy\") | (covid[\"Region\"] == \"Germany\")] #Filtrar las regiones que son Spin, Italy o Germany\n",
    "covidP.plot(kind = 'bar', x = 'Region', y = ['Confirmed', 'Deaths', 'Recovered'], subplots=True) # Hacer un gráfico de barras que muestra los casos confirmados, muertes y recuperados por region\n"
   ]
  },
  {
   "cell_type": "markdown",
   "id": "9fcf754f-944e-49a1-aba6-9b7c35ebe79c",
   "metadata": {},
   "source": [
    "### Ejercicio 3: MovieLens Dataset\n",
    "\n",
    "**Carga el csv con los datos de MovieLens y completa las tareas que se piden:**\n"
   ]
  },
  {
   "cell_type": "code",
   "execution_count": 13,
   "id": "8a4c3521-2362-46cd-90b9-c35a9e223f5a",
   "metadata": {},
   "outputs": [
    {
     "name": "stdout",
     "output_type": "stream",
     "text": [
      "Extracting all files...\n",
      "Done!\n"
     ]
    }
   ],
   "source": [
    "# descargar del dataset MovieLens \n",
    "url = 'http://files.grouplens.org/datasets/movielens/ml-1m.zip'  \n",
    "local_zip = os.path.join(\"../datasets\", \"ml-1m.zip\")\n",
    "urllib.request.urlretrieve(url, local_zip)\n",
    "# para descomprimir un archivo zip\n",
    "with zp.ZipFile(local_zip, 'r') as zipp: \n",
    "    print('Extracting all files...') \n",
    "    zipp.extractall(os.path.join(\"datasets\")) # donde se guarda\n",
    "    print('Done!') "
   ]
  },
  {
   "cell_type": "code",
   "execution_count": 13,
   "id": "c52587c3-55a0-4638-a1b4-a750393fcae7",
   "metadata": {},
   "outputs": [],
   "source": [
    "root_path = os.path.join(\"datasets\", \"ml-1m\" )\n",
    "\n",
    "ratings = pd.read_csv(os.path.join(root_path, \"ratings.dat\"), sep='::',\n",
    "                                index_col=0, engine='python',\n",
    "                                names=['UserID','MovieID','Rating','Timestamp'])\n",
    "\n",
    "users = pd.read_csv(os.path.join(root_path, \"users.dat\"),sep='::',\n",
    "                              index_col=0, engine='python',\n",
    "                              names=['UserID','Gender','Age','Occupation','Zip-code'])"
   ]
  },
  {
   "cell_type": "code",
   "execution_count": null,
   "id": "b5511c94-c51f-4f7b-ae3a-2ac47bb6526c",
   "metadata": {},
   "outputs": [],
   "source": [
    "ratings"
   ]
  },
  {
   "cell_type": "code",
   "execution_count": null,
   "id": "83bc321d-b546-44d4-83c0-1bbb71b95a35",
   "metadata": {},
   "outputs": [],
   "source": [
    "users"
   ]
  },
  {
   "cell_type": "markdown",
   "id": "7086b171-1ac5-4b41-bca7-aa79caa6a431",
   "metadata": {},
   "source": [
    "#### 3.1. Combina los datasets de ratings y users, en un dataset llamado all_dataset, cruzando por una columna común y comprueba que se ha hecho bien el cruce. Con ese dataset crea una pivot table a partir de la tabla Ratings para calcular la media y el total de ratings por  y género y ocupación\n",
    "\n",
    "¿merge, join, concat? ¿left,right, inner?"
   ]
  },
  {
   "cell_type": "code",
   "execution_count": null,
   "id": "98fad66e-bffa-449b-bed0-a69f97b16f56",
   "metadata": {},
   "outputs": [],
   "source": [
    "all_dataset = pd.merge(ratings, users, left_index=True, right_index = True)\n",
    "all_dataset"
   ]
  },
  {
   "cell_type": "markdown",
   "id": "b3ca006e-f63b-4504-94e5-9d58ece004dd",
   "metadata": {},
   "source": [
    "#### Pivot Tables\n",
    "- Representar los datos en función a varios parámetros, agregando\n",
    "```python\n",
    "pivot_table(<lista de valores>, index=<agregador primario>, columns=<agregador secundario>)\n",
    "```\n",
    "https://pandas.pydata.org/pandas-docs/stable/reference/api/pandas.pivot_table.html\n",
    "\n",
    "Ejemplo:"
   ]
  },
  {
   "cell_type": "code",
   "execution_count": null,
   "id": "fe1e594c-fffd-4cce-b1ea-ea898f766223",
   "metadata": {},
   "outputs": [],
   "source": [
    "all_dataset.pivot_table('Rating', index='Gender', columns='Age', aggfunc='count')"
   ]
  },
  {
   "cell_type": "code",
   "execution_count": 16,
   "id": "30c4cf7b-6ff2-405b-af6f-e177cd9122e9",
   "metadata": {},
   "outputs": [
    {
     "data": {
      "text/plain": [
       "Gender\n",
       "F    246440\n",
       "M    753769\n",
       "dtype: int64"
      ]
     },
     "execution_count": 16,
     "metadata": {},
     "output_type": "execute_result"
    }
   ],
   "source": [
    "all_dataset.pivot_table('Rating', index='Occupation', columns='Gender', aggfunc='count').sum()"
   ]
  },
  {
   "cell_type": "code",
   "execution_count": 17,
   "id": "27f67f0b-49d0-4529-a775-7e55031b2ae8",
   "metadata": {},
   "outputs": [
    {
     "data": {
      "text/plain": [
       "Gender\n",
       "F    11735.238095\n",
       "M    35893.761905\n",
       "dtype: float64"
      ]
     },
     "execution_count": 17,
     "metadata": {},
     "output_type": "execute_result"
    }
   ],
   "source": [
    "all_dataset.pivot_table('Rating', index='Occupation', columns='Gender', aggfunc='count').mean()"
   ]
  },
  {
   "cell_type": "markdown",
   "id": "c09d886f-a351-404a-be37-68648a544591",
   "metadata": {},
   "source": [
    "#### 3.2. Dado el dataset de géneros únelo con el dataset original (movies) encuentra:\n",
    "\n",
    "- Comedias de 1975\n",
    "- Películas del oeste de 1980\n",
    "- Género del que se produjeron más películas a lo largo de cada uno de los años de la década de los 80s"
   ]
  },
  {
   "cell_type": "code",
   "execution_count": 14,
   "id": "f2fc8af1-dab9-428a-a998-c6d50dbe3f8e",
   "metadata": {},
   "outputs": [
    {
     "data": {
      "text/html": [
       "<div>\n",
       "<style scoped>\n",
       "    .dataframe tbody tr th:only-of-type {\n",
       "        vertical-align: middle;\n",
       "    }\n",
       "\n",
       "    .dataframe tbody tr th {\n",
       "        vertical-align: top;\n",
       "    }\n",
       "\n",
       "    .dataframe thead th {\n",
       "        text-align: right;\n",
       "    }\n",
       "</style>\n",
       "<table border=\"1\" class=\"dataframe\">\n",
       "  <thead>\n",
       "    <tr style=\"text-align: right;\">\n",
       "      <th></th>\n",
       "      <th>MovieID</th>\n",
       "      <th>Title</th>\n",
       "      <th>Genre</th>\n",
       "    </tr>\n",
       "  </thead>\n",
       "  <tbody>\n",
       "    <tr>\n",
       "      <th>0</th>\n",
       "      <td>1</td>\n",
       "      <td>Toy Story (1995)</td>\n",
       "      <td>Animation|Children's|Comedy</td>\n",
       "    </tr>\n",
       "    <tr>\n",
       "      <th>1</th>\n",
       "      <td>2</td>\n",
       "      <td>Jumanji (1995)</td>\n",
       "      <td>Adventure|Children's|Fantasy</td>\n",
       "    </tr>\n",
       "    <tr>\n",
       "      <th>2</th>\n",
       "      <td>3</td>\n",
       "      <td>Grumpier Old Men (1995)</td>\n",
       "      <td>Comedy|Romance</td>\n",
       "    </tr>\n",
       "    <tr>\n",
       "      <th>3</th>\n",
       "      <td>4</td>\n",
       "      <td>Waiting to Exhale (1995)</td>\n",
       "      <td>Comedy|Drama</td>\n",
       "    </tr>\n",
       "    <tr>\n",
       "      <th>4</th>\n",
       "      <td>5</td>\n",
       "      <td>Father of the Bride Part II (1995)</td>\n",
       "      <td>Comedy</td>\n",
       "    </tr>\n",
       "    <tr>\n",
       "      <th>...</th>\n",
       "      <td>...</td>\n",
       "      <td>...</td>\n",
       "      <td>...</td>\n",
       "    </tr>\n",
       "    <tr>\n",
       "      <th>3878</th>\n",
       "      <td>3948</td>\n",
       "      <td>Meet the Parents (2000)</td>\n",
       "      <td>Comedy</td>\n",
       "    </tr>\n",
       "    <tr>\n",
       "      <th>3879</th>\n",
       "      <td>3949</td>\n",
       "      <td>Requiem for a Dream (2000)</td>\n",
       "      <td>Drama</td>\n",
       "    </tr>\n",
       "    <tr>\n",
       "      <th>3880</th>\n",
       "      <td>3950</td>\n",
       "      <td>Tigerland (2000)</td>\n",
       "      <td>Drama</td>\n",
       "    </tr>\n",
       "    <tr>\n",
       "      <th>3881</th>\n",
       "      <td>3951</td>\n",
       "      <td>Two Family House (2000)</td>\n",
       "      <td>Drama</td>\n",
       "    </tr>\n",
       "    <tr>\n",
       "      <th>3882</th>\n",
       "      <td>3952</td>\n",
       "      <td>Contender, The (2000)</td>\n",
       "      <td>Drama|Thriller</td>\n",
       "    </tr>\n",
       "  </tbody>\n",
       "</table>\n",
       "<p>3883 rows × 3 columns</p>\n",
       "</div>"
      ],
      "text/plain": [
       "      MovieID                               Title  \\\n",
       "0           1                    Toy Story (1995)   \n",
       "1           2                      Jumanji (1995)   \n",
       "2           3             Grumpier Old Men (1995)   \n",
       "3           4            Waiting to Exhale (1995)   \n",
       "4           5  Father of the Bride Part II (1995)   \n",
       "...       ...                                 ...   \n",
       "3878     3948             Meet the Parents (2000)   \n",
       "3879     3949          Requiem for a Dream (2000)   \n",
       "3880     3950                    Tigerland (2000)   \n",
       "3881     3951             Two Family House (2000)   \n",
       "3882     3952               Contender, The (2000)   \n",
       "\n",
       "                             Genre  \n",
       "0      Animation|Children's|Comedy  \n",
       "1     Adventure|Children's|Fantasy  \n",
       "2                   Comedy|Romance  \n",
       "3                     Comedy|Drama  \n",
       "4                           Comedy  \n",
       "...                            ...  \n",
       "3878                        Comedy  \n",
       "3879                         Drama  \n",
       "3880                         Drama  \n",
       "3881                         Drama  \n",
       "3882                Drama|Thriller  \n",
       "\n",
       "[3883 rows x 3 columns]"
      ]
     },
     "execution_count": 14,
     "metadata": {},
     "output_type": "execute_result"
    }
   ],
   "source": [
    "movies = pd.read_csv(os.path.join(root_path, \"movies.dat\"),sep='::', engine='python',names=['MovieID','Title','Genre'])\n",
    "movies"
   ]
  },
  {
   "cell_type": "code",
   "execution_count": 21,
   "id": "058efac1-8491-459e-9ada-f65d7e185941",
   "metadata": {},
   "outputs": [
    {
     "name": "stdout",
     "output_type": "stream",
     "text": [
      "0        [Animation, Children's, Comedy]\n",
      "1       [Adventure, Children's, Fantasy]\n",
      "2                      [Comedy, Romance]\n",
      "3                        [Comedy, Drama]\n",
      "4                               [Comedy]\n",
      "                      ...               \n",
      "3878                            [Comedy]\n",
      "3879                             [Drama]\n",
      "3880                             [Drama]\n",
      "3881                             [Drama]\n",
      "3882                   [Drama, Thriller]\n",
      "Name: Genre, Length: 3883, dtype: object\n",
      "['Animation' \"Children's\" 'Comedy' 'Adventure' 'Fantasy' 'Romance' 'Drama'\n",
      " 'Action' 'Crime' 'Thriller' 'Horror' 'Sci-Fi' 'Documentary' 'War'\n",
      " 'Musical' 'Mystery' 'Film-Noir' 'Western']\n"
     ]
    }
   ],
   "source": [
    "all_genres = movies['Genre'].apply(lambda x : x.split('|'))\n",
    "print(all_genres)\n",
    "\n",
    "# print([genre for x in all_genres for genre in x])\n",
    "\n",
    "genres = pd.unique([genre for x in all_genres for genre in x])\n",
    "print(genres)"
   ]
  },
  {
   "cell_type": "code",
   "execution_count": 22,
   "id": "bd80b420-b14e-4671-9b98-4526d682659f",
   "metadata": {},
   "outputs": [
    {
     "data": {
      "text/html": [
       "<div>\n",
       "<style scoped>\n",
       "    .dataframe tbody tr th:only-of-type {\n",
       "        vertical-align: middle;\n",
       "    }\n",
       "\n",
       "    .dataframe tbody tr th {\n",
       "        vertical-align: top;\n",
       "    }\n",
       "\n",
       "    .dataframe thead th {\n",
       "        text-align: right;\n",
       "    }\n",
       "</style>\n",
       "<table border=\"1\" class=\"dataframe\">\n",
       "  <thead>\n",
       "    <tr style=\"text-align: right;\">\n",
       "      <th></th>\n",
       "      <th>Animation</th>\n",
       "      <th>Children's</th>\n",
       "      <th>Comedy</th>\n",
       "      <th>Adventure</th>\n",
       "      <th>Fantasy</th>\n",
       "      <th>Romance</th>\n",
       "      <th>Drama</th>\n",
       "      <th>Action</th>\n",
       "      <th>Crime</th>\n",
       "      <th>Thriller</th>\n",
       "      <th>Horror</th>\n",
       "      <th>Sci-Fi</th>\n",
       "      <th>Documentary</th>\n",
       "      <th>War</th>\n",
       "      <th>Musical</th>\n",
       "      <th>Mystery</th>\n",
       "      <th>Film-Noir</th>\n",
       "      <th>Western</th>\n",
       "    </tr>\n",
       "  </thead>\n",
       "  <tbody>\n",
       "    <tr>\n",
       "      <th>0</th>\n",
       "      <td>1.0</td>\n",
       "      <td>1.0</td>\n",
       "      <td>1.0</td>\n",
       "      <td>0.0</td>\n",
       "      <td>0.0</td>\n",
       "      <td>0.0</td>\n",
       "      <td>0.0</td>\n",
       "      <td>0.0</td>\n",
       "      <td>0.0</td>\n",
       "      <td>0.0</td>\n",
       "      <td>0.0</td>\n",
       "      <td>0.0</td>\n",
       "      <td>0.0</td>\n",
       "      <td>0.0</td>\n",
       "      <td>0.0</td>\n",
       "      <td>0.0</td>\n",
       "      <td>0.0</td>\n",
       "      <td>0.0</td>\n",
       "    </tr>\n",
       "    <tr>\n",
       "      <th>1</th>\n",
       "      <td>0.0</td>\n",
       "      <td>1.0</td>\n",
       "      <td>0.0</td>\n",
       "      <td>1.0</td>\n",
       "      <td>1.0</td>\n",
       "      <td>0.0</td>\n",
       "      <td>0.0</td>\n",
       "      <td>0.0</td>\n",
       "      <td>0.0</td>\n",
       "      <td>0.0</td>\n",
       "      <td>0.0</td>\n",
       "      <td>0.0</td>\n",
       "      <td>0.0</td>\n",
       "      <td>0.0</td>\n",
       "      <td>0.0</td>\n",
       "      <td>0.0</td>\n",
       "      <td>0.0</td>\n",
       "      <td>0.0</td>\n",
       "    </tr>\n",
       "    <tr>\n",
       "      <th>2</th>\n",
       "      <td>0.0</td>\n",
       "      <td>0.0</td>\n",
       "      <td>1.0</td>\n",
       "      <td>0.0</td>\n",
       "      <td>0.0</td>\n",
       "      <td>1.0</td>\n",
       "      <td>0.0</td>\n",
       "      <td>0.0</td>\n",
       "      <td>0.0</td>\n",
       "      <td>0.0</td>\n",
       "      <td>0.0</td>\n",
       "      <td>0.0</td>\n",
       "      <td>0.0</td>\n",
       "      <td>0.0</td>\n",
       "      <td>0.0</td>\n",
       "      <td>0.0</td>\n",
       "      <td>0.0</td>\n",
       "      <td>0.0</td>\n",
       "    </tr>\n",
       "    <tr>\n",
       "      <th>3</th>\n",
       "      <td>0.0</td>\n",
       "      <td>0.0</td>\n",
       "      <td>1.0</td>\n",
       "      <td>0.0</td>\n",
       "      <td>0.0</td>\n",
       "      <td>0.0</td>\n",
       "      <td>1.0</td>\n",
       "      <td>0.0</td>\n",
       "      <td>0.0</td>\n",
       "      <td>0.0</td>\n",
       "      <td>0.0</td>\n",
       "      <td>0.0</td>\n",
       "      <td>0.0</td>\n",
       "      <td>0.0</td>\n",
       "      <td>0.0</td>\n",
       "      <td>0.0</td>\n",
       "      <td>0.0</td>\n",
       "      <td>0.0</td>\n",
       "    </tr>\n",
       "    <tr>\n",
       "      <th>4</th>\n",
       "      <td>0.0</td>\n",
       "      <td>0.0</td>\n",
       "      <td>1.0</td>\n",
       "      <td>0.0</td>\n",
       "      <td>0.0</td>\n",
       "      <td>0.0</td>\n",
       "      <td>0.0</td>\n",
       "      <td>0.0</td>\n",
       "      <td>0.0</td>\n",
       "      <td>0.0</td>\n",
       "      <td>0.0</td>\n",
       "      <td>0.0</td>\n",
       "      <td>0.0</td>\n",
       "      <td>0.0</td>\n",
       "      <td>0.0</td>\n",
       "      <td>0.0</td>\n",
       "      <td>0.0</td>\n",
       "      <td>0.0</td>\n",
       "    </tr>\n",
       "    <tr>\n",
       "      <th>...</th>\n",
       "      <td>...</td>\n",
       "      <td>...</td>\n",
       "      <td>...</td>\n",
       "      <td>...</td>\n",
       "      <td>...</td>\n",
       "      <td>...</td>\n",
       "      <td>...</td>\n",
       "      <td>...</td>\n",
       "      <td>...</td>\n",
       "      <td>...</td>\n",
       "      <td>...</td>\n",
       "      <td>...</td>\n",
       "      <td>...</td>\n",
       "      <td>...</td>\n",
       "      <td>...</td>\n",
       "      <td>...</td>\n",
       "      <td>...</td>\n",
       "      <td>...</td>\n",
       "    </tr>\n",
       "    <tr>\n",
       "      <th>3878</th>\n",
       "      <td>0.0</td>\n",
       "      <td>0.0</td>\n",
       "      <td>1.0</td>\n",
       "      <td>0.0</td>\n",
       "      <td>0.0</td>\n",
       "      <td>0.0</td>\n",
       "      <td>0.0</td>\n",
       "      <td>0.0</td>\n",
       "      <td>0.0</td>\n",
       "      <td>0.0</td>\n",
       "      <td>0.0</td>\n",
       "      <td>0.0</td>\n",
       "      <td>0.0</td>\n",
       "      <td>0.0</td>\n",
       "      <td>0.0</td>\n",
       "      <td>0.0</td>\n",
       "      <td>0.0</td>\n",
       "      <td>0.0</td>\n",
       "    </tr>\n",
       "    <tr>\n",
       "      <th>3879</th>\n",
       "      <td>0.0</td>\n",
       "      <td>0.0</td>\n",
       "      <td>0.0</td>\n",
       "      <td>0.0</td>\n",
       "      <td>0.0</td>\n",
       "      <td>0.0</td>\n",
       "      <td>1.0</td>\n",
       "      <td>0.0</td>\n",
       "      <td>0.0</td>\n",
       "      <td>0.0</td>\n",
       "      <td>0.0</td>\n",
       "      <td>0.0</td>\n",
       "      <td>0.0</td>\n",
       "      <td>0.0</td>\n",
       "      <td>0.0</td>\n",
       "      <td>0.0</td>\n",
       "      <td>0.0</td>\n",
       "      <td>0.0</td>\n",
       "    </tr>\n",
       "    <tr>\n",
       "      <th>3880</th>\n",
       "      <td>0.0</td>\n",
       "      <td>0.0</td>\n",
       "      <td>0.0</td>\n",
       "      <td>0.0</td>\n",
       "      <td>0.0</td>\n",
       "      <td>0.0</td>\n",
       "      <td>1.0</td>\n",
       "      <td>0.0</td>\n",
       "      <td>0.0</td>\n",
       "      <td>0.0</td>\n",
       "      <td>0.0</td>\n",
       "      <td>0.0</td>\n",
       "      <td>0.0</td>\n",
       "      <td>0.0</td>\n",
       "      <td>0.0</td>\n",
       "      <td>0.0</td>\n",
       "      <td>0.0</td>\n",
       "      <td>0.0</td>\n",
       "    </tr>\n",
       "    <tr>\n",
       "      <th>3881</th>\n",
       "      <td>0.0</td>\n",
       "      <td>0.0</td>\n",
       "      <td>0.0</td>\n",
       "      <td>0.0</td>\n",
       "      <td>0.0</td>\n",
       "      <td>0.0</td>\n",
       "      <td>1.0</td>\n",
       "      <td>0.0</td>\n",
       "      <td>0.0</td>\n",
       "      <td>0.0</td>\n",
       "      <td>0.0</td>\n",
       "      <td>0.0</td>\n",
       "      <td>0.0</td>\n",
       "      <td>0.0</td>\n",
       "      <td>0.0</td>\n",
       "      <td>0.0</td>\n",
       "      <td>0.0</td>\n",
       "      <td>0.0</td>\n",
       "    </tr>\n",
       "    <tr>\n",
       "      <th>3882</th>\n",
       "      <td>0.0</td>\n",
       "      <td>0.0</td>\n",
       "      <td>0.0</td>\n",
       "      <td>0.0</td>\n",
       "      <td>0.0</td>\n",
       "      <td>0.0</td>\n",
       "      <td>1.0</td>\n",
       "      <td>0.0</td>\n",
       "      <td>0.0</td>\n",
       "      <td>1.0</td>\n",
       "      <td>0.0</td>\n",
       "      <td>0.0</td>\n",
       "      <td>0.0</td>\n",
       "      <td>0.0</td>\n",
       "      <td>0.0</td>\n",
       "      <td>0.0</td>\n",
       "      <td>0.0</td>\n",
       "      <td>0.0</td>\n",
       "    </tr>\n",
       "  </tbody>\n",
       "</table>\n",
       "<p>3883 rows × 18 columns</p>\n",
       "</div>"
      ],
      "text/plain": [
       "      Animation  Children's  Comedy  Adventure  Fantasy  Romance  Drama  \\\n",
       "0           1.0         1.0     1.0        0.0      0.0      0.0    0.0   \n",
       "1           0.0         1.0     0.0        1.0      1.0      0.0    0.0   \n",
       "2           0.0         0.0     1.0        0.0      0.0      1.0    0.0   \n",
       "3           0.0         0.0     1.0        0.0      0.0      0.0    1.0   \n",
       "4           0.0         0.0     1.0        0.0      0.0      0.0    0.0   \n",
       "...         ...         ...     ...        ...      ...      ...    ...   \n",
       "3878        0.0         0.0     1.0        0.0      0.0      0.0    0.0   \n",
       "3879        0.0         0.0     0.0        0.0      0.0      0.0    1.0   \n",
       "3880        0.0         0.0     0.0        0.0      0.0      0.0    1.0   \n",
       "3881        0.0         0.0     0.0        0.0      0.0      0.0    1.0   \n",
       "3882        0.0         0.0     0.0        0.0      0.0      0.0    1.0   \n",
       "\n",
       "      Action  Crime  Thriller  Horror  Sci-Fi  Documentary  War  Musical  \\\n",
       "0        0.0    0.0       0.0     0.0     0.0          0.0  0.0      0.0   \n",
       "1        0.0    0.0       0.0     0.0     0.0          0.0  0.0      0.0   \n",
       "2        0.0    0.0       0.0     0.0     0.0          0.0  0.0      0.0   \n",
       "3        0.0    0.0       0.0     0.0     0.0          0.0  0.0      0.0   \n",
       "4        0.0    0.0       0.0     0.0     0.0          0.0  0.0      0.0   \n",
       "...      ...    ...       ...     ...     ...          ...  ...      ...   \n",
       "3878     0.0    0.0       0.0     0.0     0.0          0.0  0.0      0.0   \n",
       "3879     0.0    0.0       0.0     0.0     0.0          0.0  0.0      0.0   \n",
       "3880     0.0    0.0       0.0     0.0     0.0          0.0  0.0      0.0   \n",
       "3881     0.0    0.0       0.0     0.0     0.0          0.0  0.0      0.0   \n",
       "3882     0.0    0.0       1.0     0.0     0.0          0.0  0.0      0.0   \n",
       "\n",
       "      Mystery  Film-Noir  Western  \n",
       "0         0.0        0.0      0.0  \n",
       "1         0.0        0.0      0.0  \n",
       "2         0.0        0.0      0.0  \n",
       "3         0.0        0.0      0.0  \n",
       "4         0.0        0.0      0.0  \n",
       "...       ...        ...      ...  \n",
       "3878      0.0        0.0      0.0  \n",
       "3879      0.0        0.0      0.0  \n",
       "3880      0.0        0.0      0.0  \n",
       "3881      0.0        0.0      0.0  \n",
       "3882      0.0        0.0      0.0  \n",
       "\n",
       "[3883 rows x 18 columns]"
      ]
     },
     "execution_count": 22,
     "metadata": {},
     "output_type": "execute_result"
    }
   ],
   "source": [
    "# crear tabla con columnas por género\n",
    "zeros = np.zeros( (len(movies), len(genres)) )\n",
    "genres_frame = pd.DataFrame(zeros, columns=genres)\n",
    "\n",
    "\n",
    "columns_genres = genres_frame.columns # lista de generos (columnas)\n",
    "# para cada película, marcar género con 1\n",
    "for i, genre in enumerate(movies['Genre']):\n",
    "    inds = columns_genres.get_indexer(genre.split('|')) # retorna los indices correspondientes a los generos de cada pelicula\n",
    "    genres_frame.iloc[i,inds] = 1 # localiza las columnas del genero correspondiente, marca con 1\n",
    "genres_frame"
   ]
  },
  {
   "cell_type": "code",
   "execution_count": null,
   "id": "50a51d14-907a-4db6-acc0-829948af5c2d",
   "metadata": {},
   "outputs": [],
   "source": [
    "#1 Comedias de 1975\n",
    "\n",
    "movies75 = movies.loc[movies['Title'].str.contains(\"1975\")].loc[movies['Genre'].str.contains('Comedy')] # Filtrar las peliculas de 1975 y de Comedia\n",
    "movies75"
   ]
  },
  {
   "cell_type": "code",
   "execution_count": null,
   "id": "243ba8b1-e34a-43f9-817c-7683c3e2a731",
   "metadata": {},
   "outputs": [],
   "source": [
    "#2 Películas del oeste de 1980\n",
    "movies80W = movies.loc[movies['Title'].str.contains(\"1980\")].loc[movies['Genre'].str.contains('Western')] # Filtrar las peliculas de 1980 y del Oeste\n",
    "movies80W"
   ]
  },
  {
   "cell_type": "code",
   "execution_count": 27,
   "id": "abb9a508-daed-48c2-b739-0dbbafd7ef25",
   "metadata": {},
   "outputs": [
    {
     "data": {
      "text/plain": [
       "year\n",
       "80     41\n",
       "81     43\n",
       "82     50\n",
       "83     35\n",
       "84     60\n",
       "85     65\n",
       "86    104\n",
       "87     71\n",
       "88     69\n",
       "89     60\n",
       "dtype: int64"
      ]
     },
     "execution_count": 27,
     "metadata": {},
     "output_type": "execute_result"
    }
   ],
   "source": [
    "#3 Género del que se produjeron más películas a lo largo de cada uno de los años de la década de los 80s\n",
    "moviesG = pd.merge(movies.loc[movies['Title'].str.contains(\"198\", case=False)], genres_frame, left_index=True, right_index=True, sort=True)\n",
    "moviesG[\"year\"] = moviesG[\"Title\"].str.split('19').str[1].str[:-1]\n",
    "moviesG.groupby(['year']).size()"
   ]
  }
 ],
 "metadata": {
  "kernelspec": {
   "display_name": "Python 3",
   "language": "python",
   "name": "python3"
  },
  "language_info": {
   "codemirror_mode": {
    "name": "ipython",
    "version": 3
   },
   "file_extension": ".py",
   "mimetype": "text/x-python",
   "name": "python",
   "nbconvert_exporter": "python",
   "pygments_lexer": "ipython3",
   "version": "3.8.8"
  }
 },
 "nbformat": 4,
 "nbformat_minor": 5
}
