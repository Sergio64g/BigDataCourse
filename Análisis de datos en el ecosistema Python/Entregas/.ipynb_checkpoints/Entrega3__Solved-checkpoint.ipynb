{
 "cells": [
  {
   "cell_type": "markdown",
   "id": "c330f393-2c15-4fbc-93f4-1c1a1fd77bfe",
   "metadata": {},
   "source": [
    "## Nombre y apellidos\n",
    "\n",
    "**Nombre:**\n",
    "\n",
    "**Apellidos:**"
   ]
  },
  {
   "cell_type": "markdown",
   "id": "84eb23ac-f34e-47f9-bc3d-a076fa875f97",
   "metadata": {},
   "source": [
    "### Cambiar el nombre del notebook a *Entrega2_ApellidosNombre.ipynb*\n",
    "\n",
    "## -->*Importante comentar el código* <--"
   ]
  },
  {
   "cell_type": "code",
   "execution_count": null,
   "id": "3e8c95b1-736e-43fd-9c24-a8f42c12fb75",
   "metadata": {},
   "outputs": [],
   "source": [
    "import zipfile as zp # para descomprimir archivos zip\n",
    "import urllib.request # para descargar de URL\n",
    "import os\n",
    "import pandas as pd\n",
    "import numpy as np\n",
    "import matplotlib.pyplot as plt"
   ]
  },
  {
   "cell_type": "code",
   "execution_count": null,
   "id": "9aaa66ec",
   "metadata": {},
   "outputs": [],
   "source": [
    "# Carga del dataset\n",
    "police = pd.read_csv('datasets/police.csv')\n",
    "police.head()"
   ]
  },
  {
   "cell_type": "code",
   "execution_count": null,
   "id": "ec988295",
   "metadata": {},
   "outputs": [],
   "source": [
    "# Se crea la columna year para filtrar \n",
    "# Se puede hacer con str, con datetime... \n",
    "police['year'] = police['stop_date'].str[-4:]\n",
    "police.head()\n",
    "\n",
    "# Para hacerlo con datetime\n",
    "# police[\"year\"] = pd.to_datetime(police[\"stop_date\"]).dt.year"
   ]
  },
  {
   "cell_type": "markdown",
   "id": "e74781a9-3aa2-41b1-8c0f-333f1ac564a8",
   "metadata": {},
   "source": [
    "### Ejercicio 1: Police Dataset\n",
    "\n",
    "**Carga el csv con los datos de la policía, y obtén la siguiente información:**\n",
    "\n",
    "- 1. ¿Cuáles fue el delito más común en 2005? ¿Y los dos delitos más comunes en 2012?\n",
    "- 2. ¿Cuál ha sido el delito más común cada año desde que tenemos estadísticas?\n",
    "- 3. ¿Cuál fue el mes de 2008 con más delitos?\n",
    "- 4. ¿Cuáles fueron los dos delitos más comunes en 2012?\n",
    "- 5. ¿Las infracciones Speeding y Equipment son más comunes entre hombres o mujeres? Explica tu respuesta\n",
    "- 6. Obtén la media de la edad de los infractores por tipo de delito\n",
    "- 7. ¿Cuál es el delito por el que es más común ser arrestado?\n",
    "- 8. Plotea el gráfico que consideres más adecuado para analizar los diferentes delitos cometidos por hombres y mujeres.\n",
    "- 9. Plotea en el gráfico que consideres más apropiado la proporción (porcentaje) de cada tipo de delito (un gráfico por cada año)\n",
    "- 10. Plotea el gráfico que consideres más adecuado para ver la evolución en el tiempo del número de delitos de Speeding, Moving violation y Equipment"
   ]
  },
  {
   "cell_type": "code",
   "execution_count": null,
   "id": "dd0f11e5",
   "metadata": {},
   "outputs": [],
   "source": [
    "# Comprobación. Para hacer conteos, puedo utilizar size, o count para \"contar sobre una columna\". En el \n",
    "# segundo caso para que los datos estén bien, hay que utilizar una columna sin datos vacíos,\n",
    "# ya que éstos no serán contabilizados por groupby('grupo')['columna_con_vacios'].count()\n",
    "\n",
    "police.isnull().sum()"
   ]
  },
  {
   "cell_type": "code",
   "execution_count": null,
   "id": "11899c48",
   "metadata": {},
   "outputs": [],
   "source": [
    "police_2012 = police[police['year'] == '2012']\n",
    "police_2012.groupby('violation_raw').count()"
   ]
  },
  {
   "cell_type": "code",
   "execution_count": null,
   "id": "89e9ca13",
   "metadata": {},
   "outputs": [],
   "source": [
    "# 1. ¿Cuáles fue el delito más común en 2005? ¿Y los dos delitos más comunes en 2012?\n",
    "\n",
    "# Tenemos que agrupar por delito y por año para hacer el conteo (count), e incluímos as_index=False para evitar \n",
    "# que nos convierta en índices las columnas incluidas en el groupby\n",
    "top_violation_2005 = police.groupby(['year','violation'], as_index=False).count()\n",
    "\n",
    "# Visualizar todos los delitos\n",
    "#top_violation_2005[top_violation_2005['year']=='2005'].sort_values('stop_date', ascending=False)\n",
    "\n",
    "# Visualizar el delito más común\n",
    "# Añadimos head(1) para que nos muestre únicamente el primer elmento e iloc para mostrar el conteo una única vez.\n",
    "top_violation_2005[top_violation_2005['year']=='2005'].sort_values('stop_date', ascending=False).head(1).iloc[:,0:3]\n"
   ]
  },
  {
   "cell_type": "code",
   "execution_count": null,
   "id": "c2a9dbb1",
   "metadata": {},
   "outputs": [],
   "source": [
    "# Igual que ejercicio anterior, pero cambiando los datos\n",
    "\n",
    "top_violation_2012 = police.groupby(['year','violation'], as_index=False).count()\n",
    "# top_violation_2012[top_violation_2012['year']=='2012'].sort_values('stop_date', ascending=False)\n",
    "\n",
    "# Añadimos head(2) para que nos muestre únicamente los dos primeros elementeos e iloc para mostrar el conteo una única vez.\n",
    "top_violation_2012[top_violation_2012['year']=='2012'].sort_values('stop_date', ascending=False).head(2).iloc[:,0:3]"
   ]
  },
  {
   "cell_type": "code",
   "execution_count": null,
   "id": "7ce5421c",
   "metadata": {},
   "outputs": [],
   "source": [
    "# 2. ¿Cuál ha sido el delito más común cada año desde que tenemos estadísticas?\n",
    "\n",
    "# Tenemos que agrupar por delito y por año para hacer el conteo (count), e incluímos as_index=False para evitar \n",
    "# que nos convierta en índices las columnas incluidas en el groupby\n",
    "\n",
    "police_by_year_violation = police.groupby(['year','violation'], as_index=False).count()\n",
    "\n",
    "# Se ordena en orden descendente y se eliminan los duplicados con subset='year', \n",
    "police_by_year_violation = police_by_year_violation.sort_values(['year','stop_date'], ascending=False)\n",
    "police_by_year_violation.drop_duplicates(subset='year', inplace=True)\n",
    "police_by_year_violation.iloc[:,0:3]"
   ]
  },
  {
   "cell_type": "code",
   "execution_count": null,
   "id": "8010c51c",
   "metadata": {},
   "outputs": [],
   "source": [
    "# 3. ¿Cuál fue el mes de 2008 con más delitos?\n",
    "\n",
    "# Separamos por / para obtener el mes. Si lo hiciéramos por longitud de string, \n",
    "# podríamos tener errores ya que en algunos casos será 1 (meses del 1 al 9) y en otros 2 (meses del 10 al 12)\n",
    "# El formato es MM/DD/YYYY\n",
    "police['month'] = police.stop_date.str.split('/').str[0]\n",
    "police.head()"
   ]
  },
  {
   "cell_type": "code",
   "execution_count": null,
   "id": "31f4168d",
   "metadata": {},
   "outputs": [],
   "source": [
    "# Filtramos por año 2008, que es el único año que nos interesa en este caso.\n",
    "# Después se agrupa por mes para hacer el conteo.\n",
    "\n",
    "top_violation_by_month_08 = police[police['year'] == '2008'].groupby('month').count()\n",
    "# month.sort_values('stop_date', ascending=False)\n",
    "top_violation_by_month_08.sort_values('stop_date', ascending=False).head(1).iloc[:,0:1]"
   ]
  },
  {
   "cell_type": "code",
   "execution_count": null,
   "id": "e8d803cf",
   "metadata": {},
   "outputs": [],
   "source": [
    "# 4. ¿Cuáles fueron los dos delitos más comunes en 2012\n",
    "# Hecho en 1"
   ]
  },
  {
   "cell_type": "code",
   "execution_count": null,
   "id": "ec410c4c",
   "metadata": {},
   "outputs": [],
   "source": [
    "# 5. ¿Las infracciones Speeding y Equipment son más comunes entre hombres o mujeres? Explica tu respuesta\n",
    "\n",
    "# Agrupamos por delito y género para hacer el conteo, y después filtramos los dos delitos que nos interesan\n",
    "\n",
    "violations_by_gender = police.groupby(['violation', 'driver_gender'], as_index=False).count()\n",
    "\n",
    "# Añadimos head(2) para que nos muestre únicamente los dos primeros elementeos e iloc para mostrar el conteo una única vez.\n",
    "violations_by_gender[(violations_by_gender.violation == 'Speeding' )| (violations_by_gender.violation == 'Equipment')].iloc[:,0:3]"
   ]
  },
  {
   "cell_type": "code",
   "execution_count": null,
   "id": "a5550420",
   "metadata": {},
   "outputs": [],
   "source": [
    "# 6. Obtén la media de la edad de los infractores por tipo de delito\n",
    "\n",
    "# Agrupamos por tipo de delito e incluimos la columna sobre la que se va a operar (la media en este caso)\n",
    "violations_by_age = police.groupby('violation')['driver_age'].mean().astype(int)\n",
    "violations_by_age"
   ]
  },
  {
   "cell_type": "code",
   "execution_count": null,
   "id": "4881d83c",
   "metadata": {},
   "outputs": [],
   "source": [
    "# 7. ¿Cuál es el delito por el que es más común ser arrestado?\n",
    "\n",
    "# Filtramos para quedarnos únicamente con los arrestos y agrupamos por tipo de delito\n",
    "top_arrested_violations = police[police['is_arrested'] == True]\n",
    "top_arrested_violations = top_arrested_violations.groupby('violation', as_index = False).count()\n",
    "top_arrested_violations.sort_values('stop_date', ascending=False).head(1).iloc[:,0:2]\n"
   ]
  },
  {
   "cell_type": "code",
   "execution_count": null,
   "id": "cd6b09c1",
   "metadata": {},
   "outputs": [],
   "source": [
    "# 8. Plotea el gráfico que consideres más adecuado para analizar los diferentes delitos cometidos por hombres y mujeres.\n",
    "\n",
    "# El gráfico será un gráfico de barras con los tipos de delito en el eje de las x y una barra por género y el total en el eje y\n",
    "# Vamos a obtener un df para male y otro para female, para obtener la agrupación por tipo de delito y género\n",
    "# Después obtendremos un df uniendo los dos anteriores con los datos a representar para que sea más sencillo plotear.\n",
    "\n",
    "violations_by_gender = police.groupby(['driver_gender','violation'],as_index=False)['year'].count()\n",
    "violations_male = violations_by_gender[violations_by_gender['driver_gender']=='M'].sort_values('violation')\n",
    "violations_male.rename(columns= {'year':'Total Male','violation':'Violations'},inplace=True)\n",
    "violations_female = violations_by_gender[violations_by_gender['driver_gender']=='F'].sort_values('violation')\n",
    "violations_female.rename(columns= {'year':'Total Female','violation':'Violations'},inplace=True)\n",
    "\n",
    "frame = violations_male[['Violations','Total Male']].merge(violations_female[['Violations','Total Female']],on='Violations', how='left')\n",
    "frame.set_index('Violations',inplace=True)\n",
    "display(violations_male)\n",
    "display(violations_female)\n",
    "display(frame)"
   ]
  },
  {
   "cell_type": "code",
   "execution_count": null,
   "id": "9edeba26",
   "metadata": {},
   "outputs": [],
   "source": [
    "import matplotlib.pyplot as plt\n",
    "\n",
    "frame.plot(kind='bar', title='Male VS Female Violations')\n",
    "plt.xticks(rotation=45)\n",
    "plt.show()"
   ]
  },
  {
   "cell_type": "code",
   "execution_count": null,
   "id": "0365e1ae",
   "metadata": {},
   "outputs": [],
   "source": [
    "# 9. Plotea en el gráfico que consideres más apropiado la proporción (porcentaje) de cada tipo de delito (un gráfico por cada año)\n",
    "\n",
    "# Para representar porcentajes utilizamos el pie chart\n",
    "# Hay que representar un gráfico por año -> utilizamos for\n",
    "# Se añade el año en el título para mejor comprensión\n",
    "\n",
    "for year in police.year.unique():  \n",
    "    police[police['year'] == year].groupby(\"violation\")['stop_date'].count().plot.pie(y='violation', figsize=(5, 5),ylabel='')\n",
    "    plt.title(year, weight='bold', size=14)\n",
    "    plt.show()\n"
   ]
  },
  {
   "cell_type": "code",
   "execution_count": null,
   "id": "b9d80741",
   "metadata": {},
   "outputs": [],
   "source": [
    "# 10. Plotea el gráfico que consideres más adecuado para ver la evolución en el tiempo del número de delitos de Speeding, Moving violation y Equipment"
   ]
  },
  {
   "cell_type": "code",
   "execution_count": null,
   "id": "fc996342",
   "metadata": {},
   "outputs": [],
   "source": [
    "police.month = police.month.astype('int')"
   ]
  },
  {
   "cell_type": "code",
   "execution_count": null,
   "id": "b9c9a5be",
   "metadata": {},
   "outputs": [],
   "source": [
    "# Obtenemos los datos agrupados para cada tipo de delito, y se hace el conte.\n",
    "# Se ordenenan por fecha para que en el gráfico salgan los datos ordenados\n",
    "\n",
    "speeding  = police[(police['violation'] == 'Speeding')].groupby(['year'],as_index=False)['violation'].count().sort_values(by=['year'])\n",
    "equipment = police[(police['violation'] == 'Equipment')].groupby(['year'],as_index=False)['violation'].count().sort_values(by=['year'])\n",
    "moving    = police[(police['violation'] == 'Moving violation')].groupby(['year'],as_index=False)['violation'].count().sort_values(by=['year'])"
   ]
  },
  {
   "cell_type": "code",
   "execution_count": null,
   "id": "493244b1",
   "metadata": {},
   "outputs": [],
   "source": [
    "# Ploteamos los datos anteriores\n",
    "\n",
    "fig, ax = plt.subplots()\n",
    "ax.plot(speeding.year,speeding.violation,label='Speeding') \n",
    "ax.plot(equipment.year,equipment.violation,label='Equipment')\n",
    "ax.plot(moving.year,moving.violation,label='Moving') \n",
    "\n",
    "ax.legend(loc='best')\n",
    "\n",
    "plt.show() "
   ]
  },
  {
   "cell_type": "markdown",
   "id": "be672f9a-d7a9-4890-b9f8-8dab0c0fd0f7",
   "metadata": {},
   "source": [
    "### Ejercicio 2: Covid Dataset\n",
    "\n",
    "**Carga el csv con los datos covid, y obtén la siguiente información:**\n",
    "\n",
    "- 1. ¿Cúal es la región con más casos confirmados?¿y con menos?\n",
    "- 2. ¿Cuál es la región con mayor proporción de muertos con respecto a casos confirmados?\n",
    "- 3. Plotea una figura con tres gráficos para estudiar la evolución en el tiempo de casos confirmados, muertos y recuperados por país en los siguientes países: España, Italia y Alemania. Tiene que haber un gráfico por país. "
   ]
  },
  {
   "cell_type": "code",
   "execution_count": null,
   "id": "eb2f19f4",
   "metadata": {},
   "outputs": [],
   "source": [
    "covid = pd.read_csv(\"./datasets/covid19.csv\")\n",
    "covid.head()"
   ]
  },
  {
   "cell_type": "code",
   "execution_count": null,
   "id": "15bbefe9",
   "metadata": {},
   "outputs": [],
   "source": [
    "covid.isnull().sum()"
   ]
  },
  {
   "cell_type": "code",
   "execution_count": null,
   "id": "0cf1aa19",
   "metadata": {},
   "outputs": [],
   "source": [
    "covid[covid.State.notnull()]"
   ]
  },
  {
   "cell_type": "code",
   "execution_count": null,
   "id": "a112d350",
   "metadata": {},
   "outputs": [],
   "source": [
    "covid[covid.State.isnull()]"
   ]
  },
  {
   "cell_type": "code",
   "execution_count": null,
   "id": "38139279",
   "metadata": {},
   "outputs": [],
   "source": [
    "covid.shape, len(covid.Region.unique())"
   ]
  },
  {
   "cell_type": "code",
   "execution_count": null,
   "id": "28f3c3db",
   "metadata": {},
   "outputs": [],
   "source": [
    "# Agrupamos por Region ya que piden los información por Region y hay varias filas para una misma Region\n",
    "# Se suman para obtener el total y se ordenan\n",
    "covid.groupby('Region', as_index='False')['Confirmed'].sum().sort_values(ascending=False).head(1)"
   ]
  },
  {
   "cell_type": "code",
   "execution_count": null,
   "id": "afb9b5a4",
   "metadata": {},
   "outputs": [],
   "source": [
    "# Agrupamos por Region ya que piden los datos por Region y hay varias filas para una misma Region\n",
    "# Se suman para obtener el total y se ordenan\n",
    "covid.groupby('Region', as_index='False')['Confirmed'].sum().sort_values(ascending=True).head(1)"
   ]
  },
  {
   "cell_type": "code",
   "execution_count": null,
   "id": "f974e1bb",
   "metadata": {},
   "outputs": [],
   "source": [
    "# ¿Cuál es la región con mayor proporción de muertos con respecto a casos confirmados?"
   ]
  },
  {
   "cell_type": "code",
   "execution_count": null,
   "id": "3fa3c1fe",
   "metadata": {},
   "outputs": [],
   "source": [
    "proportion = covid.groupby('Region', as_index='True')['Confirmed','Deaths'].sum()\n",
    "proportion['proportion'] = proportion['Deaths']/proportion['Confirmed']\n",
    "proportion.sort_values('proportion', ascending=False).head(1)"
   ]
  },
  {
   "cell_type": "markdown",
   "id": "9fcf754f-944e-49a1-aba6-9b7c35ebe79c",
   "metadata": {},
   "source": [
    "### Ejercicio 3: MovieLens Dataset\n",
    "\n",
    "**Carga el csv con los datos de MovieLens y completa las tareas que se piden:**\n"
   ]
  },
  {
   "cell_type": "code",
   "execution_count": null,
   "id": "8a4c3521-2362-46cd-90b9-c35a9e223f5a",
   "metadata": {},
   "outputs": [],
   "source": [
    "# descargar del dataset MovieLens \n",
    "url = 'http://files.grouplens.org/datasets/movielens/ml-1m.zip'  \n",
    "local_zip = os.path.join(\"datasets\", \"ml-1m.zip\")\n",
    "urllib.request.urlretrieve(url, local_zip)\n",
    "# para descomprimir un archivo zip\n",
    "with zp.ZipFile(local_zip, 'r') as zipp: \n",
    "    print('Extracting all files...') \n",
    "    zipp.extractall(os.path.join(\"datasets\")) # donde se guarda\n",
    "    print('Done!') "
   ]
  },
  {
   "cell_type": "code",
   "execution_count": null,
   "id": "c52587c3-55a0-4638-a1b4-a750393fcae7",
   "metadata": {},
   "outputs": [],
   "source": [
    "root_path = os.path.join(\"datasets\", \"ml-1m\" )\n",
    "\n",
    "ratings = pd.read_csv(os.path.join(root_path, \"ratings.dat\"), sep='::',\n",
    "                                index_col=0, engine='python',\n",
    "                                names=['UserID','MovieID','Rating','Timestamp'])\n",
    "\n",
    "users = pd.read_csv(os.path.join(root_path, \"users.dat\"),sep='::',\n",
    "                              index_col=0, engine='python',\n",
    "                              names=['UserID','Gender','Age','Occupation','Zip-code'])"
   ]
  },
  {
   "cell_type": "code",
   "execution_count": null,
   "id": "cb40903b",
   "metadata": {},
   "outputs": [],
   "source": [
    "ratings.head(), users.head()"
   ]
  },
  {
   "cell_type": "code",
   "execution_count": null,
   "id": "de5ae396",
   "metadata": {},
   "outputs": [],
   "source": [
    "ratings.shape"
   ]
  },
  {
   "cell_type": "markdown",
   "id": "7086b171-1ac5-4b41-bca7-aa79caa6a431",
   "metadata": {},
   "source": [
    "#### 3.1. Combina los datasets de ratings y users, en un dataset llamado all_dataset, cruzando por una columna común y comprueba que se ha hecho bien el cruce. Con ese dataset crea una pivot table a partir de la tabla Ratings para calcular la media y el total de ratings por  y género y ocupación\n",
    "\n",
    "¿merge, join, concat? ¿left,right, inner?"
   ]
  },
  {
   "cell_type": "code",
   "execution_count": null,
   "id": "25fe019b",
   "metadata": {},
   "outputs": [],
   "source": [
    "all_dataset = ratings.merge(users,on='UserID', how='left')\n",
    "all_dataset"
   ]
  },
  {
   "cell_type": "code",
   "execution_count": null,
   "id": "424ff096",
   "metadata": {},
   "outputs": [],
   "source": [
    "# Comprobación de que no se han perdido datos\n",
    "all_dataset.shape"
   ]
  },
  {
   "cell_type": "markdown",
   "id": "b3ca006e-f63b-4504-94e5-9d58ece004dd",
   "metadata": {},
   "source": [
    "#### Pivot Tables\n",
    "- Representar los datos en función a varios parámetros, agregando\n",
    "```python\n",
    "pivot_table(<lista de valores>, index=<agregador primario>, columns=<agregador secundario>)\n",
    "```\n",
    "https://pandas.pydata.org/pandas-docs/stable/reference/api/pandas.pivot_table.html\n",
    "\n",
    "Ejemplo:"
   ]
  },
  {
   "cell_type": "code",
   "execution_count": null,
   "id": "fe1e594c-fffd-4cce-b1ea-ea898f766223",
   "metadata": {},
   "outputs": [],
   "source": [
    "all_dataset.pivot_table('Rating', index='Gender', columns='Age', aggfunc='count')"
   ]
  },
  {
   "cell_type": "code",
   "execution_count": null,
   "id": "dfbeb651",
   "metadata": {},
   "outputs": [],
   "source": [
    "# Se crea la pivot table agregando los datos por conteo y media\n",
    "all_dataset.pivot_table('Rating', index='Gender', columns='Occupation', aggfunc=['count', 'mean'])"
   ]
  },
  {
   "cell_type": "code",
   "execution_count": null,
   "id": "6d5e5913",
   "metadata": {},
   "outputs": [],
   "source": []
  },
  {
   "cell_type": "markdown",
   "id": "c09d886f-a351-404a-be37-68648a544591",
   "metadata": {},
   "source": [
    "#### 3.2. Dado el dataset de géneros únelo con el dataset original (movies) encuentra:\n",
    "\n",
    "- Comedias de 1975\n",
    "- Películas del oeste de 1980\n",
    "- Género del que se produjeron más películas a lo largo de cada uno de los años de la década de los 80s"
   ]
  },
  {
   "cell_type": "code",
   "execution_count": null,
   "id": "f2fc8af1-dab9-428a-a998-c6d50dbe3f8e",
   "metadata": {},
   "outputs": [],
   "source": [
    "# Carga del dataset movies\n",
    "movies = pd.read_csv(os.path.join(root_path, \"movies.dat\"),sep='::', engine='python',names=['MovieID','Title','Genre'])"
   ]
  },
  {
   "cell_type": "code",
   "execution_count": null,
   "id": "058efac1-8491-459e-9ada-f65d7e185941",
   "metadata": {},
   "outputs": [],
   "source": [
    "all_genres = movies['Genre'].apply(lambda x : x.split('|'))\n",
    "print(all_genres)\n",
    "\n",
    "# print([genre for x in all_genres for genre in x])\n",
    "\n",
    "genres = pd.unique([genre for x in all_genres for genre in x])\n",
    "print(genres)"
   ]
  },
  {
   "cell_type": "code",
   "execution_count": null,
   "id": "bd80b420-b14e-4671-9b98-4526d682659f",
   "metadata": {},
   "outputs": [],
   "source": [
    "# crear tabla con columnas por género\n",
    "zeros = np.zeros( (len(movies), len(genres)) )\n",
    "genres_frame = pd.DataFrame(zeros, columns=genres)\n",
    "\n",
    "columns_genres = genres_frame.columns # lista de generos (columnas)\n",
    "# para cada película, marcar género con 1\n",
    "for i, genre in enumerate(movies['Genre']):\n",
    "    inds = columns_genres.get_indexer(genre.split('|')) # retorna los indices correspondientes a los generos de cada pelicula\n",
    "    genres_frame.iloc[i,inds] = 1 # localiza las columnas del genero correspondiente, marca con 1"
   ]
  },
  {
   "cell_type": "code",
   "execution_count": null,
   "id": "920f4616",
   "metadata": {},
   "outputs": [],
   "source": [
    "# Comedias 1975\n",
    "comedy_1975 = movies[(movies['Title'].str.contains('1975')) & (movies['Genre'].str.contains('Comedy'))]\n",
    "comedy_1975"
   ]
  },
  {
   "cell_type": "code",
   "execution_count": null,
   "id": "b10e85b0",
   "metadata": {},
   "outputs": [],
   "source": [
    "# Western 1980\n",
    "western_1980 = movies[(movies['Title'].str.contains('1980')) & (movies['Genre'].str.contains('Western'))]\n",
    "western_1980"
   ]
  },
  {
   "cell_type": "code",
   "execution_count": null,
   "id": "4c78a495",
   "metadata": {},
   "outputs": [],
   "source": [
    "# extraer el año de la columna Title\n",
    "def split_year(title):\n",
    "    index = title.index('(')\n",
    "    return title[index:].replace('(','').replace(')','')\n",
    "\n",
    "movies['Year'] = movies['Title'].apply(split_year)"
   ]
  },
  {
   "cell_type": "code",
   "execution_count": null,
   "id": "54727e67",
   "metadata": {},
   "outputs": [],
   "source": [
    "movies.sample(5)"
   ]
  },
  {
   "cell_type": "code",
   "execution_count": null,
   "id": "031f423a",
   "metadata": {},
   "outputs": [],
   "source": [
    "movies.Year.unique()"
   ]
  },
  {
   "cell_type": "code",
   "execution_count": null,
   "id": "e951938d",
   "metadata": {},
   "outputs": [],
   "source": [
    "# Al hacer una comprobación en la columna Year, vemos que se mantienen los títulos, buscamos un ejemplo de los anteriores\n",
    "\n",
    "movies[(movies['Year'] =='Blaue Engel, Der 1930') | (movies['Year'] =='Bis ans Ende der Welt 1991')]"
   ]
  },
  {
   "cell_type": "code",
   "execution_count": null,
   "id": "37b7a58e",
   "metadata": {},
   "outputs": [],
   "source": [
    "# Parece que hay películas que tienen paréntesis en el título, por lo que vamos a tener que\n",
    "# que hacer una nueva modificación de la columna para tener el año correctamente.\n",
    "\n",
    "movies['Year_ok'] = movies['Year'].str[-4:]\n",
    "\n",
    "# Borramos la columna antigua y renombramos\n",
    "movies.drop(['Year'], axis=1, inplace=True)\n",
    "movies.rename(columns={'Year_ok':'Year'}, inplace=True)\n",
    "display(movies.sample(2))"
   ]
  },
  {
   "cell_type": "code",
   "execution_count": null,
   "id": "5b40f024",
   "metadata": {},
   "outputs": [],
   "source": [
    "# Comprobamos\n",
    "movies[(movies['Year'] =='Blaue Engel, Der 1930') | (movies['Year'] =='Bis ans Ende der Welt 1991')]"
   ]
  },
  {
   "cell_type": "code",
   "execution_count": null,
   "id": "9402aecb",
   "metadata": {},
   "outputs": [],
   "source": [
    "movies.Year.unique()"
   ]
  },
  {
   "cell_type": "code",
   "execution_count": null,
   "id": "d8088bb8",
   "metadata": {},
   "outputs": [],
   "source": [
    "# Género del que se produjeron más películas a lo largo de cada uno de los años de la década de los 80s\n",
    "\n",
    "# Unimos el df de las películas con el df que nos hemos creado de los géneros\n",
    "all_movies = movies.join(genres_frame)\n",
    "all_movies.head()"
   ]
  },
  {
   "cell_type": "code",
   "execution_count": null,
   "id": "966d07f5",
   "metadata": {},
   "outputs": [],
   "source": [
    "# Filtro por las películas que se han producido en los años 80\n",
    "eighties = all_movies[all_movies['Title'].str.contains('198')]\n",
    "eighties"
   ]
  },
  {
   "cell_type": "code",
   "execution_count": null,
   "id": "fdf40926",
   "metadata": {},
   "outputs": [],
   "source": [
    "eighties.columns.values"
   ]
  },
  {
   "cell_type": "code",
   "execution_count": null,
   "id": "3ee24fd3",
   "metadata": {},
   "outputs": [],
   "source": [
    "# Se agrupa por y se hace el sumatorio. Se hace el transpose para tener los géneros en las filas\n",
    "# Y así por cada año nos quedamos con el índice que tiene mayor valor (que será el género más producido)\n",
    "eighties_by_year = pd.DataFrame(eighties.groupby(['Year'], as_index=False).sum().transpose())\n",
    "eighties_by_year\n"
   ]
  },
  {
   "cell_type": "code",
   "execution_count": null,
   "id": "fda934e9",
   "metadata": {},
   "outputs": [],
   "source": [
    "# Al hacer el traspose los años, que queremos que sea el nombre de la columna aparecen como una fila más\n",
    "# por lo que renombramos las columnas con los datos de la primera fila\n",
    "eighties_by_year=eighties_by_year.rename(columns=eighties_by_year.iloc[0])\n",
    "\n",
    "# Para este estudio no nos interesan las dos primeras filas, ya que no hacen referencia a los géneros \n",
    "eighties_by_year = eighties_by_year[2:]\n",
    "eighties_by_year"
   ]
  },
  {
   "cell_type": "code",
   "execution_count": null,
   "id": "aef74ea3",
   "metadata": {},
   "outputs": [],
   "source": [
    "# Comproabamos los índices\n",
    "eighties_by_year.index"
   ]
  },
  {
   "cell_type": "code",
   "execution_count": null,
   "id": "e9d401e7",
   "metadata": {},
   "outputs": [],
   "source": [
    "# Creo una lista con el género más común de cada año.\n",
    "my_list = []\n",
    "for column in eighties_by_year.columns.tolist():\n",
    "\n",
    "    gender = eighties_by_year[eighties_by_year[column] == eighties_by_year[column].max()].index[0]\n",
    "    my_list.append((column, gender))\n",
    "print(my_list)"
   ]
  },
  {
   "cell_type": "code",
   "execution_count": null,
   "id": "77f23f76",
   "metadata": {},
   "outputs": [],
   "source": []
  }
 ],
 "metadata": {
  "kernelspec": {
   "display_name": "Python 3 (ipykernel)",
   "language": "python",
   "name": "python3"
  },
  "language_info": {
   "codemirror_mode": {
    "name": "ipython",
    "version": 3
   },
   "file_extension": ".py",
   "mimetype": "text/x-python",
   "name": "python",
   "nbconvert_exporter": "python",
   "pygments_lexer": "ipython3",
   "version": "3.8.8"
  }
 },
 "nbformat": 4,
 "nbformat_minor": 5
}
