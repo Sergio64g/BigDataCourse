{
 "cells": [
  {
   "cell_type": "markdown",
   "id": "1dd7e499",
   "metadata": {},
   "source": [
    "Fuente: https://scikit-learn.org/stable/auto_examples/cluster/plot_color_quantization.html\n",
    "\n",
    "**Color Quantization** es una técnica utilizada para reducir el número de colores en una imagen\n",
    "\n",
    "El algoritmo K Means se puede utilizar para comprimir imágenes, reduciendo el número total de colores que representa la imagen, así se necesitarán menos bits para representar la imagen.\n",
    "\n",
    "Vamos a coger una imagen que con 96.615 y la vamos a representar con 64.\n"
   ]
  },
  {
   "cell_type": "code",
   "execution_count": null,
   "id": "aa891097",
   "metadata": {},
   "outputs": [],
   "source": [
    "# Authors: Robert Layton <robertlayton@gmail.com>\n",
    "#          Olivier Grisel <olivier.grisel@ensta.org>\n",
    "#          Mathieu Blondel <mathieu@mblondel.org>\n",
    "#\n",
    "# License: BSD 3 clause\n",
    "\n",
    "import numpy as np\n",
    "import matplotlib.pyplot as plt\n",
    "from sklearn.cluster import KMeans\n",
    "from sklearn.metrics import pairwise_distances_argmin\n",
    "from sklearn.datasets import load_sample_image\n",
    "from sklearn.utils import shuffle\n",
    "from time import time\n",
    "\n",
    "n_colors = 64"
   ]
  },
  {
   "cell_type": "code",
   "execution_count": null,
   "id": "f131dc38",
   "metadata": {},
   "outputs": [],
   "source": [
    "from sklearn.datasets import load_sample_image\n",
    "china = load_sample_image(\"china.jpg\")\n",
    "ax = plt.axes(xticks=[], yticks=[])\n",
    "ax.imshow(china);"
   ]
  },
  {
   "cell_type": "code",
   "execution_count": null,
   "id": "601f518c",
   "metadata": {},
   "outputs": [],
   "source": [
    "# (altura, anchura, canales de colores)\n",
    "# en este caso los canales de colores son 3: RGB\n",
    "china.shape"
   ]
  },
  {
   "cell_type": "code",
   "execution_count": null,
   "id": "660a0f69",
   "metadata": {},
   "outputs": [],
   "source": [
    "china.max(), china.min()"
   ]
  },
  {
   "cell_type": "code",
   "execution_count": null,
   "id": "5ac7e64c",
   "metadata": {},
   "outputs": [],
   "source": [
    "# Los algoritmos funcionan mejor si los datos se normalizanentre 0 y 1\n",
    "china = np.array(china, dtype=np.float64) / 255\n",
    "china.max(), china.min()"
   ]
  },
  {
   "cell_type": "code",
   "execution_count": null,
   "id": "d9c1360c",
   "metadata": {},
   "outputs": [],
   "source": [
    "\n",
    "# Load Image and transform to a 2D numpy array.\n",
    "w, h, d = original_shape = tuple(china.shape)\n",
    "assert d == 3\n",
    "image_array = np.reshape(china, (w * h, d))\n",
    "\n",
    "print(\"Fitting model on a small sub-sample of the data\")\n",
    "\n",
    "image_array_sample = shuffle(image_array, random_state=0, n_samples=1_000)\n",
    "kmeans = KMeans(n_clusters=n_colors, random_state=0).fit(image_array_sample)"
   ]
  },
  {
   "cell_type": "code",
   "execution_count": null,
   "id": "18935487",
   "metadata": {},
   "outputs": [],
   "source": [
    "# Get labels for all points\n",
    "print(\"Predicting color indices on the full image (k-means)\")\n",
    "\n",
    "labels = kmeans.predict(image_array)\n",
    "\n",
    "\n",
    "\n",
    "codebook_random = shuffle(image_array, random_state=0, n_samples=n_colors)\n",
    "print(\"Predicting color indices on the full image (random)\")\n",
    "\n",
    "labels_random = pairwise_distances_argmin(codebook_random, image_array, axis=0)\n",
    "\n",
    "\n",
    "\n",
    "def recreate_image(codebook, labels, w, h):\n",
    "    \"\"\"Recreate the (compressed) image from the code book & labels\"\"\"\n",
    "    return codebook[labels].reshape(w, h, -1)"
   ]
  },
  {
   "cell_type": "code",
   "execution_count": null,
   "id": "58fcc2e6",
   "metadata": {},
   "outputs": [],
   "source": [
    "# Display all results, alongside original image\n",
    "plt.figure(1)\n",
    "plt.clf()\n",
    "plt.axis(\"off\")\n",
    "plt.title(\"Original image (96,615 colors)\")\n",
    "plt.imshow(china)\n",
    "\n",
    "plt.figure(2)\n",
    "plt.clf()\n",
    "plt.axis(\"off\")\n",
    "plt.title(f\"Quantized image ({n_colors} colors, K-Means)\")\n",
    "plt.imshow(recreate_image(kmeans.cluster_centers_, labels, w, h))\n",
    "\n",
    "plt.figure(3)\n",
    "plt.clf()\n",
    "plt.axis(\"off\")\n",
    "plt.title(f\"Quantized image ({n_colors} colors, Random)\")\n",
    "plt.imshow(recreate_image(codebook_random, labels_random, w, h))\n",
    "plt.show()"
   ]
  },
  {
   "cell_type": "code",
   "execution_count": null,
   "id": "bdea0e11",
   "metadata": {},
   "outputs": [],
   "source": []
  }
 ],
 "metadata": {
  "kernelspec": {
   "display_name": "Python 3 (ipykernel)",
   "language": "python",
   "name": "python3"
  },
  "language_info": {
   "codemirror_mode": {
    "name": "ipython",
    "version": 3
   },
   "file_extension": ".py",
   "mimetype": "text/x-python",
   "name": "python",
   "nbconvert_exporter": "python",
   "pygments_lexer": "ipython3",
   "version": "3.8.8"
  }
 },
 "nbformat": 4,
 "nbformat_minor": 5
}
