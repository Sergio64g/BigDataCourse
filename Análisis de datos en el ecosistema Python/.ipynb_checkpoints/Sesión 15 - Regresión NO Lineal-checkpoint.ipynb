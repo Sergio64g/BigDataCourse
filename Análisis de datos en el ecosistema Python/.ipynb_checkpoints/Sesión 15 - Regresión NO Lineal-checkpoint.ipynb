{
 "cells": [
  {
   "cell_type": "code",
   "execution_count": 1,
   "metadata": {},
   "outputs": [],
   "source": [
    "import numpy as np\n",
    "import pandas as pd\n",
    "import matplotlib.pyplot as plt"
   ]
  },
  {
   "cell_type": "markdown",
   "metadata": {},
   "source": [
    "### 1. Función Potencial"
   ]
  },
  {
   "cell_type": "code",
   "execution_count": 4,
   "metadata": {},
   "outputs": [],
   "source": [
    "# Creamos los datos de partida y dibujamos la función\n",
    "# Y = a*X^b\n",
    "a = 4\n",
    "b = 3\n",
    "X = np.arange(50)\n",
    "# Notar que nos hemos inventado los datos de tal forma que vamos a tener una dependencia funcional (relación perfecta)\n",
    "\n",
    "# Nos quitamos los eltos menores o iguales q cero creando una nueva lista\n",
    "# Porque no vamos a poder tomar logaritmos de cero ni de números negativos\n",
    "X = [i for i in X if i>0]\n",
    "\n"
   ]
  },
  {
   "cell_type": "code",
   "execution_count": 5,
   "metadata": {},
   "outputs": [
    {
     "data": {
      "text/plain": [
       "<matplotlib.collections.PathCollection at 0x1d4f96bfaf0>"
      ]
     },
     "execution_count": 5,
     "metadata": {},
     "output_type": "execute_result"
    },
    {
     "data": {
      "image/png": "[encoded data removed]",
      "text/plain": [
       "<Figure size 432x288 with 1 Axes>"
      ]
     },
     "metadata": {
      "needs_background": "light"
     },
     "output_type": "display_data"
    }
   ],
   "source": [
    "# Convertimos X en array para que no nos dé problemas al multiplicar calculando la y\n",
    "X = np.array(X)\n",
    "y = a*(X**b)\n",
    "\n",
    "plt.scatter(X,y)"
   ]
  },
  {
   "cell_type": "code",
   "execution_count": 3,
   "metadata": {},
   "outputs": [],
   "source": [
    "# Se toman logaritmos a ambos lados de la ecuación del modelo para el problema  una función lineal.\n",
    "# El parámetro b del modelo potencial coincide con el coef.regresión de la recta ajustada a los datos \n",
    "# transformados, y a se obtiene a partir de antilog(a)"
   ]
  },
  {
   "cell_type": "code",
   "execution_count": 6,
   "metadata": {},
   "outputs": [],
   "source": [
    "# Tenemos que tomar logaritmos\n",
    "# log_y =log_a+b*log_x\n",
    "\n",
    "log_y = np.log(y)\n",
    "log_a = np.log(a)\n",
    "log_x = np.log(X)\n"
   ]
  },
  {
   "cell_type": "code",
   "execution_count": 7,
   "metadata": {},
   "outputs": [
    {
     "data": {
      "text/plain": [
       "<matplotlib.collections.PathCollection at 0x1d4f99ffa00>"
      ]
     },
     "execution_count": 7,
     "metadata": {},
     "output_type": "execute_result"
    },
    {
     "data": {
      "image/png": "[encoded data removed]",
      "text/plain": [
       "<Figure size 432x288 with 1 Axes>"
      ]
     },
     "metadata": {
      "needs_background": "light"
     },
     "output_type": "display_data"
    }
   ],
   "source": [
    "# Dibujamos nuestros datos transformados\n",
    "\n",
    "log_y =log_a+b*log_x\n",
    "\n",
    "plt.scatter(log_x,log_y)"
   ]
  },
  {
   "cell_type": "code",
   "execution_count": 8,
   "metadata": {},
   "outputs": [],
   "source": [
    "# Ahora podremos tratar nuestro problema como un modelo de regresión lineal\n",
    "from sklearn import linear_model "
   ]
  },
  {
   "cell_type": "code",
   "execution_count": 9,
   "metadata": {},
   "outputs": [],
   "source": [
    "# Instanciamos el modelo\n",
    "model = linear_model.LinearRegression()"
   ]
  },
  {
   "cell_type": "code",
   "execution_count": 12,
   "metadata": {},
   "outputs": [
    {
     "data": {
      "text/plain": [
       "(array([4.]), array([[3.]]), array([1.38629436]))"
      ]
     },
     "execution_count": 12,
     "metadata": {},
     "output_type": "execute_result"
    }
   ],
   "source": [
    "# Entrenamos el modelo incluyendo las variables transformadas\n",
    "results = model.fit(log_x.reshape(-1,1),log_y.reshape(-1,1))\n",
    "\n",
    "# Imprimimos los parámetros, para el caso de coef_ debería ser nuestro b=3\n",
    "# La a nos va a devolver log(a), por lo que necesitamos calcular el antilog(a)\n",
    "b_calculada = results.coef_\n",
    "\n",
    "a_calculada=np.exp(results.intercept_)\n",
    "\n",
    "a_calculada,b_calculada, results.intercept_"
   ]
  },
  {
   "cell_type": "code",
   "execution_count": 11,
   "metadata": {},
   "outputs": [
    {
     "data": {
      "text/plain": [
       "array([[3.]])"
      ]
     },
     "execution_count": 11,
     "metadata": {},
     "output_type": "execute_result"
    }
   ],
   "source": [
    "results.coef_, results.intercept_"
   ]
  },
  {
   "cell_type": "code",
   "execution_count": 13,
   "metadata": {},
   "outputs": [
    {
     "data": {
      "text/plain": [
       "1.0"
      ]
     },
     "execution_count": 13,
     "metadata": {},
     "output_type": "execute_result"
    }
   ],
   "source": [
    "results.score(log_x.reshape(-1,1),log_y.reshape(-1,1))"
   ]
  },
  {
   "cell_type": "markdown",
   "metadata": {},
   "source": [
    "### 2. Función polinómica"
   ]
  },
  {
   "cell_type": "code",
   "execution_count": 17,
   "metadata": {},
   "outputs": [
    {
     "data": {
      "text/plain": [
       "<matplotlib.collections.PathCollection at 0x1d4fbece2b0>"
      ]
     },
     "execution_count": 17,
     "metadata": {},
     "output_type": "execute_result"
    },
    {
     "data": {
      "image/png": "[encoded data removed]",
      "text/plain": [
       "<Figure size 432x288 with 1 Axes>"
      ]
     },
     "metadata": {
      "needs_background": "light"
     },
     "output_type": "display_data"
    }
   ],
   "source": [
    "# Nos creamos el conjunto de datos y = 5x^3+3x^2+3^x-1\n",
    "\n",
    "X = [i for i in range(0,21,1)]\n",
    "y = [5*X**3+3*X**2+3*X-1 for X in range(0,21,1)]\n",
    "plt.scatter(X,y)"
   ]
  },
  {
   "cell_type": "code",
   "execution_count": 28,
   "metadata": {},
   "outputs": [
    {
     "data": {
      "text/plain": [
       "(array([-7981.]), array([[1892.]]), 0.8360042327804513)"
      ]
     },
     "execution_count": 28,
     "metadata": {},
     "output_type": "execute_result"
    }
   ],
   "source": [
    "from sklearn.linear_model import LinearRegression\n",
    "\n",
    "model = LinearRegression()\n",
    "\n",
    "model.fit(np.array(X).reshape(-1, 1), np.array(y).reshape(-1, 1))\n",
    "\n",
    "model.intercept_, model.coef_,model.score(np.array(X).reshape(-1, 1),np.array(y).reshape(-1, 1))"
   ]
  },
  {
   "cell_type": "code",
   "execution_count": 30,
   "metadata": {},
   "outputs": [],
   "source": [
    "y_pred = model.predict(np.array(X).reshape(-1, 1))"
   ]
  },
  {
   "cell_type": "code",
   "execution_count": 31,
   "metadata": {},
   "outputs": [
    {
     "data": {
      "text/plain": [
       "[<matplotlib.lines.Line2D at 0x1d4fc071250>]"
      ]
     },
     "execution_count": 31,
     "metadata": {},
     "output_type": "execute_result"
    },
    {
     "data": {
      "image/png": "[encoded data removed]",
      "text/plain": [
       "<Figure size 432x288 with 1 Axes>"
      ]
     },
     "metadata": {
      "needs_background": "light"
     },
     "output_type": "display_data"
    }
   ],
   "source": [
    "plt.scatter(X,y)\n",
    "plt.plot(X,y_pred, color=\"r\")"
   ]
  },
  {
   "cell_type": "code",
   "execution_count": 32,
   "metadata": {},
   "outputs": [
    {
     "name": "stdout",
     "output_type": "stream",
     "text": [
      "RMSE: 5074.2157451739695\n",
      "R2: 0.8360042327804513\n"
     ]
    }
   ],
   "source": [
    "# Graficamente no parece que el ajuste sea demasiado bueno. Calculemos R2 y RMSE \n",
    "\n",
    "from sklearn.metrics import mean_squared_error, r2_score\n",
    " \n",
    "rmse = np.sqrt(mean_squared_error(y,y_pred))\n",
    "r2 = r2_score(y,y_pred)\n",
    "print ('RMSE: ' + str(rmse))\n",
    "print ('R2: ' + str(r2))"
   ]
  },
  {
   "cell_type": "code",
   "execution_count": 33,
   "metadata": {},
   "outputs": [],
   "source": [
    "# R2 es un valor que oscila entre 0 y 1, y cuando más próximo esté a 1, mejor será nuestro modelo. \n",
    "# Como hemos visto en el gráfico anterior que parece que nuestro modelo no se \"parece\" demasiado a los puntos, \n",
    "# Vamos a añadir un grado al polinomio de nuestra predición\n",
    "\n",
    "from sklearn.preprocessing import PolynomialFeatures\n",
    " \n",
    "poly = PolynomialFeatures(degree=2, include_bias=False)\n",
    "x_poly = poly.fit_transform((np.array(X).reshape(-1, 1)))"
   ]
  },
  {
   "cell_type": "code",
   "execution_count": 35,
   "metadata": {},
   "outputs": [
    {
     "name": "stdout",
     "output_type": "stream",
     "text": [
      "RMSE: 861.1918651331015\n",
      "R2: 0.9952761660906515\n"
     ]
    }
   ],
   "source": [
    "from sklearn.metrics import mean_squared_error, r2_score\n",
    "\n",
    "model.fit(x_poly, y)\n",
    "\n",
    "y_pred2 = model.predict(x_poly)\n",
    "\n",
    "rmse2 = np.sqrt(mean_squared_error(y,y_pred2))\n",
    "\n",
    "r2_2 = r2_score(y,y_pred2)\n",
    "\n",
    "print ('RMSE: ' + str(rmse2))\n",
    "\n",
    "print ('R2: ' + str(r2_2))"
   ]
  },
  {
   "cell_type": "code",
   "execution_count": 72,
   "metadata": {},
   "outputs": [
    {
     "data": {
      "text/plain": [
       "[<matplotlib.lines.Line2D at 0x24d3666a8b0>]"
      ]
     },
     "execution_count": 72,
     "metadata": {},
     "output_type": "execute_result"
    },
    {
     "data": {
      "image/png": "[encoded data removed]",
      "text/plain": [
       "<Figure size 432x288 with 1 Axes>"
      ]
     },
     "metadata": {
      "needs_background": "light"
     },
     "output_type": "display_data"
    }
   ],
   "source": [
    "plt.scatter(X,y)\n",
    "plt.plot(X,y_pred2, color=\"r\")"
   ]
  },
  {
   "cell_type": "code",
   "execution_count": 37,
   "metadata": {},
   "outputs": [
    {
     "name": "stdout",
     "output_type": "stream",
     "text": [
      "RMSE: 1.4326680020193086e-11\n",
      "R2: 1.0\n"
     ]
    }
   ],
   "source": [
    "# Parece que nuestro modelo ha mejorado bastante, pero vamos a repetir el proceso con un polinomio de grado 3\n",
    "\n",
    "from sklearn.preprocessing import PolynomialFeatures\n",
    "\n",
    "poly3 = PolynomialFeatures(degree=3, include_bias=False)\n",
    "x_poly3 = poly3.fit_transform((np.array(X).reshape(-1, 1)))\n",
    "\n",
    "model.fit(x_poly3, y)\n",
    "\n",
    "y_pred3 = model.predict(x_poly3)\n",
    "rmse3 = np.sqrt(mean_squared_error(y,y_pred3))\n",
    "r2_3 = r2_score(y,y_pred3)\n",
    "print ('RMSE: ' + str(rmse3))\n",
    "print ('R2: ' + str(r2_3))"
   ]
  },
  {
   "cell_type": "code",
   "execution_count": 38,
   "metadata": {},
   "outputs": [
    {
     "data": {
      "text/plain": [
       "[<matplotlib.lines.Line2D at 0x1d4fc0db370>]"
      ]
     },
     "execution_count": 38,
     "metadata": {},
     "output_type": "execute_result"
    },
    {
     "data": {
      "image/png": "[encoded data removed]",
      "text/plain": [
       "<Figure size 432x288 with 1 Axes>"
      ]
     },
     "metadata": {
      "needs_background": "light"
     },
     "output_type": "display_data"
    }
   ],
   "source": [
    "plt.scatter(X,y)\n",
    "plt.plot(X,y_pred3, color=\"r\")"
   ]
  },
  {
   "cell_type": "code",
   "execution_count": null,
   "metadata": {},
   "outputs": [],
   "source": []
  }
 ],
 "metadata": {
  "kernelspec": {
   "display_name": "Python 3 (ipykernel)",
   "language": "python",
   "name": "python3"
  },
  "language_info": {
   "codemirror_mode": {
    "name": "ipython",
    "version": 3
   },
   "file_extension": ".py",
   "mimetype": "text/x-python",
   "name": "python",
   "nbconvert_exporter": "python",
   "pygments_lexer": "ipython3",
   "version": "3.8.8"
  }
 },
 "nbformat": 4,
 "nbformat_minor": 4
}
