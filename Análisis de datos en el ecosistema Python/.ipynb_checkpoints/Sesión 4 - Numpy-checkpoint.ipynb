{
 "cells": [
  {
   "cell_type": "markdown",
   "metadata": {},
   "source": [
    "# Librería Numpy"
   ]
  },
  {
   "cell_type": "markdown",
   "metadata": {},
   "source": [
    "**04/10/2021**"
   ]
  },
  {
   "cell_type": "markdown",
   "metadata": {},
   "source": [
    "- NumPy (__Num__ erical __Py__ thon) librería estándar para análisis numérico en Python\n",
    "- Estructura de datos multidimensional eficiente (escrita en C): ndarray\n",
    "- Colección de funciones para álgebra lineal, estadística descriptiva\n",
    "- Ayuda al procesamiento de datos (np.where)"
   ]
  },
  {
   "cell_type": "code",
   "execution_count": 2,
   "metadata": {},
   "outputs": [],
   "source": [
    "#importar libreria\n",
    "import numpy as np"
   ]
  },
  {
   "cell_type": "markdown",
   "metadata": {},
   "source": [
    "## 1. Ndarrays"
   ]
  },
  {
   "cell_type": "code",
   "execution_count": null,
   "metadata": {},
   "outputs": [],
   "source": [
    "lista = [1,2,3,4]\n",
    "print(type(lista))\n",
    "\n",
    "array = np.array(lista)\n",
    "print(type(array))\n",
    "print(array)"
   ]
  },
  {
   "cell_type": "code",
   "execution_count": null,
   "metadata": {},
   "outputs": [],
   "source": [
    "print(len(array)) #  Length of array\n",
    "print(array.ndim) # Number of array dimensions\n",
    "print(array.size) # Number of array elements\n",
    "print(array.dtype) # Data type of array elements\n",
    "print(array.dtype.name) # Name of data type\n",
    "print(array.astype(int)) # Convert an array to a different type"
   ]
  },
  {
   "cell_type": "code",
   "execution_count": null,
   "metadata": {},
   "outputs": [],
   "source": [
    "array1 = np.array([1,2,3,4])\n",
    "array2 = np.array([5,6,7,8])"
   ]
  },
  {
   "cell_type": "markdown",
   "metadata": {},
   "source": [
    "### Crear ndarrays"
   ]
  },
  {
   "cell_type": "code",
   "execution_count": 5,
   "metadata": {},
   "outputs": [
    {
     "name": "stdout",
     "output_type": "stream",
     "text": [
      "[100  10   1]\n",
      "[ 1  3  5  7  9 11 13 15 17 19]\n",
      "[100  95  90  85  80  75  70  65  60  55  50  45  40  35  30  25]\n",
      "[27  2 44 12 47  7 41]\n"
     ]
    }
   ],
   "source": [
    "print(np.array([100,10,1])) # a partir de una lista\n",
    "print(np.arange(1,20,2))    \n",
    "print(np.arange(100,20,-5)) \n",
    "print(np.random.randint(0,50,7)) # 7 números aleatorios entre 0 y 50"
   ]
  },
  {
   "cell_type": "code",
   "execution_count": null,
   "metadata": {},
   "outputs": [],
   "source": [
    "np.linspace(0,10,5)"
   ]
  },
  {
   "cell_type": "code",
   "execution_count": null,
   "metadata": {},
   "outputs": [],
   "source": [
    "print(array1)\n",
    "array1[:2] += 1\n",
    "print(array1)"
   ]
  },
  {
   "cell_type": "code",
   "execution_count": null,
   "metadata": {},
   "outputs": [],
   "source": [
    "print(np.random.randint(0,50,9).reshape(3,3))"
   ]
  },
  {
   "cell_type": "code",
   "execution_count": null,
   "metadata": {},
   "outputs": [],
   "source": [
    "# Generar arrays con valores fijos\n",
    "print(np.zeros(5))       # 1D\n",
    "print(np.zeros_like(array) )\n",
    "print(np.ones((2,2)))    # matrix 2x2\n",
    "print(np.empty((2,2,2))) # matrix 2x2x2, no inicializados\n",
    "print(np.full((3,3),7))  # matrix 5x2\n",
    "print(np.eye(3))         # matrix identity"
   ]
  },
  {
   "cell_type": "code",
   "execution_count": 12,
   "metadata": {},
   "outputs": [
    {
     "data": {
      "text/plain": [
       "array([8.28133045, 9.38642479, 7.66633865, 6.96652081, 5.05482757,\n",
       "       6.62578396, 9.16161668, 6.35227552, 7.04712393, 8.26250395])"
      ]
     },
     "execution_count": 12,
     "metadata": {},
     "output_type": "execute_result"
    }
   ],
   "source": [
    "# Generar array de float\n",
    "f1 = np.random.uniform(5,10, size=(10))\n",
    "f1"
   ]
  },
  {
   "cell_type": "markdown",
   "metadata": {},
   "source": [
    "### Información del ndarray"
   ]
  },
  {
   "cell_type": "code",
   "execution_count": null,
   "metadata": {},
   "outputs": [],
   "source": [
    "my_ndarray = np.array([1,2,3,4])\n",
    "print(my_ndarray)\n",
    "print(my_ndarray.argmax())    # índice del valor más alto\n",
    "print(my_ndarray.argmin())    # índice del valor más bajo\n",
    "print(my_ndarray.nonzero())   # retorna los índices de los elementos distintos a 0\n",
    "np.unravel_index(np.random.randint(0,25,25).reshape(5,5).argmax(),(5,5))"
   ]
  },
  {
   "cell_type": "code",
   "execution_count": null,
   "metadata": {},
   "outputs": [],
   "source": [
    "my_ndarray = np.full((5,2),-3) # matrix 5x2\n",
    "print(my_ndarray)\n",
    "print(my_ndarray.size)        # número de elementos == len(my_ndarray) (atributo)\n",
    "print(my_ndarray.shape)       # dimensiones\n",
    "print(my_ndarray.ndim)        # número de dimensiones"
   ]
  },
  {
   "cell_type": "markdown",
   "metadata": {},
   "source": [
    "### Operaciones"
   ]
  },
  {
   "cell_type": "code",
   "execution_count": null,
   "metadata": {},
   "outputs": [],
   "source": [
    "# Unir dos arrays\n",
    "a1 = np.array([0,0,0,0,0,0])\n",
    "a2 = np.array([1,1,1,1,1,1])\n",
    "print(np.hstack((a1,a2))) # una al lado de la otra\n",
    "print(np.vstack((a1,a2))) # una encima de la otra"
   ]
  },
  {
   "cell_type": "code",
   "execution_count": null,
   "metadata": {},
   "outputs": [],
   "source": [
    "# Ejercicio\n",
    "\n",
    "# Obtener el resultado de la celda anterior utilizando concatenate\n",
    "print(np.concatenate((a1, a2)))\n",
    "print(np.concatenate((a1, a2), axis = 0).reshape(2,6))"
   ]
  },
  {
   "cell_type": "code",
   "execution_count": null,
   "metadata": {},
   "outputs": [],
   "source": [
    "np.array([1,2,3]).reshape(-1,1)\n"
   ]
  },
  {
   "cell_type": "code",
   "execution_count": null,
   "metadata": {},
   "outputs": [],
   "source": [
    "# dividir un array\n",
    "array = np.arange(9).reshape(3,3)\n",
    "print(array)\n",
    "# print(np.array_split(array,2)) \n",
    "# print(np.array_split(array,9)) \n",
    "for i, e in np.ndenumerate(array):\n",
    "    print(i , ' - ', e)"
   ]
  },
  {
   "cell_type": "code",
   "execution_count": null,
   "metadata": {},
   "outputs": [],
   "source": [
    "# dividir un array\n",
    "array = np.arange(16).reshape(4,4)\n",
    "print(array)\n",
    "print(np.array_split(array,[3], axis = 0)) "
   ]
  },
  {
   "cell_type": "markdown",
   "metadata": {},
   "source": [
    "### Índices y slicing"
   ]
  },
  {
   "cell_type": "code",
   "execution_count": null,
   "metadata": {},
   "outputs": [],
   "source": [
    "array = np.arange(10, 16)\n",
    "print(array)\n",
    "print(array[-1])    \n",
    "print(array[:-1])  \n",
    "print(array[::-1])"
   ]
  },
  {
   "cell_type": "code",
   "execution_count": null,
   "metadata": {},
   "outputs": [],
   "source": [
    "array = np.random.randint(0,50,9)\n",
    "print(array)\n",
    "print(array[2:5])\n",
    "\n",
    "array1 = array.reshape(3,3)\n",
    "print(array1)\n",
    "print(array1[0,1]) # fila, columna"
   ]
  },
  {
   "cell_type": "code",
   "execution_count": null,
   "metadata": {},
   "outputs": [],
   "source": [
    "# Obtener fila\n",
    "print(\"Fila\")\n",
    "print(array1[1])\n",
    "\n",
    "# Obtener columna\n",
    "print(\"Columna\")\n",
    "print(array1[:,0])"
   ]
  },
  {
   "cell_type": "code",
   "execution_count": null,
   "metadata": {},
   "outputs": [],
   "source": [
    "array = np.random.randint(0,40,8)\n",
    "array"
   ]
  },
  {
   "cell_type": "code",
   "execution_count": null,
   "metadata": {},
   "outputs": [],
   "source": [
    "# Reverse\n",
    "print(array[::-1])\n",
    "print(np.flip(array))"
   ]
  },
  {
   "cell_type": "code",
   "execution_count": null,
   "metadata": {},
   "outputs": [],
   "source": [
    "# Reverse por filas y columanas\n",
    "\n",
    "array2 = np.random.randint(0,20,9).reshape(3,3)\n",
    "print(array2)"
   ]
  },
  {
   "cell_type": "code",
   "execution_count": null,
   "metadata": {},
   "outputs": [],
   "source": [
    "# Reverse rows\n",
    "array2[::-1,]"
   ]
  },
  {
   "cell_type": "code",
   "execution_count": null,
   "metadata": {},
   "outputs": [],
   "source": [
    "# Reverse columns\n",
    "array2[:,::-1]"
   ]
  },
  {
   "cell_type": "code",
   "execution_count": null,
   "metadata": {},
   "outputs": [],
   "source": [
    "# Reverse both ???"
   ]
  },
  {
   "cell_type": "markdown",
   "metadata": {},
   "source": [
    "### Slicing condicional"
   ]
  },
  {
   "cell_type": "code",
   "execution_count": 13,
   "metadata": {},
   "outputs": [
    {
     "name": "stdout",
     "output_type": "stream",
     "text": [
      "[-3 -2 -1  0  1  2  3]\n",
      "[False  True False  True False  True False]\n",
      "[-2  0  2]\n",
      "[-3  0 -1  0  1  0  3]\n"
     ]
    }
   ],
   "source": [
    "array = np.arange(-3,4)\n",
    "print(array)\n",
    "\n",
    "mask = array%2 == 0\n",
    "print(mask)\n",
    "\n",
    "print(array[mask])\n",
    "\n",
    "array[mask] = 0\n",
    "print(array)"
   ]
  },
  {
   "cell_type": "code",
   "execution_count": null,
   "metadata": {},
   "outputs": [],
   "source": [
    "array = np.arange(-3,4)\n",
    "print(array)\n",
    "mask = array > 0\n",
    "\n",
    "array_positive = array[mask]  # devuelve una copia\n",
    "print(array_positive)\n",
    "\n",
    "array_positive[0] = -10\n",
    "print(array)\n",
    "print(array_positive)"
   ]
  },
  {
   "cell_type": "markdown",
   "metadata": {},
   "source": [
    "### Operaciones con arrays"
   ]
  },
  {
   "cell_type": "code",
   "execution_count": null,
   "metadata": {},
   "outputs": [],
   "source": [
    "array_1 = np.ones(3) * 2\n",
    "array_2 = np.arange(3) + 1\n",
    "\n",
    "print(array_1)\n",
    "print(array_2)\n",
    "\n",
    "print(array_1 + array_2)\n",
    "print(array_1 - array_2)\n",
    "print(array_1 * array_2)\n",
    "print(array_1 / array_2)"
   ]
  },
  {
   "cell_type": "code",
   "execution_count": null,
   "metadata": {},
   "outputs": [],
   "source": [
    "\n"
   ]
  },
  {
   "cell_type": "markdown",
   "metadata": {},
   "source": [
    "**Operadores unarios y binarios**\n",
    "\n",
    "| Tipo | Operación | Descripción |\n",
    "|:---------|:-----|:-----|\n",
    "| Unario | *abs* | Valor absoluto de cada elemento |\n",
    "| | *sqrt* | Raíz cuadrada de cada elemento |\n",
    "| | *exp* | e^x, siendo x cad elemento |\n",
    "| | *log, log10, log2* | Logaritmos en distintas bases de cada elemento |\n",
    "| | *sign* | Retorna el signo de cada elemento (-1 para negativo, 0 o 1 para positivo) |\n",
    "| | *ceil* | Redondea cada elemento por arriba |\n",
    "| | *floor* | Redondea cada elemento por abajo |\n",
    "| | *isnan* | Retorna si cada elemento es Nan |\n",
    "| | *cos, sin, tan* | Operaciones trigonométricas en cada elemento |\n",
    "| | *arccos, arcsin, arctan* | Inversas de operaciones trigonométricas en cada elemento |\n",
    "| Binario | *add* | Suma de dos arrays |\n",
    "| | *substract* | Resta de dos arrays |\n",
    "| | *multiply* | Multiplicación de dos arrays |\n",
    "| | *divide* | División de dos arrays |\n",
    "| | *maximum, minimum* | Retorna el valor máximo/mínimo de cada pareja de elementos |\n",
    "| | *equal, not_equal* | Retorna la comparación (igual o no igual) de cada pareja de elementos |\n",
    "| | *greater, greater_equal, less, less_equal* | Retorna la comparación (>, >=, <, <= respectivamente) de cada pareja de elementos |"
   ]
  },
  {
   "cell_type": "markdown",
   "metadata": {},
   "source": [
    "**Más funciones**\n",
    "\n",
    "| Función | Descripción |\n",
    "|:---------|:-----|\n",
    "| *sum(arr)* | Suma de todos los elementos de *arr* |\n",
    "| *mean(arr)* | Media aritmética de los elementos de *arr* |\n",
    "| *std(arr)* | Desviación estándar de los elementos de *arr* |\n",
    "| *cumsum(arr)* | Devuelve array con la suma acumulada de cada elementos con todos los anteriores |\n",
    "| *cumprod(arr)* | Devuelve array con el producto acumulado de cada elementos con todos los anteriores |\n",
    "| *min(arr), max(arr)* | Mínimo y máximo de *arr* |\n",
    "| *any(arr)* | En array de tipo *bool*, retorna *True* si algún elemento es *True* |\n",
    "| *all(arr)* | En array de tipo *bool*, retorna *True* si todos los elementos son *True* (o >0 en valores numéricos) |\n",
    "| *unique(arr)* | Devuelve un array con valores únicos |\n",
    "| *in1d(arr1, arr2)* | Devuelve un array con bool indicando si cada elemento de *arr1* está en *arr2* |\n",
    "| *union1d(arr1, arr2)* | Devuelve la unión de ambos arrays |\n",
    "| *intersect1d(arr1, arr2)* | Devuelve la intersección de ambos arrays |\n",
    "| *setdiff1d(arr1,arr2)* | Elimina de arr1 los elementos comunes de los dos arrays|"
   ]
  },
  {
   "cell_type": "code",
   "execution_count": null,
   "metadata": {},
   "outputs": [],
   "source": [
    "# sum != cumsum\n",
    "array1 = np.arange(6)\n",
    "array2 = np.arange(5,11,1)\n",
    "print(array1)\n",
    "print(array2)\n",
    "print(array1.sum())\n",
    "print(array1.cumsum())"
   ]
  },
  {
   "cell_type": "code",
   "execution_count": null,
   "metadata": {},
   "outputs": [],
   "source": [
    "np.mean(array1)"
   ]
  },
  {
   "cell_type": "code",
   "execution_count": null,
   "metadata": {},
   "outputs": [],
   "source": [
    "np.union1d(array1,array2)"
   ]
  },
  {
   "cell_type": "code",
   "execution_count": null,
   "metadata": {},
   "outputs": [],
   "source": [
    "np.intersect1d(array1,array2)"
   ]
  },
  {
   "cell_type": "markdown",
   "metadata": {},
   "source": [
    "## 2. Filtrado de datos y búsqueda elementos"
   ]
  },
  {
   "cell_type": "code",
   "execution_count": 4,
   "metadata": {},
   "outputs": [
    {
     "name": "stdout",
     "output_type": "stream",
     "text": [
      "[ True False False False  True]\n",
      "[0.99 0.49]\n",
      "[ 1.   14.49 19.99 20.99  1.  ]\n"
     ]
    }
   ],
   "source": [
    "precios = np.array([0.99, 14.49, 19.99, 20.99, 0.49])\n",
    "# mask con los elementos menores de 1\n",
    "mask = np.where(precios < 1, True, False)\n",
    "print(mask)\n",
    "print(precios[mask])\n",
    "\n",
    "print(np.where(precios < 1, 1.0, precios))"
   ]
  },
  {
   "cell_type": "code",
   "execution_count": 5,
   "metadata": {},
   "outputs": [
    {
     "data": {
      "text/plain": [
       "[1, 2, 3, nan, 4, 5, nan]"
      ]
     },
     "execution_count": 5,
     "metadata": {},
     "output_type": "execute_result"
    }
   ],
   "source": [
    "datos = [1,2,3,np.nan,4,5,np.nan]\n",
    "datos"
   ]
  },
  {
   "cell_type": "code",
   "execution_count": 6,
   "metadata": {},
   "outputs": [
    {
     "data": {
      "text/plain": [
       "array([1., 2., 3., 7., 4., 5., 7.])"
      ]
     },
     "execution_count": 6,
     "metadata": {},
     "output_type": "execute_result"
    }
   ],
   "source": [
    "datos2 =np.where(np.isnan(datos),7,datos)\n",
    "datos2"
   ]
  },
  {
   "cell_type": "code",
   "execution_count": 7,
   "metadata": {},
   "outputs": [
    {
     "data": {
      "text/plain": [
       "float"
      ]
     },
     "execution_count": 7,
     "metadata": {},
     "output_type": "execute_result"
    }
   ],
   "source": [
    "type(datos[3])"
   ]
  },
  {
   "cell_type": "code",
   "execution_count": 9,
   "metadata": {},
   "outputs": [],
   "source": [
    "a = np.array([10,20,30,40,50,60,70])\n",
    "b = np.array([10,20,30,40,10,10,70,80,70,90])"
   ]
  },
  {
   "cell_type": "code",
   "execution_count": 10,
   "metadata": {},
   "outputs": [
    {
     "data": {
      "text/plain": [
       "array([False,  True, False, False, False, False, False])"
      ]
     },
     "execution_count": 10,
     "metadata": {},
     "output_type": "execute_result"
    }
   ],
   "source": [
    "# Comprobar si 11 y 20 están en a\n",
    "np.isin(a, [11,20])"
   ]
  },
  {
   "cell_type": "code",
   "execution_count": null,
   "metadata": {},
   "outputs": [],
   "source": [
    "# Mostrar elementos comunes a la búsqueda\n",
    "a[np.isin(a,20)]"
   ]
  },
  {
   "cell_type": "code",
   "execution_count": null,
   "metadata": {},
   "outputs": [],
   "source": [
    "# Mostrar los índices donde coinciden\n",
    "np.where(np.isin(b, [10,70]))"
   ]
  },
  {
   "cell_type": "markdown",
   "metadata": {},
   "source": [
    "## 3. Números aleatorios\n",
    "\n",
    "https://docs.python.org/3/library/random.html"
   ]
  },
  {
   "cell_type": "code",
   "execution_count": null,
   "metadata": {},
   "outputs": [],
   "source": [
    "import random\n",
    "print(random.random()) # número entre 0 y 1\n",
    "print(random.randint(5,10))\n",
    "print(random.uniform(0,5)) # real entre dos valores"
   ]
  },
  {
   "cell_type": "code",
   "execution_count": null,
   "metadata": {},
   "outputs": [],
   "source": [
    "array = np.random.randint(0,50,9)\n",
    "array"
   ]
  },
  {
   "cell_type": "code",
   "execution_count": null,
   "metadata": {},
   "outputs": [],
   "source": [
    "np.random.choice(array)"
   ]
  },
  {
   "cell_type": "code",
   "execution_count": null,
   "metadata": {},
   "outputs": [],
   "source": [
    "# Random seed\n",
    "\n",
    "# Using random.seed we can generate same number of Random numbers\n",
    "np.random.seed(123)\n"
   ]
  },
  {
   "cell_type": "code",
   "execution_count": null,
   "metadata": {},
   "outputs": [],
   "source": [
    "i = 7\n",
    "for _ in range(5):\n",
    "    np.random.seed(i) # misma semilla\n",
    "    print(np.random.rand())\n",
    "\n",
    "print()    \n",
    "    \n",
    "for i in range(5):\n",
    "    np.random.seed(i) # diferentes semillas\n",
    "    print(np.random.rand())"
   ]
  },
  {
   "cell_type": "markdown",
   "metadata": {},
   "source": [
    "## 4. Otros"
   ]
  },
  {
   "cell_type": "code",
   "execution_count": null,
   "metadata": {},
   "outputs": [],
   "source": [
    "# Convert Integer Array to FLOAT\n",
    "array1 = np.array([1,2,3,4])\n",
    "print(array1.dtype)\n",
    "array1.astype(float)\n"
   ]
  },
  {
   "cell_type": "markdown",
   "metadata": {},
   "source": [
    "**Valores frecuentes**"
   ]
  },
  {
   "cell_type": "code",
   "execution_count": null,
   "metadata": {},
   "outputs": [],
   "source": [
    "array2 = np.array([10,10,10,20,30,20,30,30,20,10])\n",
    "np.unique(array2)"
   ]
  },
  {
   "cell_type": "code",
   "execution_count": null,
   "metadata": {},
   "outputs": [],
   "source": [
    "val , count = np.unique(array2,return_counts=True)\n",
    "val,count"
   ]
  },
  {
   "cell_type": "code",
   "execution_count": null,
   "metadata": {},
   "outputs": [],
   "source": [
    "np.bincount(array2)"
   ]
  },
  {
   "cell_type": "code",
   "execution_count": null,
   "metadata": {},
   "outputs": [],
   "source": [
    "np.bincount(b).argmax()"
   ]
  },
  {
   "cell_type": "code",
   "execution_count": null,
   "metadata": {},
   "outputs": [],
   "source": [
    "A = np.array([[1,2,3] , [3,4,5] ,[5,6,7]])\n",
    "A"
   ]
  },
  {
   "cell_type": "code",
   "execution_count": null,
   "metadata": {},
   "outputs": [],
   "source": [
    "A.diagonal(), A.T"
   ]
  },
  {
   "cell_type": "code",
   "execution_count": null,
   "metadata": {},
   "outputs": [],
   "source": [
    "array2 = np.random.randint(0,10,9)\n",
    "array2"
   ]
  },
  {
   "cell_type": "code",
   "execution_count": null,
   "metadata": {},
   "outputs": [],
   "source": [
    "array2.sort()\n",
    "print(array2)\n"
   ]
  },
  {
   "cell_type": "code",
   "execution_count": null,
   "metadata": {},
   "outputs": [],
   "source": []
  },
  {
   "cell_type": "code",
   "execution_count": null,
   "metadata": {},
   "outputs": [],
   "source": []
  },
  {
   "cell_type": "markdown",
   "metadata": {},
   "source": [
    "## 5. Broadcasting\n",
    "\n",
    "Cuando hablamos de broadcasting a lo que nos referimos es a cómo numpy realiza operaciones aritméticas con arrays de diferentes tamaños, replicando el tamaño del menor hasta que alcance el del mayor. Si no fuera por el broadcasting, para hacer este tipo de operaciones los arrayas deberían ser del mismo tamaño.\n",
    "\n",
    "Un ejemplo sencillo al respecto sería:\n",
    "a = [1,1,1]\n",
    "b = [[1,1,1],\n",
    "     [1,2,3],\n",
    "     [4,5,6]]\n",
    "\n",
    "a + b =[[2,2,2],\n",
    "        [2,3,4],\n",
    "        [5,6,6]]\n",
    "\n",
    "Pero esta funcionalidad, tiene una limitación y es que Numpy, lo que hace en realidad es comparar las formas element-wise, empezando con las dimensiones finales y avanzando. Éstas deben ser compatibles, esto es, iguales, o una de ellas es 1, sino no permitirá hacer la operación.\n",
    "\n",
    "Luego, repite los valores del vector más pequeño tantas veces como sea necesario hasta tener la dimensión del array de mayor tamaño y operar.\n",
    "\n",
    "La gran ventaja es que Numpy no hace \"copias\" del valor, por lo que las operaciones de broadcasting están optimizan el consumo de recursos de memoria y computación. La razón es que en broadcasting, cada elemento es extraído del vector, por lo que cuando se está procesando la última fila, el caché que consumía el procesamiento de la primera ha sido liberado. Así, en cada paso las partes del caché, se van liberando. En cambio, si operamos con un bucle, cada fila se procesa al completo.\n"
   ]
  },
  {
   "cell_type": "code",
   "execution_count": 14,
   "metadata": {},
   "outputs": [
    {
     "data": {
      "text/plain": [
       "array([[2, 6, 8],\n",
       "       [9, 5, 9],\n",
       "       [3, 7, 7]])"
      ]
     },
     "metadata": {},
     "output_type": "display_data"
    },
    {
     "data": {
      "text/plain": [
       "array([[6, 2, 1]])"
      ]
     },
     "metadata": {},
     "output_type": "display_data"
    },
    {
     "data": {
      "text/plain": [
       "array([[6, 2, 1],\n",
       "       [6, 2, 1],\n",
       "       [6, 2, 1]])"
      ]
     },
     "metadata": {},
     "output_type": "display_data"
    },
    {
     "data": {
      "text/plain": [
       "array([[6],\n",
       "       [8],\n",
       "       [1],\n",
       "       [9]])"
      ]
     },
     "metadata": {},
     "output_type": "display_data"
    }
   ],
   "source": [
    "a = np.random.randint(0,10,9).reshape(3,3)\n",
    "b = np.random.randint(0,10,3).reshape(1,3)\n",
    "b_broadcast = np.vstack([b,b])\n",
    "b_broadcast = np.vstack([b_broadcast,b])\n",
    "c = np.random.randint(0,10,4).reshape(4,1)\n",
    "display(a)\n",
    "display(b)\n",
    "display(b_broadcast)\n",
    "display(c)"
   ]
  },
  {
   "cell_type": "code",
   "execution_count": null,
   "metadata": {},
   "outputs": [],
   "source": [
    "display(a+b)\n",
    "display(a+b_broadcast)\n",
    "display(a+c)"
   ]
  },
  {
   "cell_type": "markdown",
   "metadata": {},
   "source": [
    "Además del tamaño, otra de las \"limitaciones\" es el broadcasting no está pensado para operaciones entre arrays de una y dos dimensiones"
   ]
  },
  {
   "cell_type": "code",
   "execution_count": null,
   "metadata": {},
   "outputs": [],
   "source": [
    "a = np.random.randint(0,10,4).reshape(2,2)\n",
    "b = np.random.randint(0,10,2).reshape(1,2)\n",
    "a,b"
   ]
  },
  {
   "cell_type": "code",
   "execution_count": null,
   "metadata": {},
   "outputs": [],
   "source": []
  },
  {
   "cell_type": "code",
   "execution_count": null,
   "metadata": {},
   "outputs": [],
   "source": []
  },
  {
   "cell_type": "markdown",
   "metadata": {},
   "source": [
    "## 6. Lectura y Escritura de ndarrays a archivos"
   ]
  },
  {
   "cell_type": "code",
   "execution_count": null,
   "metadata": {},
   "outputs": [],
   "source": [
    "# escribir a archivo\n",
    "import numpy as np\n",
    "import os\n",
    "ruta = os.path.join(\"datasets\" ,\"o_values_array.npy\")\n",
    "values = np.random.randint(9, size=(3,3))\n",
    "np.save(ruta, values)\n",
    "print(values)"
   ]
  },
  {
   "cell_type": "code",
   "execution_count": null,
   "metadata": {},
   "outputs": [],
   "source": [
    "# leer de archivo\n",
    "old_values = np.load(ruta)\n",
    "print(old_values)"
   ]
  },
  {
   "cell_type": "code",
   "execution_count": null,
   "metadata": {},
   "outputs": [],
   "source": [
    "# escribir y cargar múltiples arrays\n",
    "ruta = os.path.join(\"datasets\" ,\"o_array_group.npz\")\n",
    "values1 = np.random.randint(9,size=(3,3))\n",
    "values2 = np.random.randint(4,size=(2,2))\n",
    "values3 = np.random.randint(16,size=(4,4))\n",
    "np.savez(ruta,values1,values2,values3) # añade la extensión .npz   "
   ]
  },
  {
   "cell_type": "code",
   "execution_count": null,
   "metadata": {},
   "outputs": [],
   "source": [
    "# leer los archivos (devuelve un diccionario con las arrays)\n",
    "npzfile = np.load(ruta)\n",
    "print(type(npzfile.files))\n",
    "for key in npzfile.files: # array.files contiene el nombre de las arrays (arr_0, arr_1...)\n",
    "    print(npzfile[key])"
   ]
  },
  {
   "cell_type": "markdown",
   "metadata": {},
   "source": [
    "# Ejercicios"
   ]
  },
  {
   "cell_type": "code",
   "execution_count": null,
   "metadata": {},
   "outputs": [],
   "source": []
  },
  {
   "cell_type": "markdown",
   "metadata": {},
   "source": [
    "Ejercicios para practicar NumPy: https://github.com/rougier/numpy-100/blob/master/100_Numpy_exercises.ipynb"
   ]
  },
  {
   "cell_type": "code",
   "execution_count": null,
   "metadata": {},
   "outputs": [],
   "source": [
    "A = np.arange(1,5)\n",
    "A"
   ]
  },
  {
   "cell_type": "code",
   "execution_count": null,
   "metadata": {},
   "outputs": [],
   "source": [
    "A.diag"
   ]
  }
 ],
 "metadata": {
  "kernelspec": {
   "display_name": "Python 3",
   "language": "python",
   "name": "python3"
  },
  "language_info": {
   "codemirror_mode": {
    "name": "ipython",
    "version": 3
   },
   "file_extension": ".py",
   "mimetype": "text/x-python",
   "name": "python",
   "nbconvert_exporter": "python",
   "pygments_lexer": "ipython3",
   "version": "3.8.8"
  }
 },
 "nbformat": 4,
 "nbformat_minor": 4
}
