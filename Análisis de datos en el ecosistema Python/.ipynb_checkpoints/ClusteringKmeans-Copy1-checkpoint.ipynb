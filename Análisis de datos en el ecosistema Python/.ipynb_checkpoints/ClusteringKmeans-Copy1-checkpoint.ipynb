{
 "cells": [
  {
   "cell_type": "code",
   "execution_count": 95,
   "id": "496cd163-300c-4205-99c0-cec5e17c8520",
   "metadata": {},
   "outputs": [],
   "source": [
    "import numpy as np\n",
    "import pandas as pd\n",
    "\n",
    "from sklearn.cluster import KMeans\n",
    "from sklearn.datasets import load_digits\n",
    "from sklearn.metrics import cluster\n",
    "import matplotlib.pyplot as plt\n"
   ]
  },
  {
   "cell_type": "code",
   "execution_count": 96,
   "id": "1b47bb12-4b58-4a7f-835c-215d23940c26",
   "metadata": {},
   "outputs": [
    {
     "data": {
      "text/html": [
       "<div>\n",
       "<style scoped>\n",
       "    .dataframe tbody tr th:only-of-type {\n",
       "        vertical-align: middle;\n",
       "    }\n",
       "\n",
       "    .dataframe tbody tr th {\n",
       "        vertical-align: top;\n",
       "    }\n",
       "\n",
       "    .dataframe thead th {\n",
       "        text-align: right;\n",
       "    }\n",
       "</style>\n",
       "<table border=\"1\" class=\"dataframe\">\n",
       "  <thead>\n",
       "    <tr style=\"text-align: right;\">\n",
       "      <th></th>\n",
       "      <th>Unnamed: 0</th>\n",
       "      <th>Category</th>\n",
       "      <th>Age</th>\n",
       "      <th>Sex</th>\n",
       "      <th>ALB</th>\n",
       "      <th>ALP</th>\n",
       "      <th>ALT</th>\n",
       "      <th>AST</th>\n",
       "      <th>BIL</th>\n",
       "      <th>CHE</th>\n",
       "      <th>CHOL</th>\n",
       "      <th>CREA</th>\n",
       "      <th>GGT</th>\n",
       "      <th>PROT</th>\n",
       "    </tr>\n",
       "  </thead>\n",
       "  <tbody>\n",
       "    <tr>\n",
       "      <th>0</th>\n",
       "      <td>1</td>\n",
       "      <td>0=Blood Donor</td>\n",
       "      <td>32</td>\n",
       "      <td>m</td>\n",
       "      <td>38.5</td>\n",
       "      <td>52.5</td>\n",
       "      <td>7.7</td>\n",
       "      <td>22.1</td>\n",
       "      <td>7.5</td>\n",
       "      <td>6.93</td>\n",
       "      <td>3.23</td>\n",
       "      <td>106.0</td>\n",
       "      <td>12.1</td>\n",
       "      <td>69.0</td>\n",
       "    </tr>\n",
       "    <tr>\n",
       "      <th>1</th>\n",
       "      <td>2</td>\n",
       "      <td>0=Blood Donor</td>\n",
       "      <td>32</td>\n",
       "      <td>m</td>\n",
       "      <td>38.5</td>\n",
       "      <td>70.3</td>\n",
       "      <td>18.0</td>\n",
       "      <td>24.7</td>\n",
       "      <td>3.9</td>\n",
       "      <td>11.17</td>\n",
       "      <td>4.80</td>\n",
       "      <td>74.0</td>\n",
       "      <td>15.6</td>\n",
       "      <td>76.5</td>\n",
       "    </tr>\n",
       "    <tr>\n",
       "      <th>2</th>\n",
       "      <td>3</td>\n",
       "      <td>0=Blood Donor</td>\n",
       "      <td>32</td>\n",
       "      <td>m</td>\n",
       "      <td>46.9</td>\n",
       "      <td>74.7</td>\n",
       "      <td>36.2</td>\n",
       "      <td>52.6</td>\n",
       "      <td>6.1</td>\n",
       "      <td>8.84</td>\n",
       "      <td>5.20</td>\n",
       "      <td>86.0</td>\n",
       "      <td>33.2</td>\n",
       "      <td>79.3</td>\n",
       "    </tr>\n",
       "    <tr>\n",
       "      <th>3</th>\n",
       "      <td>4</td>\n",
       "      <td>0=Blood Donor</td>\n",
       "      <td>32</td>\n",
       "      <td>m</td>\n",
       "      <td>43.2</td>\n",
       "      <td>52.0</td>\n",
       "      <td>30.6</td>\n",
       "      <td>22.6</td>\n",
       "      <td>18.9</td>\n",
       "      <td>7.33</td>\n",
       "      <td>4.74</td>\n",
       "      <td>80.0</td>\n",
       "      <td>33.8</td>\n",
       "      <td>75.7</td>\n",
       "    </tr>\n",
       "    <tr>\n",
       "      <th>4</th>\n",
       "      <td>5</td>\n",
       "      <td>0=Blood Donor</td>\n",
       "      <td>32</td>\n",
       "      <td>m</td>\n",
       "      <td>39.2</td>\n",
       "      <td>74.1</td>\n",
       "      <td>32.6</td>\n",
       "      <td>24.8</td>\n",
       "      <td>9.6</td>\n",
       "      <td>9.15</td>\n",
       "      <td>4.32</td>\n",
       "      <td>76.0</td>\n",
       "      <td>29.9</td>\n",
       "      <td>68.7</td>\n",
       "    </tr>\n",
       "  </tbody>\n",
       "</table>\n",
       "</div>"
      ],
      "text/plain": [
       "   Unnamed: 0       Category  Age Sex   ALB   ALP   ALT   AST   BIL    CHE  \\\n",
       "0           1  0=Blood Donor   32   m  38.5  52.5   7.7  22.1   7.5   6.93   \n",
       "1           2  0=Blood Donor   32   m  38.5  70.3  18.0  24.7   3.9  11.17   \n",
       "2           3  0=Blood Donor   32   m  46.9  74.7  36.2  52.6   6.1   8.84   \n",
       "3           4  0=Blood Donor   32   m  43.2  52.0  30.6  22.6  18.9   7.33   \n",
       "4           5  0=Blood Donor   32   m  39.2  74.1  32.6  24.8   9.6   9.15   \n",
       "\n",
       "   CHOL   CREA   GGT  PROT  \n",
       "0  3.23  106.0  12.1  69.0  \n",
       "1  4.80   74.0  15.6  76.5  \n",
       "2  5.20   86.0  33.2  79.3  \n",
       "3  4.74   80.0  33.8  75.7  \n",
       "4  4.32   76.0  29.9  68.7  "
      ]
     },
     "execution_count": 96,
     "metadata": {},
     "output_type": "execute_result"
    }
   ],
   "source": [
    "hcv = pd.read_csv('datasets/hcvdat0.csv')\n",
    "hcv.head()"
   ]
  },
  {
   "cell_type": "code",
   "execution_count": 97,
   "id": "e676087a-9d3f-470e-a61d-026c036d5998",
   "metadata": {},
   "outputs": [
    {
     "data": {
      "text/plain": [
       "array(['0=Blood Donor', '0s=suspect Blood Donor', '1=Hepatitis',\n",
       "       '2=Fibrosis', '3=Cirrhosis'], dtype=object)"
      ]
     },
     "execution_count": 97,
     "metadata": {},
     "output_type": "execute_result"
    }
   ],
   "source": [
    "hcv[\"Category\"].unique()"
   ]
  },
  {
   "cell_type": "code",
   "execution_count": 98,
   "id": "fb5f9406-ba93-4ef2-8f06-ac9cfbf98c0a",
   "metadata": {},
   "outputs": [
    {
     "data": {
      "text/plain": [
       "array(['m', 'f'], dtype=object)"
      ]
     },
     "execution_count": 98,
     "metadata": {},
     "output_type": "execute_result"
    }
   ],
   "source": [
    "hcv[\"Sex\"].unique()"
   ]
  },
  {
   "cell_type": "code",
   "execution_count": 99,
   "id": "882ac928-f0ba-4417-b8fd-d4e34fe36294",
   "metadata": {},
   "outputs": [],
   "source": [
    "hcv[\"Category\"].replace({\"0=Blood Donor\": 0, \"0s=suspect Blood Donor\": 0, \"1=Hepatitis\": 1, \"2=Fibrosis\": 2, \"3=Cirrhosis\": 3}, inplace=True)"
   ]
  },
  {
   "cell_type": "code",
   "execution_count": 100,
   "id": "4f493163-0040-438b-aa99-b89cb7dda65c",
   "metadata": {},
   "outputs": [],
   "source": [
    "hcv[\"Sex\"].replace({\"m\": 1, \"f\": 0}, inplace=True)"
   ]
  },
  {
   "cell_type": "code",
   "execution_count": 101,
   "id": "6d8bfe3d-ab14-4495-a106-332689e3d472",
   "metadata": {},
   "outputs": [],
   "source": [
    "del hcv['Unnamed: 0']"
   ]
  },
  {
   "cell_type": "code",
   "execution_count": 102,
   "id": "d8d24780-9793-4948-aa66-852b2936d9ed",
   "metadata": {},
   "outputs": [],
   "source": [
    "\n",
    "def clean_dataset(df):\n",
    "    assert isinstance(df, pd.DataFrame), \"df needs to be a pd.DataFrame\"\n",
    "    df.dropna(inplace=True)\n",
    "    indices_to_keep = ~df.isin([np.nan, np.inf, -np.inf]).any(1)\n",
    "    return df[indices_to_keep].astype(np.float64)"
   ]
  },
  {
   "cell_type": "code",
   "execution_count": 103,
   "id": "cf4867bf-e430-438b-84d8-4bd5a7f1503e",
   "metadata": {},
   "outputs": [
    {
     "data": {
      "text/html": [
       "<div>\n",
       "<style scoped>\n",
       "    .dataframe tbody tr th:only-of-type {\n",
       "        vertical-align: middle;\n",
       "    }\n",
       "\n",
       "    .dataframe tbody tr th {\n",
       "        vertical-align: top;\n",
       "    }\n",
       "\n",
       "    .dataframe thead th {\n",
       "        text-align: right;\n",
       "    }\n",
       "</style>\n",
       "<table border=\"1\" class=\"dataframe\">\n",
       "  <thead>\n",
       "    <tr style=\"text-align: right;\">\n",
       "      <th></th>\n",
       "      <th>Category</th>\n",
       "      <th>Age</th>\n",
       "      <th>Sex</th>\n",
       "      <th>ALB</th>\n",
       "      <th>ALP</th>\n",
       "      <th>ALT</th>\n",
       "      <th>AST</th>\n",
       "      <th>BIL</th>\n",
       "      <th>CHE</th>\n",
       "      <th>CHOL</th>\n",
       "      <th>CREA</th>\n",
       "      <th>GGT</th>\n",
       "      <th>PROT</th>\n",
       "    </tr>\n",
       "  </thead>\n",
       "  <tbody>\n",
       "    <tr>\n",
       "      <th>0</th>\n",
       "      <td>0</td>\n",
       "      <td>32</td>\n",
       "      <td>1</td>\n",
       "      <td>38.5</td>\n",
       "      <td>52.5</td>\n",
       "      <td>7.7</td>\n",
       "      <td>22.1</td>\n",
       "      <td>7.5</td>\n",
       "      <td>6.93</td>\n",
       "      <td>3.23</td>\n",
       "      <td>106.0</td>\n",
       "      <td>12.1</td>\n",
       "      <td>69.0</td>\n",
       "    </tr>\n",
       "    <tr>\n",
       "      <th>1</th>\n",
       "      <td>0</td>\n",
       "      <td>32</td>\n",
       "      <td>1</td>\n",
       "      <td>38.5</td>\n",
       "      <td>70.3</td>\n",
       "      <td>18.0</td>\n",
       "      <td>24.7</td>\n",
       "      <td>3.9</td>\n",
       "      <td>11.17</td>\n",
       "      <td>4.80</td>\n",
       "      <td>74.0</td>\n",
       "      <td>15.6</td>\n",
       "      <td>76.5</td>\n",
       "    </tr>\n",
       "    <tr>\n",
       "      <th>2</th>\n",
       "      <td>0</td>\n",
       "      <td>32</td>\n",
       "      <td>1</td>\n",
       "      <td>46.9</td>\n",
       "      <td>74.7</td>\n",
       "      <td>36.2</td>\n",
       "      <td>52.6</td>\n",
       "      <td>6.1</td>\n",
       "      <td>8.84</td>\n",
       "      <td>5.20</td>\n",
       "      <td>86.0</td>\n",
       "      <td>33.2</td>\n",
       "      <td>79.3</td>\n",
       "    </tr>\n",
       "    <tr>\n",
       "      <th>3</th>\n",
       "      <td>0</td>\n",
       "      <td>32</td>\n",
       "      <td>1</td>\n",
       "      <td>43.2</td>\n",
       "      <td>52.0</td>\n",
       "      <td>30.6</td>\n",
       "      <td>22.6</td>\n",
       "      <td>18.9</td>\n",
       "      <td>7.33</td>\n",
       "      <td>4.74</td>\n",
       "      <td>80.0</td>\n",
       "      <td>33.8</td>\n",
       "      <td>75.7</td>\n",
       "    </tr>\n",
       "    <tr>\n",
       "      <th>4</th>\n",
       "      <td>0</td>\n",
       "      <td>32</td>\n",
       "      <td>1</td>\n",
       "      <td>39.2</td>\n",
       "      <td>74.1</td>\n",
       "      <td>32.6</td>\n",
       "      <td>24.8</td>\n",
       "      <td>9.6</td>\n",
       "      <td>9.15</td>\n",
       "      <td>4.32</td>\n",
       "      <td>76.0</td>\n",
       "      <td>29.9</td>\n",
       "      <td>68.7</td>\n",
       "    </tr>\n",
       "    <tr>\n",
       "      <th>...</th>\n",
       "      <td>...</td>\n",
       "      <td>...</td>\n",
       "      <td>...</td>\n",
       "      <td>...</td>\n",
       "      <td>...</td>\n",
       "      <td>...</td>\n",
       "      <td>...</td>\n",
       "      <td>...</td>\n",
       "      <td>...</td>\n",
       "      <td>...</td>\n",
       "      <td>...</td>\n",
       "      <td>...</td>\n",
       "      <td>...</td>\n",
       "    </tr>\n",
       "    <tr>\n",
       "      <th>608</th>\n",
       "      <td>3</td>\n",
       "      <td>58</td>\n",
       "      <td>0</td>\n",
       "      <td>34.0</td>\n",
       "      <td>46.4</td>\n",
       "      <td>15.0</td>\n",
       "      <td>150.0</td>\n",
       "      <td>8.0</td>\n",
       "      <td>6.26</td>\n",
       "      <td>3.98</td>\n",
       "      <td>56.0</td>\n",
       "      <td>49.7</td>\n",
       "      <td>80.6</td>\n",
       "    </tr>\n",
       "    <tr>\n",
       "      <th>609</th>\n",
       "      <td>3</td>\n",
       "      <td>59</td>\n",
       "      <td>0</td>\n",
       "      <td>39.0</td>\n",
       "      <td>51.3</td>\n",
       "      <td>19.6</td>\n",
       "      <td>285.8</td>\n",
       "      <td>40.0</td>\n",
       "      <td>5.77</td>\n",
       "      <td>4.51</td>\n",
       "      <td>136.1</td>\n",
       "      <td>101.1</td>\n",
       "      <td>70.5</td>\n",
       "    </tr>\n",
       "    <tr>\n",
       "      <th>610</th>\n",
       "      <td>3</td>\n",
       "      <td>62</td>\n",
       "      <td>0</td>\n",
       "      <td>32.0</td>\n",
       "      <td>416.6</td>\n",
       "      <td>5.9</td>\n",
       "      <td>110.3</td>\n",
       "      <td>50.0</td>\n",
       "      <td>5.57</td>\n",
       "      <td>6.30</td>\n",
       "      <td>55.7</td>\n",
       "      <td>650.9</td>\n",
       "      <td>68.5</td>\n",
       "    </tr>\n",
       "    <tr>\n",
       "      <th>611</th>\n",
       "      <td>3</td>\n",
       "      <td>64</td>\n",
       "      <td>0</td>\n",
       "      <td>24.0</td>\n",
       "      <td>102.8</td>\n",
       "      <td>2.9</td>\n",
       "      <td>44.4</td>\n",
       "      <td>20.0</td>\n",
       "      <td>1.54</td>\n",
       "      <td>3.02</td>\n",
       "      <td>63.0</td>\n",
       "      <td>35.9</td>\n",
       "      <td>71.3</td>\n",
       "    </tr>\n",
       "    <tr>\n",
       "      <th>612</th>\n",
       "      <td>3</td>\n",
       "      <td>64</td>\n",
       "      <td>0</td>\n",
       "      <td>29.0</td>\n",
       "      <td>87.3</td>\n",
       "      <td>3.5</td>\n",
       "      <td>99.0</td>\n",
       "      <td>48.0</td>\n",
       "      <td>1.66</td>\n",
       "      <td>3.63</td>\n",
       "      <td>66.7</td>\n",
       "      <td>64.2</td>\n",
       "      <td>82.0</td>\n",
       "    </tr>\n",
       "  </tbody>\n",
       "</table>\n",
       "<p>589 rows × 13 columns</p>\n",
       "</div>"
      ],
      "text/plain": [
       "     Category  Age  Sex   ALB    ALP   ALT    AST   BIL    CHE  CHOL   CREA  \\\n",
       "0           0   32    1  38.5   52.5   7.7   22.1   7.5   6.93  3.23  106.0   \n",
       "1           0   32    1  38.5   70.3  18.0   24.7   3.9  11.17  4.80   74.0   \n",
       "2           0   32    1  46.9   74.7  36.2   52.6   6.1   8.84  5.20   86.0   \n",
       "3           0   32    1  43.2   52.0  30.6   22.6  18.9   7.33  4.74   80.0   \n",
       "4           0   32    1  39.2   74.1  32.6   24.8   9.6   9.15  4.32   76.0   \n",
       "..        ...  ...  ...   ...    ...   ...    ...   ...    ...   ...    ...   \n",
       "608         3   58    0  34.0   46.4  15.0  150.0   8.0   6.26  3.98   56.0   \n",
       "609         3   59    0  39.0   51.3  19.6  285.8  40.0   5.77  4.51  136.1   \n",
       "610         3   62    0  32.0  416.6   5.9  110.3  50.0   5.57  6.30   55.7   \n",
       "611         3   64    0  24.0  102.8   2.9   44.4  20.0   1.54  3.02   63.0   \n",
       "612         3   64    0  29.0   87.3   3.5   99.0  48.0   1.66  3.63   66.7   \n",
       "\n",
       "       GGT  PROT  \n",
       "0     12.1  69.0  \n",
       "1     15.6  76.5  \n",
       "2     33.2  79.3  \n",
       "3     33.8  75.7  \n",
       "4     29.9  68.7  \n",
       "..     ...   ...  \n",
       "608   49.7  80.6  \n",
       "609  101.1  70.5  \n",
       "610  650.9  68.5  \n",
       "611   35.9  71.3  \n",
       "612   64.2  82.0  \n",
       "\n",
       "[589 rows x 13 columns]"
      ]
     },
     "execution_count": 103,
     "metadata": {},
     "output_type": "execute_result"
    }
   ],
   "source": [
    "clean_dataset(hcv)\n",
    "hcv"
   ]
  },
  {
   "cell_type": "code",
   "execution_count": 104,
   "id": "868d3ee6-f414-4575-9b73-af1862c8a4d1",
   "metadata": {},
   "outputs": [
    {
     "data": {
      "text/plain": [
       "Category       0.444140\n",
       "Age           98.631388\n",
       "Sex            0.236877\n",
       "ALB           33.198270\n",
       "ALP          671.901949\n",
       "ALT          435.269784\n",
       "AST         1080.231200\n",
       "BIL          302.988734\n",
       "CHE            4.800799\n",
       "CHOL           1.274537\n",
       "CREA        2570.184928\n",
       "GGT         2948.751409\n",
       "PROT          28.610549\n",
       "dtype: float64"
      ]
     },
     "execution_count": 104,
     "metadata": {},
     "output_type": "execute_result"
    }
   ],
   "source": [
    "hcv.var()"
   ]
  },
  {
   "cell_type": "code",
   "execution_count": 105,
   "id": "8a76c970-12b9-47e8-b2d7-391c83df7d53",
   "metadata": {},
   "outputs": [],
   "source": [
    "hcv.reset_index()\n",
    "X = hcv.to_numpy()"
   ]
  },
  {
   "cell_type": "code",
   "execution_count": 109,
   "id": "7b6776c6-6ebb-478b-84ec-878b27766df4",
   "metadata": {},
   "outputs": [
    {
     "data": {
      "text/plain": [
       "<matplotlib.collections.PathCollection at 0x2c693a7f640>"
      ]
     },
     "execution_count": 109,
     "metadata": {},
     "output_type": "execute_result"
    },
    {
     "data": {
      "image/png": "[encoded data removed]",
      "text/plain": [
       "<Figure size 432x288 with 1 Axes>"
      ]
     },
     "metadata": {
      "needs_background": "light"
     },
     "output_type": "display_data"
    }
   ],
   "source": [
    "\n",
    "data = pd.DataFrame(X, columns = [\"category\", \"age\", \"sex\", \"ALB\", \"ALP\", \"ALT\", \"AST\", \"BIL\", \"CHE\", \"CHOL\", \"CREA\", \"GGT\", \"PROT\"])\n",
    "plt.scatter(data.age, data.GGT)   "
   ]
  },
  {
   "cell_type": "code",
   "execution_count": 110,
   "id": "c80bcb7b-8d23-4044-b681-b3d36f9d0d0f",
   "metadata": {},
   "outputs": [],
   "source": [
    "\n",
    "kmeans = KMeans(n_clusters=4, random_state=0).fit(X)"
   ]
  },
  {
   "cell_type": "code",
   "execution_count": 111,
   "id": "c41a947c-11ac-4007-b0b7-ad75246f742e",
   "metadata": {},
   "outputs": [
    {
     "data": {
      "text/plain": [
       "array([[5.27306968e-02, 4.70903955e+01, 5.95103578e-01, 4.20645951e+01,\n",
       "        6.69623352e+01, 2.54384181e+01, 2.66045198e+01, 8.80225989e+00,\n",
       "        8.36399247e+00, 5.44054614e+00, 7.83192090e+01, 2.67327684e+01,\n",
       "        7.20094162e+01],\n",
       "       [1.75000000e+00, 5.65000000e+01, 7.50000000e-01, 3.28500000e+01,\n",
       "        1.59237500e+02, 6.43250000e+01, 1.50100000e+02, 2.89000000e+01,\n",
       "        5.01250000e+00, 4.62000000e+00, 8.74625000e+01, 4.06100000e+02,\n",
       "        6.92500000e+01],\n",
       "       [1.38297872e+00, 4.97446809e+01, 8.29787234e-01, 3.86297872e+01,\n",
       "        6.07553191e+01, 3.45148936e+01, 9.51765957e+01, 3.31382979e+01,\n",
       "        7.08276596e+00, 5.03978723e+00, 7.94021277e+01, 1.00085106e+02,\n",
       "        7.16425532e+01],\n",
       "       [3.00000000e+00, 4.46666667e+01, 6.66666667e-01, 3.40000000e+01,\n",
       "        1.46033333e+02, 2.76666667e+00, 3.03666667e+01, 9.00000000e+00,\n",
       "        5.89000000e+00, 4.24666667e+00, 6.94666667e+02, 1.17000000e+02,\n",
       "        6.17000000e+01]])"
      ]
     },
     "execution_count": 111,
     "metadata": {},
     "output_type": "execute_result"
    }
   ],
   "source": [
    "kmeans.cluster_centers_"
   ]
  },
  {
   "cell_type": "code",
   "execution_count": 112,
   "id": "6d85047a-1adf-4c1d-af29-979a7f2429af",
   "metadata": {},
   "outputs": [
    {
     "data": {
      "text/html": [
       "<div>\n",
       "<style scoped>\n",
       "    .dataframe tbody tr th:only-of-type {\n",
       "        vertical-align: middle;\n",
       "    }\n",
       "\n",
       "    .dataframe tbody tr th {\n",
       "        vertical-align: top;\n",
       "    }\n",
       "\n",
       "    .dataframe thead th {\n",
       "        text-align: right;\n",
       "    }\n",
       "</style>\n",
       "<table border=\"1\" class=\"dataframe\">\n",
       "  <thead>\n",
       "    <tr style=\"text-align: right;\">\n",
       "      <th></th>\n",
       "      <th>category</th>\n",
       "      <th>age</th>\n",
       "      <th>sex</th>\n",
       "      <th>ALB</th>\n",
       "      <th>ALP</th>\n",
       "      <th>ALT</th>\n",
       "      <th>AST</th>\n",
       "      <th>BIL</th>\n",
       "      <th>CHE</th>\n",
       "      <th>CHOL</th>\n",
       "      <th>CREA</th>\n",
       "      <th>GGT</th>\n",
       "      <th>PROT</th>\n",
       "    </tr>\n",
       "  </thead>\n",
       "  <tbody>\n",
       "    <tr>\n",
       "      <th>0</th>\n",
       "      <td>0.052731</td>\n",
       "      <td>47.090395</td>\n",
       "      <td>0.595104</td>\n",
       "      <td>42.064595</td>\n",
       "      <td>66.962335</td>\n",
       "      <td>25.438418</td>\n",
       "      <td>26.604520</td>\n",
       "      <td>8.802260</td>\n",
       "      <td>8.363992</td>\n",
       "      <td>5.440546</td>\n",
       "      <td>78.319209</td>\n",
       "      <td>26.732768</td>\n",
       "      <td>72.009416</td>\n",
       "    </tr>\n",
       "    <tr>\n",
       "      <th>1</th>\n",
       "      <td>1.750000</td>\n",
       "      <td>56.500000</td>\n",
       "      <td>0.750000</td>\n",
       "      <td>32.850000</td>\n",
       "      <td>159.237500</td>\n",
       "      <td>64.325000</td>\n",
       "      <td>150.100000</td>\n",
       "      <td>28.900000</td>\n",
       "      <td>5.012500</td>\n",
       "      <td>4.620000</td>\n",
       "      <td>87.462500</td>\n",
       "      <td>406.100000</td>\n",
       "      <td>69.250000</td>\n",
       "    </tr>\n",
       "    <tr>\n",
       "      <th>2</th>\n",
       "      <td>1.382979</td>\n",
       "      <td>49.744681</td>\n",
       "      <td>0.829787</td>\n",
       "      <td>38.629787</td>\n",
       "      <td>60.755319</td>\n",
       "      <td>34.514894</td>\n",
       "      <td>95.176596</td>\n",
       "      <td>33.138298</td>\n",
       "      <td>7.082766</td>\n",
       "      <td>5.039787</td>\n",
       "      <td>79.402128</td>\n",
       "      <td>100.085106</td>\n",
       "      <td>71.642553</td>\n",
       "    </tr>\n",
       "    <tr>\n",
       "      <th>3</th>\n",
       "      <td>3.000000</td>\n",
       "      <td>44.666667</td>\n",
       "      <td>0.666667</td>\n",
       "      <td>34.000000</td>\n",
       "      <td>146.033333</td>\n",
       "      <td>2.766667</td>\n",
       "      <td>30.366667</td>\n",
       "      <td>9.000000</td>\n",
       "      <td>5.890000</td>\n",
       "      <td>4.246667</td>\n",
       "      <td>694.666667</td>\n",
       "      <td>117.000000</td>\n",
       "      <td>61.700000</td>\n",
       "    </tr>\n",
       "  </tbody>\n",
       "</table>\n",
       "</div>"
      ],
      "text/plain": [
       "   category        age       sex        ALB         ALP        ALT  \\\n",
       "0  0.052731  47.090395  0.595104  42.064595   66.962335  25.438418   \n",
       "1  1.750000  56.500000  0.750000  32.850000  159.237500  64.325000   \n",
       "2  1.382979  49.744681  0.829787  38.629787   60.755319  34.514894   \n",
       "3  3.000000  44.666667  0.666667  34.000000  146.033333   2.766667   \n",
       "\n",
       "          AST        BIL       CHE      CHOL        CREA         GGT  \\\n",
       "0   26.604520   8.802260  8.363992  5.440546   78.319209   26.732768   \n",
       "1  150.100000  28.900000  5.012500  4.620000   87.462500  406.100000   \n",
       "2   95.176596  33.138298  7.082766  5.039787   79.402128  100.085106   \n",
       "3   30.366667   9.000000  5.890000  4.246667  694.666667  117.000000   \n",
       "\n",
       "        PROT  \n",
       "0  72.009416  \n",
       "1  69.250000  \n",
       "2  71.642553  \n",
       "3  61.700000  "
      ]
     },
     "execution_count": 112,
     "metadata": {},
     "output_type": "execute_result"
    }
   ],
   "source": [
    "centroides = pd.DataFrame(kmeans.cluster_centers_, columns = [\"category\", \"age\", \"sex\", \"ALB\", \"ALP\", \"ALT\", \"AST\", \"BIL\", \"CHE\", \"CHOL\", \"CREA\", \"GGT\", \"PROT\"])\n",
    "centroides"
   ]
  },
  {
   "cell_type": "code",
   "execution_count": 114,
   "id": "947d4086-2fb8-4b52-9eb1-71f4d8e61acf",
   "metadata": {},
   "outputs": [
    {
     "data": {
      "text/plain": [
       "<matplotlib.collections.PathCollection at 0x2c693b2fd30>"
      ]
     },
     "execution_count": 114,
     "metadata": {},
     "output_type": "execute_result"
    },
    {
     "data": {
      "image/png": "[encoded data removed]",
      "text/plain": [
       "<Figure size 432x288 with 1 Axes>"
      ]
     },
     "metadata": {
      "needs_background": "light"
     },
     "output_type": "display_data"
    }
   ],
   "source": [
    "plt.scatter(data.age, data.GGT)\n",
    "plt.scatter(centroides.age, centroides.GGT)"
   ]
  },
  {
   "cell_type": "code",
   "execution_count": 92,
   "id": "6e4bce58-3462-45bd-8272-c66f777ba137",
   "metadata": {},
   "outputs": [
    {
     "name": "stderr",
     "output_type": "stream",
     "text": [
      "C:\\Users\\sergi\\anaconda3\\lib\\site-packages\\sklearn\\cluster\\_kmeans.py:881: UserWarning: KMeans is known to have a memory leak on Windows with MKL, when there are less chunks than available threads. You can avoid it by setting the environment variable OMP_NUM_THREADS=2.\n",
      "  warnings.warn(\n"
     ]
    }
   ],
   "source": [
    "inertias = []\n",
    "n_clusters = range(1,10)\n",
    "for n in n_clusters:\n",
    "    km_model = KMeans(n_clusters = n)\n",
    "    km_model.fit(X)\n",
    "    inertias.append(km_model.inertia_)"
   ]
  },
  {
   "cell_type": "code",
   "execution_count": 93,
   "id": "dd1b1bac-6bc7-4c44-bf70-e737963a88f6",
   "metadata": {},
   "outputs": [
    {
     "data": {
      "image/png": "[encoded data removed]",
      "text/plain": [
       "<Figure size 1152x576 with 1 Axes>"
      ]
     },
     "metadata": {
      "needs_background": "light"
     },
     "output_type": "display_data"
    }
   ],
   "source": [
    "plt.figure(figsize=(16,8))\n",
    "plt.plot(n_clusters, inertias)\n",
    "plt.xlabel(\"Nº de clusters\")\n",
    "plt.ylabel(\"Inercia\")\n",
    "plt.show()"
   ]
  }
 ],
 "metadata": {
  "kernelspec": {
   "display_name": "Python 3",
   "language": "python",
   "name": "python3"
  },
  "language_info": {
   "codemirror_mode": {
    "name": "ipython",
    "version": 3
   },
   "file_extension": ".py",
   "mimetype": "text/x-python",
   "name": "python",
   "nbconvert_exporter": "python",
   "pygments_lexer": "ipython3",
   "version": "3.8.8"
  }
 },
 "nbformat": 4,
 "nbformat_minor": 5
}
