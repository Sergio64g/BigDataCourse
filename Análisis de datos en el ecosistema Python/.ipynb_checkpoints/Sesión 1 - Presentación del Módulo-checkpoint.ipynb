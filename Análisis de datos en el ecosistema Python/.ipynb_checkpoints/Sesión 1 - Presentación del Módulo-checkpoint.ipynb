{
 "cells": [
  {
   "cell_type": "markdown",
   "metadata": {},
   "source": [
    "# Módulo 1: Análisis de datos en el ecosistema Python"
   ]
  },
  {
   "cell_type": "markdown",
   "metadata": {},
   "source": [
    "**13/09/2021**"
   ]
  },
  {
   "cell_type": "markdown",
   "metadata": {},
   "source": [
    "*Aroa Fernández Guerra*           \n",
    "\n",
    "aroa.fernandez@cesjuanpablosegundo.es"
   ]
  },
  {
   "cell_type": "markdown",
   "metadata": {},
   "source": [
    "## Objetivo de la asignatura \n",
    "\n",
    "- Desarrollar capacidades de Python aplicado a data science.\n",
    "- Aprender técnicas de carga, ingesta, limpieza y manipulación de datos.\n",
    "- Implementar de modelos y procesos de machine learning.\n",
    "- Utilizar las principales librerías de analítica y machine learning.\n",
    "- Entender deep learning y redes neuronales.\n",
    "- Aplicar técnicas de deep learning.\n",
    "- Recopilar y sintetizar información para extraer resultados clave. \n",
    "- Elaborar informes y documentación.\n",
    "- Comprender la globalidad de los proyectos.\n"
   ]
  },
  {
   "cell_type": "markdown",
   "metadata": {},
   "source": [
    "## Documentación oficial \n",
    " - Python: https://docs.python.org/3/\n",
    " - NumPy: https://docs.scipy.org/doc/\n",
    " - pandas: https://pandas.pydata.org/index.html\n",
    " - matplotlib: https://matplotlib.org/\n",
    " \n",
    "## Más fuentes\n",
    " - Python: https://www.tutorialspoint.com/python/"
   ]
  },
  {
   "cell_type": "markdown",
   "metadata": {},
   "source": [
    "## Herramientas\n",
    "- Instalacion via Anaconda\n",
    " - Módulos incluidos\n",
    "- http://docs.anaconda.com/anaconda/install/\n",
    "- https://docs.anaconda.com/anaconda/user-guide/getting-started\n",
    "- Jupyter Notebook / Jupyter Lab / VS Code\n",
    "\n",
    "\n",
    "## Jupyter\n",
    " - Diferentes tipos de celdas\n",
    " - Shortcuts (Help)\n",
    " - Kernel\n",
    "\n",
    "\n",
    "## Datasets\n",
    "\n",
    " - UCI Machine Learning Repository: https://archive.ics.uci.edu/ml/index.php\n",
    " - Open Data Ayuntamiento Madrid: https://datos.madrid.es/portal/site/egob\n",
    " - Open Data Gobierno de España: https://datos.gob.es/\n",
    " - European Union Open Data: http://open-data.europa.eu/en/data/\n",
    " - Buscador Open Data Google: https://datasetsearch.research.google.com/\n",
    " - Kaggle: https://www.kaggle.com/\n",
    " - World Bank Open Data: https://data.worldbank.org/\n",
    " - load_datasets library"
   ]
  },
  {
   "cell_type": "markdown",
   "metadata": {},
   "source": [
    "## Algunos blogs y webs de elearning\n",
    "\n",
    "- https://towardsdatascience.com\n",
    "- https://www.theinsaneapp.com/2020/12/machine-learning-and-data-science-cheat-sheets-pdf.html\n",
    "- https://www.analyticslane.com/\n",
    "- https://www.aprendemachinelearning.com/\n",
    "- https://www.kaggle.com/\n",
    "- https://machinelearningmastery.com/\n",
    "- https://ai.google/\n",
    "- https://datascience.stackexchange.com/\n"
   ]
  },
  {
   "cell_type": "markdown",
   "metadata": {},
   "source": [
    "## Sobre Python\n",
    "\n",
    "- Lenguaje de alto nivel. Lenguaje interpretado, no compilado. Más flexible y portable\n",
    "- Soporte de diversos paradigmas: imperativo, orientado a objetos, funcional orientada a aspectos\n",
    "- Sistema de tipos dinámico y gestión automática de memoria\n",
    "- **Identación** para delimitar bloques de código\n",
    "- Gran variedad de librerías y \n",
    "- Multiplataforma\n",
    "\n",
    "------------------------------------------------\n",
    "- Para ejecutar código:\n",
    "    - Línea de comandos o terminal, Shell de python o interactivo, python/ipython\n",
    "    - IDE -> Eclipse, Pycharm, Sublime, Nano, VSCode, Atom, Spyder, ...\n",
    "    - Google Colab, Azure Notebooks, Jupyter\n",
    "\n",
    "- Instalar librerías: **pip** / **conda**\n",
    "\n",
    "- Ayuda: **shift + tab** para hint con ayuda\n",
    "\n",
    "- Comentarios: **#**\n"
   ]
  },
  {
   "cell_type": "markdown",
   "metadata": {},
   "source": [
    "## Programación Orientada a Objetos (OOP)\n",
    "\n",
    "Un **objeto** es una estructura de datos compleja y flexible, que permite almacenar información y la forma de operar en dicha información.\n",
    "\n",
    "Los objetos se definen a partir de una plantilla que se denomina **clase**. Un objeto pertenece a una clase cuando se ha creado (instanciado) a partir de ella.\n",
    "\n",
    "En esa clase se pueden definir variables que pertenecerán al objeto, llamadas **propiedades o atributos** y funciones que se utilizarán para trabajar con él, llamadas **métodos**. Los métodos suelen usarse para asignar o cambiar el valor de los atributos, retornar valores..., en general para cualquier cosa que se pueda hacer con una función\n",
    "\n",
    "Dos objetos creados (instanciados) con la misma clase tendrán los mismos atributos, pero los valores no tienen por que ser los mismos. Si tengo dos objetos Persona1 y Persona2, tendrán los mismos atributos, peso y altura, pero no tienen que tener los mimos valores para peso y altura. \n",
    "\n",
    "Para instanciar un objeto de una clase, solo hay que asignarlo, pasándole los valores necesarios como se haría con una función.\n",
    "\n",
    "Una vez instanciado un objeto, para acceder a sus atributos y métodos:\n",
    " - nombre_objeto.atributo\n",
    " - nombre_objeto.metodo()\n"
   ]
  },
  {
   "cell_type": "code",
   "execution_count": null,
   "metadata": {},
   "outputs": [],
   "source": []
  }
 ],
 "metadata": {
  "kernelspec": {
   "display_name": "Python 3",
   "language": "python",
   "name": "python3"
  },
  "language_info": {
   "codemirror_mode": {
    "name": "ipython",
    "version": 3
   },
   "file_extension": ".py",
   "mimetype": "text/x-python",
   "name": "python",
   "nbconvert_exporter": "python",
   "pygments_lexer": "ipython3",
   "version": "3.8.8"
  }
 },
 "nbformat": 4,
 "nbformat_minor": 4
}
