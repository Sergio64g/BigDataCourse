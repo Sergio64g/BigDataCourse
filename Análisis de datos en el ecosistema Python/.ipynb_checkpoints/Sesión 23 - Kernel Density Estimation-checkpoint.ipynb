{
 "cells": [
  {
   "cell_type": "markdown",
   "id": "725da527",
   "metadata": {},
   "source": [
    "Fuente: https://www.cienciadedatos.net/documentos/pystats02-kernel-density-estimation-kde-python.html\n",
    "\n",
    "La **función de densidad del kernel** es un método no paramétrico que permite estimar la función de densidad de probabilidad de una variable aleatoria."
   ]
  },
  {
   "cell_type": "code",
   "execution_count": null,
   "id": "ac5094e2",
   "metadata": {},
   "outputs": [],
   "source": [
    "# Ejemplo histograma distribución bimodal\n",
    "# ==============================================================================\n",
    "import matplotlib.pyplot as plt\n",
    "import numpy as np\n",
    "plt.style.use('ggplot')\n",
    "\n",
    "muestra_1 = np.random.normal(loc=20, scale=5, size=200)\n",
    "muestra_2 = np.random.normal(loc=40, scale=5, size=500)\n",
    "datos     = np.hstack((muestra_1, muestra_2))\n",
    "\n",
    "fig, ax = plt.subplots(figsize=(6,4))\n",
    "ax.hist(datos, bins=30, density=True, color=\"#3182bd\", alpha=0.5)\n",
    "ax.plot(datos, np.full_like(datos, -0.001), '|k', markeredgewidth=1)\n",
    "ax.set_title('Histograma (normalizado)  \\n 700 observaciones')\n",
    "ax.set_xlabel('x')\n",
    "ax.set_ylabel('densidad');"
   ]
  },
  {
   "cell_type": "code",
   "execution_count": null,
   "id": "82c0c031",
   "metadata": {},
   "outputs": [],
   "source": [
    "import numpy as np\n",
    "import matplotlib.pyplot as plt\n",
    "from scipy import stats"
   ]
  },
  {
   "cell_type": "code",
   "execution_count": null,
   "id": "dbf82b89",
   "metadata": {},
   "outputs": [],
   "source": [
    "X = np.array([2, 3, 4, 7])\n",
    "fig, ax = plt.subplots(figsize=(6,2))\n",
    "ax.plot(X, np.full_like(X, 0.05), '|k', markeredgewidth=5)\n",
    "ax.set_ylim(-0.05,1)\n",
    "ax.set_title('Posición observaciones')\n",
    "ax.set_xlabel('x')\n",
    "ax.set_ylabel('');"
   ]
  },
  {
   "cell_type": "code",
   "execution_count": null,
   "id": "05b47da2",
   "metadata": {},
   "outputs": [],
   "source": [
    "# Sobre cada observación se centra una distribución normal, con media igual al valor de la observación y desviación típica de 1\n",
    "\n",
    "fig, ax = plt.subplots(figsize=(6,4))\n",
    "ax.plot(X, np.full_like(X, 0), '|k', markeredgewidth=4)\n",
    "\n",
    "Xgrid = np.linspace(min(X) - 1, max(X) + 1, num=500)\n",
    "\n",
    "for x in X:\n",
    "    densidad = stats.norm.pdf(Xgrid, loc=x, scale=1)\n",
    "    ax.axvline(x=x, linestyle='--', color='black')\n",
    "    ax.plot(Xgrid, densidad)\n",
    "    \n",
    "ax.set_title('Distribuciones normales (una por cada observación)')\n",
    "ax.set_xlabel('x')\n",
    "ax.set_ylabel('densidad');"
   ]
  },
  {
   "cell_type": "markdown",
   "id": "45f84dd8",
   "metadata": {},
   "source": [
    "**Así cada observación contribuye en la posición que ocupa pero también en las regiones cercanas con menor influencia.**\n",
    "\n",
    "Por último, si se suman las contribuciones individuales y se dividen por el total de curvas (observaciones), se consigue una curva final que describe la distribución de las observaciones."
   ]
  },
  {
   "cell_type": "code",
   "execution_count": null,
   "id": "a58c5863",
   "metadata": {},
   "outputs": [],
   "source": [
    "fig, ax = plt.subplots(figsize=(6,4))\n",
    "ax.plot(X, np.full_like(X, 0), '|k', markeredgewidth=4)\n",
    "\n",
    "Xgrid = np.linspace(min(X) - 1, max(X) + 1, num=500)\n",
    "\n",
    "suma = np.full_like(Xgrid, 0)\n",
    "for x in X:\n",
    "    densidad = stats.norm.pdf(Xgrid, loc=x, scale=1)\n",
    "    suma = suma + densidad\n",
    "    ax.axvline(x=x, linestyle='--', color='black')\n",
    "    ax.plot(Xgrid, densidad)\n",
    "    \n",
    "suma = suma / len(X)\n",
    "ax.plot(Xgrid, suma, color='b')\n",
    "ax.fill_between(Xgrid, suma, alpha=0.3, color='b');\n",
    "\n",
    "ax.set_title('Suma de las distribuciones')\n",
    "ax.set_xlabel('x')\n",
    "ax.set_ylabel('densidad');"
   ]
  },
  {
   "cell_type": "markdown",
   "id": "435ddb7d",
   "metadata": {},
   "source": [
    "**Kernels disponibles** \n",
    "\n",
    "https://scikit-learn.org/stable/auto_examples/neighbors/plot_kde_1d.html#sphx-glr-auto-examples-neighbors-plot-kde-1d-py\n",
    "\n",
    "**Definición matemática**\n",
    "\n",
    "https://www.cienciadedatos.net/documentos/pystats02-kernel-density-estimation-kde-python.html"
   ]
  },
  {
   "cell_type": "code",
   "execution_count": null,
   "id": "f7020a2e",
   "metadata": {},
   "outputs": [],
   "source": []
  }
 ],
 "metadata": {
  "kernelspec": {
   "display_name": "Python 3 (ipykernel)",
   "language": "python",
   "name": "python3"
  },
  "language_info": {
   "codemirror_mode": {
    "name": "ipython",
    "version": 3
   },
   "file_extension": ".py",
   "mimetype": "text/x-python",
   "name": "python",
   "nbconvert_exporter": "python",
   "pygments_lexer": "ipython3",
   "version": "3.8.8"
  }
 },
 "nbformat": 4,
 "nbformat_minor": 5
}
