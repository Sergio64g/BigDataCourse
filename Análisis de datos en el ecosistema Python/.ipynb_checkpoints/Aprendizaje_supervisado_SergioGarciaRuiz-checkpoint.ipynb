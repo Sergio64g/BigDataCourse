{
 "cells": [
  {
   "cell_type": "markdown",
   "id": "017ccb5c-702e-4f9c-8cb6-ab53184b2cf5",
   "metadata": {},
   "source": [
    "#  Aprendizaje supervisado"
   ]
  },
  {
   "cell_type": "markdown",
   "id": "65ce6e0a-0413-47b0-9a68-0c923aee613e",
   "metadata": {},
   "source": [
    "## Datasets\n",
    "\n",
    "### Regression\n",
    "**Energy efficiency Data Set**\n",
    "\n",
    "Data Set Information:\n",
    "\n",
    "We perform energy analysis using 12 different building shapes simulated in Ecotect. The buildings differ with respect to the glazing area, the glazing area distribution, and the orientation, amongst other parameters. We simulate various settings as functions of the afore-mentioned characteristics to obtain 768 building shapes. The dataset comprises 768 samples and 8 features, aiming to predict two real valued responses. It can also be used as a multi-class classification problem if the response is rounded to the nearest integer.\n",
    "Data properties:\n",
    "\n",
    "1. Relative Compactness\n",
    "2. Surface Area\t\n",
    "3. Wall Area\t\n",
    "4. Roof Area\t\n",
    "5. Overall Height\t\n",
    "6. Orientation\tGlazing Area\t\n",
    "7. Glazing Area Distribution\t\n",
    "8. Heating Load\t\n",
    "9. Cooling Load\n",
    "\n",
    "### Clasification\n",
    "\n",
    "**glass**\n",
    "\n",
    "Description:\n",
    "A simple database containing 17 Boolean-valued attributes.  The \"type\"\n",
    "      attribute appears to be the class attribute.  Here is a breakdown of\n",
    "      which animals are in which type: (I find it unusual that there are\n",
    "      2 instances of \"frog\" and one of \"girl\"!)\n",
    "\n",
    "Data properties:\n",
    "\n",
    " 1. animal name:      Unique for each instance\n",
    "   2. hair\t\tBoolean\n",
    "   3. feathers\t\tBoolean\n",
    "   4. eggs\t\tBoolean\n",
    "   5. milk\t\tBoolean\n",
    "   6. airborne\t\tBoolean\n",
    "   7. aquatic\t\tBoolean\n",
    "   8. predator\t\tBoolean\n",
    "   9. toothed\t\tBoolean\n",
    "  10. backbone\t\tBoolean\n",
    "  11. breathes\t\tBoolean\n",
    "  12. venomous\t\tBoolean\n",
    "  13. fins\t\tBoolean\n",
    "  14. legs\t\tNumeric (set of values: {0,2,4,5,6,8})\n",
    "  15. tail\t\tBoolean\n",
    "  16. domestic\t\tBoolean\n",
    "  17. catsize\t\tBoolean\n",
    "  18. type\t\tNumeric (integer values in range [1,7])\n",
    "\n",
    "**Glass Identification**\n",
    "\n",
    "Description:\n",
    "\n",
    "Vina conducted a comparison test of her rule-based system, BEAGLE, the\n",
    "      nearest-neighbor algorithm, and discriminant analysis.  BEAGLE is \n",
    "      a product available through VRS Consulting, Inc.; 4676 Admiralty Way,\n",
    "      Suite 206; Marina Del Ray, CA 90292 (213) 827-7890 and FAX: -3189.\n",
    "      In determining whether the glass was a type of \"float\" glass or not,\n",
    "      the following results were obtained (# incorrect answers):\n",
    "\n",
    "             Type of Sample                            Beagle   NN    DA\n",
    "             Windows that were float processed (87)     10      12    21\n",
    "             Windows that were not:            (76)     19      16    22\n",
    "\n",
    "      The study of classification of types of glass was motivated by \n",
    "      criminological investigation.  At the scene of the crime, the glass left\n",
    "      can be used as evidence...if it is correctly identified!\n",
    "\n",
    "\n",
    "Data properties:\n",
    "\n",
    " 1. Id number: 1 to 214\n",
    "   2. RI: refractive index\n",
    "   3. Na: Sodium (unit measurement: weight percent in corresponding oxide, as \n",
    "                  are attributes 4-10)\n",
    "   4. Mg: Magnesium\n",
    "   5. Al: Aluminum\n",
    "   6. Si: Silicon\n",
    "   7. K: Potassium\n",
    "   8. Ca: Calcium\n",
    "   9. Ba: Barium\n",
    "  10. Fe: Iron\n",
    "  11. Type of glass: (class attribute)\n",
    "      -- 1 building_windows_float_processed\n",
    "      -- 2 building_windows_non_float_processed\n",
    "      -- 3 vehicle_windows_float_processed\n",
    "      -- 4 vehicle_windows_non_float_processed (none in this database)\n",
    "      -- 5 containers\n",
    "      -- 6 tableware\n",
    "      -- 7 headlamps"
   ]
  },
  {
   "cell_type": "code",
   "execution_count": 3,
   "id": "4af9ef77-a910-412f-b323-c9f9af66335a",
   "metadata": {},
   "outputs": [],
   "source": [
    "# imports\n",
    "import os\n",
    "import pandas as pd\n",
    "import numpy as np\n",
    "import seaborn as sns\n",
    "import matplotlib.pyplot as plt\n",
    "\n",
    "from sklearn import tree\n",
    "from sklearn import datasets\n",
    "import sklearn.metrics as metrics\n",
    "from sklearn.model_selection import KFold\n",
    "from sklearn.model_selection import cross_val_predict\n",
    "from sklearn import preprocessing\n",
    "from sklearn.tree import DecisionTreeRegressor\n",
    "from sklearn.model_selection import train_test_split\n",
    "\n",
    "\n",
    "from sklearn import datasets, linear_model\n",
    "import warnings\n",
    "warnings.filterwarnings(\"ignore\")\n",
    "\n",
    "from sklearn.feature_selection import VarianceThreshold\n",
    "from sklearn.feature_selection import mutual_info_regression,f_regression\n",
    "from sklearn.feature_selection import SelectKBest\n",
    "from sklearn.model_selection import cross_validate, KFold, cross_val_predict, train_test_split, cross_val_score\n",
    "\n",
    "from sklearn.linear_model import LinearRegression\n",
    "from sklearn.neighbors import KNeighborsRegressor\n",
    "\n",
    "from sklearn import preprocessing"
   ]
  },
  {
   "cell_type": "code",
   "execution_count": 9,
   "id": "75424ee2-5e6d-4dfb-827b-c2df998af9b1",
   "metadata": {},
   "outputs": [
    {
     "name": "stdout",
     "output_type": "stream",
     "text": [
      "Energy dataset:\n",
      "(768, 10)\n",
      "Glass dataset:\n",
      "(214, 11)\n"
     ]
    }
   ],
   "source": [
    "#Load datasets\n",
    "\n",
    "\n",
    "ruta = os.path.join(\"datasets\\Classification\", \"glass.data\")\n",
    "fichero = open(ruta)\n",
    "glass = pd.read_csv(ruta)\n",
    "fichero.close()\n",
    "glass.head()\n",
    "\n",
    "\n",
    "ruta = os.path.join(\"datasets/Regression\", \"ENB2012_data.csv\")\n",
    "fichero = open(ruta)\n",
    "energy = pd.read_csv(ruta, sep=\";\")\n",
    "fichero.close()\n",
    "\n",
    "print('Energy dataset:')\n",
    "print(np.shape(energy))\n",
    "\n",
    "print('Glass dataset:')\n",
    "print(np.shape(glass))"
   ]
  },
  {
   "cell_type": "markdown",
   "id": "65cc3db4-31ec-43e6-b19d-7e60217bde3d",
   "metadata": {},
   "source": [
    "# Clasificacion"
   ]
  },
  {
   "cell_type": "code",
   "execution_count": 10,
   "id": "f0096f92-bb00-4567-892c-25f985be46d5",
   "metadata": {},
   "outputs": [
    {
     "data": {
      "text/html": [
       "<div>\n",
       "<style scoped>\n",
       "    .dataframe tbody tr th:only-of-type {\n",
       "        vertical-align: middle;\n",
       "    }\n",
       "\n",
       "    .dataframe tbody tr th {\n",
       "        vertical-align: top;\n",
       "    }\n",
       "\n",
       "    .dataframe thead th {\n",
       "        text-align: right;\n",
       "    }\n",
       "</style>\n",
       "<table border=\"1\" class=\"dataframe\">\n",
       "  <thead>\n",
       "    <tr style=\"text-align: right;\">\n",
       "      <th></th>\n",
       "      <th>Id number</th>\n",
       "      <th>RI</th>\n",
       "      <th>Na</th>\n",
       "      <th>Mg</th>\n",
       "      <th>Al</th>\n",
       "      <th>Si</th>\n",
       "      <th>K</th>\n",
       "      <th>Ca</th>\n",
       "      <th>Ba</th>\n",
       "      <th>Fe</th>\n",
       "      <th>Type of glass</th>\n",
       "    </tr>\n",
       "  </thead>\n",
       "  <tbody>\n",
       "    <tr>\n",
       "      <th>0</th>\n",
       "      <td>1</td>\n",
       "      <td>1.52101</td>\n",
       "      <td>13.64</td>\n",
       "      <td>4.49</td>\n",
       "      <td>1.10</td>\n",
       "      <td>71.78</td>\n",
       "      <td>0.06</td>\n",
       "      <td>8.75</td>\n",
       "      <td>0.0</td>\n",
       "      <td>0.0</td>\n",
       "      <td>1</td>\n",
       "    </tr>\n",
       "    <tr>\n",
       "      <th>1</th>\n",
       "      <td>2</td>\n",
       "      <td>1.51761</td>\n",
       "      <td>13.89</td>\n",
       "      <td>3.60</td>\n",
       "      <td>1.36</td>\n",
       "      <td>72.73</td>\n",
       "      <td>0.48</td>\n",
       "      <td>7.83</td>\n",
       "      <td>0.0</td>\n",
       "      <td>0.0</td>\n",
       "      <td>1</td>\n",
       "    </tr>\n",
       "    <tr>\n",
       "      <th>2</th>\n",
       "      <td>3</td>\n",
       "      <td>1.51618</td>\n",
       "      <td>13.53</td>\n",
       "      <td>3.55</td>\n",
       "      <td>1.54</td>\n",
       "      <td>72.99</td>\n",
       "      <td>0.39</td>\n",
       "      <td>7.78</td>\n",
       "      <td>0.0</td>\n",
       "      <td>0.0</td>\n",
       "      <td>1</td>\n",
       "    </tr>\n",
       "    <tr>\n",
       "      <th>3</th>\n",
       "      <td>4</td>\n",
       "      <td>1.51766</td>\n",
       "      <td>13.21</td>\n",
       "      <td>3.69</td>\n",
       "      <td>1.29</td>\n",
       "      <td>72.61</td>\n",
       "      <td>0.57</td>\n",
       "      <td>8.22</td>\n",
       "      <td>0.0</td>\n",
       "      <td>0.0</td>\n",
       "      <td>1</td>\n",
       "    </tr>\n",
       "    <tr>\n",
       "      <th>4</th>\n",
       "      <td>5</td>\n",
       "      <td>1.51742</td>\n",
       "      <td>13.27</td>\n",
       "      <td>3.62</td>\n",
       "      <td>1.24</td>\n",
       "      <td>73.08</td>\n",
       "      <td>0.55</td>\n",
       "      <td>8.07</td>\n",
       "      <td>0.0</td>\n",
       "      <td>0.0</td>\n",
       "      <td>1</td>\n",
       "    </tr>\n",
       "  </tbody>\n",
       "</table>\n",
       "</div>"
      ],
      "text/plain": [
       "   Id number       RI     Na    Mg    Al     Si     K    Ca   Ba   Fe  \\\n",
       "0          1  1.52101  13.64  4.49  1.10  71.78  0.06  8.75  0.0  0.0   \n",
       "1          2  1.51761  13.89  3.60  1.36  72.73  0.48  7.83  0.0  0.0   \n",
       "2          3  1.51618  13.53  3.55  1.54  72.99  0.39  7.78  0.0  0.0   \n",
       "3          4  1.51766  13.21  3.69  1.29  72.61  0.57  8.22  0.0  0.0   \n",
       "4          5  1.51742  13.27  3.62  1.24  73.08  0.55  8.07  0.0  0.0   \n",
       "\n",
       "   Type of glass  \n",
       "0              1  \n",
       "1              1  \n",
       "2              1  \n",
       "3              1  \n",
       "4              1  "
      ]
     },
     "execution_count": 10,
     "metadata": {},
     "output_type": "execute_result"
    }
   ],
   "source": [
    "glass.head()"
   ]
  },
  {
   "cell_type": "code",
   "execution_count": 11,
   "id": "1929020e-00de-4eee-aad1-84f4b8ae633a",
   "metadata": {},
   "outputs": [],
   "source": [
    "glass.describe()\n",
    "del glass[\"Id number\"]\n"
   ]
  },
  {
   "cell_type": "code",
   "execution_count": 12,
   "id": "3da97539-f6e7-4721-b77d-725f35466c3c",
   "metadata": {},
   "outputs": [
    {
     "data": {
      "text/html": [
       "<div>\n",
       "<style scoped>\n",
       "    .dataframe tbody tr th:only-of-type {\n",
       "        vertical-align: middle;\n",
       "    }\n",
       "\n",
       "    .dataframe tbody tr th {\n",
       "        vertical-align: top;\n",
       "    }\n",
       "\n",
       "    .dataframe thead th {\n",
       "        text-align: right;\n",
       "    }\n",
       "</style>\n",
       "<table border=\"1\" class=\"dataframe\">\n",
       "  <thead>\n",
       "    <tr style=\"text-align: right;\">\n",
       "      <th></th>\n",
       "      <th>RI</th>\n",
       "      <th>Na</th>\n",
       "      <th>Mg</th>\n",
       "      <th>Al</th>\n",
       "      <th>Si</th>\n",
       "      <th>K</th>\n",
       "      <th>Ca</th>\n",
       "      <th>Ba</th>\n",
       "      <th>Fe</th>\n",
       "      <th>Type of glass</th>\n",
       "    </tr>\n",
       "  </thead>\n",
       "  <tbody>\n",
       "    <tr>\n",
       "      <th>0</th>\n",
       "      <td>1.52101</td>\n",
       "      <td>13.64</td>\n",
       "      <td>4.49</td>\n",
       "      <td>1.10</td>\n",
       "      <td>71.78</td>\n",
       "      <td>0.06</td>\n",
       "      <td>8.75</td>\n",
       "      <td>0.0</td>\n",
       "      <td>0.0</td>\n",
       "      <td>1</td>\n",
       "    </tr>\n",
       "    <tr>\n",
       "      <th>1</th>\n",
       "      <td>1.51761</td>\n",
       "      <td>13.89</td>\n",
       "      <td>3.60</td>\n",
       "      <td>1.36</td>\n",
       "      <td>72.73</td>\n",
       "      <td>0.48</td>\n",
       "      <td>7.83</td>\n",
       "      <td>0.0</td>\n",
       "      <td>0.0</td>\n",
       "      <td>1</td>\n",
       "    </tr>\n",
       "    <tr>\n",
       "      <th>2</th>\n",
       "      <td>1.51618</td>\n",
       "      <td>13.53</td>\n",
       "      <td>3.55</td>\n",
       "      <td>1.54</td>\n",
       "      <td>72.99</td>\n",
       "      <td>0.39</td>\n",
       "      <td>7.78</td>\n",
       "      <td>0.0</td>\n",
       "      <td>0.0</td>\n",
       "      <td>1</td>\n",
       "    </tr>\n",
       "    <tr>\n",
       "      <th>3</th>\n",
       "      <td>1.51766</td>\n",
       "      <td>13.21</td>\n",
       "      <td>3.69</td>\n",
       "      <td>1.29</td>\n",
       "      <td>72.61</td>\n",
       "      <td>0.57</td>\n",
       "      <td>8.22</td>\n",
       "      <td>0.0</td>\n",
       "      <td>0.0</td>\n",
       "      <td>1</td>\n",
       "    </tr>\n",
       "    <tr>\n",
       "      <th>4</th>\n",
       "      <td>1.51742</td>\n",
       "      <td>13.27</td>\n",
       "      <td>3.62</td>\n",
       "      <td>1.24</td>\n",
       "      <td>73.08</td>\n",
       "      <td>0.55</td>\n",
       "      <td>8.07</td>\n",
       "      <td>0.0</td>\n",
       "      <td>0.0</td>\n",
       "      <td>1</td>\n",
       "    </tr>\n",
       "  </tbody>\n",
       "</table>\n",
       "</div>"
      ],
      "text/plain": [
       "        RI     Na    Mg    Al     Si     K    Ca   Ba   Fe  Type of glass\n",
       "0  1.52101  13.64  4.49  1.10  71.78  0.06  8.75  0.0  0.0              1\n",
       "1  1.51761  13.89  3.60  1.36  72.73  0.48  7.83  0.0  0.0              1\n",
       "2  1.51618  13.53  3.55  1.54  72.99  0.39  7.78  0.0  0.0              1\n",
       "3  1.51766  13.21  3.69  1.29  72.61  0.57  8.22  0.0  0.0              1\n",
       "4  1.51742  13.27  3.62  1.24  73.08  0.55  8.07  0.0  0.0              1"
      ]
     },
     "execution_count": 12,
     "metadata": {},
     "output_type": "execute_result"
    }
   ],
   "source": [
    "glass.head()\n"
   ]
  },
  {
   "cell_type": "code",
   "execution_count": 13,
   "id": "772890b0-584b-4b0d-ba67-b1695edf0080",
   "metadata": {},
   "outputs": [
    {
     "data": {
      "text/plain": [
       "((214, 10), 2140)"
      ]
     },
     "execution_count": 13,
     "metadata": {},
     "output_type": "execute_result"
    }
   ],
   "source": [
    "glass.shape, glass.size"
   ]
  },
  {
   "cell_type": "code",
   "execution_count": 14,
   "id": "01a97225-d01c-4e09-a9cc-fb40c966326a",
   "metadata": {},
   "outputs": [
    {
     "name": "stdout",
     "output_type": "stream",
     "text": [
      "RI               0\n",
      "Na               0\n",
      "Mg               0\n",
      "Al               0\n",
      "Si               0\n",
      "K                0\n",
      "Ca               0\n",
      "Ba               0\n",
      "Fe               0\n",
      "Type of glass    0\n",
      "dtype: int64\n"
     ]
    }
   ],
   "source": [
    "#Valores faltantes\n",
    "print(glass.isnull().sum())\n"
   ]
  },
  {
   "cell_type": "code",
   "execution_count": 15,
   "id": "c0ef16d7-c58c-4378-bebd-03463f225398",
   "metadata": {},
   "outputs": [
    {
     "name": "stdout",
     "output_type": "stream",
     "text": [
      "['RI' 'Na' 'Mg' 'Al' 'Si' 'K' 'Ca' 'Ba' 'Fe' 'Type of glass']\n"
     ]
    },
    {
     "data": {
      "text/plain": [
       "<AxesSubplot:>"
      ]
     },
     "execution_count": 15,
     "metadata": {},
     "output_type": "execute_result"
    },
    {
     "data": {
      "image/png": "[encoded data removed]",
      "text/plain": [
       "<Figure size 432x288 with 1 Axes>"
      ]
     },
     "metadata": {
      "needs_background": "light"
     },
     "output_type": "display_data"
    }
   ],
   "source": [
    "\n",
    "data_numeric = glass.select_dtypes(include=[np.number])\n",
    "columns = data_numeric.columns.values\n",
    "print(columns)\n",
    "\n",
    "\n",
    "order = columns = data_numeric.columns.values\n",
    "\n",
    "sns.boxplot(data=data_numeric, )"
   ]
  },
  {
   "cell_type": "code",
   "execution_count": 17,
   "id": "d9ae3906-c6c8-4535-aa5d-89429c1cc2c9",
   "metadata": {},
   "outputs": [
    {
     "data": {
      "text/plain": [
       "Type of glass\n",
       "1    70\n",
       "2    76\n",
       "3    17\n",
       "5    13\n",
       "6     9\n",
       "7    29\n",
       "dtype: int64"
      ]
     },
     "execution_count": 17,
     "metadata": {},
     "output_type": "execute_result"
    }
   ],
   "source": [
    "glass.groupby('Type of glass').size()"
   ]
  },
  {
   "cell_type": "code",
   "execution_count": 18,
   "id": "06be99b8-5bf6-4188-82b4-54c80e2c905f",
   "metadata": {},
   "outputs": [],
   "source": [
    "Y = glass.pop(\"Type of glass\")"
   ]
  },
  {
   "cell_type": "code",
   "execution_count": 19,
   "id": "019a3240-aae3-4b91-8fd5-ffbb0c671bdb",
   "metadata": {},
   "outputs": [
    {
     "data": {
      "text/html": [
       "<div>\n",
       "<style scoped>\n",
       "    .dataframe tbody tr th:only-of-type {\n",
       "        vertical-align: middle;\n",
       "    }\n",
       "\n",
       "    .dataframe tbody tr th {\n",
       "        vertical-align: top;\n",
       "    }\n",
       "\n",
       "    .dataframe thead th {\n",
       "        text-align: right;\n",
       "    }\n",
       "</style>\n",
       "<table border=\"1\" class=\"dataframe\">\n",
       "  <thead>\n",
       "    <tr style=\"text-align: right;\">\n",
       "      <th></th>\n",
       "      <th>RI</th>\n",
       "      <th>Na</th>\n",
       "      <th>Mg</th>\n",
       "      <th>Al</th>\n",
       "      <th>Si</th>\n",
       "      <th>K</th>\n",
       "      <th>Ca</th>\n",
       "      <th>Ba</th>\n",
       "      <th>Fe</th>\n",
       "    </tr>\n",
       "  </thead>\n",
       "  <tbody>\n",
       "    <tr>\n",
       "      <th>0</th>\n",
       "      <td>1.52101</td>\n",
       "      <td>13.64</td>\n",
       "      <td>4.49</td>\n",
       "      <td>1.10</td>\n",
       "      <td>71.78</td>\n",
       "      <td>0.06</td>\n",
       "      <td>8.75</td>\n",
       "      <td>0.00</td>\n",
       "      <td>0.0</td>\n",
       "    </tr>\n",
       "    <tr>\n",
       "      <th>1</th>\n",
       "      <td>1.51761</td>\n",
       "      <td>13.89</td>\n",
       "      <td>3.60</td>\n",
       "      <td>1.36</td>\n",
       "      <td>72.73</td>\n",
       "      <td>0.48</td>\n",
       "      <td>7.83</td>\n",
       "      <td>0.00</td>\n",
       "      <td>0.0</td>\n",
       "    </tr>\n",
       "    <tr>\n",
       "      <th>2</th>\n",
       "      <td>1.51618</td>\n",
       "      <td>13.53</td>\n",
       "      <td>3.55</td>\n",
       "      <td>1.54</td>\n",
       "      <td>72.99</td>\n",
       "      <td>0.39</td>\n",
       "      <td>7.78</td>\n",
       "      <td>0.00</td>\n",
       "      <td>0.0</td>\n",
       "    </tr>\n",
       "    <tr>\n",
       "      <th>3</th>\n",
       "      <td>1.51766</td>\n",
       "      <td>13.21</td>\n",
       "      <td>3.69</td>\n",
       "      <td>1.29</td>\n",
       "      <td>72.61</td>\n",
       "      <td>0.57</td>\n",
       "      <td>8.22</td>\n",
       "      <td>0.00</td>\n",
       "      <td>0.0</td>\n",
       "    </tr>\n",
       "    <tr>\n",
       "      <th>4</th>\n",
       "      <td>1.51742</td>\n",
       "      <td>13.27</td>\n",
       "      <td>3.62</td>\n",
       "      <td>1.24</td>\n",
       "      <td>73.08</td>\n",
       "      <td>0.55</td>\n",
       "      <td>8.07</td>\n",
       "      <td>0.00</td>\n",
       "      <td>0.0</td>\n",
       "    </tr>\n",
       "    <tr>\n",
       "      <th>...</th>\n",
       "      <td>...</td>\n",
       "      <td>...</td>\n",
       "      <td>...</td>\n",
       "      <td>...</td>\n",
       "      <td>...</td>\n",
       "      <td>...</td>\n",
       "      <td>...</td>\n",
       "      <td>...</td>\n",
       "      <td>...</td>\n",
       "    </tr>\n",
       "    <tr>\n",
       "      <th>209</th>\n",
       "      <td>1.51623</td>\n",
       "      <td>14.14</td>\n",
       "      <td>0.00</td>\n",
       "      <td>2.88</td>\n",
       "      <td>72.61</td>\n",
       "      <td>0.08</td>\n",
       "      <td>9.18</td>\n",
       "      <td>1.06</td>\n",
       "      <td>0.0</td>\n",
       "    </tr>\n",
       "    <tr>\n",
       "      <th>210</th>\n",
       "      <td>1.51685</td>\n",
       "      <td>14.92</td>\n",
       "      <td>0.00</td>\n",
       "      <td>1.99</td>\n",
       "      <td>73.06</td>\n",
       "      <td>0.00</td>\n",
       "      <td>8.40</td>\n",
       "      <td>1.59</td>\n",
       "      <td>0.0</td>\n",
       "    </tr>\n",
       "    <tr>\n",
       "      <th>211</th>\n",
       "      <td>1.52065</td>\n",
       "      <td>14.36</td>\n",
       "      <td>0.00</td>\n",
       "      <td>2.02</td>\n",
       "      <td>73.42</td>\n",
       "      <td>0.00</td>\n",
       "      <td>8.44</td>\n",
       "      <td>1.64</td>\n",
       "      <td>0.0</td>\n",
       "    </tr>\n",
       "    <tr>\n",
       "      <th>212</th>\n",
       "      <td>1.51651</td>\n",
       "      <td>14.38</td>\n",
       "      <td>0.00</td>\n",
       "      <td>1.94</td>\n",
       "      <td>73.61</td>\n",
       "      <td>0.00</td>\n",
       "      <td>8.48</td>\n",
       "      <td>1.57</td>\n",
       "      <td>0.0</td>\n",
       "    </tr>\n",
       "    <tr>\n",
       "      <th>213</th>\n",
       "      <td>1.51711</td>\n",
       "      <td>14.23</td>\n",
       "      <td>0.00</td>\n",
       "      <td>2.08</td>\n",
       "      <td>73.36</td>\n",
       "      <td>0.00</td>\n",
       "      <td>8.62</td>\n",
       "      <td>1.67</td>\n",
       "      <td>0.0</td>\n",
       "    </tr>\n",
       "  </tbody>\n",
       "</table>\n",
       "<p>214 rows × 9 columns</p>\n",
       "</div>"
      ],
      "text/plain": [
       "          RI     Na    Mg    Al     Si     K    Ca    Ba   Fe\n",
       "0    1.52101  13.64  4.49  1.10  71.78  0.06  8.75  0.00  0.0\n",
       "1    1.51761  13.89  3.60  1.36  72.73  0.48  7.83  0.00  0.0\n",
       "2    1.51618  13.53  3.55  1.54  72.99  0.39  7.78  0.00  0.0\n",
       "3    1.51766  13.21  3.69  1.29  72.61  0.57  8.22  0.00  0.0\n",
       "4    1.51742  13.27  3.62  1.24  73.08  0.55  8.07  0.00  0.0\n",
       "..       ...    ...   ...   ...    ...   ...   ...   ...  ...\n",
       "209  1.51623  14.14  0.00  2.88  72.61  0.08  9.18  1.06  0.0\n",
       "210  1.51685  14.92  0.00  1.99  73.06  0.00  8.40  1.59  0.0\n",
       "211  1.52065  14.36  0.00  2.02  73.42  0.00  8.44  1.64  0.0\n",
       "212  1.51651  14.38  0.00  1.94  73.61  0.00  8.48  1.57  0.0\n",
       "213  1.51711  14.23  0.00  2.08  73.36  0.00  8.62  1.67  0.0\n",
       "\n",
       "[214 rows x 9 columns]"
      ]
     },
     "execution_count": 19,
     "metadata": {},
     "output_type": "execute_result"
    }
   ],
   "source": [
    "X = glass\n",
    "X"
   ]
  },
  {
   "cell_type": "code",
   "execution_count": 20,
   "id": "bebdb93e-44fb-4814-b8f6-e4578586c07f",
   "metadata": {},
   "outputs": [
    {
     "data": {
      "text/plain": [
       "171"
      ]
     },
     "execution_count": 20,
     "metadata": {},
     "output_type": "execute_result"
    }
   ],
   "source": [
    "X_train, X_test, y_train, y_test = train_test_split(X, Y, test_size = 0.2)\n",
    "X_train.shape[0]"
   ]
  },
  {
   "cell_type": "code",
   "execution_count": 21,
   "id": "5a8922d3-ef82-40aa-817d-c02eff9b199b",
   "metadata": {},
   "outputs": [],
   "source": [
    "# Métricas\n",
    "metricas = {\n",
    "  'ACC':    metrics.accuracy_score,\n",
    "  'PREC':   lambda y_true, y_pred:\n",
    "            metrics.precision_score(y_true, y_pred,\n",
    "                                  average='micro'),\n",
    "  'RECALL': lambda y_true, y_pred:\n",
    "            metrics.recall_score(y_true, y_pred,\n",
    "                               average='micro'),\n",
    "  'F1':     lambda y_true, y_pred:\n",
    "            metrics.f1_score(y_true, y_pred, average='micro')\n",
    "}"
   ]
  },
  {
   "cell_type": "code",
   "execution_count": 22,
   "id": "1d92661a-103b-47a0-871f-2ae51baafeaa",
   "metadata": {},
   "outputs": [],
   "source": [
    "# Estandarización de los datos\n",
    "\n",
    "standardizer = preprocessing.StandardScaler()\n",
    "X_st = standardizer.fit_transform(X)"
   ]
  },
  {
   "cell_type": "code",
   "execution_count": 23,
   "id": "6d68cb4f-4f56-4439-a2c3-9342982d2c9c",
   "metadata": {},
   "outputs": [],
   "source": [
    "seed = 42"
   ]
  },
  {
   "cell_type": "code",
   "execution_count": 24,
   "id": "4a9bf7e5-949b-44e2-9c83-9a9e6d127055",
   "metadata": {},
   "outputs": [],
   "source": [
    "algoritmos = {'DT': tree.DecisionTreeClassifier(criterion='entropy', random_state=seed)}"
   ]
  },
  {
   "cell_type": "code",
   "execution_count": 25,
   "id": "f4495782-3f3a-4d47-b4e2-29dc303350e3",
   "metadata": {},
   "outputs": [],
   "source": [
    "# Validación cruzada y Opt. hiperparámetros\n",
    "\n",
    "y_pred = cross_val_predict(algoritmos['DT'], X_st, Y, \n",
    "                                       cv=KFold(n_splits=10, shuffle=True, random_state=seed))"
   ]
  },
  {
   "cell_type": "code",
   "execution_count": 26,
   "id": "0bcae424-c9ed-4569-a456-bb54180834a0",
   "metadata": {},
   "outputs": [],
   "source": [
    "# Función evaluación\n",
    "def evaluacion(y_true, y_pred, metricas):\n",
    "    res = {}\n",
    "    for nombre, funcion in metricas.items():\n",
    "        res[nombre] = funcion(y_true, y_pred)\n",
    "    return res"
   ]
  },
  {
   "cell_type": "code",
   "execution_count": 27,
   "id": "a3e40743-25fc-484a-89d1-69140cbeb162",
   "metadata": {},
   "outputs": [
    {
     "name": "stdout",
     "output_type": "stream",
     "text": [
      "Matriz de confusión (%s):\n",
      "%s [[50 13  7  0  0  0]\n",
      " [15 48  6  3  1  3]\n",
      " [ 7  2  8  0  0  0]\n",
      " [ 0  3  0  9  0  1]\n",
      " [ 0  1  0  0  7  1]\n",
      " [ 1  1  0  1  1 25]] \n",
      "\n",
      "Tabla de métricas (%s):\n",
      "%s               precision    recall  f1-score   support\n",
      "\n",
      "           1      0.685     0.714     0.699        70\n",
      "           2      0.706     0.632     0.667        76\n",
      "           3      0.381     0.471     0.421        17\n",
      "           5      0.692     0.692     0.692        13\n",
      "           6      0.778     0.778     0.778         9\n",
      "           7      0.833     0.862     0.847        29\n",
      "\n",
      "    accuracy                          0.687       214\n",
      "   macro avg      0.679     0.691     0.684       214\n",
      "weighted avg      0.693     0.687     0.689       214\n",
      "\n"
     ]
    }
   ],
   "source": [
    "# Métricas\n",
    "\n",
    "results = evaluacion(Y, y_pred,metricas)\n",
    "print(\"Matriz de confusión (%s):\\n%s\" ,(metrics.confusion_matrix(Y, y_pred)), '\\n')\n",
    "print(\"Tabla de métricas (%s):\\n%s\" , (metrics.classification_report(Y, y_pred, digits=3)))\n"
   ]
  },
  {
   "cell_type": "code",
   "execution_count": 28,
   "id": "f9050476-e304-41f6-bd30-fdc95a696adc",
   "metadata": {},
   "outputs": [],
   "source": [
    "def mapa_modelo_clasif_2d(X, y, modelo, metricas, algoritmo):\n",
    "    # create a mesh to plot in\n",
    "    h = .02  # step size in the mesh\n",
    "    x_min, x_max = X[:, 0].min() - 1, X[:, 0].max() + 1\n",
    "    y_min, y_max = X[:, 1].min() - 1, X[:, 1].max() + 1\n",
    "    xx, yy = np.meshgrid(np.arange(x_min, x_max, h),\n",
    "                         np.arange(y_min, y_max, h))\n",
    "\n",
    "    # Plot the decision boundary. For that, we will assign a color to each\n",
    "    # point in the mesh [x_min, x_max]x[y_min, y_max].\n",
    "    Z = modelo.predict(np.c_[xx.ravel(), yy.ravel()])\n",
    "\n",
    "    # Put the result into a color plot\n",
    "    Z = Z.reshape(xx.shape)\n",
    "    plt.figure(figsize=(20,16))\n",
    "    plt.contourf(xx, yy, Z, cmap=plt.cm.Paired)\n",
    "    plt.title(\"%s\\nACC: %.3f  PREC: %.3f  RECALL: %.3f  F1: %.3f\" %\n",
    "              (algoritmo,metricas['ACC'],metricas['PREC'],metricas['RECALL'],metricas['F1']), fontsize=28)\n",
    "    plt.axis('tight')\n",
    "\n",
    "    # Plot also the training points\n",
    "    colors = \"bry\"\n",
    "    for i, color in zip(modelo.classes_, colors):\n",
    "        idx = np.where(y == i)\n",
    "        plt.scatter(X[idx, 0], X[idx, 1], c=color, cmap=plt.cm.Paired,\n",
    "                    edgecolor='black', s=20)\n",
    "\n",
    "    # Plot the three one-against-all classifiers\n",
    "    if (hasattr(modelo, 'coef_')):\n",
    "        xmin, xmax = plt.xlim()\n",
    "        ymin, ymax = plt.ylim()\n",
    "        coef = modelo.coef_\n",
    "        intercept = modelo.intercept_\n",
    "\n",
    "        def plot_hyperplane(c, color):\n",
    "            def line(x0):\n",
    "                return (-(x0 * coef[c, 0]) - intercept[c]) / coef[c, 1]\n",
    "\n",
    "            plt.plot([xmin, xmax], [line(xmin), line(xmax)],\n",
    "                     ls=\"--\", color=color)\n",
    "\n",
    "        for i, color in zip(modelo.classes_, colors):\n",
    "            plot_hyperplane(i, color)\n",
    "\n",
    "    plt.show()"
   ]
  },
  {
   "cell_type": "code",
   "execution_count": 29,
   "id": "eb9cf094-d07b-4dd3-bbcd-b8344b79f3ae",
   "metadata": {},
   "outputs": [
    {
     "data": {
      "image/png": "[encoded data removed]",
      "text/plain": [
       "<Figure size 1440x1152 with 1 Axes>"
      ]
     },
     "metadata": {
      "needs_background": "light"
     },
     "output_type": "display_data"
    }
   ],
   "source": [
    "# Entrenamiento modelo definitivo\n",
    "\n",
    "modelo = algoritmos['DT'].fit(X_st[:,:2], Y)\n",
    "mapa_modelo_clasif_2d(X_st[:,:2], Y, modelo, results,algoritmos['DT'])"
   ]
  },
  {
   "cell_type": "markdown",
   "id": "7cb479b4-8b8f-4eea-bf67-2212bf17b96e",
   "metadata": {},
   "source": [
    "**Métricas**\n",
    "\n",
    "**ACC**\n",
    "In multilabel classification, this function computes subset accuracy: the set of labels predicted for a sample must exactly match the corresponding set of labels in y_true.\n",
    "\n",
    "**PREC**\n",
    "The precision is the ratio tp / (tp + fp) where tp is the number of true positives and fp the number of false positives. The precision is intuitively the ability of the classifier not to label as positive a sample that is negative.\n",
    "\n",
    "**Recall**\n",
    "The recall is the ratio tp / (tp + fn) where tp is the number of true positives and fn the number of false negatives. The recall is intuitively the ability of the classifier to find all the positive samples.\n",
    "\n",
    "**F1**\n",
    "The F1 score can be interpreted as a harmonic mean of the precision and recall, where an F1 score reaches its best value at 1 and worst score at 0. The relative contribution of precision and recall to the F1 score are equal. The formula for the F1 score is:\n",
    "\n",
    "F1 = 2 * (precision * recall) / (precision + recall)\n",
    "In the multi-class and multi-label case, this is the average of the F1 score of each class with weighting depending on the average parameter."
   ]
  },
  {
   "cell_type": "markdown",
   "id": "a3a3209c-15c7-4915-b54f-38ccb8423ec0",
   "metadata": {},
   "source": [
    "**Conclusión**\n",
    "\n",
    "Las métricas del modelo indican que se podría haber usado otro de algoritmo de clasificación, ya que las méticas no son demasiado buenas"
   ]
  },
  {
   "cell_type": "markdown",
   "id": "f74274e4-279e-40d2-84fe-e4c0538267fa",
   "metadata": {},
   "source": [
    "# Regresion"
   ]
  },
  {
   "cell_type": "code",
   "execution_count": 30,
   "id": "41967646-2f38-4f4b-9539-d12730ef3cc0",
   "metadata": {},
   "outputs": [
    {
     "data": {
      "text/html": [
       "<div>\n",
       "<style scoped>\n",
       "    .dataframe tbody tr th:only-of-type {\n",
       "        vertical-align: middle;\n",
       "    }\n",
       "\n",
       "    .dataframe tbody tr th {\n",
       "        vertical-align: top;\n",
       "    }\n",
       "\n",
       "    .dataframe thead th {\n",
       "        text-align: right;\n",
       "    }\n",
       "</style>\n",
       "<table border=\"1\" class=\"dataframe\">\n",
       "  <thead>\n",
       "    <tr style=\"text-align: right;\">\n",
       "      <th></th>\n",
       "      <th>Relative Compactness</th>\n",
       "      <th>Surface Area</th>\n",
       "      <th>Wall Area</th>\n",
       "      <th>Roof Area</th>\n",
       "      <th>Overall Height</th>\n",
       "      <th>Orientation</th>\n",
       "      <th>Glazing Area</th>\n",
       "      <th>Glazing Area Distribution</th>\n",
       "      <th>Heating Load</th>\n",
       "      <th>Cooling Load</th>\n",
       "    </tr>\n",
       "  </thead>\n",
       "  <tbody>\n",
       "    <tr>\n",
       "      <th>0</th>\n",
       "      <td>0.98</td>\n",
       "      <td>514.5</td>\n",
       "      <td>294.0</td>\n",
       "      <td>110.25</td>\n",
       "      <td>7.0</td>\n",
       "      <td>2</td>\n",
       "      <td>0.0</td>\n",
       "      <td>0</td>\n",
       "      <td>15.55</td>\n",
       "      <td>21.33</td>\n",
       "    </tr>\n",
       "    <tr>\n",
       "      <th>1</th>\n",
       "      <td>0.98</td>\n",
       "      <td>514.5</td>\n",
       "      <td>294.0</td>\n",
       "      <td>110.25</td>\n",
       "      <td>7.0</td>\n",
       "      <td>3</td>\n",
       "      <td>0.0</td>\n",
       "      <td>0</td>\n",
       "      <td>15.55</td>\n",
       "      <td>21.33</td>\n",
       "    </tr>\n",
       "    <tr>\n",
       "      <th>2</th>\n",
       "      <td>0.98</td>\n",
       "      <td>514.5</td>\n",
       "      <td>294.0</td>\n",
       "      <td>110.25</td>\n",
       "      <td>7.0</td>\n",
       "      <td>4</td>\n",
       "      <td>0.0</td>\n",
       "      <td>0</td>\n",
       "      <td>15.55</td>\n",
       "      <td>21.33</td>\n",
       "    </tr>\n",
       "    <tr>\n",
       "      <th>3</th>\n",
       "      <td>0.98</td>\n",
       "      <td>514.5</td>\n",
       "      <td>294.0</td>\n",
       "      <td>110.25</td>\n",
       "      <td>7.0</td>\n",
       "      <td>5</td>\n",
       "      <td>0.0</td>\n",
       "      <td>0</td>\n",
       "      <td>15.55</td>\n",
       "      <td>21.33</td>\n",
       "    </tr>\n",
       "    <tr>\n",
       "      <th>4</th>\n",
       "      <td>0.90</td>\n",
       "      <td>563.5</td>\n",
       "      <td>318.5</td>\n",
       "      <td>122.50</td>\n",
       "      <td>7.0</td>\n",
       "      <td>2</td>\n",
       "      <td>0.0</td>\n",
       "      <td>0</td>\n",
       "      <td>20.84</td>\n",
       "      <td>28.28</td>\n",
       "    </tr>\n",
       "  </tbody>\n",
       "</table>\n",
       "</div>"
      ],
      "text/plain": [
       "   Relative Compactness  Surface Area  Wall Area  Roof Area  Overall Height  \\\n",
       "0                  0.98         514.5      294.0     110.25             7.0   \n",
       "1                  0.98         514.5      294.0     110.25             7.0   \n",
       "2                  0.98         514.5      294.0     110.25             7.0   \n",
       "3                  0.98         514.5      294.0     110.25             7.0   \n",
       "4                  0.90         563.5      318.5     122.50             7.0   \n",
       "\n",
       "   Orientation  Glazing Area  Glazing Area Distribution  Heating Load  \\\n",
       "0            2           0.0                          0         15.55   \n",
       "1            3           0.0                          0         15.55   \n",
       "2            4           0.0                          0         15.55   \n",
       "3            5           0.0                          0         15.55   \n",
       "4            2           0.0                          0         20.84   \n",
       "\n",
       "   Cooling Load  \n",
       "0         21.33  \n",
       "1         21.33  \n",
       "2         21.33  \n",
       "3         21.33  \n",
       "4         28.28  "
      ]
     },
     "execution_count": 30,
     "metadata": {},
     "output_type": "execute_result"
    }
   ],
   "source": [
    "energy.head()"
   ]
  },
  {
   "cell_type": "markdown",
   "id": "e0a1f1cb-b8e8-49bc-97ac-916fd2e4673b",
   "metadata": {},
   "source": [
    "**Tratamiento de valores faltantes**"
   ]
  },
  {
   "cell_type": "code",
   "execution_count": 31,
   "id": "6f57e3f4-5618-4b7f-a77c-b4ef376fb081",
   "metadata": {},
   "outputs": [
    {
     "name": "stdout",
     "output_type": "stream",
     "text": [
      "---- energy ----\n",
      "Relative Compactness         0\n",
      "Surface Area                 0\n",
      "Wall Area                    0\n",
      "Roof Area                    0\n",
      "Overall Height               0\n",
      "Orientation                  0\n",
      "Glazing Area                 0\n",
      "Glazing Area Distribution    0\n",
      "Heating Load                 0\n",
      "Cooling Load                 0\n",
      "dtype: int64\n"
     ]
    }
   ],
   "source": [
    "# Conteo de valores faltantes\n",
    "print('---- energy ----')\n",
    "print(energy.isnull().sum())"
   ]
  },
  {
   "cell_type": "markdown",
   "id": "a122cdf5-b076-4386-af5a-f629f0a3dd59",
   "metadata": {},
   "source": [
    "**Separación de atributos y variable target**\n"
   ]
  },
  {
   "cell_type": "code",
   "execution_count": 32,
   "id": "3c2addda-89a2-4c47-8e58-ba1e16c6cd5a",
   "metadata": {},
   "outputs": [
    {
     "data": {
      "text/plain": [
       "(   Relative Compactness  Surface Area  Wall Area  Roof Area  Overall Height  \\\n",
       " 0                  0.98         514.5      294.0     110.25             7.0   \n",
       " 1                  0.98         514.5      294.0     110.25             7.0   \n",
       " 2                  0.98         514.5      294.0     110.25             7.0   \n",
       " 3                  0.98         514.5      294.0     110.25             7.0   \n",
       " 4                  0.90         563.5      318.5     122.50             7.0   \n",
       " \n",
       "    Orientation  Glazing Area  Glazing Area Distribution  \n",
       " 0            2           0.0                          0  \n",
       " 1            3           0.0                          0  \n",
       " 2            4           0.0                          0  \n",
       " 3            5           0.0                          0  \n",
       " 4            2           0.0                          0  ,\n",
       " 0    21.33\n",
       " 1    21.33\n",
       " 2    21.33\n",
       " 3    21.33\n",
       " 4    28.28\n",
       " Name: Cooling Load, dtype: float64,\n",
       " 0    15.55\n",
       " 1    15.55\n",
       " 2    15.55\n",
       " 3    15.55\n",
       " 4    20.84\n",
       " Name: Heating Load, dtype: float64)"
      ]
     },
     "execution_count": 32,
     "metadata": {},
     "output_type": "execute_result"
    }
   ],
   "source": [
    "X = energy.iloc[:,:-1]\n",
    "X = X.iloc[:,:-1]\n",
    "ycooling = energy.pop('Cooling Load')\n",
    "yheating = energy.pop('Heating Load')\n",
    "\n",
    "X.head(), ycooling.head(), yheating.head()"
   ]
  },
  {
   "cell_type": "code",
   "execution_count": 33,
   "id": "63d67970-8001-4202-a0f4-ff2b2ce24679",
   "metadata": {},
   "outputs": [
    {
     "data": {
      "image/png": "[encoded data removed]",
      "text/plain": [
       "<Figure size 432x288 with 1 Axes>"
      ]
     },
     "metadata": {
      "needs_background": "light"
     },
     "output_type": "display_data"
    },
    {
     "data": {
      "image/png": "[encoded data removed]",
      "text/plain": [
       "<Figure size 432x288 with 1 Axes>"
      ]
     },
     "metadata": {
      "needs_background": "light"
     },
     "output_type": "display_data"
    }
   ],
   "source": [
    "import matplotlib.pyplot as plt\n",
    "\n",
    "x = list(range(0, 768))\n",
    "    \n",
    "\n",
    "plt.bar(x,ycooling)\n",
    "plt.title('Cooling')\n",
    "plt.xlabel(' ')\n",
    "plt.ylabel('Cooling values')\n",
    "plt.show()\n",
    "\n",
    "\n",
    "\n",
    "plt.bar(x,yheating)\n",
    "plt.title('Heating')\n",
    "plt.xlabel(' ')\n",
    "plt.ylabel('Heating values')\n",
    "plt.show()"
   ]
  },
  {
   "cell_type": "code",
   "execution_count": 34,
   "id": "87d0d061-7ce7-48fb-a0ad-5586e76edee3",
   "metadata": {},
   "outputs": [
    {
     "data": {
      "text/plain": [
       "<AxesSubplot:>"
      ]
     },
     "execution_count": 34,
     "metadata": {},
     "output_type": "execute_result"
    },
    {
     "data": {
      "image/png": "[encoded data removed]",
      "text/plain": [
       "<Figure size 432x288 with 1 Axes>"
      ]
     },
     "metadata": {
      "needs_background": "light"
     },
     "output_type": "display_data"
    }
   ],
   "source": [
    "ad = pd.DataFrame(np.random.randn(768, 2),\n",
    "                       columns=['Heating Load', 'Coling Load'] )\n",
    "ad.boxplot()"
   ]
  },
  {
   "cell_type": "markdown",
   "id": "28a6ae69-4d5e-40f0-a3c8-bedca4967142",
   "metadata": {},
   "source": [
    "**Partición hold out**"
   ]
  },
  {
   "cell_type": "code",
   "execution_count": 35,
   "id": "ebfd445e-2f77-4330-8350-7ad2252dee3b",
   "metadata": {},
   "outputs": [],
   "source": [
    "X_train,X_test,y_train,y_test = train_test_split(X,ycooling,test_size=0.2, random_state=42)"
   ]
  },
  {
   "cell_type": "code",
   "execution_count": 36,
   "id": "c4fd1e17-4ea7-4485-b9d7-72b34a804ada",
   "metadata": {},
   "outputs": [
    {
     "data": {
      "text/plain": [
       "((614, 8), (154, 8), (614,), (154,))"
      ]
     },
     "execution_count": 36,
     "metadata": {},
     "output_type": "execute_result"
    }
   ],
   "source": [
    "X_train.shape,X_test.shape,y_train.shape,y_test.shape"
   ]
  },
  {
   "cell_type": "markdown",
   "id": "c2895930-06d9-4c01-b7f0-c6c0cdba405e",
   "metadata": {},
   "source": [
    "**Selección de atributos**"
   ]
  },
  {
   "cell_type": "code",
   "execution_count": 38,
   "id": "14320860-581a-46a6-bf16-12742165720b",
   "metadata": {},
   "outputs": [
    {
     "name": "stdout",
     "output_type": "stream",
     "text": [
      "0.011188874402433754\n",
      "7759.163841807892\n",
      "1903.2698826597132\n",
      "2039.9630595393185\n",
      "3.0664928292046936\n",
      "1.2516297262059974\n",
      "0.017747718383311874\n",
      "2.405475880052151\n"
     ]
    }
   ],
   "source": [
    "for i in X.columns:\n",
    "    print(X.var()[i])\n"
   ]
  },
  {
   "cell_type": "code",
   "execution_count": 39,
   "id": "76c1df15-5271-4a3f-b33a-cd80d2ae8d7e",
   "metadata": {},
   "outputs": [
    {
     "data": {
      "text/html": [
       "<div>\n",
       "<style scoped>\n",
       "    .dataframe tbody tr th:only-of-type {\n",
       "        vertical-align: middle;\n",
       "    }\n",
       "\n",
       "    .dataframe tbody tr th {\n",
       "        vertical-align: top;\n",
       "    }\n",
       "\n",
       "    .dataframe thead th {\n",
       "        text-align: right;\n",
       "    }\n",
       "</style>\n",
       "<table border=\"1\" class=\"dataframe\">\n",
       "  <thead>\n",
       "    <tr style=\"text-align: right;\">\n",
       "      <th></th>\n",
       "      <th>0</th>\n",
       "      <th>1</th>\n",
       "      <th>2</th>\n",
       "      <th>3</th>\n",
       "      <th>4</th>\n",
       "      <th>5</th>\n",
       "    </tr>\n",
       "  </thead>\n",
       "  <tbody>\n",
       "    <tr>\n",
       "      <th>0</th>\n",
       "      <td>612.5</td>\n",
       "      <td>318.5</td>\n",
       "      <td>147.00</td>\n",
       "      <td>7.0</td>\n",
       "      <td>2.0</td>\n",
       "      <td>1.0</td>\n",
       "    </tr>\n",
       "    <tr>\n",
       "      <th>1</th>\n",
       "      <td>784.0</td>\n",
       "      <td>343.0</td>\n",
       "      <td>220.50</td>\n",
       "      <td>3.5</td>\n",
       "      <td>4.0</td>\n",
       "      <td>2.0</td>\n",
       "    </tr>\n",
       "    <tr>\n",
       "      <th>2</th>\n",
       "      <td>588.0</td>\n",
       "      <td>294.0</td>\n",
       "      <td>147.00</td>\n",
       "      <td>7.0</td>\n",
       "      <td>4.0</td>\n",
       "      <td>2.0</td>\n",
       "    </tr>\n",
       "    <tr>\n",
       "      <th>3</th>\n",
       "      <td>563.5</td>\n",
       "      <td>318.5</td>\n",
       "      <td>122.50</td>\n",
       "      <td>7.0</td>\n",
       "      <td>4.0</td>\n",
       "      <td>1.0</td>\n",
       "    </tr>\n",
       "    <tr>\n",
       "      <th>4</th>\n",
       "      <td>759.5</td>\n",
       "      <td>318.5</td>\n",
       "      <td>220.50</td>\n",
       "      <td>3.5</td>\n",
       "      <td>5.0</td>\n",
       "      <td>4.0</td>\n",
       "    </tr>\n",
       "    <tr>\n",
       "      <th>...</th>\n",
       "      <td>...</td>\n",
       "      <td>...</td>\n",
       "      <td>...</td>\n",
       "      <td>...</td>\n",
       "      <td>...</td>\n",
       "      <td>...</td>\n",
       "    </tr>\n",
       "    <tr>\n",
       "      <th>609</th>\n",
       "      <td>661.5</td>\n",
       "      <td>416.5</td>\n",
       "      <td>122.50</td>\n",
       "      <td>7.0</td>\n",
       "      <td>5.0</td>\n",
       "      <td>1.0</td>\n",
       "    </tr>\n",
       "    <tr>\n",
       "      <th>610</th>\n",
       "      <td>588.0</td>\n",
       "      <td>294.0</td>\n",
       "      <td>147.00</td>\n",
       "      <td>7.0</td>\n",
       "      <td>4.0</td>\n",
       "      <td>2.0</td>\n",
       "    </tr>\n",
       "    <tr>\n",
       "      <th>611</th>\n",
       "      <td>710.5</td>\n",
       "      <td>269.5</td>\n",
       "      <td>220.50</td>\n",
       "      <td>3.5</td>\n",
       "      <td>4.0</td>\n",
       "      <td>5.0</td>\n",
       "    </tr>\n",
       "    <tr>\n",
       "      <th>612</th>\n",
       "      <td>514.5</td>\n",
       "      <td>294.0</td>\n",
       "      <td>110.25</td>\n",
       "      <td>7.0</td>\n",
       "      <td>5.0</td>\n",
       "      <td>4.0</td>\n",
       "    </tr>\n",
       "    <tr>\n",
       "      <th>613</th>\n",
       "      <td>563.5</td>\n",
       "      <td>318.5</td>\n",
       "      <td>122.50</td>\n",
       "      <td>7.0</td>\n",
       "      <td>4.0</td>\n",
       "      <td>2.0</td>\n",
       "    </tr>\n",
       "  </tbody>\n",
       "</table>\n",
       "<p>614 rows × 6 columns</p>\n",
       "</div>"
      ],
      "text/plain": [
       "         0      1       2    3    4    5\n",
       "0    612.5  318.5  147.00  7.0  2.0  1.0\n",
       "1    784.0  343.0  220.50  3.5  4.0  2.0\n",
       "2    588.0  294.0  147.00  7.0  4.0  2.0\n",
       "3    563.5  318.5  122.50  7.0  4.0  1.0\n",
       "4    759.5  318.5  220.50  3.5  5.0  4.0\n",
       "..     ...    ...     ...  ...  ...  ...\n",
       "609  661.5  416.5  122.50  7.0  5.0  1.0\n",
       "610  588.0  294.0  147.00  7.0  4.0  2.0\n",
       "611  710.5  269.5  220.50  3.5  4.0  5.0\n",
       "612  514.5  294.0  110.25  7.0  5.0  4.0\n",
       "613  563.5  318.5  122.50  7.0  4.0  2.0\n",
       "\n",
       "[614 rows x 6 columns]"
      ]
     },
     "execution_count": 39,
     "metadata": {},
     "output_type": "execute_result"
    }
   ],
   "source": [
    "# Variance Threshold\n",
    "\n",
    "selector = VarianceThreshold(0.3)\n",
    "X_train_sel = selector.fit_transform(X_train)\n",
    "df = pd.DataFrame(X_train_sel)\n",
    "df"
   ]
  },
  {
   "cell_type": "markdown",
   "id": "6835b0e0-c8dc-4074-884e-cc51e967b56a",
   "metadata": {},
   "source": [
    "**Estandarización de los datos**"
   ]
  },
  {
   "cell_type": "code",
   "execution_count": 40,
   "id": "2b5e496e-355a-42ae-999c-dcf02942f64d",
   "metadata": {},
   "outputs": [],
   "source": [
    "X_train_std = {}\n",
    "\n",
    "\n",
    "estandarizador = preprocessing.StandardScaler()\n",
    "X_train_std = estandarizador.fit_transform(df)\n",
    "\n"
   ]
  },
  {
   "cell_type": "code",
   "execution_count": 41,
   "id": "bc8f5b01-d12f-4ef6-be53-ce2e2ec5de2b",
   "metadata": {},
   "outputs": [
    {
     "data": {
      "text/plain": [
       "array([[-0.6962224 , -0.00737214, -0.67904812,  1.01642146, -1.36441084,\n",
       "        -1.1605984 ],\n",
       "       [ 1.25066366,  0.55843925,  0.95706259, -0.98384385,  0.44108109,\n",
       "        -0.51570481],\n",
       "       [-0.97434898, -0.57318352, -0.67904812,  1.01642146,  0.44108109,\n",
       "        -0.51570481],\n",
       "       ...,\n",
       "       [ 0.41628392, -1.13899491,  0.95706259, -0.98384385,  0.44108109,\n",
       "         1.41897596],\n",
       "       [-1.80872872, -0.57318352, -1.49710347,  1.01642146,  1.34382706,\n",
       "         0.77408237],\n",
       "       [-1.25247556, -0.00737214, -1.22441835,  1.01642146,  0.44108109,\n",
       "        -0.51570481]])"
      ]
     },
     "execution_count": 41,
     "metadata": {},
     "output_type": "execute_result"
    }
   ],
   "source": [
    "X_train_std"
   ]
  },
  {
   "cell_type": "markdown",
   "id": "bdbed6ea-9ee5-4e81-891f-f6efae0194c3",
   "metadata": {},
   "source": [
    "**Comparación de modelos con cross_val_score**"
   ]
  },
  {
   "cell_type": "code",
   "execution_count": 42,
   "id": "15daed6e-604a-474a-ac26-3ce0dfaa3cec",
   "metadata": {},
   "outputs": [],
   "source": [
    "# Se definen los algoritmos dentro de un diccionario y se hacen distintas ejecuciones cambiando los hiperparámetros\n",
    "# del modelo hasta conseguir aquellos que den mejor resultado\n",
    "\n",
    "k=5\n",
    "algoritmos = {'OLS' : LinearRegression(),\n",
    "\n",
    "              'KNN' : KNeighborsRegressor(n_neighbors = k, weights='distance', metric='euclidean', algorithm='kd_tree'),\n",
    "             }"
   ]
  },
  {
   "cell_type": "code",
   "execution_count": 43,
   "id": "2ca39fe8-b9e4-4d71-ac2a-0765bc9ac117",
   "metadata": {},
   "outputs": [
    {
     "name": "stdout",
     "output_type": "stream",
     "text": [
      "OLS cross_val_MAE:   2.9335 +/- 0.1959\n",
      "KNN cross_val_MAE:   2.4891 +/- 0.2604\n"
     ]
    }
   ],
   "source": [
    "resultados = {}\n",
    "resultados['OLS'] = cross_val_score(algoritmos['OLS'], X_train_std, y_train, \n",
    "                                                 cv = KFold(n_splits=10, shuffle=True, random_state=42),\n",
    "                                                 scoring='neg_mean_absolute_error')\n",
    "\n",
    "print(\"OLS cross_val_MAE:   %0.4f +/- %0.4f\" % (-resultados['OLS'].mean(), \n",
    "                                                            resultados['OLS'].std()))\n",
    "\n",
    "resultados['KNN'] = cross_val_score(algoritmos['KNN'], X_train_std, y_train, \n",
    "                                                 cv = KFold(n_splits=10, shuffle=True, random_state=42),\n",
    "                                                 scoring='neg_mean_absolute_error')\n",
    "print(\"KNN cross_val_MAE:   %0.4f +/- %0.4f\" % ( -resultados['KNN'].mean(), \n",
    "                                                             resultados['KNN'].std()))"
   ]
  },
  {
   "cell_type": "markdown",
   "id": "b0822dbe-4312-45a5-9a63-30bef580829e",
   "metadata": {},
   "source": [
    "**Modelo final**"
   ]
  },
  {
   "cell_type": "code",
   "execution_count": 44,
   "id": "c058face-0bec-43d8-a7af-68250a99235c",
   "metadata": {},
   "outputs": [],
   "source": [
    "modelo_definitivo_ols = {}\n",
    "modelo_definitivo_knn = {}\n",
    "\n",
    "modelo_definitivo_ols[('OLS')] = algoritmos['OLS'].fit(X_train_std, y_train)\n",
    "modelo_definitivo_knn[('KNN')] = algoritmos['KNN'].fit(X_train_std, y_train)"
   ]
  },
  {
   "cell_type": "code",
   "execution_count": 45,
   "id": "ae575da0-0b08-46ce-aa95-dd0b3ae0c784",
   "metadata": {},
   "outputs": [],
   "source": [
    "y_train_pred_ols = {}\n",
    "y_train_pred_knn = {}\n",
    "\n",
    "y_train_pred_ols['OLS'] = cross_val_predict(modelo_definitivo_ols['OLS'], \n",
    "                                     X_train_std, y_train, \n",
    "                                     cv=KFold(n_splits=10, shuffle=True, random_state=42))\n",
    "\n",
    "\n",
    "y_train_pred_knn['KNN'] = cross_val_predict(modelo_definitivo_knn['KNN'], \n",
    "                                     X_train_std, y_train, \n",
    "                                     cv=KFold(n_splits=10, shuffle=True, random_state=42))"
   ]
  },
  {
   "cell_type": "markdown",
   "id": "c3d9b4d9-6784-4811-a9cb-bfc6d8e2c540",
   "metadata": {},
   "source": [
    "**Estandarización y selección de atributos del conjunto de test**"
   ]
  },
  {
   "cell_type": "code",
   "execution_count": 46,
   "id": "c2917719-7818-43b4-8076-c167a40668fd",
   "metadata": {},
   "outputs": [],
   "source": [
    "X_test_sel = {}\n",
    "X_test_sel = selector.transform(X_test)\n",
    "X_test_std = {}\n",
    "X_test_std = estandarizador.transform(X_test_sel)"
   ]
  },
  {
   "cell_type": "code",
   "execution_count": 47,
   "id": "b9464320-1aa8-47d9-9fcc-37f2b3af0dc7",
   "metadata": {},
   "outputs": [],
   "source": [
    "# Se utilizan los modelos de KNN y OLS entrenados con el conjunto de entrenamiento para hacer predicciones con el conjunto \n",
    "# de test y evaluar los modelos creados.\n",
    "\n",
    "y_test_pred_ols = {}\n",
    "y_test_pred_knn = {}\n",
    "\n",
    "y_test_pred_ols['OLS'] = cross_val_predict(modelo_definitivo_ols['OLS'], \n",
    "                                     X_test_std, y_test, \n",
    "                                     cv=KFold(n_splits=5, shuffle=True, random_state=42))\n",
    "\n",
    "\n",
    "y_test_pred_knn['KNN'] = cross_val_predict(modelo_definitivo_knn['KNN'], \n",
    "                                     X_test_std, y_test, \n",
    "                                     cv=KFold(n_splits=5, shuffle=True, random_state=42))"
   ]
  },
  {
   "cell_type": "markdown",
   "id": "d9ca0ff2-7d0f-43ff-8abd-7535c81c79c7",
   "metadata": {},
   "source": [
    "**Métricas: MAE, RMSE, MAPE**"
   ]
  },
  {
   "cell_type": "code",
   "execution_count": 48,
   "id": "daab408c-2644-4e54-a8a8-996ac52f3e12",
   "metadata": {},
   "outputs": [],
   "source": [
    "import sklearn.metrics as metrics\n",
    "\n",
    "def evaluacion(y_true, y_pred, metricas):\n",
    "    res = {}\n",
    "    for nombre, funcion in metricas.items():\n",
    "        res[nombre] = funcion(y_true, y_pred)\n",
    "    return res\n",
    "\n",
    "\n",
    "metricas = {\n",
    "  'MAE':  metrics.mean_absolute_error,\n",
    "  'RMSE': lambda y, y_pred:\n",
    "          math.sqrt(metrics.mean_squared_error(y, y_pred)),\n",
    "  'MAPE': lambda y, y_pred:\n",
    "          np.mean(np.abs((y - y_pred) / y)) * 100,\n",
    "  'R2':   metrics.r2_score}"
   ]
  },
  {
   "cell_type": "markdown",
   "id": "c6e19acb-921b-4803-aaef-d89b83f6f64b",
   "metadata": {},
   "source": [
    "**Evaluación del conjunto de entrenamiento**"
   ]
  },
  {
   "cell_type": "code",
   "execution_count": 49,
   "id": "413a6142-8466-499c-a1e7-6a5188ac98b4",
   "metadata": {},
   "outputs": [
    {
     "name": "stdout",
     "output_type": "stream",
     "text": [
      "MAE:  2.9333\n",
      "RMSE: 3.8709\n",
      "MAPE: 12.3181\n",
      "R2: 0.8329\n",
      "------------------\n"
     ]
    }
   ],
   "source": [
    "# Métricas correspondientes a LinearRegression()\n",
    "\n",
    "import math\n",
    "\n",
    "MAE =   metricas['MAE'](y_train, y_train_pred_ols['OLS'])\n",
    "RMSE = metricas['RMSE'](y_train, y_train_pred_ols['OLS'])\n",
    "MAPE = metricas['MAPE'](y_train, y_train_pred_ols['OLS'])\n",
    "R2 = metricas['R2'](y_train, y_train_pred_ols[('OLS')])\n",
    "\n",
    "print('MAE:  %.4f' % MAE)\n",
    "print('RMSE: %.4f' % RMSE)\n",
    "print('MAPE: %.4f' % MAPE)\n",
    "print('R2: %.4f' % R2)\n",
    "\n",
    "print('------------------')"
   ]
  },
  {
   "cell_type": "code",
   "execution_count": 50,
   "id": "609d42f8-0bcd-4e73-b26e-0f665840151e",
   "metadata": {},
   "outputs": [
    {
     "data": {
      "text/plain": [
       "{'MAE': 2.4902254679384472,\n",
       " 'RMSE': 3.033996123645939,\n",
       " 'MAPE': 10.99769608707967,\n",
       " 'R2': 0.897331793692763}"
      ]
     },
     "execution_count": 50,
     "metadata": {},
     "output_type": "execute_result"
    }
   ],
   "source": [
    "# Evaluación del algoritmo KNN y presentación de resultados.\n",
    "\n",
    "results = evaluacion(y_train, y_train_pred_knn['KNN'], metricas)\n",
    "results"
   ]
  },
  {
   "cell_type": "markdown",
   "id": "278720cf-fabc-4f51-9f7a-98ce2f586c4c",
   "metadata": {},
   "source": [
    "**Evaluación del conjunto de test**"
   ]
  },
  {
   "cell_type": "code",
   "execution_count": 51,
   "id": "4e785d38-627c-445c-999a-c91f54b8c82f",
   "metadata": {},
   "outputs": [
    {
     "name": "stdout",
     "output_type": "stream",
     "text": [
      "MAE:  2.9158\n",
      "RMSE: 3.7943\n",
      "MAPE: 12.0107\n",
      "R2:   0.8446\n",
      "-------------------------------\n"
     ]
    }
   ],
   "source": [
    "\n",
    "\n",
    "MAE =   metricas['MAE'](y_test, y_test_pred_ols['OLS'])\n",
    "RMSE = metricas['RMSE'](y_test, y_test_pred_ols['OLS'])\n",
    "MAPE = metricas['MAPE'](y_test,y_test_pred_ols['OLS'])\n",
    "R2 =     metricas['R2'](y_test, y_test_pred_ols['OLS'])\n",
    "\n",
    "print('MAE:  %.4f' % MAE)\n",
    "print('RMSE: %.4f' % RMSE)\n",
    "print('MAPE: %.4f' % MAPE)\n",
    "print('R2:   %.4f' % R2)\n",
    "print('-------------------------------')"
   ]
  },
  {
   "cell_type": "code",
   "execution_count": 52,
   "id": "b50ee548-2bed-4285-846f-5d445d86280d",
   "metadata": {},
   "outputs": [
    {
     "data": {
      "text/plain": [
       "{'MAE': 2.964509643911655,\n",
       " 'RMSE': 3.8106266735358565,\n",
       " 'MAPE': 11.81342509302277,\n",
       " 'R2': 0.8432839556021147}"
      ]
     },
     "execution_count": 52,
     "metadata": {},
     "output_type": "execute_result"
    }
   ],
   "source": [
    "# Evaluación y presentación de resultados.\n",
    "results = evaluacion(y_test, y_test_pred_knn['KNN'], metricas)\n",
    "results"
   ]
  },
  {
   "cell_type": "markdown",
   "id": "9d8fa958-e017-4f42-b335-345931e2520c",
   "metadata": {},
   "source": [
    "**Conclusion**\n",
    "\n",
    "El modelo de regresión applicado al dataset de la eficiencia energética da bastantes buenos resultados comparanado los valores del las métricas de los datos de entrenamineto y los datos de test. Por ejemplo la métrica R2 ('R2': 0.8432839556021147) nos indica que el modelo hará buenas predicciones sobre los datos"
   ]
  }
 ],
 "metadata": {
  "kernelspec": {
   "display_name": "Python 3",
   "language": "python",
   "name": "python3"
  },
  "language_info": {
   "codemirror_mode": {
    "name": "ipython",
    "version": 3
   },
   "file_extension": ".py",
   "mimetype": "text/x-python",
   "name": "python",
   "nbconvert_exporter": "python",
   "pygments_lexer": "ipython3",
   "version": "3.8.8"
  }
 },
 "nbformat": 4,
 "nbformat_minor": 5
}
