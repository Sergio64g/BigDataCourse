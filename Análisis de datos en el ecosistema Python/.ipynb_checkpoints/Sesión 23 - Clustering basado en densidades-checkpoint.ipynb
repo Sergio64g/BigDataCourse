{
 "cells": [
  {
   "cell_type": "markdown",
   "id": "c279d5e4",
   "metadata": {
    "id": "c279d5e4"
   },
   "source": [
    "# 1. Introducción teórica\n",
    "\n",
    "Los **algoritmos de clustering basados en densidad**  se basan en la detección de las áreas donde existen mayor concentraciones de puntos y dónde están separados por áreas vacías o con escasos puntos. Los puntos que no forman parte de un clúster se denominan **ruido**. Es un agrupamiento basado en densidad que permite identificar clusters de cualquier forma en un conjunto de datos que contiene ruido y valores atípicos.\n",
    "\n",
    "Surgieron por la necesidad de encontrar agrupamientos de diversas formas. Así, un cluster será un conjunto de datos denso que está rodeado por áreas menos densamente pobladas.\n",
    "\n"
   ]
  },
  {
   "cell_type": "markdown",
   "id": "1cb4ece6",
   "metadata": {
    "id": "1cb4ece6"
   },
   "source": [
    "# 2. Algoritmo DBSCAN\n",
    "\n",
    "Density-based spatial clustering of applications with noise.\n",
    "\n",
    "https://www.cienciadedatos.net/documentos/37_clustering_y_heatmaps#Density_based_clustering_(DBSCAN)\n",
    "\n",
    "La ideaes que  tiene que haber un mínimo de observaciones vecinas dentro de un radio de proximidad (conjunto de datos denso) y de que los clusters están separados entre sí por regiones vacías o con pocas observaciones.\n",
    "\n",
    "Con este algoritmo no hay que especificar en número de clusters (K), y, además, funciona con clusters de diferente tamaño y densidad.\n",
    "\n",
    "Los puntos borde pueden asignarse a diferentes clusters según la inicialización, y además, no funciona muy bien con clusters de diferente densidad.\n",
    "\n",
    "El algoritmo DBSCAN necesita fundamentalmente dos parámetros:\n",
    "\n",
    "- **Epsilon:** radio que define la región vecina a una observación, también llamada ϵ-neighborhood.Si dos puntos están a una distancia menor que epsilon se consideran vecinos.\n",
    " - Una idea para calcularlos puede ser calcular el promedio de las distancias de k vecinos (que serán los puntos mínimos). Esas k distancias se dibujan en orden ascendente y se determina la rodilla\n",
    "\n",
    "- **Nº mínimo de puntos:** número mínimo de observaciones dentro de la región epsilon.\n",
    "     - Una de sus funciones es eliminar outliers\n",
    "     - Una regla general es tomar como puntos mínimos dos veces la dimensionalidad de los datos\n",
    "     - Si el conjunto de datos tiene muchos outliers, escoger una valor mayor de puntos mínimos\n",
    "\n",
    "A partir de estos parámetros, las instancias del conjunto de datos se podrían clasificar en:\n",
    "\n",
    "Empleando estos dos parámetros, cada observación del set de datos se puede clasificar en una de las siguientes tres categorías:\n",
    "\n",
    "- **Punto nuclear o Core point:** observación que tiene en su ϵ-neighborhood un número de observaciones vecinas igual o mayor a el número mínimo de puntos.\n",
    "\n",
    "- **Punto borde o Border point:** observación no satisface el mínimo de observaciones vecinas para ser core point pero que pertenece al ϵ-neighborhood de otra observación que sí es core point.\n",
    "\n",
    "- **Noise u outlier:** observación que no es core point ni border point.\n",
    "\n",
    "A partir de los puntos anteriores se pueden definir tres niveles de conectividad:\n",
    "\n",
    "- **Directamente alcanzable (direct density reachable):** una observación A es directamente alcanzable desde otra observación B si A forma parte del ϵ-neighborhood de B y B es un core point. Por definición, las observaciones solo pueden ser directamente alcanzables desde un core point.\n",
    "\n",
    "- **Alcanzable (density reachable):** una observación A es alcanzable desde otra observación B si existe una secuencia de core points que van desde B a A.\n",
    "\n",
    "- **Densamente conectadas (density conected):** dos observaciones A y B están densamente conectadas si existe una observación core point C tal que A y B son alcanzables desde C.\n",
    "\n",
    "\n",
    "https://towardsdatascience.com/dbscan-clustering-for-data-shapes-k-means-cant-handle-well-in-python-6be89af4e6ea\n",
    "\n",
    "**Ventajas**\n",
    "- Para separar clusters de alta densidad \n",
    "- No es necesario especificar el número de clusters que se generarán\n",
    "- Puede encontrar cualquier forma de cluster\n",
    "- No se ve influenciado por outliers\n",
    "\n",
    "**Desventajas**\n",
    "- Si los clusters tienen densidad variable, no puede agrupar bien\n",
    "- Muy sensible a los hiperparámetros\n"
   ]
  },
  {
   "cell_type": "code",
   "execution_count": null,
   "id": "0d899e6c",
   "metadata": {
    "colab": {
     "base_uri": "https://localhost:8080/"
    },
    "id": "0d899e6c",
    "outputId": "4f36a2f9-a0b1-41f3-ff92-eba7cc2b6760"
   },
   "outputs": [],
   "source": [
    "# Librería para distintas ejecuciones de DBSCAN con diferentes parámetros\n",
    "\n",
    "!pip install mglearn\n",
    "import mglearn"
   ]
  },
  {
   "cell_type": "code",
   "execution_count": null,
   "id": "77ff55dc",
   "metadata": {
    "colab": {
     "base_uri": "https://localhost:8080/",
     "height": 793
    },
    "id": "77ff55dc",
    "outputId": "f0968986-0e95-49bc-fba9-b3d5e0a20ad9"
   },
   "outputs": [],
   "source": [
    "mglearn.plots.plot_dbscan()"
   ]
  },
  {
   "cell_type": "code",
   "execution_count": null,
   "id": "640c5dc5",
   "metadata": {
    "colab": {
     "base_uri": "https://localhost:8080/",
     "height": 485
    },
    "id": "640c5dc5",
    "outputId": "73ddf3c3-739c-4e29-a25c-550f6fc9d947"
   },
   "outputs": [],
   "source": [
    "# Mostrar el progreso de un KMeans\n",
    "\n",
    "mglearn.plots.plot_kmeans_algorithm()"
   ]
  },
  {
   "cell_type": "code",
   "execution_count": null,
   "id": "90c06a28",
   "metadata": {
    "id": "90c06a28"
   },
   "outputs": [],
   "source": [
    "import numpy as np\n",
    "import pandas as pd\n",
    "import matplotlib.pyplot as plt"
   ]
  },
  {
   "cell_type": "code",
   "execution_count": null,
   "id": "70739c4d",
   "metadata": {
    "id": "70739c4d"
   },
   "outputs": [],
   "source": [
    "eps = .07\n",
    "M = 38"
   ]
  },
  {
   "cell_type": "code",
   "execution_count": null,
   "id": "e8947202",
   "metadata": {
    "colab": {
     "base_uri": "https://localhost:8080/",
     "height": 279
    },
    "id": "e8947202",
    "outputId": "f59e1652-0c88-4bef-e377-b2782f6956aa"
   },
   "outputs": [],
   "source": [
    "# En primer lugar, implementamos un algoritmo K Means\n",
    "\n",
    "import numpy as np\n",
    "import matplotlib.pyplot as plt\n",
    "from sklearn.datasets import make_blobs\n",
    "from sklearn.cluster import KMeans\n",
    "\n",
    "# generamos nuestro dataset\n",
    "X, y = make_blobs(random_state=170, n_samples=600, centers = 5)\n",
    "rng = np.random.RandomState(74)\n",
    "transformation = rng.normal(size=(2, 2)) # para \"estirar\" los datos\n",
    "X = np.dot(X, transformation)\n",
    "\n",
    "# plot\n",
    "plt.scatter(X[:, 0], X[:, 1])\n",
    "plt.xlabel(\"Feature 0\")\n",
    "plt.ylabel(\"Feature 1\")\n",
    "plt.show()"
   ]
  },
  {
   "cell_type": "code",
   "execution_count": null,
   "id": "7adcd6be",
   "metadata": {
    "colab": {
     "base_uri": "https://localhost:8080/",
     "height": 279
    },
    "id": "7adcd6be",
    "outputId": "f7a2e99f-e65a-458c-962c-af5565743725"
   },
   "outputs": [],
   "source": [
    "# Preprocesamiento de variables\n",
    "\n",
    "from sklearn.preprocessing import StandardScaler\n",
    "\n",
    "scaler = StandardScaler()\n",
    "X_scaled = scaler.fit_transform(X)\n",
    "\n",
    "plt.scatter(X_scaled[:, 0], X_scaled[:, 1])\n",
    "plt.xlabel(\"Feature 0\")\n",
    "plt.ylabel(\"Feature 1\")\n",
    "plt.show()"
   ]
  },
  {
   "cell_type": "code",
   "execution_count": null,
   "id": "2baef945",
   "metadata": {
    "colab": {
     "base_uri": "https://localhost:8080/",
     "height": 296
    },
    "id": "2baef945",
    "outputId": "fc5f3fc8-36f0-43e1-bc2b-1d42cea4d648"
   },
   "outputs": [],
   "source": [
    "kmeans = KMeans(n_clusters=5)\n",
    "y_pred = kmeans.fit_predict(X_scaled)\n",
    "\n",
    "# plot the cluster assignments and cluster centers\n",
    "plt.scatter(X_scaled[:, 0], X_scaled[:, 1], c=y_pred, cmap=\"jet\")\n",
    "plt.scatter(kmeans.cluster_centers_[:, 0],   \n",
    "            kmeans.cluster_centers_[:, 1],\n",
    "            marker='^', \n",
    "            c=[0, 1, 2, 3, 4], \n",
    "            s=100, \n",
    "            linewidth=2,\n",
    "            edgecolor='black',\n",
    "            cmap=\"jet\")\n",
    "plt.xlabel(\"Feature 0\")\n",
    "plt.ylabel(\"Feature 1\")"
   ]
  },
  {
   "cell_type": "markdown",
   "id": "aa97673f",
   "metadata": {
    "id": "aa97673f"
   },
   "source": [
    "K Means no da muy buenos resultados, ya que está diseñado para trabajar con distancia euclídea, y aquí lo datos están correlacionados.\n",
    "\n",
    "**Clusterización con DBSCAN**"
   ]
  },
  {
   "cell_type": "code",
   "execution_count": null,
   "id": "3338bfc5",
   "metadata": {
    "id": "3338bfc5"
   },
   "outputs": [],
   "source": [
    "from sklearn.cluster import DBSCAN\n",
    "\n",
    "dbscan = DBSCAN(eps = 0.123, min_samples = 2)\n",
    "clusters = dbscan.fit_predict(X_scaled)"
   ]
  },
  {
   "cell_type": "code",
   "execution_count": null,
   "id": "f921a7f0",
   "metadata": {
    "colab": {
     "base_uri": "https://localhost:8080/",
     "height": 296
    },
    "id": "f921a7f0",
    "outputId": "61d8b471-f870-4713-ff64-9c5742b7e38a"
   },
   "outputs": [],
   "source": [
    "plt.scatter(X[:, 0], X[:, 1], c=clusters, cmap='jet')\n",
    "plt.xlabel(\"Feature 0\")\n",
    "plt.ylabel(\"Feature 1\")"
   ]
  },
  {
   "cell_type": "code",
   "execution_count": null,
   "id": "0d9ecf28",
   "metadata": {
    "colab": {
     "base_uri": "https://localhost:8080/"
    },
    "id": "0d9ecf28",
    "outputId": "c986d268-fc02-4a48-e52c-f89ed2d6a5c5"
   },
   "outputs": [],
   "source": [
    "from sklearn.metrics.cluster import adjusted_rand_score\n",
    "#k-means performance:\n",
    "print(\"ARI =\", adjusted_rand_score(y, y_pred))\n",
    "\n",
    "#DBSCAN performance:\n",
    "print(\"ARI =\", adjusted_rand_score(y, clusters))"
   ]
  },
  {
   "cell_type": "markdown",
   "id": "PlFJ5tpRj6hB",
   "metadata": {
    "id": "PlFJ5tpRj6hB"
   },
   "source": []
  },
  {
   "cell_type": "markdown",
   "id": "ec37a9de",
   "metadata": {
    "id": "ec37a9de"
   },
   "source": [
    "# 3. Algoritmo *MeanShift*\n",
    "\n",
    "El algoritmo **Mean Shift** es un algoritmo basado en ventanas deslizantes que intenta encontrar áreas densas de puntos de datos\n",
    "La intuición es que al desplazar cada punto al cento de masa de su vencindario, lo que provoca que los puntos se acaben agrupando en clusters de forma natural.\n",
    "\n",
    "https://programmerclick.com/article/62241073173/\n",
    "\n",
    "![MS.PNG](attachment:MS.PNG)\n",
    "\n",
    "Aparece el concepto de **kernel**, que es la ponderación de los ejemplos que se utiliza para calcular el centro. Los más utilizados son el kernel plano y el gaussiano.\n",
    "\n",
    "Este algoritmo funciona con clusters de diferentes formas y tamaños y se pueden utilizar diferentes kernels.\n",
    "Por contra, tiene problemas cuando se encuentra con clusters de diferente densidad y la convergencia no está demostrada."
   ]
  },
  {
   "cell_type": "code",
   "execution_count": null,
   "id": "1SOEUxZyj6DS",
   "metadata": {
    "id": "1SOEUxZyj6DS"
   },
   "outputs": [],
   "source": []
  },
  {
   "cell_type": "markdown",
   "id": "b14161b7",
   "metadata": {
    "id": "b14161b7"
   },
   "source": [
    "https://spin.atomicobject.com/2015/05/26/mean-shift-clustering/"
   ]
  },
  {
   "cell_type": "code",
   "execution_count": null,
   "id": "58e12fa6",
   "metadata": {
    "id": "58e12fa6"
   },
   "outputs": [],
   "source": [
    "import numpy as np\n",
    "from sklearn.cluster import MeanShift, estimate_bandwidth\n",
    "#from sklearn.samples_generator import make_blobs\n",
    "from sklearn.datasets import make_blobs\n",
    "import matplotlib.pyplot as plt\n",
    "from itertools import cycle\n",
    "from PIL import Image"
   ]
  },
  {
   "cell_type": "code",
   "execution_count": null,
   "id": "d1f1cb44",
   "metadata": {
    "colab": {
     "base_uri": "https://localhost:8080/"
    },
    "id": "d1f1cb44",
    "outputId": "544f01c5-a566-4620-cc8d-7645f1959369"
   },
   "outputs": [],
   "source": [
    "# Creación de dataset\n",
    "centers = [[1, 1], [-.75, -1], [1, -1], [-3, 2]]\n",
    "X, _ = make_blobs(n_samples=10000, centers=centers, cluster_std=0.6)\n",
    " \n",
    " \n",
    "# Se calucla el ancho de banda\n",
    "bandwidth = estimate_bandwidth(X, quantile=.1, n_samples=500)\n",
    "print(f'Ancho de banda estimado: {bandwidth}')"
   ]
  },
  {
   "cell_type": "code",
   "execution_count": null,
   "id": "77a07c4b",
   "metadata": {
    "id": "77a07c4b"
   },
   "outputs": [],
   "source": [
    "ms = MeanShift(bandwidth = bandwidth, bin_seeding =  True)\n",
    "ms.fit(X)\n",
    "labels = ms.labels_\n",
    "cluster_centers = ms.cluster_centers_\n",
    "n_clusters_ = labels.max()+1"
   ]
  },
  {
   "cell_type": "code",
   "execution_count": null,
   "id": "77b26ced",
   "metadata": {
    "colab": {
     "base_uri": "https://localhost:8080/",
     "height": 281
    },
    "id": "77b26ced",
    "outputId": "076bb2bd-7375-461c-963a-1a963a81c042"
   },
   "outputs": [],
   "source": [
    "#%% Plot result\n",
    "plt.figure(1)\n",
    "plt.clf()\n",
    " \n",
    "colors = cycle('bgrcmykbgrcmykbgrcmykbgrcmyk')\n",
    "for k, col in zip(range(n_clusters_), colors):\n",
    "    my_members = labels == k\n",
    "    cluster_center = cluster_centers[k]\n",
    "    plt.plot(X[my_members, 0], X[my_members, 1], col + '.')\n",
    "    plt.plot(cluster_center[0], cluster_center[1],\n",
    "             'o', markerfacecolor=col,\n",
    "             markeredgecolor='k', markersize=14)\n",
    "plt.title('Estimated number of clusters: %d' % n_clusters_)\n",
    "plt.show()"
   ]
  },
  {
   "cell_type": "markdown",
   "id": "94e1eb64",
   "metadata": {
    "id": "94e1eb64"
   },
   "source": [
    "## 3.1 *MeanShift* para segmentar imágenes"
   ]
  },
  {
   "cell_type": "markdown",
   "id": "cff448f3",
   "metadata": {
    "id": "cff448f3"
   },
   "source": [
    "<img src=\"https://github.com/mattnedrich/MeanShift_py/raw/master/sample_images/mean_shift_image.jpg\" width=\"600\">"
   ]
  },
  {
   "cell_type": "code",
   "execution_count": null,
   "id": "389aa758",
   "metadata": {
    "colab": {
     "base_uri": "https://localhost:8080/"
    },
    "id": "389aa758",
    "outputId": "6b6383b3-cdc1-4214-d8f1-21c46f9d299a"
   },
   "outputs": [],
   "source": [
    "import requests\n",
    "url = 'https://github.com/mattnedrich/MeanShift_py/raw/master/sample_images/mean_shift_image.jpg'\n",
    "image = Image.open(requests.get(url, stream=True).raw)\n",
    "image = np.array(image)\n",
    "print(image.shape)"
   ]
  },
  {
   "cell_type": "code",
   "execution_count": null,
   "id": "82eb8da9",
   "metadata": {
    "colab": {
     "base_uri": "https://localhost:8080/"
    },
    "id": "82eb8da9",
    "outputId": "65c5e5d7-f300-4bf8-98f7-071f528070b6"
   },
   "outputs": [],
   "source": [
    "flat_image = np.reshape(image, [-1, 3])\n",
    " \n",
    "# Estimación automática el ancho de banda de la gaussiana \n",
    "bandwidth = estimate_bandwidth(flat_image, quantile=.2, n_samples=500)\n",
    "print(f'Ancho de banda estimado: {bandwidth}')"
   ]
  },
  {
   "cell_type": "code",
   "execution_count": null,
   "id": "8db81739",
   "metadata": {
    "id": "8db81739"
   },
   "outputs": [],
   "source": [
    "ms = MeanShift(bandwidth = bandwidth, bin_seeding =  True)\n",
    "ms.fit(flat_image)\n",
    "\n",
    "labels=ms.labels_"
   ]
  },
  {
   "cell_type": "code",
   "execution_count": null,
   "id": "5031ca7a",
   "metadata": {
    "colab": {
     "base_uri": "https://localhost:8080/",
     "height": 918
    },
    "id": "5031ca7a",
    "outputId": "c4b6ca57-8fb1-4c8b-a8fb-e8ab57d16c25"
   },
   "outputs": [],
   "source": [
    "# Imagen original y segmentada\n",
    "plt.figure(2, figsize=(16,16))\n",
    "plt.subplot(2, 1, 1)\n",
    "plt.imshow(image)\n",
    "plt.axis('off')\n",
    "plt.subplot(2, 1, 2)\n",
    "plt.imshow(np.reshape(labels, [750,1000]))\n",
    "plt.axis('off')"
   ]
  },
  {
   "cell_type": "code",
   "execution_count": null,
   "id": "f4d1f29d",
   "metadata": {
    "colab": {
     "base_uri": "https://localhost:8080/",
     "height": 918
    },
    "id": "f4d1f29d",
    "outputId": "92c1c9be-c0a4-4bbb-bf96-99c7c15e2596"
   },
   "outputs": [],
   "source": [
    "ms = MeanShift(bandwidth = 50, bin_seeding = True)\n",
    "ms.fit(flat_image)\n",
    "\n",
    "labels=ms.labels_\n",
    "\n",
    "# Ploteamos la imagen original y la segmentada\n",
    "plt.figure(2, figsize=(16,16))\n",
    "plt.subplot(2, 1, 1)\n",
    "plt.imshow(image)\n",
    "plt.axis('off')\n",
    "plt.subplot(2, 1, 2)\n",
    "plt.imshow(np.reshape(labels, [750,1000]))\n",
    "plt.axis('off')"
   ]
  },
  {
   "cell_type": "code",
   "execution_count": null,
   "id": "1d689837",
   "metadata": {
    "colab": {
     "base_uri": "https://localhost:8080/",
     "height": 918
    },
    "id": "1d689837",
    "outputId": "8ea1379c-7264-4421-f21d-3a70c2fdbea4"
   },
   "outputs": [],
   "source": [
    "ms = MeanShift(bandwidth = 50, bin_seeding = True)\n",
    "ms.fit(flat_image)\n",
    "\n",
    "labels=ms.labels_\n",
    "\n",
    "# Ploteamos la imagen original y la segmentada\n",
    "plt.figure(2, figsize=(16,16))\n",
    "plt.subplot(2, 1, 1)\n",
    "plt.imshow(image)\n",
    "plt.axis('off')\n",
    "plt.subplot(2, 1, 2)\n",
    "plt.imshow(np.reshape(labels, [750,1000]))\n",
    "plt.axis('off')"
   ]
  },
  {
   "cell_type": "markdown",
   "id": "9221f20e",
   "metadata": {
    "id": "9221f20e"
   },
   "source": [
    "https://scikit-learn.org/stable/auto_examples/cluster/plot_cluster_comparison.html#sphx-glr-auto-examples-cluster-plot-cluster-comparison-py\n",
    "\n",
    "Fuente: https://spin.atomicobject.com/2015/05/26/mean-shift-clustering/"
   ]
  },
  {
   "cell_type": "code",
   "execution_count": null,
   "id": "a71deda9",
   "metadata": {
    "id": "a71deda9"
   },
   "outputs": [],
   "source": []
  },
  {
   "cell_type": "markdown",
   "id": "a1qAmDKbhuNY",
   "metadata": {
    "id": "a1qAmDKbhuNY"
   },
   "source": []
  }
 ],
 "metadata": {
  "colab": {
   "name": "Sesión 23 - Clustering basado en densidades.ipynb",
   "provenance": []
  },
  "kernelspec": {
   "display_name": "Python 3 (ipykernel)",
   "language": "python",
   "name": "python3"
  },
  "language_info": {
   "codemirror_mode": {
    "name": "ipython",
    "version": 3
   },
   "file_extension": ".py",
   "mimetype": "text/x-python",
   "name": "python",
   "nbconvert_exporter": "python",
   "pygments_lexer": "ipython3",
   "version": "3.8.8"
  }
 },
 "nbformat": 4,
 "nbformat_minor": 5
}
