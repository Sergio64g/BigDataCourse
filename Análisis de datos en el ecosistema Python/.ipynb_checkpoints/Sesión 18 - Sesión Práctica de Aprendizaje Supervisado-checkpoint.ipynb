{
 "cells": [
  {
   "cell_type": "code",
   "execution_count": 11,
   "id": "6f0830e3-b214-4a58-8c45-1d385882bf86",
   "metadata": {},
   "outputs": [],
   "source": [
    "import os\n",
    "import pandas as pd\n",
    "import numpy as np\n",
    "from sklearn import datasets\n"
   ]
  },
  {
   "cell_type": "code",
   "execution_count": 53,
   "id": "a7a16d2b-ce90-402b-9c35-fb722bedaef8",
   "metadata": {},
   "outputs": [],
   "source": [
    "ruta = os.path.join(\"datasets\", \"Advertising.csv\")\n",
    "fichero = open(ruta)\n",
    "data_1 = pd.read_csv(ruta)\n",
    "fichero.close()\n",
    "\n",
    "ruta = os.path.join(\"datasets\", \"airfoil_self_noise.dat\")\n",
    "fichero = open(ruta)\n",
    "data_2 = pd.read_csv(ruta, sep=\"\\t\", names = [\"frequency\", \"angle_of_attack\", \"chord_length\",\n",
    "                                                 \"free_stream_velocity\", \"Suction_thickness\", \"pressure_level\"])\n",
    "fichero.close()\n",
    "\n",
    "# Carga de datos.\n",
    "dataset = datasets.fetch_california_housing(as_frame=True)\n",
    "data_3 = dataset.data\n",
    "data_3['Value'] = dataset.target\n",
    "\n"
   ]
  },
  {
   "cell_type": "code",
   "execution_count": 21,
   "id": "0c411ffa-3ade-43e2-8957-f8eb7ef440b6",
   "metadata": {},
   "outputs": [
    {
     "name": "stdout",
     "output_type": "stream",
     "text": [
      "(200, 4)\n",
      "(1503, 6)\n",
      "(20640, 9)\n"
     ]
    }
   ],
   "source": [
    "print(np.shape(data_1))\n",
    "print(np.shape(data_2))\n",
    "print(np.shape(data_3))\n"
   ]
  },
  {
   "cell_type": "code",
   "execution_count": 37,
   "id": "9e2fa544-8381-4e04-9937-59f27be4b6be",
   "metadata": {},
   "outputs": [
    {
     "data": {
      "text/plain": [
       "MedInc        0\n",
       "HouseAge      0\n",
       "AveRooms      0\n",
       "AveBedrms     0\n",
       "Population    0\n",
       "AveOccup      0\n",
       "Latitude      0\n",
       "Longitude     0\n",
       "Value         0\n",
       "dtype: int64"
      ]
     },
     "execution_count": 37,
     "metadata": {},
     "output_type": "execute_result"
    }
   ],
   "source": [
    "#data_3.isnull().sum()\n",
    "#data_2.info()\n",
    "#data_1.describe()\n"
   ]
  },
  {
   "cell_type": "code",
   "execution_count": 58,
   "id": "38817046-a049-4f35-a24d-7c35a11191b5",
   "metadata": {},
   "outputs": [
    {
     "name": "stdout",
     "output_type": "stream",
     "text": [
      "TV - 0%\n",
      "Radio - 0%\n",
      "Newspaper - 0%\n",
      "Sales - 0%\n"
     ]
    }
   ],
   "source": [
    "for col in data_1.columns:\n",
    "    pct_missing = np.mean(data_1[col].isnull())\n",
    "    print('{} - {}%'.format(col, round(pct_missing*100)))\n",
    "    data_1[col].fillna(np.mean(np.mean(data_1[col])),inplace=True)\n",
    "    data_1[col].isnull().sum()\n"
   ]
  },
  {
   "cell_type": "code",
   "execution_count": 52,
   "id": "53ea9b51-e420-4aab-bf51-4d0f1ca13034",
   "metadata": {},
   "outputs": [
    {
     "data": {
      "text/plain": [
       "0"
      ]
     },
     "execution_count": 52,
     "metadata": {},
     "output_type": "execute_result"
    }
   ],
   "source": []
  },
  {
   "cell_type": "code",
   "execution_count": 41,
   "id": "6f351988-98cb-4228-a9c2-0dfd6ff990de",
   "metadata": {},
   "outputs": [
    {
     "name": "stdout",
     "output_type": "stream",
     "text": [
      "['MedInc' 'HouseAge' 'AveRooms' 'AveBedrms' 'Population' 'AveOccup'\n",
      " 'Latitude' 'Longitude' 'Value']\n"
     ]
    },
    {
     "data": {
      "text/plain": [
       "<AxesSubplot:>"
      ]
     },
     "execution_count": 41,
     "metadata": {},
     "output_type": "execute_result"
    },
    {
     "data": {
      "image/png": "[encoded data removed]",
      "text/plain": [
       "<Figure size 432x288 with 1 Axes>"
      ]
     },
     "metadata": {
      "needs_background": "light"
     },
     "output_type": "display_data"
    }
   ],
   "source": [
    "import seaborn as sns\n",
    "\n",
    "data_numeric = data_3.select_dtypes(include=[np.number])\n",
    "columns = data_numeric.columns.values\n",
    "print(columns)\n",
    "\n",
    "\n",
    "order = columns = data_numeric.columns.values\n",
    "\n",
    "sns.boxplot(data=data_numeric)\n"
   ]
  }
 ],
 "metadata": {
  "kernelspec": {
   "display_name": "Python 3",
   "language": "python",
   "name": "python3"
  },
  "language_info": {
   "codemirror_mode": {
    "name": "ipython",
    "version": 3
   },
   "file_extension": ".py",
   "mimetype": "text/x-python",
   "name": "python",
   "nbconvert_exporter": "python",
   "pygments_lexer": "ipython3",
   "version": "3.8.8"
  }
 },
 "nbformat": 4,
 "nbformat_minor": 5
}
