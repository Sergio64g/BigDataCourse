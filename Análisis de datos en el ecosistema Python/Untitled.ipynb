{
 "cells": [
  {
   "cell_type": "code",
   "execution_count": null,
   "id": "b2a20fbd-0098-4ec3-a585-84660728de67",
   "metadata": {},
   "outputs": [],
   "source": [
    "import pandas as pd\n",
    "import os\n",
    "ruta = os.path.join(\"datasets\", \"credit.csv\")\n",
    "fichero = open(ruta)\n",
    "data = pd.read_csv(ruta)\n",
    "fichero.close()\n",
    "data.head()\n",
    "\n",
    "data_copy = data.copy()"
   ]
  },
  {
   "cell_type": "code",
   "execution_count": null,
   "id": "36e7a60e-46d8-4d95-bff9-86d900adb0ed",
   "metadata": {},
   "outputs": [],
   "source": [
    "data_copy.head(20)"
   ]
  },
  {
   "cell_type": "code",
   "execution_count": null,
   "id": "98295a3a-2142-440a-a7c7-f4c2067ae96d",
   "metadata": {},
   "outputs": [],
   "source": [
    "data"
   ]
  },
  {
   "cell_type": "code",
   "execution_count": null,
   "id": "87f90644-8b0f-497c-bf65-9c9b16017c5a",
   "metadata": {},
   "outputs": [],
   "source": []
  },
  {
   "cell_type": "code",
   "execution_count": null,
   "id": "cd8d3244-e9ee-445d-8e1a-58682b84b270",
   "metadata": {},
   "outputs": [],
   "source": []
  }
 ],
 "metadata": {
  "kernelspec": {
   "display_name": "Python 3",
   "language": "python",
   "name": "python3"
  },
  "language_info": {
   "codemirror_mode": {
    "name": "ipython",
    "version": 3
   },
   "file_extension": ".py",
   "mimetype": "text/x-python",
   "name": "python",
   "nbconvert_exporter": "python",
   "pygments_lexer": "ipython3",
   "version": "3.8.8"
  }
 },
 "nbformat": 4,
 "nbformat_minor": 5
}
