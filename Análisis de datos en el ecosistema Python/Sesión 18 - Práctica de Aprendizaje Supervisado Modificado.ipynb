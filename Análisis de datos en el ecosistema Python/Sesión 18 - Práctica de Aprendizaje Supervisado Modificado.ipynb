{
 "cells": [
  {
   "cell_type": "markdown",
   "metadata": {},
   "source": [
    "# Ejercicio Práctico de Regresión"
   ]
  },
  {
   "cell_type": "markdown",
   "metadata": {},
   "source": [
    "**Objetivo y descripción del problema**"
   ]
  },
  {
   "cell_type": "markdown",
   "metadata": {},
   "source": [
    "El **objetivo** del problema es implementar modelos de regresión para 3 datasets distintos, evaluando la bondad de sus predicciones y cuantificando los errores producidos por los modelos.\n",
    "\n",
    "Para ello, se van a seguir los siguientes pasos:\n",
    "\n",
    "- Comprensión del problema y carga de datos\n",
    "- Preprocesado y análisis inicial de los datos\n",
    "- Partición externa de los datos\n",
    "- Selección de atributos\n",
    "- Estandarización de atriutos\n",
    "- Validación cruzada para optimizar los hiperparámetros\n",
    "- Modelado con modelos de regresión (OLS y KNN Regressor)\n",
    "- Evaluación de los resultados"
   ]
  },
  {
   "cell_type": "markdown",
   "metadata": {},
   "source": [
    "**Datasets**"
   ]
  },
  {
   "cell_type": "markdown",
   "metadata": {},
   "source": [
    "Se cargan los datasets con los que se va a trabajar:\n",
    "\n",
    "**Advertising**\n",
    "- Conjunto de datos sobre el gasto de diversos anuncios en campañas publicitarias en diferentes medios.\n",
    "- Predicción: ventas conseguidas según el gasto invertido en publicidad\n",
    "- Features:\n",
    " - TV: gasto en TV\n",
    " - Radio: gasto en Radio\n",
    " - Newspaper: gasto en Newspaper\n",
    "\n",
    "**Airfoil**\n",
    "\n",
    "- Conjunto de datos de la NASA, obtenido de una serie de pruebas aerodinámicas y acústicas de secciones de palas aerodinámicas bidimensionales y tridimensionales realizadas en un túnel de viento anecoico. El dataset comprende superficies aerodinámicas NACA 0012 de diferentes tamaños a varias velocidades de túnel de viento y ángulos de ataque. El tramo del perfil aerodinámico y la posición del observador fueron los mismos en todos los experimentos. \n",
    "- Predicción: nivel de presión sonora en decibelios\n",
    "- Features:\n",
    " - Frequency, in Hertzs.\n",
    " - Angle of attack, in degrees.\n",
    " - Chord length, in meters.\n",
    " - Free-stream velocity, in meters per second.\n",
    " - Suction side displacement thickness, in meters. \n",
    "\n",
    "\n",
    "**energy housing**\n",
    "- Conjunto de datos de las diferentes características que presenta el vino así como la calidad del mismo.\n",
    "- Predicción: value (valor de la casa)\n",
    "- Features:\n",
    " - MedInc\n",
    " - HouseAge\n",
    " - AveRooms\t\n",
    " - AveBedrms\t\n",
    " - Population\t\n",
    " - AveOccup\t\n",
    " - Latitude\t\n",
    " - Longitude\t\n",
    "\n"
   ]
  },
  {
   "cell_type": "code",
   "execution_count": 2,
   "metadata": {},
   "outputs": [],
   "source": [
    "import numpy as np\n",
    "import pandas as pd\n",
    "import os\n",
    "\n",
    "from sklearn import datasets, linear_model\n",
    "import warnings\n",
    "warnings.filterwarnings(\"ignore\")\n",
    "\n",
    "from sklearn.feature_selection import VarianceThreshold\n",
    "from sklearn.feature_selection import mutual_info_regression,f_regression\n",
    "from sklearn.feature_selection import SelectKBest\n",
    "from sklearn.model_selection import cross_validate, KFold, cross_val_predict, train_test_split, cross_val_score\n",
    "\n",
    "from sklearn.linear_model import LinearRegression\n",
    "from sklearn.neighbors import KNeighborsRegressor\n",
    "\n",
    "from sklearn import preprocessing"
   ]
  },
  {
   "cell_type": "code",
   "execution_count": 3,
   "metadata": {},
   "outputs": [
    {
     "name": "stdout",
     "output_type": "stream",
     "text": [
      "(768, 10)\n"
     ]
    }
   ],
   "source": [
    "\n",
    "ruta = os.path.join(\"datasets/Regression\", \"ENB2012_data.csv\")\n",
    "fichero = open(ruta)\n",
    "energy = pd.read_csv(ruta, sep=\";\")\n",
    "fichero.close()\n",
    "\n",
    "\n",
    "print(np.shape(energy))"
   ]
  },
  {
   "cell_type": "code",
   "execution_count": 4,
   "metadata": {},
   "outputs": [
    {
     "data": {
      "text/html": [
       "<div>\n",
       "<style scoped>\n",
       "    .dataframe tbody tr th:only-of-type {\n",
       "        vertical-align: middle;\n",
       "    }\n",
       "\n",
       "    .dataframe tbody tr th {\n",
       "        vertical-align: top;\n",
       "    }\n",
       "\n",
       "    .dataframe thead th {\n",
       "        text-align: right;\n",
       "    }\n",
       "</style>\n",
       "<table border=\"1\" class=\"dataframe\">\n",
       "  <thead>\n",
       "    <tr style=\"text-align: right;\">\n",
       "      <th></th>\n",
       "      <th>Relative Compactness</th>\n",
       "      <th>Surface Area</th>\n",
       "      <th>Wall Area</th>\n",
       "      <th>Roof Area</th>\n",
       "      <th>Overall Height</th>\n",
       "      <th>Orientation</th>\n",
       "      <th>Glazing Area</th>\n",
       "      <th>Glazing Area Distribution</th>\n",
       "      <th>Heating Load</th>\n",
       "      <th>Cooling Load</th>\n",
       "    </tr>\n",
       "  </thead>\n",
       "  <tbody>\n",
       "    <tr>\n",
       "      <th>0</th>\n",
       "      <td>0.98</td>\n",
       "      <td>514.5</td>\n",
       "      <td>294.0</td>\n",
       "      <td>110.25</td>\n",
       "      <td>7.0</td>\n",
       "      <td>2</td>\n",
       "      <td>0.0</td>\n",
       "      <td>0</td>\n",
       "      <td>15.55</td>\n",
       "      <td>21.33</td>\n",
       "    </tr>\n",
       "    <tr>\n",
       "      <th>1</th>\n",
       "      <td>0.98</td>\n",
       "      <td>514.5</td>\n",
       "      <td>294.0</td>\n",
       "      <td>110.25</td>\n",
       "      <td>7.0</td>\n",
       "      <td>3</td>\n",
       "      <td>0.0</td>\n",
       "      <td>0</td>\n",
       "      <td>15.55</td>\n",
       "      <td>21.33</td>\n",
       "    </tr>\n",
       "    <tr>\n",
       "      <th>2</th>\n",
       "      <td>0.98</td>\n",
       "      <td>514.5</td>\n",
       "      <td>294.0</td>\n",
       "      <td>110.25</td>\n",
       "      <td>7.0</td>\n",
       "      <td>4</td>\n",
       "      <td>0.0</td>\n",
       "      <td>0</td>\n",
       "      <td>15.55</td>\n",
       "      <td>21.33</td>\n",
       "    </tr>\n",
       "    <tr>\n",
       "      <th>3</th>\n",
       "      <td>0.98</td>\n",
       "      <td>514.5</td>\n",
       "      <td>294.0</td>\n",
       "      <td>110.25</td>\n",
       "      <td>7.0</td>\n",
       "      <td>5</td>\n",
       "      <td>0.0</td>\n",
       "      <td>0</td>\n",
       "      <td>15.55</td>\n",
       "      <td>21.33</td>\n",
       "    </tr>\n",
       "    <tr>\n",
       "      <th>4</th>\n",
       "      <td>0.90</td>\n",
       "      <td>563.5</td>\n",
       "      <td>318.5</td>\n",
       "      <td>122.50</td>\n",
       "      <td>7.0</td>\n",
       "      <td>2</td>\n",
       "      <td>0.0</td>\n",
       "      <td>0</td>\n",
       "      <td>20.84</td>\n",
       "      <td>28.28</td>\n",
       "    </tr>\n",
       "  </tbody>\n",
       "</table>\n",
       "</div>"
      ],
      "text/plain": [
       "   Relative Compactness  Surface Area  Wall Area  Roof Area  Overall Height  \\\n",
       "0                  0.98         514.5      294.0     110.25             7.0   \n",
       "1                  0.98         514.5      294.0     110.25             7.0   \n",
       "2                  0.98         514.5      294.0     110.25             7.0   \n",
       "3                  0.98         514.5      294.0     110.25             7.0   \n",
       "4                  0.90         563.5      318.5     122.50             7.0   \n",
       "\n",
       "   Orientation  Glazing Area  Glazing Area Distribution  Heating Load  \\\n",
       "0            2           0.0                          0         15.55   \n",
       "1            3           0.0                          0         15.55   \n",
       "2            4           0.0                          0         15.55   \n",
       "3            5           0.0                          0         15.55   \n",
       "4            2           0.0                          0         20.84   \n",
       "\n",
       "   Cooling Load  \n",
       "0         21.33  \n",
       "1         21.33  \n",
       "2         21.33  \n",
       "3         21.33  \n",
       "4         28.28  "
      ]
     },
     "execution_count": 4,
     "metadata": {},
     "output_type": "execute_result"
    }
   ],
   "source": [
    "energy.head()"
   ]
  },
  {
   "cell_type": "markdown",
   "metadata": {},
   "source": [
    "Se hacen varios chequeos y se aplican técnicas de preprocesado de datos para mejorar la comprensión y estructura de los datasets."
   ]
  },
  {
   "cell_type": "markdown",
   "metadata": {},
   "source": [
    "**Tratamiento de valores faltantes**"
   ]
  },
  {
   "cell_type": "code",
   "execution_count": 5,
   "metadata": {},
   "outputs": [
    {
     "name": "stdout",
     "output_type": "stream",
     "text": [
      "---- energy ----\n",
      "Relative Compactness         0\n",
      "Surface Area                 0\n",
      "Wall Area                    0\n",
      "Roof Area                    0\n",
      "Overall Height               0\n",
      "Orientation                  0\n",
      "Glazing Area                 0\n",
      "Glazing Area Distribution    0\n",
      "Heating Load                 0\n",
      "Cooling Load                 0\n",
      "dtype: int64\n"
     ]
    }
   ],
   "source": [
    "# Conteo de valores faltantes\n",
    "print('---- energy ----')\n",
    "print(energy.isnull().sum())"
   ]
  },
  {
   "cell_type": "markdown",
   "metadata": {},
   "source": [
    "**Outliers**"
   ]
  },
  {
   "cell_type": "markdown",
   "metadata": {},
   "source": [
    "Definir una función para estudiar los outliers."
   ]
  },
  {
   "cell_type": "markdown",
   "metadata": {},
   "source": [
    "##  **Separación de atributos y variable target**\n",
    "\n",
    "### Atributos: \n",
    "Relative Compactness\n",
    "Surface Area\n",
    "Wall Area\n",
    "Roof Area\n",
    "Overall Height\n",
    "Orientation\n",
    "Glazing Area\n",
    "Glazing Area Distribution\n",
    "\n",
    "### Predicciones\n",
    "Heating Load\n",
    "Cooling Load"
   ]
  },
  {
   "cell_type": "code",
   "execution_count": 7,
   "metadata": {},
   "outputs": [
    {
     "data": {
      "text/plain": [
       "(   Relative Compactness  Surface Area  Wall Area  Roof Area  Overall Height  \\\n",
       " 0                  0.98         514.5      294.0     110.25             7.0   \n",
       " 1                  0.98         514.5      294.0     110.25             7.0   \n",
       " 2                  0.98         514.5      294.0     110.25             7.0   \n",
       " 3                  0.98         514.5      294.0     110.25             7.0   \n",
       " 4                  0.90         563.5      318.5     122.50             7.0   \n",
       " \n",
       "    Orientation  Glazing Area  Glazing Area Distribution  \n",
       " 0            2           0.0                          0  \n",
       " 1            3           0.0                          0  \n",
       " 2            4           0.0                          0  \n",
       " 3            5           0.0                          0  \n",
       " 4            2           0.0                          0  ,\n",
       " 0    21.33\n",
       " 1    21.33\n",
       " 2    21.33\n",
       " 3    21.33\n",
       " 4    28.28\n",
       " Name: Cooling Load, dtype: float64,\n",
       " 0    15.55\n",
       " 1    15.55\n",
       " 2    15.55\n",
       " 3    15.55\n",
       " 4    20.84\n",
       " Name: Heating Load, dtype: float64)"
      ]
     },
     "execution_count": 7,
     "metadata": {},
     "output_type": "execute_result"
    }
   ],
   "source": [
    "X = energy.iloc[:,:-1]\n",
    "X = X.iloc[:,:-1]\n",
    "ycooling = energy.pop('Cooling Load')\n",
    "yheating = energy.pop('Heating Load')\n",
    "\n",
    "X.head(), ycooling.head(), yheating.head()"
   ]
  },
  {
   "cell_type": "code",
   "execution_count": 10,
   "metadata": {},
   "outputs": [
    {
     "data": {
      "image/png": "[encoded data removed]",
      "text/plain": [
       "<Figure size 432x288 with 1 Axes>"
      ]
     },
     "metadata": {
      "needs_background": "light"
     },
     "output_type": "display_data"
    },
    {
     "data": {
      "image/png": "[encoded data removed]",
      "text/plain": [
       "<Figure size 432x288 with 1 Axes>"
      ]
     },
     "metadata": {
      "needs_background": "light"
     },
     "output_type": "display_data"
    }
   ],
   "source": [
    "import matplotlib.pyplot as plt\n",
    "\n",
    "x = list(range(0, 768))\n",
    "    \n",
    "\n",
    "plt.bar(x,ycooling)\n",
    "plt.title('Cooling')\n",
    "plt.xlabel(' ')\n",
    "plt.ylabel('Cooling values')\n",
    "plt.show()\n",
    "\n",
    "\n",
    "\n",
    "plt.bar(x,yheating)\n",
    "plt.title('Heating')\n",
    "plt.xlabel(' ')\n",
    "plt.ylabel('Heating values')\n",
    "plt.show()"
   ]
  },
  {
   "cell_type": "code",
   "execution_count": 21,
   "metadata": {},
   "outputs": [
    {
     "data": {
      "text/plain": [
       "<AxesSubplot:>"
      ]
     },
     "execution_count": 21,
     "metadata": {},
     "output_type": "execute_result"
    },
    {
     "data": {
      "image/png": "[encoded data removed]",
      "text/plain": [
       "<Figure size 432x288 with 1 Axes>"
      ]
     },
     "metadata": {
      "needs_background": "light"
     },
     "output_type": "display_data"
    }
   ],
   "source": [
    "ad = pd.DataFrame(np.random.randn(768, 2),\n",
    "                       columns=['Heating Load', 'Coling Load'] )\n",
    "ad.boxplot()"
   ]
  },
  {
   "cell_type": "code",
   "execution_count": 76,
   "metadata": {},
   "outputs": [
    {
     "data": {
      "text/plain": [
       "(768, 8)"
      ]
     },
     "execution_count": 76,
     "metadata": {},
     "output_type": "execute_result"
    }
   ],
   "source": [
    "# Se comprueba que se ha hecho bien con el tamaño de los datasets\n",
    "energy.shape\n"
   ]
  },
  {
   "cell_type": "markdown",
   "metadata": {},
   "source": [
    "**Partición hold out**"
   ]
  },
  {
   "cell_type": "code",
   "execution_count": 84,
   "metadata": {},
   "outputs": [],
   "source": [
    "X_train,X_test,y_train,y_test = train_test_split(X,ycooling,test_size=0.2, random_state=42)\n"
   ]
  },
  {
   "cell_type": "code",
   "execution_count": 85,
   "metadata": {},
   "outputs": [
    {
     "data": {
      "text/plain": [
       "((614, 8), (154, 8), (614,), (154,))"
      ]
     },
     "execution_count": 85,
     "metadata": {},
     "output_type": "execute_result"
    }
   ],
   "source": [
    "X_train.shape,X_test.shape,y_train.shape,y_test.shape"
   ]
  },
  {
   "cell_type": "markdown",
   "metadata": {},
   "source": [
    "**Selección de atributos**"
   ]
  },
  {
   "cell_type": "code",
   "execution_count": 86,
   "metadata": {},
   "outputs": [
    {
     "name": "stdout",
     "output_type": "stream",
     "text": [
      "0.011188874402433754\n",
      "7759.163841807892\n",
      "1903.2698826597132\n",
      "2039.9630595393185\n",
      "3.0664928292046936\n",
      "1.2516297262059974\n",
      "0.017747718383311874\n",
      "2.405475880052151\n"
     ]
    }
   ],
   "source": [
    "for i in X.columns:\n",
    "    print(X.var()[i])\n"
   ]
  },
  {
   "cell_type": "code",
   "execution_count": 87,
   "metadata": {},
   "outputs": [
    {
     "data": {
      "text/html": [
       "<div>\n",
       "<style scoped>\n",
       "    .dataframe tbody tr th:only-of-type {\n",
       "        vertical-align: middle;\n",
       "    }\n",
       "\n",
       "    .dataframe tbody tr th {\n",
       "        vertical-align: top;\n",
       "    }\n",
       "\n",
       "    .dataframe thead th {\n",
       "        text-align: right;\n",
       "    }\n",
       "</style>\n",
       "<table border=\"1\" class=\"dataframe\">\n",
       "  <thead>\n",
       "    <tr style=\"text-align: right;\">\n",
       "      <th></th>\n",
       "      <th>Relative Compactness</th>\n",
       "      <th>Surface Area</th>\n",
       "      <th>Wall Area</th>\n",
       "      <th>Roof Area</th>\n",
       "      <th>Overall Height</th>\n",
       "      <th>Orientation</th>\n",
       "      <th>Glazing Area</th>\n",
       "      <th>Glazing Area Distribution</th>\n",
       "    </tr>\n",
       "  </thead>\n",
       "  <tbody>\n",
       "    <tr>\n",
       "      <th>0</th>\n",
       "      <td>0.98</td>\n",
       "      <td>514.5</td>\n",
       "      <td>294.0</td>\n",
       "      <td>110.25</td>\n",
       "      <td>7.0</td>\n",
       "      <td>2</td>\n",
       "      <td>0.0</td>\n",
       "      <td>0</td>\n",
       "    </tr>\n",
       "    <tr>\n",
       "      <th>1</th>\n",
       "      <td>0.98</td>\n",
       "      <td>514.5</td>\n",
       "      <td>294.0</td>\n",
       "      <td>110.25</td>\n",
       "      <td>7.0</td>\n",
       "      <td>3</td>\n",
       "      <td>0.0</td>\n",
       "      <td>0</td>\n",
       "    </tr>\n",
       "    <tr>\n",
       "      <th>2</th>\n",
       "      <td>0.98</td>\n",
       "      <td>514.5</td>\n",
       "      <td>294.0</td>\n",
       "      <td>110.25</td>\n",
       "      <td>7.0</td>\n",
       "      <td>4</td>\n",
       "      <td>0.0</td>\n",
       "      <td>0</td>\n",
       "    </tr>\n",
       "    <tr>\n",
       "      <th>3</th>\n",
       "      <td>0.98</td>\n",
       "      <td>514.5</td>\n",
       "      <td>294.0</td>\n",
       "      <td>110.25</td>\n",
       "      <td>7.0</td>\n",
       "      <td>5</td>\n",
       "      <td>0.0</td>\n",
       "      <td>0</td>\n",
       "    </tr>\n",
       "    <tr>\n",
       "      <th>4</th>\n",
       "      <td>0.90</td>\n",
       "      <td>563.5</td>\n",
       "      <td>318.5</td>\n",
       "      <td>122.50</td>\n",
       "      <td>7.0</td>\n",
       "      <td>2</td>\n",
       "      <td>0.0</td>\n",
       "      <td>0</td>\n",
       "    </tr>\n",
       "    <tr>\n",
       "      <th>...</th>\n",
       "      <td>...</td>\n",
       "      <td>...</td>\n",
       "      <td>...</td>\n",
       "      <td>...</td>\n",
       "      <td>...</td>\n",
       "      <td>...</td>\n",
       "      <td>...</td>\n",
       "      <td>...</td>\n",
       "    </tr>\n",
       "    <tr>\n",
       "      <th>763</th>\n",
       "      <td>0.64</td>\n",
       "      <td>784.0</td>\n",
       "      <td>343.0</td>\n",
       "      <td>220.50</td>\n",
       "      <td>3.5</td>\n",
       "      <td>5</td>\n",
       "      <td>0.4</td>\n",
       "      <td>5</td>\n",
       "    </tr>\n",
       "    <tr>\n",
       "      <th>764</th>\n",
       "      <td>0.62</td>\n",
       "      <td>808.5</td>\n",
       "      <td>367.5</td>\n",
       "      <td>220.50</td>\n",
       "      <td>3.5</td>\n",
       "      <td>2</td>\n",
       "      <td>0.4</td>\n",
       "      <td>5</td>\n",
       "    </tr>\n",
       "    <tr>\n",
       "      <th>765</th>\n",
       "      <td>0.62</td>\n",
       "      <td>808.5</td>\n",
       "      <td>367.5</td>\n",
       "      <td>220.50</td>\n",
       "      <td>3.5</td>\n",
       "      <td>3</td>\n",
       "      <td>0.4</td>\n",
       "      <td>5</td>\n",
       "    </tr>\n",
       "    <tr>\n",
       "      <th>766</th>\n",
       "      <td>0.62</td>\n",
       "      <td>808.5</td>\n",
       "      <td>367.5</td>\n",
       "      <td>220.50</td>\n",
       "      <td>3.5</td>\n",
       "      <td>4</td>\n",
       "      <td>0.4</td>\n",
       "      <td>5</td>\n",
       "    </tr>\n",
       "    <tr>\n",
       "      <th>767</th>\n",
       "      <td>0.62</td>\n",
       "      <td>808.5</td>\n",
       "      <td>367.5</td>\n",
       "      <td>220.50</td>\n",
       "      <td>3.5</td>\n",
       "      <td>5</td>\n",
       "      <td>0.4</td>\n",
       "      <td>5</td>\n",
       "    </tr>\n",
       "  </tbody>\n",
       "</table>\n",
       "<p>768 rows × 8 columns</p>\n",
       "</div>"
      ],
      "text/plain": [
       "     Relative Compactness  Surface Area  Wall Area  Roof Area  Overall Height  \\\n",
       "0                    0.98         514.5      294.0     110.25             7.0   \n",
       "1                    0.98         514.5      294.0     110.25             7.0   \n",
       "2                    0.98         514.5      294.0     110.25             7.0   \n",
       "3                    0.98         514.5      294.0     110.25             7.0   \n",
       "4                    0.90         563.5      318.5     122.50             7.0   \n",
       "..                    ...           ...        ...        ...             ...   \n",
       "763                  0.64         784.0      343.0     220.50             3.5   \n",
       "764                  0.62         808.5      367.5     220.50             3.5   \n",
       "765                  0.62         808.5      367.5     220.50             3.5   \n",
       "766                  0.62         808.5      367.5     220.50             3.5   \n",
       "767                  0.62         808.5      367.5     220.50             3.5   \n",
       "\n",
       "     Orientation  Glazing Area  Glazing Area Distribution  \n",
       "0              2           0.0                          0  \n",
       "1              3           0.0                          0  \n",
       "2              4           0.0                          0  \n",
       "3              5           0.0                          0  \n",
       "4              2           0.0                          0  \n",
       "..           ...           ...                        ...  \n",
       "763            5           0.4                          5  \n",
       "764            2           0.4                          5  \n",
       "765            3           0.4                          5  \n",
       "766            4           0.4                          5  \n",
       "767            5           0.4                          5  \n",
       "\n",
       "[768 rows x 8 columns]"
      ]
     },
     "execution_count": 87,
     "metadata": {},
     "output_type": "execute_result"
    }
   ],
   "source": [
    "X"
   ]
  },
  {
   "cell_type": "code",
   "execution_count": 88,
   "metadata": {},
   "outputs": [
    {
     "data": {
      "text/html": [
       "<div>\n",
       "<style scoped>\n",
       "    .dataframe tbody tr th:only-of-type {\n",
       "        vertical-align: middle;\n",
       "    }\n",
       "\n",
       "    .dataframe tbody tr th {\n",
       "        vertical-align: top;\n",
       "    }\n",
       "\n",
       "    .dataframe thead th {\n",
       "        text-align: right;\n",
       "    }\n",
       "</style>\n",
       "<table border=\"1\" class=\"dataframe\">\n",
       "  <thead>\n",
       "    <tr style=\"text-align: right;\">\n",
       "      <th></th>\n",
       "      <th>0</th>\n",
       "      <th>1</th>\n",
       "      <th>2</th>\n",
       "      <th>3</th>\n",
       "      <th>4</th>\n",
       "      <th>5</th>\n",
       "    </tr>\n",
       "  </thead>\n",
       "  <tbody>\n",
       "    <tr>\n",
       "      <th>0</th>\n",
       "      <td>612.5</td>\n",
       "      <td>318.5</td>\n",
       "      <td>147.00</td>\n",
       "      <td>7.0</td>\n",
       "      <td>2.0</td>\n",
       "      <td>1.0</td>\n",
       "    </tr>\n",
       "    <tr>\n",
       "      <th>1</th>\n",
       "      <td>784.0</td>\n",
       "      <td>343.0</td>\n",
       "      <td>220.50</td>\n",
       "      <td>3.5</td>\n",
       "      <td>4.0</td>\n",
       "      <td>2.0</td>\n",
       "    </tr>\n",
       "    <tr>\n",
       "      <th>2</th>\n",
       "      <td>588.0</td>\n",
       "      <td>294.0</td>\n",
       "      <td>147.00</td>\n",
       "      <td>7.0</td>\n",
       "      <td>4.0</td>\n",
       "      <td>2.0</td>\n",
       "    </tr>\n",
       "    <tr>\n",
       "      <th>3</th>\n",
       "      <td>563.5</td>\n",
       "      <td>318.5</td>\n",
       "      <td>122.50</td>\n",
       "      <td>7.0</td>\n",
       "      <td>4.0</td>\n",
       "      <td>1.0</td>\n",
       "    </tr>\n",
       "    <tr>\n",
       "      <th>4</th>\n",
       "      <td>759.5</td>\n",
       "      <td>318.5</td>\n",
       "      <td>220.50</td>\n",
       "      <td>3.5</td>\n",
       "      <td>5.0</td>\n",
       "      <td>4.0</td>\n",
       "    </tr>\n",
       "    <tr>\n",
       "      <th>...</th>\n",
       "      <td>...</td>\n",
       "      <td>...</td>\n",
       "      <td>...</td>\n",
       "      <td>...</td>\n",
       "      <td>...</td>\n",
       "      <td>...</td>\n",
       "    </tr>\n",
       "    <tr>\n",
       "      <th>609</th>\n",
       "      <td>661.5</td>\n",
       "      <td>416.5</td>\n",
       "      <td>122.50</td>\n",
       "      <td>7.0</td>\n",
       "      <td>5.0</td>\n",
       "      <td>1.0</td>\n",
       "    </tr>\n",
       "    <tr>\n",
       "      <th>610</th>\n",
       "      <td>588.0</td>\n",
       "      <td>294.0</td>\n",
       "      <td>147.00</td>\n",
       "      <td>7.0</td>\n",
       "      <td>4.0</td>\n",
       "      <td>2.0</td>\n",
       "    </tr>\n",
       "    <tr>\n",
       "      <th>611</th>\n",
       "      <td>710.5</td>\n",
       "      <td>269.5</td>\n",
       "      <td>220.50</td>\n",
       "      <td>3.5</td>\n",
       "      <td>4.0</td>\n",
       "      <td>5.0</td>\n",
       "    </tr>\n",
       "    <tr>\n",
       "      <th>612</th>\n",
       "      <td>514.5</td>\n",
       "      <td>294.0</td>\n",
       "      <td>110.25</td>\n",
       "      <td>7.0</td>\n",
       "      <td>5.0</td>\n",
       "      <td>4.0</td>\n",
       "    </tr>\n",
       "    <tr>\n",
       "      <th>613</th>\n",
       "      <td>563.5</td>\n",
       "      <td>318.5</td>\n",
       "      <td>122.50</td>\n",
       "      <td>7.0</td>\n",
       "      <td>4.0</td>\n",
       "      <td>2.0</td>\n",
       "    </tr>\n",
       "  </tbody>\n",
       "</table>\n",
       "<p>614 rows × 6 columns</p>\n",
       "</div>"
      ],
      "text/plain": [
       "         0      1       2    3    4    5\n",
       "0    612.5  318.5  147.00  7.0  2.0  1.0\n",
       "1    784.0  343.0  220.50  3.5  4.0  2.0\n",
       "2    588.0  294.0  147.00  7.0  4.0  2.0\n",
       "3    563.5  318.5  122.50  7.0  4.0  1.0\n",
       "4    759.5  318.5  220.50  3.5  5.0  4.0\n",
       "..     ...    ...     ...  ...  ...  ...\n",
       "609  661.5  416.5  122.50  7.0  5.0  1.0\n",
       "610  588.0  294.0  147.00  7.0  4.0  2.0\n",
       "611  710.5  269.5  220.50  3.5  4.0  5.0\n",
       "612  514.5  294.0  110.25  7.0  5.0  4.0\n",
       "613  563.5  318.5  122.50  7.0  4.0  2.0\n",
       "\n",
       "[614 rows x 6 columns]"
      ]
     },
     "execution_count": 88,
     "metadata": {},
     "output_type": "execute_result"
    }
   ],
   "source": [
    "# Variance Threshold\n",
    "\n",
    "selector = VarianceThreshold(0.3)\n",
    "X_train_sel = selector.fit_transform(X_train)\n",
    "df = pd.DataFrame(X_train_sel)\n",
    "df"
   ]
  },
  {
   "cell_type": "markdown",
   "metadata": {},
   "source": [
    "**Estandarización de los datos**"
   ]
  },
  {
   "cell_type": "code",
   "execution_count": 89,
   "metadata": {},
   "outputs": [],
   "source": [
    "X_train_std = {}\n",
    "\n",
    "\n",
    "estandarizador = preprocessing.StandardScaler()\n",
    "X_train_std = estandarizador.fit_transform(df)\n",
    "\n"
   ]
  },
  {
   "cell_type": "code",
   "execution_count": 90,
   "metadata": {},
   "outputs": [
    {
     "data": {
      "text/plain": [
       "array([[-0.6962224 , -0.00737214, -0.67904812,  1.01642146, -1.36441084,\n",
       "        -1.1605984 ],\n",
       "       [ 1.25066366,  0.55843925,  0.95706259, -0.98384385,  0.44108109,\n",
       "        -0.51570481],\n",
       "       [-0.97434898, -0.57318352, -0.67904812,  1.01642146,  0.44108109,\n",
       "        -0.51570481],\n",
       "       ...,\n",
       "       [ 0.41628392, -1.13899491,  0.95706259, -0.98384385,  0.44108109,\n",
       "         1.41897596],\n",
       "       [-1.80872872, -0.57318352, -1.49710347,  1.01642146,  1.34382706,\n",
       "         0.77408237],\n",
       "       [-1.25247556, -0.00737214, -1.22441835,  1.01642146,  0.44108109,\n",
       "        -0.51570481]])"
      ]
     },
     "execution_count": 90,
     "metadata": {},
     "output_type": "execute_result"
    }
   ],
   "source": [
    "X_train_std"
   ]
  },
  {
   "cell_type": "markdown",
   "metadata": {},
   "source": [
    "**Comparación de modelos con cross_val_score**"
   ]
  },
  {
   "cell_type": "code",
   "execution_count": 91,
   "metadata": {},
   "outputs": [],
   "source": [
    "# Se definen los algoritmos dentro de un diccionario y se hacen distintas ejecuciones cambiando los hiperparámetros\n",
    "# del modelo hasta conseguir aquellos que den mejor resultado\n",
    "\n",
    "k=5\n",
    "algoritmos = {'OLS' : LinearRegression(),\n",
    "\n",
    "              'KNN' : KNeighborsRegressor(n_neighbors = k, weights='distance', metric='euclidean', algorithm='kd_tree'),\n",
    "             }"
   ]
  },
  {
   "cell_type": "markdown",
   "metadata": {},
   "source": [
    "Se hace validación cruzada con 10 bolsas y se obtiene la metrica MAE para ambos algoritmos"
   ]
  },
  {
   "cell_type": "code",
   "execution_count": 92,
   "metadata": {},
   "outputs": [
    {
     "name": "stdout",
     "output_type": "stream",
     "text": [
      "OLS cross_val_MAE:   2.9335 +/- 0.1959\n",
      "KNN cross_val_MAE:   2.4891 +/- 0.2604\n"
     ]
    }
   ],
   "source": [
    "resultados = {}\n",
    "resultados['OLS'] = cross_val_score(algoritmos['OLS'], X_train_std, y_train, \n",
    "                                                 cv = KFold(n_splits=10, shuffle=True, random_state=42),\n",
    "                                                 scoring='neg_mean_absolute_error')\n",
    "\n",
    "print(\"OLS cross_val_MAE:   %0.4f +/- %0.4f\" % (-resultados['OLS'].mean(), \n",
    "                                                            resultados['OLS'].std()))\n",
    "\n",
    "resultados['KNN'] = cross_val_score(algoritmos['KNN'], X_train_std, y_train, \n",
    "                                                 cv = KFold(n_splits=10, shuffle=True, random_state=42),\n",
    "                                                 scoring='neg_mean_absolute_error')\n",
    "print(\"KNN cross_val_MAE:   %0.4f +/- %0.4f\" % ( -resultados['KNN'].mean(), \n",
    "                                                             resultados['KNN'].std()))"
   ]
  },
  {
   "cell_type": "markdown",
   "metadata": {},
   "source": [
    "**Modelo final**"
   ]
  },
  {
   "cell_type": "markdown",
   "metadata": {},
   "source": [
    "En el paso anterior se ha utilizado validación cruzada para optimizar los hiperpámetros, y ahora se va a entrenar el modelo con todos los datos de entrenamiento. Los resultados se guardan en un diccionario."
   ]
  },
  {
   "cell_type": "code",
   "execution_count": 93,
   "metadata": {},
   "outputs": [],
   "source": [
    "modelo_definitivo_ols = {}\n",
    "modelo_definitivo_knn = {}\n",
    "\n",
    "modelo_definitivo_ols[('OLS')] = algoritmos['OLS'].fit(X_train_std, y_train)\n",
    "modelo_definitivo_knn[('KNN')] = algoritmos['KNN'].fit(X_train_std, y_train)"
   ]
  },
  {
   "cell_type": "code",
   "execution_count": 94,
   "metadata": {},
   "outputs": [],
   "source": [
    "y_train_pred_ols = {}\n",
    "y_train_pred_knn = {}\n",
    "\n",
    "y_train_pred_ols['OLS'] = cross_val_predict(modelo_definitivo_ols['OLS'], \n",
    "                                     X_train_std, y_train, \n",
    "                                     cv=KFold(n_splits=10, shuffle=True, random_state=42))\n",
    "\n",
    "\n",
    "y_train_pred_knn['KNN'] = cross_val_predict(modelo_definitivo_knn['KNN'], \n",
    "                                     X_train_std, y_train, \n",
    "                                     cv=KFold(n_splits=10, shuffle=True, random_state=42))"
   ]
  },
  {
   "cell_type": "markdown",
   "metadata": {},
   "source": [
    "**Estandarización y selección de atributos del conjunto de test**"
   ]
  },
  {
   "cell_type": "code",
   "execution_count": 95,
   "metadata": {},
   "outputs": [],
   "source": [
    "X_test_sel = {}\n",
    "X_test_sel = selector.transform(X_test)\n",
    "X_test_std = {}\n",
    "X_test_std = estandarizador.transform(X_test_sel)"
   ]
  },
  {
   "cell_type": "code",
   "execution_count": null,
   "metadata": {},
   "outputs": [],
   "source": []
  },
  {
   "cell_type": "code",
   "execution_count": 96,
   "metadata": {},
   "outputs": [],
   "source": [
    "# Se utilizan los modelos de KNN y OLS entrenados con el conjunto de entrenamiento para hacer predicciones con el conjunto \n",
    "# de test y evaluar los modelos creados.\n",
    "\n",
    "y_test_pred_ols = {}\n",
    "y_test_pred_knn = {}\n",
    "\n",
    "y_test_pred_ols['OLS'] = cross_val_predict(modelo_definitivo_ols['OLS'], \n",
    "                                     X_test_std, y_test, \n",
    "                                     cv=KFold(n_splits=5, shuffle=True, random_state=42))\n",
    "\n",
    "\n",
    "y_test_pred_knn['KNN'] = cross_val_predict(modelo_definitivo_knn['KNN'], \n",
    "                                     X_test_std, y_test, \n",
    "                                     cv=KFold(n_splits=5, shuffle=True, random_state=42))"
   ]
  },
  {
   "cell_type": "markdown",
   "metadata": {},
   "source": [
    "**Métricas: MAE, RMSE, MAPE**"
   ]
  },
  {
   "cell_type": "code",
   "execution_count": 97,
   "metadata": {},
   "outputs": [],
   "source": [
    "import sklearn.metrics as metrics\n",
    "\n",
    "def evaluacion(y_true, y_pred, metricas):\n",
    "    res = {}\n",
    "    for nombre, funcion in metricas.items():\n",
    "        res[nombre] = funcion(y_true, y_pred)\n",
    "    return res\n",
    "\n",
    "\n",
    "metricas = {\n",
    "  'MAE':  metrics.mean_absolute_error,\n",
    "  'RMSE': lambda y, y_pred:\n",
    "          math.sqrt(metrics.mean_squared_error(y, y_pred)),\n",
    "  'MAPE': lambda y, y_pred:\n",
    "          np.mean(np.abs((y - y_pred) / y)) * 100,\n",
    "  'R2':   metrics.r2_score}"
   ]
  },
  {
   "cell_type": "markdown",
   "metadata": {},
   "source": [
    "**Evaluación del conjunto de entrenamiento**"
   ]
  },
  {
   "cell_type": "code",
   "execution_count": 98,
   "metadata": {},
   "outputs": [
    {
     "name": "stdout",
     "output_type": "stream",
     "text": [
      "MAE:  2.9333\n",
      "RMSE: 3.8709\n",
      "MAPE: 12.3181\n",
      "R2: 0.8329\n",
      "------------------\n"
     ]
    }
   ],
   "source": [
    "# Métricas correspondientes a LinearRegression()\n",
    "\n",
    "import math\n",
    "\n",
    "MAE =   metricas['MAE'](y_train, y_train_pred_ols['OLS'])\n",
    "RMSE = metricas['RMSE'](y_train, y_train_pred_ols['OLS'])\n",
    "MAPE = metricas['MAPE'](y_train, y_train_pred_ols['OLS'])\n",
    "R2 = metricas['R2'](y_train, y_train_pred_ols[('OLS')])\n",
    "\n",
    "print('MAE:  %.4f' % MAE)\n",
    "print('RMSE: %.4f' % RMSE)\n",
    "print('MAPE: %.4f' % MAPE)\n",
    "print('R2: %.4f' % R2)\n",
    "\n",
    "print('------------------')"
   ]
  },
  {
   "cell_type": "code",
   "execution_count": 99,
   "metadata": {},
   "outputs": [
    {
     "data": {
      "text/plain": [
       "{'MAE': 2.4902254679384472,\n",
       " 'RMSE': 3.033996123645939,\n",
       " 'MAPE': 10.99769608707967,\n",
       " 'R2': 0.897331793692763}"
      ]
     },
     "execution_count": 99,
     "metadata": {},
     "output_type": "execute_result"
    }
   ],
   "source": [
    "# Evaluación del algoritmo KNN y presentación de resultados.\n",
    "\n",
    "results = evaluacion(y_train, y_train_pred_knn['KNN'], metricas)\n",
    "results"
   ]
  },
  {
   "cell_type": "markdown",
   "metadata": {},
   "source": [
    "**Evaluación del conjunto de test**"
   ]
  },
  {
   "cell_type": "code",
   "execution_count": 100,
   "metadata": {},
   "outputs": [
    {
     "name": "stdout",
     "output_type": "stream",
     "text": [
      "MAE:  2.9158\n",
      "RMSE: 3.7943\n",
      "MAPE: 12.0107\n",
      "R2:   0.8446\n",
      "-------------------------------\n"
     ]
    }
   ],
   "source": [
    "\n",
    "\n",
    "MAE =   metricas['MAE'](y_test, y_test_pred_ols['OLS'])\n",
    "RMSE = metricas['RMSE'](y_test, y_test_pred_ols['OLS'])\n",
    "MAPE = metricas['MAPE'](y_test,y_test_pred_ols['OLS'])\n",
    "R2 =     metricas['R2'](y_test, y_test_pred_ols['OLS'])\n",
    "\n",
    "print('MAE:  %.4f' % MAE)\n",
    "print('RMSE: %.4f' % RMSE)\n",
    "print('MAPE: %.4f' % MAPE)\n",
    "print('R2:   %.4f' % R2)\n",
    "print('-------------------------------')"
   ]
  },
  {
   "cell_type": "code",
   "execution_count": 101,
   "metadata": {},
   "outputs": [
    {
     "data": {
      "text/plain": [
       "{'MAE': 2.964509643911655,\n",
       " 'RMSE': 3.8106266735358565,\n",
       " 'MAPE': 11.81342509302277,\n",
       " 'R2': 0.8432839556021147}"
      ]
     },
     "execution_count": 101,
     "metadata": {},
     "output_type": "execute_result"
    }
   ],
   "source": [
    "# Evaluación y presentación de resultados.\n",
    "results = evaluacion(y_test, y_test_pred_knn['KNN'], metricas)\n",
    "results"
   ]
  },
  {
   "cell_type": "markdown",
   "metadata": {},
   "source": [
    "**Conclusion**\n",
    "\n",
    "Explicar los resultados obtenidos."
   ]
  },
  {
   "cell_type": "code",
   "execution_count": 27,
   "metadata": {},
   "outputs": [
    {
     "data": {
      "text/plain": [
       "<AxesSubplot:>"
      ]
     },
     "execution_count": 27,
     "metadata": {},
     "output_type": "execute_result"
    },
    {
     "data": {
      "image/png": "[encoded data removed]",
      "text/plain": [
       "<Figure size 432x288 with 1 Axes>"
      ]
     },
     "metadata": {
      "needs_background": "light"
     },
     "output_type": "display_data"
    }
   ],
   "source": [
    "ycooling.sort_values().plot()"
   ]
  }
 ],
 "metadata": {
  "kernelspec": {
   "display_name": "Python 3",
   "language": "python",
   "name": "python3"
  },
  "language_info": {
   "codemirror_mode": {
    "name": "ipython",
    "version": 3
   },
   "file_extension": ".py",
   "mimetype": "text/x-python",
   "name": "python",
   "nbconvert_exporter": "python",
   "pygments_lexer": "ipython3",
   "version": "3.8.8"
  }
 },
 "nbformat": 4,
 "nbformat_minor": 4
}
